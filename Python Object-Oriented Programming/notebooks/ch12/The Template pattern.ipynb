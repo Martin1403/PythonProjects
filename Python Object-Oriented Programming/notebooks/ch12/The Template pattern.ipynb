{
 "cells": [
  {
   "cell_type": "markdown",
   "id": "74bc0da3",
   "metadata": {},
   "source": [
    "# The Template pattern\n",
    "is usefull for removing duplicate code.The comon steps are implemented in a base class and a distinct steps are overridden in subclasses.\n"
   ]
  },
  {
   "cell_type": "code",
   "execution_count": 1,
   "id": "afef7e92",
   "metadata": {},
   "outputs": [],
   "source": [
    "import sqlite3\n",
    "\n",
    "def test_setup(db_name: str = \"sales.db\") -> sqlite3.Connection:\n",
    "    conn = sqlite3.connect(db_name)\n",
    "    \n",
    "    conn.execute(\n",
    "        \"\"\"\n",
    "        CREATE TABLE IF NOT EXISTS Sales (\n",
    "            salesperson text,\n",
    "            amt currency,\n",
    "            year integer,\n",
    "            model text,\n",
    "            new boolean\n",
    "        )\n",
    "        \"\"\"\n",
    "    )\n",
    "    conn.execute(\n",
    "        \"\"\"\n",
    "        DELETE FROM Sales\n",
    "        \"\"\"\n",
    "    )\n",
    "    conn.execute(\n",
    "        \"\"\"\n",
    "        INSERT INTO Sales\n",
    "        VALUES('Tim', 16000, 2010, 'Honda Fit', 'true')\n",
    "        \"\"\"\n",
    "    )\n",
    "    conn.execute(\n",
    "        \"\"\"\n",
    "        INSERT INTO Sales\n",
    "        VALUES('Tim', 9000, 2006, 'Ford Focus', 'false')\n",
    "        \"\"\"\n",
    "    )\n",
    "    conn.execute(\n",
    "        \"\"\"\n",
    "        INSERT INTO Sales\n",
    "        VALUES('Hannah', 8000, 2004, 'Dodge Neon', 'false')\n",
    "        \"\"\"\n",
    "    )\n",
    "    conn.execute(\n",
    "        \"\"\"\n",
    "        INSERT INTO Sales\n",
    "        VALUES('Hannah', 28000, 2009, 'Ford Mustang', 'true')\n",
    "        \"\"\"\n",
    "    )\n",
    "    conn.execute(\n",
    "        \"\"\"\n",
    "        INSERT INTO Sales\n",
    "        VALUES('Hannah', 50000, 2010, 'Lincoln Navigator', 'true')\n",
    "        \"\"\"\n",
    "    )\n",
    "    conn.execute(\n",
    "        \"\"\"\n",
    "        INSERT INTO Sales\n",
    "        VALUES('JAson', 20000, 2008, 'Toyota Prius', 'false')\n",
    "        \"\"\"\n",
    "    )    \n",
    "    conn.commit()\n",
    "    return conn\n"
   ]
  },
  {
   "cell_type": "markdown",
   "id": "ed3b0476",
   "metadata": {},
   "source": [
    "## Base class"
   ]
  },
  {
   "cell_type": "code",
   "execution_count": 14,
   "id": "f93e7d35",
   "metadata": {},
   "outputs": [],
   "source": [
    "from __future__ import annotations\n",
    "from typing import ContextManager, TextIO, cast\n",
    "import contextlib\n",
    "import csv\n",
    "import sys\n",
    "\n",
    "class QueryTemplate:\n",
    "    def __init__(self, db_name: str = \"sales.db\") -> None:\n",
    "        self.db_name = db_name\n",
    "        self.conn: sqlite3.Connection\n",
    "        self.results: list[tuple[str, ...]]\n",
    "        self.query: str\n",
    "        self.header: list[str]\n",
    "        \n",
    "    def connect(self) -> None:\n",
    "        self.conn = sqlite3.connect(self.db_name)\n",
    "    \n",
    "    def construct_query(self) -> None:\n",
    "        raise NotImplementedError(\"construct_query not implemented\")\n",
    "    \n",
    "    def do_query(self) -> None:\n",
    "        results = self.conn.execute(self.query)\n",
    "        self.results = results.fetchall()\n",
    "    \n",
    "    def output_context(self) -> ContextManager[TextIO]:\n",
    "        self.target_file = sys.stdout\n",
    "        return cast(ContextManager[TextIO], contextlib.nullcontext())\n",
    "    \n",
    "    def output_results(self) -> None:\n",
    "        writer = csv.writer(self.target_file)\n",
    "        writer.writerow(self.header)\n",
    "        writer.writerows(self.results)\n",
    "    \n",
    "    def process_format(self) -> None:\n",
    "        self.connect()\n",
    "        self.construct_query()\n",
    "        self.do_query()\n",
    "        with self.output_context():\n",
    "            self.output_results()"
   ]
  },
  {
   "cell_type": "code",
   "execution_count": 26,
   "id": "713d195a",
   "metadata": {},
   "outputs": [],
   "source": [
    "import datetime\n",
    "from pathlib import Path\n",
    "\n",
    "class NewVehiclesQuery(QueryTemplate):\n",
    "    def construct_query(self) -> None:\n",
    "        self.query = \"\"\"\n",
    "            SELECT * FROM Sales WHERE new='true'\n",
    "        \"\"\"\n",
    "        self.header = [\"salesperson\", \"amt\", \"year\", \"model\", \"new\"]\n",
    "        \n",
    "\n",
    "class SalesGrossQuery(QueryTemplate):\n",
    "    def construct_query(self) -> None:\n",
    "        self.query = \"\"\"\n",
    "            SELECT salesperson, sum(amt) FROM Sales GROUP BY salesperson\n",
    "        \"\"\"\n",
    "        self.header = [\"salesperson\", \"total sales\"]\n",
    "        \n",
    "    def output_context(self) -> ContextManager[TextIO]:\n",
    "        today = datetime.date.today()\n",
    "        filepath = Path(f\"gross_sales_{today:%Y%m%d}.csv\")\n",
    "        self.target_file = filepath.open(\"w\")\n",
    "        return self.target_file"
   ]
  },
  {
   "cell_type": "code",
   "execution_count": 27,
   "id": "04689775",
   "metadata": {},
   "outputs": [
    {
     "name": "stdout",
     "output_type": "stream",
     "text": [
      "salesperson,amt,year,model,new\r\n",
      "Tim,16000,2010,Honda Fit,true\r\n",
      "Hannah,28000,2009,Ford Mustang,true\r\n",
      "Hannah,50000,2010,Lincoln Navigator,true\r\n"
     ]
    }
   ],
   "source": [
    "def main() -> None:\n",
    "    test_setup()\n",
    "    \n",
    "    task_1 = NewVehiclesQuery()\n",
    "    task_1.process_format()\n",
    "    \n",
    "    task_2 = SalesGrossQuery()\n",
    "    task_2.process_format()\n",
    "    \n",
    "if __name__ == \"__main__\":\n",
    "    main()"
   ]
  },
  {
   "cell_type": "code",
   "execution_count": null,
   "id": "a2ea5842",
   "metadata": {},
   "outputs": [],
   "source": []
  },
  {
   "cell_type": "code",
   "execution_count": null,
   "id": "c9d6330c",
   "metadata": {},
   "outputs": [],
   "source": []
  },
  {
   "cell_type": "code",
   "execution_count": null,
   "id": "0193e217",
   "metadata": {},
   "outputs": [],
   "source": []
  },
  {
   "cell_type": "code",
   "execution_count": null,
   "id": "c81829d0",
   "metadata": {},
   "outputs": [],
   "source": []
  },
  {
   "cell_type": "code",
   "execution_count": null,
   "id": "7cb8ac6f",
   "metadata": {},
   "outputs": [],
   "source": []
  },
  {
   "cell_type": "code",
   "execution_count": null,
   "id": "846126f5",
   "metadata": {},
   "outputs": [],
   "source": []
  },
  {
   "cell_type": "code",
   "execution_count": null,
   "id": "2e74dfa4",
   "metadata": {},
   "outputs": [],
   "source": []
  },
  {
   "cell_type": "code",
   "execution_count": null,
   "id": "7004f6ab",
   "metadata": {},
   "outputs": [],
   "source": []
  }
 ],
 "metadata": {
  "kernelspec": {
   "display_name": "Python 3 (ipykernel)",
   "language": "python",
   "name": "python3"
  },
  "language_info": {
   "codemirror_mode": {
    "name": "ipython",
    "version": 3
   },
   "file_extension": ".py",
   "mimetype": "text/x-python",
   "name": "python",
   "nbconvert_exporter": "python",
   "pygments_lexer": "ipython3",
   "version": "3.9.12"
  }
 },
 "nbformat": 4,
 "nbformat_minor": 5
}
