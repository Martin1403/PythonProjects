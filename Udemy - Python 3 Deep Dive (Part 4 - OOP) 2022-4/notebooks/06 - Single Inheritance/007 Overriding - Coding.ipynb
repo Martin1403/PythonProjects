{
 "cells": [
  {
   "cell_type": "markdown",
   "id": "6d9b8219",
   "metadata": {},
   "source": [
    "# Overriding - Coding"
   ]
  },
  {
   "cell_type": "code",
   "execution_count": 7,
   "id": "984f90b0",
   "metadata": {},
   "outputs": [
    {
     "data": {
      "text/plain": [
       "'<__main__.Person object at 0x7f8d73176f10>'"
      ]
     },
     "execution_count": 7,
     "metadata": {},
     "output_type": "execute_result"
    }
   ],
   "source": [
    "class Person:\n",
    "    pass\n",
    "    \n",
    "p = Person()\n",
    "str(p)"
   ]
  },
  {
   "cell_type": "code",
   "execution_count": 4,
   "id": "da11dc00",
   "metadata": {},
   "outputs": [
    {
     "data": {
      "text/plain": [
       "'Person Class'"
      ]
     },
     "execution_count": 4,
     "metadata": {},
     "output_type": "execute_result"
    }
   ],
   "source": [
    "class Person:\n",
    "    def __str__(self):\n",
    "        return \"Person Class\"\n",
    "    \n",
    "p = Person()\n",
    "str(p)"
   ]
  },
  {
   "cell_type": "code",
   "execution_count": 8,
   "id": "5c6826e6",
   "metadata": {},
   "outputs": [
    {
     "data": {
      "text/plain": [
       "('Person() with extra debugging info', 'Person() with extra debugging info')"
      ]
     },
     "execution_count": 8,
     "metadata": {},
     "output_type": "execute_result"
    }
   ],
   "source": [
    "class Person:\n",
    "    def __repr__(self):\n",
    "        return \"Person() with extra debugging info\"\n",
    "    \n",
    "p = Person()\n",
    "str(p), p.__str__()"
   ]
  },
  {
   "cell_type": "code",
   "execution_count": 11,
   "id": "5975d59b",
   "metadata": {},
   "outputs": [
    {
     "name": "stdout",
     "output_type": "stream",
     "text": [
      "Polygon info called for Polygon(square)\n",
      "Shape.extended_info called for Shape(square)\n"
     ]
    }
   ],
   "source": [
    "class Shape:\n",
    "    def __init__(self, name):\n",
    "        self.name = name\n",
    "        \n",
    "    def info(self):\n",
    "        return f\"Shape.info called for Shape({self.name})\"\n",
    "    \n",
    "    def extended_info(self):\n",
    "        return f\"Shape.extended_info called for Shape({self.name})\"\n",
    "    \n",
    "\n",
    "class Polygon(Shape):\n",
    "    def __init__(self, name):\n",
    "        self.name = name\n",
    "        \n",
    "    def info(self):\n",
    "        return f\"Polygon info called for Polygon({self.name})\"\n",
    "    \n",
    "\n",
    "p = Polygon('square')\n",
    "print(p.info())\n",
    "print(p.extended_info())"
   ]
  },
  {
   "cell_type": "code",
   "execution_count": 12,
   "id": "a9617f0f",
   "metadata": {},
   "outputs": [
    {
     "name": "stdout",
     "output_type": "stream",
     "text": [
      "('Shape.extended_info called for Shape(square)', 'Polygon info called for Polygon(square)')\n"
     ]
    }
   ],
   "source": [
    "class Shape:\n",
    "    def __init__(self, name):\n",
    "        self.name = name\n",
    "        \n",
    "    def info(self):\n",
    "        return f\"Shape.info called for Shape({self.name})\"\n",
    "    \n",
    "    def extended_info(self):\n",
    "        return f\"Shape.extended_info called for Shape({self.name})\", self.info()\n",
    "    \n",
    "\n",
    "class Polygon(Shape):\n",
    "    def __init__(self, name):\n",
    "        self.name = name\n",
    "        \n",
    "    def info(self):\n",
    "        return f\"Polygon info called for Polygon({self.name})\"\n",
    "    \n",
    "\n",
    "p = Polygon('square')\n",
    "print(p.extended_info())"
   ]
  },
  {
   "cell_type": "code",
   "execution_count": 14,
   "id": "ad562bb4",
   "metadata": {},
   "outputs": [
    {
     "data": {
      "text/plain": [
       "('Person.__str__called', 'Student.__repr__called')"
      ]
     },
     "execution_count": 14,
     "metadata": {},
     "output_type": "execute_result"
    }
   ],
   "source": [
    "class Person:\n",
    "    def __str__(self):\n",
    "        return \"Person.__str__called\"\n",
    "    \n",
    "class Student(Person):\n",
    "    def __repr__(self):\n",
    "        return \"Student.__repr__called\"\n",
    "    \n",
    "s = Student()\n",
    "str(s), repr(s)"
   ]
  },
  {
   "cell_type": "code",
   "execution_count": 17,
   "id": "b6b0ce33",
   "metadata": {},
   "outputs": [
    {
     "name": "stdout",
     "output_type": "stream",
     "text": [
      "Person.__str__called\n"
     ]
    },
    {
     "data": {
      "text/plain": [
       "'Student.__repr__called'"
      ]
     },
     "execution_count": 17,
     "metadata": {},
     "output_type": "execute_result"
    }
   ],
   "source": [
    "class Person:\n",
    "    def __str__(self):\n",
    "        print(\"Person.__str__called\")\n",
    "        return self.__repr__()\n",
    "    \n",
    "    def __repr__(self):\n",
    "        return str(hex(id(self)))\n",
    "    \n",
    "class Student(Person):\n",
    "    def __repr__(self):\n",
    "        return \"Student.__repr__called\"\n",
    "    \n",
    "s = Student()\n",
    "str(s)"
   ]
  },
  {
   "cell_type": "code",
   "execution_count": null,
   "id": "44a8d288",
   "metadata": {},
   "outputs": [],
   "source": []
  },
  {
   "cell_type": "code",
   "execution_count": null,
   "id": "d679fe38",
   "metadata": {},
   "outputs": [],
   "source": []
  },
  {
   "cell_type": "code",
   "execution_count": null,
   "id": "f7cd8a88",
   "metadata": {},
   "outputs": [],
   "source": []
  },
  {
   "cell_type": "code",
   "execution_count": null,
   "id": "6205a77a",
   "metadata": {},
   "outputs": [],
   "source": []
  },
  {
   "cell_type": "code",
   "execution_count": null,
   "id": "2469f488",
   "metadata": {},
   "outputs": [],
   "source": []
  },
  {
   "cell_type": "code",
   "execution_count": null,
   "id": "8b06f500",
   "metadata": {},
   "outputs": [],
   "source": []
  },
  {
   "cell_type": "code",
   "execution_count": null,
   "id": "3bb93dee",
   "metadata": {},
   "outputs": [],
   "source": []
  },
  {
   "cell_type": "code",
   "execution_count": null,
   "id": "dc1c74ba",
   "metadata": {},
   "outputs": [],
   "source": []
  }
 ],
 "metadata": {
  "kernelspec": {
   "display_name": "Python 3 (ipykernel)",
   "language": "python",
   "name": "python3"
  },
  "language_info": {
   "codemirror_mode": {
    "name": "ipython",
    "version": 3
   },
   "file_extension": ".py",
   "mimetype": "text/x-python",
   "name": "python",
   "nbconvert_exporter": "python",
   "pygments_lexer": "ipython3",
   "version": "3.9.13"
  }
 },
 "nbformat": 4,
 "nbformat_minor": 5
}
