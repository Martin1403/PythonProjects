{
 "cells": [
  {
   "cell_type": "markdown",
   "id": "2ab7ba20",
   "metadata": {},
   "source": [
    "# Extending - Coding"
   ]
  },
  {
   "cell_type": "code",
   "execution_count": 1,
   "id": "8154d478",
   "metadata": {},
   "outputs": [
    {
     "name": "stdout",
     "output_type": "stream",
     "text": [
      "True\n",
      "study...study...study...\n"
     ]
    }
   ],
   "source": [
    "class Person:\n",
    "    pass\n",
    "\n",
    "class Student(Person):\n",
    "    def study(self):\n",
    "        return 'study...' * 3\n",
    "    \n",
    "s = Student()\n",
    "print(isinstance(s, Person))\n",
    "print(s.study())"
   ]
  },
  {
   "cell_type": "code",
   "execution_count": 6,
   "id": "77cef37f",
   "metadata": {},
   "outputs": [
    {
     "data": {
      "text/plain": [
       "'Person eats...Student studies...Person sleeps...'"
      ]
     },
     "execution_count": 6,
     "metadata": {},
     "output_type": "execute_result"
    }
   ],
   "source": [
    "class Person:\n",
    "    def routine(self):\n",
    "        return self.eat() + self.study() + self.sleep()\n",
    "    \n",
    "    def eat(self):\n",
    "        return \"Person eats...\"\n",
    "    \n",
    "    def sleep(self):\n",
    "        return \"Person sleeps...\"\n",
    "    \n",
    "class Student(Person):\n",
    "    def study(self):\n",
    "        return \"Student studies...\"\n",
    "    \n",
    "    \n",
    "s = Student()\n",
    "s.routine()"
   ]
  },
  {
   "cell_type": "code",
   "execution_count": 8,
   "id": "aa89172f",
   "metadata": {},
   "outputs": [
    {
     "name": "stdout",
     "output_type": "stream",
     "text": [
      "Person eats...Person sleeps...\n"
     ]
    },
    {
     "data": {
      "text/plain": [
       "'Person eats...Student studies...Person sleeps...'"
      ]
     },
     "execution_count": 8,
     "metadata": {},
     "output_type": "execute_result"
    }
   ],
   "source": [
    "class Person:\n",
    "    def routine(self):\n",
    "        result = self.eat()\n",
    "        if hasattr(self, 'study'):\n",
    "            result += self.study()\n",
    "        result += self.sleep()\n",
    "        return result\n",
    "    \n",
    "    def eat(self):\n",
    "        return \"Person eats...\"\n",
    "    \n",
    "    def sleep(self):\n",
    "        return \"Person sleeps...\"\n",
    "    \n",
    "class Student(Person):\n",
    "    def study(self):\n",
    "        return \"Student studies...\"\n",
    "    \n",
    "p = Person()\n",
    "print(p.routine())\n",
    "    \n",
    "s = Student()\n",
    "s.routine()"
   ]
  },
  {
   "cell_type": "code",
   "execution_count": 11,
   "id": "387533d5",
   "metadata": {},
   "outputs": [
    {
     "data": {
      "text/plain": [
       "(3.0, 'Generic Account', 'Calc interest on Generic Account with APR = 3.0')"
      ]
     },
     "execution_count": 11,
     "metadata": {},
     "output_type": "execute_result"
    }
   ],
   "source": [
    "class Account:\n",
    "    apr = 3.0\n",
    "    \n",
    "    def __init__(self, account_number, balance):\n",
    "        self.account_number = account_number\n",
    "        self.balance = balance\n",
    "        self.account_type = \"Generic Account\"\n",
    "        \n",
    "    def calc_interest(self):\n",
    "        return f\"Calc interest on {self.account_type} with APR = {self.apr}\"\n",
    "    \n",
    "a = Account(123, 100)\n",
    "a.apr, a.account_type, a.calc_interest()"
   ]
  },
  {
   "cell_type": "code",
   "execution_count": 13,
   "id": "5440647f",
   "metadata": {},
   "outputs": [
    {
     "data": {
      "text/plain": [
       "(5.0, 'Savings Account', 'Calc interest on Savings Account with APR = 5.0')"
      ]
     },
     "execution_count": 13,
     "metadata": {},
     "output_type": "execute_result"
    }
   ],
   "source": [
    "class Savings(Account):\n",
    "    apr = 5.0\n",
    "    \n",
    "    def __init__(self, account_number, balance):\n",
    "        self.account_number = account_number\n",
    "        self.balance = balance\n",
    "        self.account_type = \"Savings Account\"\n",
    "        \n",
    "s = Savings(234, 200)\n",
    "s.apr, s.account_type, s.calc_interest()"
   ]
  },
  {
   "cell_type": "code",
   "execution_count": null,
   "id": "9a49181b",
   "metadata": {},
   "outputs": [],
   "source": []
  },
  {
   "cell_type": "code",
   "execution_count": 22,
   "id": "3e94490f",
   "metadata": {},
   "outputs": [
    {
     "data": {
      "text/plain": [
       "(3.0, 'Generic Account', 'Calc interest on Generic Account with APR = 3.0')"
      ]
     },
     "execution_count": 22,
     "metadata": {},
     "output_type": "execute_result"
    }
   ],
   "source": [
    "class Account:\n",
    "    apr = 3.0\n",
    "    \n",
    "    def __init__(self, account_number, balance):\n",
    "        self.account_number = account_number\n",
    "        self.balance = balance\n",
    "        self.account_type = \"Generic Account\"\n",
    "        \n",
    "    def calc_interest(self):\n",
    "        return f\"Calc interest on {self.account_type} with APR = {self.apr}\"\n",
    "    \n",
    "class Savings(Account):\n",
    "    apr = 5.0\n",
    "    \n",
    "    def __init__(self, account_number, balance):\n",
    "        self.account_number = account_number\n",
    "        self.balance = balance\n",
    "        self.account_type = \"Savings Account\"\n",
    "\n",
    "        \n",
    "a = Account(123, 100)\n",
    "a.apr, a.account_type, a.calc_interest()    "
   ]
  },
  {
   "cell_type": "code",
   "execution_count": 23,
   "id": "f7bdba5c",
   "metadata": {},
   "outputs": [
    {
     "data": {
      "text/plain": [
       "(5.0,\n",
       " 'Savings Account',\n",
       " 'Calc interest on Savings Account with APR = 5.0',\n",
       " {'account_number': 234, 'balance': 200, 'account_type': 'Savings Account'})"
      ]
     },
     "execution_count": 23,
     "metadata": {},
     "output_type": "execute_result"
    }
   ],
   "source": [
    "s = Savings(234, 200)\n",
    "s.apr, s.account_type, s.calc_interest(), s.__dict__"
   ]
  },
  {
   "cell_type": "code",
   "execution_count": 24,
   "id": "09613dab",
   "metadata": {},
   "outputs": [
    {
     "data": {
      "text/plain": [
       "{'account_number': 234,\n",
       " 'balance': 200,\n",
       " 'account_type': 'Savings Account',\n",
       " 'apr': 10}"
      ]
     },
     "execution_count": 24,
     "metadata": {},
     "output_type": "execute_result"
    }
   ],
   "source": [
    "s.apr = 10\n",
    "s.__dict__"
   ]
  },
  {
   "cell_type": "code",
   "execution_count": 25,
   "id": "b557a1fc",
   "metadata": {},
   "outputs": [
    {
     "data": {
      "text/plain": [
       "'Calc interest on Savings Account with APR = 10'"
      ]
     },
     "execution_count": 25,
     "metadata": {},
     "output_type": "execute_result"
    }
   ],
   "source": [
    "s.calc_interest()"
   ]
  },
  {
   "cell_type": "code",
   "execution_count": 35,
   "id": "53e48b8d",
   "metadata": {},
   "outputs": [
    {
     "name": "stdout",
     "output_type": "stream",
     "text": [
      "{'__module__': '__main__', '__doc__': 'Savings docstring', 'apr': 5.0, '__init__': <function Savings.__init__ at 0x0000015926BD28B0>}\n"
     ]
    },
    {
     "data": {
      "text/plain": [
       "'Calc interest on Savings Account with APR = 5.0'"
      ]
     },
     "execution_count": 35,
     "metadata": {},
     "output_type": "execute_result"
    }
   ],
   "source": [
    "class Account:\n",
    "    \"\"\"Some docstring\"\"\"\n",
    "    apr = 3.0\n",
    "    \n",
    "    def __init__(self, account_number, balance):\n",
    "        self.account_number = account_number\n",
    "        self.balance = balance\n",
    "        self.account_type = \"Generic Account\"\n",
    "        \n",
    "    def calc_interest(self):\n",
    "        # print(type(self).__dict__)\n",
    "        print(self.__class__.__dict__)\n",
    "#        return f\"Calc interest on {self.account_type} with APR = {type(self).apr}\"\n",
    "        return f\"Calc interest on {self.account_type} with APR = {self.__class__.apr}\"\n",
    "        \n",
    "        \n",
    "class Savings(Account):\n",
    "    \"\"\"Savings docstring\"\"\"\n",
    "    apr = 5.0\n",
    "    \n",
    "    def __init__(self, account_number, balance):\n",
    "        self.account_number = account_number\n",
    "        self.balance = balance\n",
    "        self.account_type = \"Savings Account\"\n",
    "        \n",
    "s = Savings(10,100)\n",
    "s.apr = 1000\n",
    "s.calc_interest()"
   ]
  },
  {
   "cell_type": "code",
   "execution_count": null,
   "id": "e98c7065",
   "metadata": {},
   "outputs": [],
   "source": []
  },
  {
   "cell_type": "code",
   "execution_count": null,
   "id": "fdb99b47",
   "metadata": {},
   "outputs": [],
   "source": []
  },
  {
   "cell_type": "code",
   "execution_count": null,
   "id": "ed99fddb",
   "metadata": {},
   "outputs": [],
   "source": []
  },
  {
   "cell_type": "code",
   "execution_count": null,
   "id": "91a0decc",
   "metadata": {},
   "outputs": [],
   "source": []
  },
  {
   "cell_type": "code",
   "execution_count": null,
   "id": "e4c15ade",
   "metadata": {},
   "outputs": [],
   "source": []
  },
  {
   "cell_type": "code",
   "execution_count": null,
   "id": "6d3d7a27",
   "metadata": {},
   "outputs": [],
   "source": []
  },
  {
   "cell_type": "code",
   "execution_count": null,
   "id": "a30864e7",
   "metadata": {},
   "outputs": [],
   "source": []
  },
  {
   "cell_type": "code",
   "execution_count": null,
   "id": "231659fa",
   "metadata": {},
   "outputs": [],
   "source": []
  },
  {
   "cell_type": "code",
   "execution_count": null,
   "id": "9e0f4028",
   "metadata": {},
   "outputs": [],
   "source": []
  },
  {
   "cell_type": "code",
   "execution_count": null,
   "id": "5acac025",
   "metadata": {},
   "outputs": [],
   "source": []
  }
 ],
 "metadata": {
  "kernelspec": {
   "display_name": "Python 3 (ipykernel)",
   "language": "python",
   "name": "python3"
  },
  "language_info": {
   "codemirror_mode": {
    "name": "ipython",
    "version": 3
   },
   "file_extension": ".py",
   "mimetype": "text/x-python",
   "name": "python",
   "nbconvert_exporter": "python",
   "pygments_lexer": "ipython3",
   "version": "3.9.13"
  }
 },
 "nbformat": 4,
 "nbformat_minor": 5
}
