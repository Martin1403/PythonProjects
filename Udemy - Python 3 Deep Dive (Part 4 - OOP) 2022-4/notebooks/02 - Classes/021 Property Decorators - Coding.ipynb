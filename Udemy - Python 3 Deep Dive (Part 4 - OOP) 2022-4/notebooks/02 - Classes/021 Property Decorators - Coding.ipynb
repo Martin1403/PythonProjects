{
 "cells": [
  {
   "cell_type": "markdown",
   "id": "e9dba6a5",
   "metadata": {},
   "source": [
    "# Property Decorators"
   ]
  },
  {
   "cell_type": "code",
   "execution_count": 1,
   "id": "c15b6d36",
   "metadata": {},
   "outputs": [],
   "source": [
    "p = property(fget=lambda self: print(\"getting property...\"))"
   ]
  },
  {
   "cell_type": "code",
   "execution_count": 2,
   "id": "a822eac4",
   "metadata": {},
   "outputs": [
    {
     "data": {
      "text/plain": [
       "<property at 0x7f80f3f39bd0>"
      ]
     },
     "execution_count": 2,
     "metadata": {},
     "output_type": "execute_result"
    }
   ],
   "source": [
    "p"
   ]
  },
  {
   "cell_type": "code",
   "execution_count": 3,
   "id": "75029cca",
   "metadata": {},
   "outputs": [
    {
     "data": {
      "text/plain": [
       "mappingproxy({'__getattribute__': <slot wrapper '__getattribute__' of 'property' objects>,\n",
       "              '__get__': <slot wrapper '__get__' of 'property' objects>,\n",
       "              '__set__': <slot wrapper '__set__' of 'property' objects>,\n",
       "              '__delete__': <slot wrapper '__delete__' of 'property' objects>,\n",
       "              '__init__': <slot wrapper '__init__' of 'property' objects>,\n",
       "              '__new__': <function property.__new__(*args, **kwargs)>,\n",
       "              'getter': <method 'getter' of 'property' objects>,\n",
       "              'setter': <method 'setter' of 'property' objects>,\n",
       "              'deleter': <method 'deleter' of 'property' objects>,\n",
       "              'fget': <member 'fget' of 'property' objects>,\n",
       "              'fset': <member 'fset' of 'property' objects>,\n",
       "              'fdel': <member 'fdel' of 'property' objects>,\n",
       "              '__doc__': <member '__doc__' of 'property' objects>,\n",
       "              '__isabstractmethod__': <attribute '__isabstractmethod__' of 'property' objects>})"
      ]
     },
     "execution_count": 3,
     "metadata": {},
     "output_type": "execute_result"
    }
   ],
   "source": [
    "property.__dict__"
   ]
  },
  {
   "cell_type": "code",
   "execution_count": 4,
   "id": "33409b7e",
   "metadata": {},
   "outputs": [
    {
     "data": {
      "text/plain": [
       "<function __main__.<lambda>(self)>"
      ]
     },
     "execution_count": 4,
     "metadata": {},
     "output_type": "execute_result"
    }
   ],
   "source": [
    "p.fget"
   ]
  },
  {
   "cell_type": "code",
   "execution_count": 5,
   "id": "5b978e8b",
   "metadata": {},
   "outputs": [],
   "source": [
    "def my_decorator(fn):\n",
    "    print(\"decorating function\")\n",
    "    def inner(*args, **kwargs):\n",
    "        print(\"running decorated function\")\n",
    "        result = fn(*args, **kwargs)\n",
    "        return result\n",
    "    return inner"
   ]
  },
  {
   "cell_type": "code",
   "execution_count": 6,
   "id": "ec3d2463",
   "metadata": {},
   "outputs": [
    {
     "name": "stdout",
     "output_type": "stream",
     "text": [
      "running original function\n"
     ]
    },
    {
     "data": {
      "text/plain": [
       "3"
      ]
     },
     "execution_count": 6,
     "metadata": {},
     "output_type": "execute_result"
    }
   ],
   "source": [
    "def undecorated_function(a, b):\n",
    "    print(\"running original function\")\n",
    "    return a + b\n",
    "\n",
    "undecorated_function(1, 2)"
   ]
  },
  {
   "cell_type": "code",
   "execution_count": 7,
   "id": "4429c200",
   "metadata": {},
   "outputs": [
    {
     "name": "stdout",
     "output_type": "stream",
     "text": [
      "decorating function\n"
     ]
    }
   ],
   "source": [
    "decorated_func = my_decorator(undecorated_function)"
   ]
  },
  {
   "cell_type": "code",
   "execution_count": 8,
   "id": "d9a3ebc2",
   "metadata": {},
   "outputs": [
    {
     "data": {
      "text/plain": [
       "<function __main__.my_decorator.<locals>.inner(*args, **kwargs)>"
      ]
     },
     "execution_count": 8,
     "metadata": {},
     "output_type": "execute_result"
    }
   ],
   "source": [
    "decorated_func"
   ]
  },
  {
   "cell_type": "code",
   "execution_count": 9,
   "id": "c86cf1ca",
   "metadata": {},
   "outputs": [
    {
     "name": "stdout",
     "output_type": "stream",
     "text": [
      "running decorated function\n",
      "running original function\n"
     ]
    },
    {
     "data": {
      "text/plain": [
       "3"
      ]
     },
     "execution_count": 9,
     "metadata": {},
     "output_type": "execute_result"
    }
   ],
   "source": [
    "decorated_func(1, 2)"
   ]
  },
  {
   "cell_type": "code",
   "execution_count": 10,
   "id": "03ff6b77",
   "metadata": {},
   "outputs": [
    {
     "name": "stdout",
     "output_type": "stream",
     "text": [
      "decorating function\n"
     ]
    }
   ],
   "source": [
    "undecorated_function = my_decorator(undecorated_function)"
   ]
  },
  {
   "cell_type": "code",
   "execution_count": 11,
   "id": "33bcab47",
   "metadata": {},
   "outputs": [
    {
     "data": {
      "text/plain": [
       "<function __main__.my_decorator.<locals>.inner(*args, **kwargs)>"
      ]
     },
     "execution_count": 11,
     "metadata": {},
     "output_type": "execute_result"
    }
   ],
   "source": [
    "undecorated_function"
   ]
  },
  {
   "cell_type": "code",
   "execution_count": 14,
   "id": "23240a81",
   "metadata": {},
   "outputs": [
    {
     "name": "stdout",
     "output_type": "stream",
     "text": [
      "decorating function\n"
     ]
    }
   ],
   "source": [
    "@my_decorator\n",
    "def my_func(a, b):\n",
    "    print(\"running original function\")\n",
    "    return a + b\n"
   ]
  },
  {
   "cell_type": "code",
   "execution_count": 15,
   "id": "7c79f6c6",
   "metadata": {},
   "outputs": [
    {
     "name": "stdout",
     "output_type": "stream",
     "text": [
      "running decorated function\n",
      "running original function\n"
     ]
    },
    {
     "data": {
      "text/plain": [
       "3"
      ]
     },
     "execution_count": 15,
     "metadata": {},
     "output_type": "execute_result"
    }
   ],
   "source": [
    "my_func(1, 2)"
   ]
  },
  {
   "cell_type": "code",
   "execution_count": 21,
   "id": "289e23d5",
   "metadata": {},
   "outputs": [],
   "source": [
    "class Person:\n",
    "    def __init__(self, name):\n",
    "        self._name = name\n",
    "    \n",
    "    @property\n",
    "    def name(self):\n",
    "        print(\"getter called...\")\n",
    "        return self._name\n",
    "    "
   ]
  },
  {
   "cell_type": "code",
   "execution_count": 22,
   "id": "1c51be29",
   "metadata": {},
   "outputs": [
    {
     "name": "stdout",
     "output_type": "stream",
     "text": [
      "getter called...\n"
     ]
    },
    {
     "data": {
      "text/plain": [
       "'John'"
      ]
     },
     "execution_count": 22,
     "metadata": {},
     "output_type": "execute_result"
    }
   ],
   "source": [
    "p = Person(\"John\")\n",
    "p.name"
   ]
  },
  {
   "cell_type": "code",
   "execution_count": 23,
   "id": "c7f8656a",
   "metadata": {},
   "outputs": [
    {
     "data": {
      "text/plain": [
       "mappingproxy({'__getattribute__': <slot wrapper '__getattribute__' of 'property' objects>,\n",
       "              '__get__': <slot wrapper '__get__' of 'property' objects>,\n",
       "              '__set__': <slot wrapper '__set__' of 'property' objects>,\n",
       "              '__delete__': <slot wrapper '__delete__' of 'property' objects>,\n",
       "              '__init__': <slot wrapper '__init__' of 'property' objects>,\n",
       "              '__new__': <function property.__new__(*args, **kwargs)>,\n",
       "              'getter': <method 'getter' of 'property' objects>,\n",
       "              'setter': <method 'setter' of 'property' objects>,\n",
       "              'deleter': <method 'deleter' of 'property' objects>,\n",
       "              'fget': <member 'fget' of 'property' objects>,\n",
       "              'fset': <member 'fset' of 'property' objects>,\n",
       "              'fdel': <member 'fdel' of 'property' objects>,\n",
       "              '__doc__': <member '__doc__' of 'property' objects>,\n",
       "              '__isabstractmethod__': <attribute '__isabstractmethod__' of 'property' objects>})"
      ]
     },
     "execution_count": 23,
     "metadata": {},
     "output_type": "execute_result"
    }
   ],
   "source": [
    "property.__dict__\n"
   ]
  },
  {
   "cell_type": "code",
   "execution_count": 41,
   "id": "2897b766",
   "metadata": {},
   "outputs": [
    {
     "data": {
      "text/plain": [
       "<function __main__.get_prop(self)>"
      ]
     },
     "execution_count": 41,
     "metadata": {},
     "output_type": "execute_result"
    }
   ],
   "source": [
    "def get_prop(self):\n",
    "    print(\"getter called...\")\n",
    "\n",
    "def set_prop(self, value):\n",
    "    print(\"setter called...\")\n",
    "\n",
    "def del_prop(self):\n",
    "    print(\"deleter called...\")\n",
    "\n",
    "p = property(get_prop)\n",
    "p.fget"
   ]
  },
  {
   "cell_type": "code",
   "execution_count": 29,
   "id": "8b24a15d",
   "metadata": {},
   "outputs": [
    {
     "data": {
      "text/plain": [
       "False"
      ]
     },
     "execution_count": 29,
     "metadata": {},
     "output_type": "execute_result"
    }
   ],
   "source": [
    "p1 = p.setter(set_prop)\n",
    "p is p1"
   ]
  },
  {
   "cell_type": "code",
   "execution_count": 30,
   "id": "b624422e",
   "metadata": {},
   "outputs": [
    {
     "data": {
      "text/plain": [
       "True"
      ]
     },
     "execution_count": 30,
     "metadata": {},
     "output_type": "execute_result"
    }
   ],
   "source": [
    "p.fget is p1.fget"
   ]
  },
  {
   "cell_type": "code",
   "execution_count": 32,
   "id": "d7e2051d",
   "metadata": {},
   "outputs": [
    {
     "data": {
      "text/plain": [
       "(<function __main__.get_prop(self)>, <function __main__.set_prop(self, value)>)"
      ]
     },
     "execution_count": 32,
     "metadata": {},
     "output_type": "execute_result"
    }
   ],
   "source": [
    "p1.fget, p1.fset"
   ]
  },
  {
   "cell_type": "code",
   "execution_count": 42,
   "id": "d17c11aa",
   "metadata": {},
   "outputs": [],
   "source": [
    "p = property(get_prop)\n",
    "p = p.setter(set_prop)\n",
    "p = p.deleter(del_prop)\n",
    "\n",
    "class Person:\n",
    "    name = p"
   ]
  },
  {
   "cell_type": "code",
   "execution_count": 43,
   "id": "3b3c38c6",
   "metadata": {},
   "outputs": [
    {
     "name": "stdout",
     "output_type": "stream",
     "text": [
      "getter called...\n"
     ]
    }
   ],
   "source": [
    "person = Person()\n",
    "person.name"
   ]
  },
  {
   "cell_type": "code",
   "execution_count": 44,
   "id": "430a9172",
   "metadata": {},
   "outputs": [
    {
     "name": "stdout",
     "output_type": "stream",
     "text": [
      "setter called...\n"
     ]
    }
   ],
   "source": [
    "person.name = \"hello\""
   ]
  },
  {
   "cell_type": "code",
   "execution_count": 45,
   "id": "d5d11bd1",
   "metadata": {},
   "outputs": [
    {
     "name": "stdout",
     "output_type": "stream",
     "text": [
      "deleter called...\n"
     ]
    }
   ],
   "source": [
    "del person.name"
   ]
  },
  {
   "cell_type": "code",
   "execution_count": 48,
   "id": "df3ff7ac",
   "metadata": {},
   "outputs": [
    {
     "data": {
      "text/plain": [
       "'0x7f80f35ca5e0'"
      ]
     },
     "execution_count": 48,
     "metadata": {},
     "output_type": "execute_result"
    }
   ],
   "source": [
    "def name(self):\n",
    "    print(\"getter...\")\n",
    "    \n",
    "hex(id(name))"
   ]
  },
  {
   "cell_type": "code",
   "execution_count": 49,
   "id": "b303f6f5",
   "metadata": {},
   "outputs": [],
   "source": [
    "name = property(name)"
   ]
  },
  {
   "cell_type": "code",
   "execution_count": 50,
   "id": "24c2b378",
   "metadata": {},
   "outputs": [
    {
     "data": {
      "text/plain": [
       "(property, '0x7f80f35a10e0', '0x7f80f35ca5e0')"
      ]
     },
     "execution_count": 50,
     "metadata": {},
     "output_type": "execute_result"
    }
   ],
   "source": [
    "type(name), hex(id(name)), hex(id(name.fget))"
   ]
  },
  {
   "cell_type": "code",
   "execution_count": 51,
   "id": "e87c36b1",
   "metadata": {},
   "outputs": [],
   "source": [
    "name_temp = name"
   ]
  },
  {
   "cell_type": "code",
   "execution_count": 52,
   "id": "57de7572",
   "metadata": {},
   "outputs": [
    {
     "data": {
      "text/plain": [
       "(function, '0x7f80f35ca0d0')"
      ]
     },
     "execution_count": 52,
     "metadata": {},
     "output_type": "execute_result"
    }
   ],
   "source": [
    "def name(self, value):\n",
    "    print(\"setter...\")\n",
    "    \n",
    "type(name), hex(id(name))"
   ]
  },
  {
   "cell_type": "code",
   "execution_count": 53,
   "id": "dfcfa34e",
   "metadata": {},
   "outputs": [],
   "source": [
    "name = name_temp.setter(name)"
   ]
  },
  {
   "cell_type": "code",
   "execution_count": 55,
   "id": "09b10525",
   "metadata": {},
   "outputs": [
    {
     "data": {
      "text/plain": [
       "(property, '0x7f80f359a770', '0x7f80f35ca5e0', '0x7f80f35ca0d0')"
      ]
     },
     "execution_count": 55,
     "metadata": {},
     "output_type": "execute_result"
    }
   ],
   "source": [
    "type(name), hex(id(name)), hex(id(name.fget)), hex(id(name.fset))"
   ]
  },
  {
   "cell_type": "code",
   "execution_count": null,
   "id": "76df5e02",
   "metadata": {},
   "outputs": [],
   "source": []
  },
  {
   "cell_type": "code",
   "execution_count": 76,
   "id": "5b4bd2cf",
   "metadata": {},
   "outputs": [
    {
     "name": "stdout",
     "output_type": "stream",
     "text": [
      "Help on class Person in module __main__:\n",
      "\n",
      "class Person(builtins.object)\n",
      " |  Person(name)\n",
      " |  \n",
      " |  Methods defined here:\n",
      " |  \n",
      " |  __init__(self, name)\n",
      " |      Initialize self.  See help(type(self)) for accurate signature.\n",
      " |  \n",
      " |  ----------------------------------------------------------------------\n",
      " |  Data descriptors defined here:\n",
      " |  \n",
      " |  __dict__\n",
      " |      dictionary for instance variables (if defined)\n",
      " |  \n",
      " |  __weakref__\n",
      " |      list of weak references to the object (if defined)\n",
      " |  \n",
      " |  name\n",
      " |      Docstring here\n",
      "\n"
     ]
    }
   ],
   "source": [
    "class Person:\n",
    "    def __init__(self, name):\n",
    "        self._name = name\n",
    "    \n",
    "    @property\n",
    "    def name(self):\n",
    "        \"\"\"Docstring here\"\"\"\n",
    "        return self._name\n",
    "    \n",
    "    @name.setter\n",
    "    def name(self, value):\n",
    "        self._name = value\n",
    "\n",
    "help(Person)"
   ]
  },
  {
   "cell_type": "code",
   "execution_count": 83,
   "id": "025fb8ee",
   "metadata": {},
   "outputs": [],
   "source": [
    "class Person:\n",
    "    prop = property(doc=\"write-only property\")\n",
    "    \n",
    "    @prop.setter\n",
    "    def prop(self, value):\n",
    "        print(\"setter called...\")\n",
    "        "
   ]
  },
  {
   "cell_type": "code",
   "execution_count": 84,
   "id": "418c8f1f",
   "metadata": {},
   "outputs": [
    {
     "name": "stdout",
     "output_type": "stream",
     "text": [
      "setter called...\n"
     ]
    }
   ],
   "source": [
    "p = Person()\n",
    "p.prop = \"hello\""
   ]
  },
  {
   "cell_type": "code",
   "execution_count": null,
   "id": "cbfd4b0f",
   "metadata": {},
   "outputs": [],
   "source": []
  },
  {
   "cell_type": "code",
   "execution_count": null,
   "id": "c8be2fd3",
   "metadata": {},
   "outputs": [],
   "source": []
  },
  {
   "cell_type": "code",
   "execution_count": null,
   "id": "f87c829d",
   "metadata": {},
   "outputs": [],
   "source": []
  },
  {
   "cell_type": "code",
   "execution_count": null,
   "id": "ed2b3e3e",
   "metadata": {},
   "outputs": [],
   "source": []
  },
  {
   "cell_type": "code",
   "execution_count": null,
   "id": "593dd220",
   "metadata": {},
   "outputs": [],
   "source": []
  },
  {
   "cell_type": "code",
   "execution_count": null,
   "id": "3858985b",
   "metadata": {},
   "outputs": [],
   "source": []
  },
  {
   "cell_type": "code",
   "execution_count": null,
   "id": "bfb6785a",
   "metadata": {},
   "outputs": [],
   "source": []
  },
  {
   "cell_type": "code",
   "execution_count": null,
   "id": "bc9c1206",
   "metadata": {},
   "outputs": [],
   "source": []
  },
  {
   "cell_type": "code",
   "execution_count": null,
   "id": "8d03a8ad",
   "metadata": {},
   "outputs": [],
   "source": []
  },
  {
   "cell_type": "code",
   "execution_count": null,
   "id": "cf23c81f",
   "metadata": {},
   "outputs": [],
   "source": []
  },
  {
   "cell_type": "code",
   "execution_count": null,
   "id": "5959d4b6",
   "metadata": {},
   "outputs": [],
   "source": []
  },
  {
   "cell_type": "code",
   "execution_count": null,
   "id": "b90d521d",
   "metadata": {},
   "outputs": [],
   "source": []
  },
  {
   "cell_type": "code",
   "execution_count": null,
   "id": "f7a382e4",
   "metadata": {},
   "outputs": [],
   "source": []
  }
 ],
 "metadata": {
  "kernelspec": {
   "display_name": "Python 3 (ipykernel)",
   "language": "python",
   "name": "python3"
  },
  "language_info": {
   "codemirror_mode": {
    "name": "ipython",
    "version": 3
   },
   "file_extension": ".py",
   "mimetype": "text/x-python",
   "name": "python",
   "nbconvert_exporter": "python",
   "pygments_lexer": "ipython3",
   "version": "3.9.12"
  }
 },
 "nbformat": 4,
 "nbformat_minor": 5
}
