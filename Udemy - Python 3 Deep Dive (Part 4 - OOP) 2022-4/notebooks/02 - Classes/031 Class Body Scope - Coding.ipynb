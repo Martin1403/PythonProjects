{
 "cells": [
  {
   "cell_type": "markdown",
   "id": "01b4dd71",
   "metadata": {},
   "source": [
    "# Class Body Scope"
   ]
  },
  {
   "cell_type": "code",
   "execution_count": null,
   "id": "c5744f9a",
   "metadata": {},
   "outputs": [],
   "source": [
    "class Language:\n",
    "    MAJOR = 3\n",
    "    MINOR = 7\n",
    "    REVISION = 4\n",
    "    FULL = '{}.{}.{}'.format(MAJOR, MINOR, REVISION)\n",
    "    \n",
    "Language.FULL"
   ]
  },
  {
   "cell_type": "code",
   "execution_count": null,
   "id": "25826e0a",
   "metadata": {},
   "outputs": [],
   "source": [
    "class Language:\n",
    "    MAJOR = 3\n",
    "    MINOR = 7\n",
    "    REVISION = 4\n",
    "    \n",
    "    @property\n",
    "    def version(self):\n",
    "        return '{}.{}.{}'.format(self.MAJOR, self.MINOR, self.REVISION)\n",
    "    \n",
    "    @classmethod\n",
    "    def cls_version(cls):\n",
    "        return '{}.{}.{}'.format(cls.MAJOR, cls.MINOR, cls.REVISION)\n",
    "    \n",
    "    @staticmethod\n",
    "    def static_version():\n",
    "        return '{}.{}.{}'.format(Language.MAJOR, \n",
    "                                 Language.MINOR, \n",
    "                                 Language.REVISION)\n",
    "    "
   ]
  },
  {
   "cell_type": "code",
   "execution_count": null,
   "id": "7054a1cf",
   "metadata": {},
   "outputs": [],
   "source": [
    "l = Language()\n",
    "print(l.version)\n",
    "print(Language.cls_version())\n",
    "print(l.cls_version())\n",
    "print(Language.static_version())"
   ]
  },
  {
   "cell_type": "code",
   "execution_count": null,
   "id": "6a3be267",
   "metadata": {},
   "outputs": [],
   "source": [
    "class Language:\n",
    "    MAJOR = 3\n",
    "    MINOR = 7\n",
    "    REVISION = 4\n",
    "    \n",
    "\n",
    "def full_version():\n",
    "    return '{}.{}.{}'.format(Language.MAJOR, \n",
    "                             Language.MINOR, \n",
    "                             Language.REVISION)\n",
    "print(full_version())    "
   ]
  },
  {
   "cell_type": "code",
   "execution_count": null,
   "id": "58f644ed",
   "metadata": {},
   "outputs": [],
   "source": [
    "class Language:\n",
    "    MAJOR = 3\n",
    "    MINOR = 7\n",
    "    REVISION = 4\n",
    "    \n",
    "    version = full_version"
   ]
  },
  {
   "cell_type": "code",
   "execution_count": null,
   "id": "9c7e68dd",
   "metadata": {},
   "outputs": [],
   "source": [
    "Language.version is full_version"
   ]
  },
  {
   "cell_type": "code",
   "execution_count": null,
   "id": "88a45255",
   "metadata": {},
   "outputs": [],
   "source": [
    "Language.version()"
   ]
  },
  {
   "cell_type": "code",
   "execution_count": null,
   "id": "cfdc6fac",
   "metadata": {},
   "outputs": [],
   "source": []
  },
  {
   "cell_type": "code",
   "execution_count": null,
   "id": "7badb49c",
   "metadata": {},
   "outputs": [],
   "source": [
    "def full_version():\n",
    "    return '{}.{}.{}'.format(MAJOR, MINOR, REVISION)\n",
    "\n",
    "class Language:\n",
    "    MAJOR = 3\n",
    "    MINOR = 7\n",
    "    REVISION = 4\n",
    "    \n",
    "    version = full_version"
   ]
  },
  {
   "cell_type": "code",
   "execution_count": null,
   "id": "84b473f9",
   "metadata": {},
   "outputs": [],
   "source": [
    "Language.version()"
   ]
  },
  {
   "cell_type": "code",
   "execution_count": null,
   "id": "4f4296bb",
   "metadata": {},
   "outputs": [],
   "source": [
    "MAJOR = 0\n",
    "MINOR = 0\n",
    "REVISION = 1\n",
    "\n",
    "def gen_class():\n",
    "#     MAJOR = 0\n",
    "#     MINOR = 4\n",
    "#     REVISION = 2\n",
    "    \n",
    "    class Language:\n",
    "        MAJOR = 3\n",
    "        MINOR = 7\n",
    "        REVISION = 4\n",
    "        \n",
    "        @classmethod\n",
    "        def version(cls):\n",
    "            return '{}.{}.{}'.format(MAJOR, MINOR, REVISION)\n",
    "    \n",
    "    return Language"
   ]
  },
  {
   "cell_type": "code",
   "execution_count": null,
   "id": "c8d62e45",
   "metadata": {},
   "outputs": [],
   "source": [
    "cls = gen_class()\n",
    "cls.version()"
   ]
  },
  {
   "cell_type": "code",
   "execution_count": null,
   "id": "10d579ba",
   "metadata": {},
   "outputs": [],
   "source": [
    "import inspect\n",
    "inspect.getclosurevars(cls.version)"
   ]
  },
  {
   "cell_type": "code",
   "execution_count": null,
   "id": "8f03e91a",
   "metadata": {},
   "outputs": [],
   "source": []
  },
  {
   "cell_type": "code",
   "execution_count": 1,
   "id": "5c0aad27",
   "metadata": {},
   "outputs": [],
   "source": [
    "name = \"Guido\"\n",
    "\n",
    "class MyClass:\n",
    "    name = \"Raymond\"\n",
    "    list_1 = [name] * 3\n",
    "    list_2 = [name for i in range(3)]\n",
    "    \n",
    "    @classmethod\n",
    "    def hello(cls):\n",
    "        return \"{} says hello\".format(name)"
   ]
  },
  {
   "cell_type": "code",
   "execution_count": 2,
   "id": "3f022485",
   "metadata": {},
   "outputs": [
    {
     "data": {
      "text/plain": [
       "'Guido says hello'"
      ]
     },
     "execution_count": 2,
     "metadata": {},
     "output_type": "execute_result"
    }
   ],
   "source": [
    "MyClass.hello()"
   ]
  },
  {
   "cell_type": "code",
   "execution_count": 3,
   "id": "cec21e5b",
   "metadata": {},
   "outputs": [
    {
     "data": {
      "text/plain": [
       "['Raymond', 'Raymond', 'Raymond']"
      ]
     },
     "execution_count": 3,
     "metadata": {},
     "output_type": "execute_result"
    }
   ],
   "source": [
    "MyClass.list_1"
   ]
  },
  {
   "cell_type": "code",
   "execution_count": 4,
   "id": "4d7c349c",
   "metadata": {},
   "outputs": [
    {
     "data": {
      "text/plain": [
       "['Guido', 'Guido', 'Guido']"
      ]
     },
     "execution_count": 4,
     "metadata": {},
     "output_type": "execute_result"
    }
   ],
   "source": [
    "MyClass.list_2"
   ]
  },
  {
   "cell_type": "code",
   "execution_count": null,
   "id": "d80157bd",
   "metadata": {},
   "outputs": [],
   "source": []
  },
  {
   "cell_type": "code",
   "execution_count": null,
   "id": "1e5a9901",
   "metadata": {},
   "outputs": [],
   "source": []
  },
  {
   "cell_type": "code",
   "execution_count": null,
   "id": "b4323e52",
   "metadata": {},
   "outputs": [],
   "source": []
  },
  {
   "cell_type": "code",
   "execution_count": null,
   "id": "9ad6b5ac",
   "metadata": {},
   "outputs": [],
   "source": []
  },
  {
   "cell_type": "code",
   "execution_count": null,
   "id": "837e97d2",
   "metadata": {},
   "outputs": [],
   "source": []
  },
  {
   "cell_type": "code",
   "execution_count": null,
   "id": "e89931d2",
   "metadata": {},
   "outputs": [],
   "source": []
  },
  {
   "cell_type": "code",
   "execution_count": null,
   "id": "ae48e04f",
   "metadata": {},
   "outputs": [],
   "source": []
  },
  {
   "cell_type": "code",
   "execution_count": null,
   "id": "60ef395a",
   "metadata": {},
   "outputs": [],
   "source": []
  },
  {
   "cell_type": "code",
   "execution_count": null,
   "id": "f6feb85e",
   "metadata": {},
   "outputs": [],
   "source": []
  },
  {
   "cell_type": "code",
   "execution_count": null,
   "id": "ba9175b2",
   "metadata": {},
   "outputs": [],
   "source": []
  }
 ],
 "metadata": {
  "kernelspec": {
   "display_name": "Python 3 (ipykernel)",
   "language": "python",
   "name": "python3"
  },
  "language_info": {
   "codemirror_mode": {
    "name": "ipython",
    "version": 3
   },
   "file_extension": ".py",
   "mimetype": "text/x-python",
   "name": "python",
   "nbconvert_exporter": "python",
   "pygments_lexer": "ipython3",
   "version": "3.9.12"
  }
 },
 "nbformat": 4,
 "nbformat_minor": 5
}
