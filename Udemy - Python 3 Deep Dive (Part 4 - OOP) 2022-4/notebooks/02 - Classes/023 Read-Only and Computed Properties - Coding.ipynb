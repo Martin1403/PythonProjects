{
 "cells": [
  {
   "cell_type": "markdown",
   "id": "a1609b44",
   "metadata": {},
   "source": [
    "# Read-Only and Computed Properties"
   ]
  },
  {
   "cell_type": "code",
   "execution_count": 3,
   "id": "eefce88a",
   "metadata": {},
   "outputs": [
    {
     "name": "stdout",
     "output_type": "stream",
     "text": [
      "1\n",
      "calculating area...\n",
      "3.141592653589793\n"
     ]
    }
   ],
   "source": [
    "from math import pi\n",
    "\n",
    "class Circle:\n",
    "    def __init__(self, radius):\n",
    "        self.radius = radius\n",
    "        \n",
    "    @property\n",
    "    def area(self):\n",
    "        print(\"calculating area...\")\n",
    "        return pi * self.radius * self.radius\n",
    "    \n",
    "c = Circle(1)\n",
    "print(c.radius)\n",
    "print(c.area)"
   ]
  },
  {
   "cell_type": "code",
   "execution_count": 4,
   "id": "266ded2d",
   "metadata": {},
   "outputs": [],
   "source": [
    "class Circle:\n",
    "    def __init__(self, radius):\n",
    "        self._radius = radius\n",
    "        self._area = None\n",
    "        \n",
    "    @property\n",
    "    def radius(self):\n",
    "        return self._radius\n",
    "    \n",
    "    @radius.setter\n",
    "    def radius(self, value):\n",
    "        self._area = None\n",
    "        self._radius = value\n",
    "        \n",
    "    @property\n",
    "    def area(self):\n",
    "        if self._area is None:\n",
    "            print(\"Calculating area...\")\n",
    "            self._area = pi * (self.radius ** 2)\n",
    "        return self._area    "
   ]
  },
  {
   "cell_type": "code",
   "execution_count": 5,
   "id": "f9c11312",
   "metadata": {},
   "outputs": [
    {
     "name": "stdout",
     "output_type": "stream",
     "text": [
      "Calculating area...\n"
     ]
    },
    {
     "data": {
      "text/plain": [
       "3.141592653589793"
      ]
     },
     "execution_count": 5,
     "metadata": {},
     "output_type": "execute_result"
    }
   ],
   "source": [
    "c = Circle(1)\n",
    "c.area"
   ]
  },
  {
   "cell_type": "code",
   "execution_count": 6,
   "id": "501f436e",
   "metadata": {},
   "outputs": [
    {
     "data": {
      "text/plain": [
       "3.141592653589793"
      ]
     },
     "execution_count": 6,
     "metadata": {},
     "output_type": "execute_result"
    }
   ],
   "source": [
    "c.area"
   ]
  },
  {
   "cell_type": "code",
   "execution_count": 8,
   "id": "11f71040",
   "metadata": {},
   "outputs": [
    {
     "name": "stdout",
     "output_type": "stream",
     "text": [
      "{'_radius': 2, '_area': None}\n",
      "Calculating area...\n"
     ]
    },
    {
     "data": {
      "text/plain": [
       "12.566370614359172"
      ]
     },
     "execution_count": 8,
     "metadata": {},
     "output_type": "execute_result"
    }
   ],
   "source": [
    "c.radius = 2\n",
    "print(c.__dict__)\n",
    "c.area"
   ]
  },
  {
   "cell_type": "code",
   "execution_count": 20,
   "id": "587472b7",
   "metadata": {},
   "outputs": [],
   "source": [
    "import urllib\n",
    "from time import perf_counter\n",
    "\n",
    "class WebPage:\n",
    "    def __init__(self, url):\n",
    "        self.url = url\n",
    "        self._page = None\n",
    "        self._load_time_secs = None\n",
    "        self._page_size = None\n",
    "        \n",
    "    @property\n",
    "    def url(self):\n",
    "        return self._url\n",
    "    \n",
    "    @url.setter\n",
    "    def url(self, value):\n",
    "        self._url = value\n",
    "        self_page = None\n",
    "        \n",
    "    @property\n",
    "    def page(self):\n",
    "        if self._page is None:\n",
    "            self.download_page()\n",
    "        return self._page\n",
    "    \n",
    "    @property\n",
    "    def page_size(self):\n",
    "        if self._page is None:\n",
    "            self.download_page()\n",
    "        return self._page_size\n",
    "    \n",
    "    @property\n",
    "    def time_elapsed(self):\n",
    "        if self._page is None:\n",
    "            self.download_page()\n",
    "        return self._load_time_secs\n",
    "    \n",
    "    def download_page(self):\n",
    "        self._page_size = None\n",
    "        self._load_time_secs = None\n",
    "        start_time = perf_counter()\n",
    "        with urllib.request.urlopen(self.url) as f:\n",
    "            self._page = f.read()\n",
    "        end_time = perf_counter()\n",
    "        self._page_size = len(self._page)\n",
    "        self._load_time_secs = end_time - start_time"
   ]
  },
  {
   "cell_type": "code",
   "execution_count": 21,
   "id": "22a02306",
   "metadata": {},
   "outputs": [
    {
     "name": "stdout",
     "output_type": "stream",
     "text": [
      "https://www.google.com\tsize=17_858\telapsed=0.41 secs\n",
      "https://www.python.org\tsize=50_169\telapsed=0.18 secs\n",
      "https://www.yahoo.com\tsize=1_190_315\telapsed=1.28 secs\n"
     ]
    }
   ],
   "source": [
    "urls = [\n",
    "    \"https://www.google.com\",\n",
    "    \"https://www.python.org\",\n",
    "    \"https://www.yahoo.com\"\n",
    "]\n",
    "\n",
    "for url in urls:\n",
    "    page = WebPage(url)\n",
    "    print(f\"{url}\\tsize={format(page.page_size, '_')}\"\n",
    "          f\"\\telapsed={page.time_elapsed:.2f} secs\")"
   ]
  },
  {
   "cell_type": "code",
   "execution_count": null,
   "id": "b4aaaef0",
   "metadata": {},
   "outputs": [],
   "source": []
  },
  {
   "cell_type": "code",
   "execution_count": null,
   "id": "0d2b2d17",
   "metadata": {},
   "outputs": [],
   "source": []
  },
  {
   "cell_type": "code",
   "execution_count": null,
   "id": "488f5c9a",
   "metadata": {},
   "outputs": [],
   "source": []
  },
  {
   "cell_type": "code",
   "execution_count": null,
   "id": "1fbc48de",
   "metadata": {},
   "outputs": [],
   "source": []
  },
  {
   "cell_type": "code",
   "execution_count": null,
   "id": "baa38835",
   "metadata": {},
   "outputs": [],
   "source": []
  },
  {
   "cell_type": "code",
   "execution_count": null,
   "id": "27696714",
   "metadata": {},
   "outputs": [],
   "source": []
  },
  {
   "cell_type": "code",
   "execution_count": null,
   "id": "079b22bc",
   "metadata": {},
   "outputs": [],
   "source": []
  },
  {
   "cell_type": "code",
   "execution_count": null,
   "id": "ebd3e8a8",
   "metadata": {},
   "outputs": [],
   "source": []
  },
  {
   "cell_type": "code",
   "execution_count": null,
   "id": "35687c32",
   "metadata": {},
   "outputs": [],
   "source": []
  },
  {
   "cell_type": "code",
   "execution_count": null,
   "id": "547d9483",
   "metadata": {},
   "outputs": [],
   "source": []
  },
  {
   "cell_type": "code",
   "execution_count": null,
   "id": "1ada0f21",
   "metadata": {},
   "outputs": [],
   "source": []
  },
  {
   "cell_type": "code",
   "execution_count": null,
   "id": "4ad0f849",
   "metadata": {},
   "outputs": [],
   "source": []
  },
  {
   "cell_type": "code",
   "execution_count": null,
   "id": "266322ce",
   "metadata": {},
   "outputs": [],
   "source": []
  },
  {
   "cell_type": "code",
   "execution_count": null,
   "id": "55404277",
   "metadata": {},
   "outputs": [],
   "source": []
  },
  {
   "cell_type": "code",
   "execution_count": null,
   "id": "3fac4d40",
   "metadata": {},
   "outputs": [],
   "source": []
  },
  {
   "cell_type": "code",
   "execution_count": null,
   "id": "03fe944e",
   "metadata": {},
   "outputs": [],
   "source": []
  }
 ],
 "metadata": {
  "kernelspec": {
   "display_name": "Python 3 (ipykernel)",
   "language": "python",
   "name": "python3"
  },
  "language_info": {
   "codemirror_mode": {
    "name": "ipython",
    "version": 3
   },
   "file_extension": ".py",
   "mimetype": "text/x-python",
   "name": "python",
   "nbconvert_exporter": "python",
   "pygments_lexer": "ipython3",
   "version": "3.9.12"
  }
 },
 "nbformat": 4,
 "nbformat_minor": 5
}
