{
 "cells": [
  {
   "cell_type": "markdown",
   "id": "23d8170e",
   "metadata": {},
   "source": [
    "# Data Attributes"
   ]
  },
  {
   "cell_type": "code",
   "execution_count": 1,
   "id": "7e6101fa",
   "metadata": {},
   "outputs": [
    {
     "data": {
      "text/plain": [
       "mappingproxy({'__module__': '__main__',\n",
       "              'apr': 1.2,\n",
       "              '__dict__': <attribute '__dict__' of 'BankAccount' objects>,\n",
       "              '__weakref__': <attribute '__weakref__' of 'BankAccount' objects>,\n",
       "              '__doc__': None})"
      ]
     },
     "execution_count": 1,
     "metadata": {},
     "output_type": "execute_result"
    }
   ],
   "source": [
    "class BankAccount:\n",
    "    apr = 1.2\n",
    "    \n",
    "BankAccount.__dict__"
   ]
  },
  {
   "cell_type": "code",
   "execution_count": 2,
   "id": "8f920dea",
   "metadata": {},
   "outputs": [
    {
     "data": {
      "text/plain": [
       "1.2"
      ]
     },
     "execution_count": 2,
     "metadata": {},
     "output_type": "execute_result"
    }
   ],
   "source": [
    "BankAccount.apr"
   ]
  },
  {
   "cell_type": "code",
   "execution_count": 3,
   "id": "437988db",
   "metadata": {},
   "outputs": [
    {
     "data": {
      "text/plain": [
       "False"
      ]
     },
     "execution_count": 3,
     "metadata": {},
     "output_type": "execute_result"
    }
   ],
   "source": [
    "acc_1 = BankAccount()\n",
    "acc_2 = BankAccount()\n",
    "acc_1 is acc_2"
   ]
  },
  {
   "cell_type": "code",
   "execution_count": 4,
   "id": "c3d329f7",
   "metadata": {},
   "outputs": [
    {
     "data": {
      "text/plain": [
       "({}, {})"
      ]
     },
     "execution_count": 4,
     "metadata": {},
     "output_type": "execute_result"
    }
   ],
   "source": [
    "acc_1.__dict__, acc_2.__dict__"
   ]
  },
  {
   "cell_type": "code",
   "execution_count": 5,
   "id": "54d7bdcc",
   "metadata": {},
   "outputs": [
    {
     "data": {
      "text/plain": [
       "(1.2, 1.2)"
      ]
     },
     "execution_count": 5,
     "metadata": {},
     "output_type": "execute_result"
    }
   ],
   "source": [
    "acc_1.apr, acc_2.apr"
   ]
  },
  {
   "cell_type": "code",
   "execution_count": 6,
   "id": "be8957cb",
   "metadata": {},
   "outputs": [],
   "source": [
    "BankAccount.account_type = \"Savings\""
   ]
  },
  {
   "cell_type": "code",
   "execution_count": 7,
   "id": "3e063b77",
   "metadata": {},
   "outputs": [
    {
     "data": {
      "text/plain": [
       "('Savings', 'Savings')"
      ]
     },
     "execution_count": 7,
     "metadata": {},
     "output_type": "execute_result"
    }
   ],
   "source": [
    "acc_1.account_type, acc_2.account_type"
   ]
  },
  {
   "cell_type": "code",
   "execution_count": 8,
   "id": "47e7e9d6",
   "metadata": {},
   "outputs": [
    {
     "data": {
      "text/plain": [
       "({'apr': 0}, {})"
      ]
     },
     "execution_count": 8,
     "metadata": {},
     "output_type": "execute_result"
    }
   ],
   "source": [
    "acc_1.apr = 0\n",
    "acc_1.__dict__, acc_2.__dict__"
   ]
  },
  {
   "cell_type": "code",
   "execution_count": 9,
   "id": "ac56e1b0",
   "metadata": {},
   "outputs": [
    {
     "data": {
      "text/plain": [
       "(0, 1.2)"
      ]
     },
     "execution_count": 9,
     "metadata": {},
     "output_type": "execute_result"
    }
   ],
   "source": [
    "acc_1.apr, acc_2.apr"
   ]
  },
  {
   "cell_type": "code",
   "execution_count": 10,
   "id": "f9ba1ecd",
   "metadata": {},
   "outputs": [
    {
     "data": {
      "text/plain": [
       "{'apr': 10}"
      ]
     },
     "execution_count": 10,
     "metadata": {},
     "output_type": "execute_result"
    }
   ],
   "source": [
    "setattr(acc_2, \"apr\", 10)\n",
    "acc_2.__dict__"
   ]
  },
  {
   "cell_type": "code",
   "execution_count": 11,
   "id": "c5f26cab",
   "metadata": {},
   "outputs": [
    {
     "data": {
      "text/plain": [
       "10"
      ]
     },
     "execution_count": 11,
     "metadata": {},
     "output_type": "execute_result"
    }
   ],
   "source": [
    "getattr(acc_2, \"apr\")"
   ]
  },
  {
   "cell_type": "code",
   "execution_count": 12,
   "id": "8a7caddc",
   "metadata": {},
   "outputs": [
    {
     "data": {
      "text/plain": [
       "1.2"
      ]
     },
     "execution_count": 12,
     "metadata": {},
     "output_type": "execute_result"
    }
   ],
   "source": [
    "acc_3 = BankAccount()\n",
    "getattr(acc_3, \"apr\")"
   ]
  },
  {
   "cell_type": "code",
   "execution_count": 13,
   "id": "2c231812",
   "metadata": {},
   "outputs": [
    {
     "data": {
      "text/plain": [
       "{'apr': 0, 'bank': 'Acme Savings & Loans'}"
      ]
     },
     "execution_count": 13,
     "metadata": {},
     "output_type": "execute_result"
    }
   ],
   "source": [
    "acc_1.bank = \"Acme Savings & Loans\"\n",
    "acc_1.__dict__"
   ]
  },
  {
   "cell_type": "code",
   "execution_count": 14,
   "id": "713eb1f7",
   "metadata": {},
   "outputs": [
    {
     "data": {
      "text/plain": [
       "{'apr': 10}"
      ]
     },
     "execution_count": 14,
     "metadata": {},
     "output_type": "execute_result"
    }
   ],
   "source": [
    "acc_2.__dict__"
   ]
  },
  {
   "cell_type": "code",
   "execution_count": 16,
   "id": "2d8c6bdf",
   "metadata": {},
   "outputs": [
    {
     "data": {
      "text/plain": [
       "mappingproxy"
      ]
     },
     "execution_count": 16,
     "metadata": {},
     "output_type": "execute_result"
    }
   ],
   "source": [
    "type(BankAccount.__dict__)"
   ]
  },
  {
   "cell_type": "code",
   "execution_count": 17,
   "id": "104111e7",
   "metadata": {},
   "outputs": [
    {
     "data": {
      "text/plain": [
       "dict"
      ]
     },
     "execution_count": 17,
     "metadata": {},
     "output_type": "execute_result"
    }
   ],
   "source": [
    "acc_1 = BankAccount()\n",
    "type(acc_1.__dict__)"
   ]
  },
  {
   "cell_type": "code",
   "execution_count": 18,
   "id": "7242cdc3",
   "metadata": {},
   "outputs": [
    {
     "data": {
      "text/plain": [
       "{}"
      ]
     },
     "execution_count": 18,
     "metadata": {},
     "output_type": "execute_result"
    }
   ],
   "source": [
    "class Program:\n",
    "    language = \"Python\"\n",
    "    \n",
    "p = Program()\n",
    "p.__dict__"
   ]
  },
  {
   "cell_type": "code",
   "execution_count": 19,
   "id": "1b004386",
   "metadata": {},
   "outputs": [
    {
     "data": {
      "text/plain": [
       "{'version': '3.7'}"
      ]
     },
     "execution_count": 19,
     "metadata": {},
     "output_type": "execute_result"
    }
   ],
   "source": [
    "p.__dict__[\"version\"] = \"3.7\"\n",
    "p.__dict__"
   ]
  },
  {
   "cell_type": "code",
   "execution_count": 20,
   "id": "4c0937cd",
   "metadata": {},
   "outputs": [
    {
     "data": {
      "text/plain": [
       "'3.7'"
      ]
     },
     "execution_count": 20,
     "metadata": {},
     "output_type": "execute_result"
    }
   ],
   "source": [
    "p.version"
   ]
  },
  {
   "cell_type": "code",
   "execution_count": 21,
   "id": "ec5fa879",
   "metadata": {},
   "outputs": [
    {
     "data": {
      "text/plain": [
       "'3.7'"
      ]
     },
     "execution_count": 21,
     "metadata": {},
     "output_type": "execute_result"
    }
   ],
   "source": [
    "getattr(p, \"version\")"
   ]
  },
  {
   "cell_type": "code",
   "execution_count": 22,
   "id": "ed0e8f5b",
   "metadata": {},
   "outputs": [
    {
     "ename": "AttributeError",
     "evalue": "'Program' object has no attribute 'version'",
     "output_type": "error",
     "traceback": [
      "\u001b[0;31m---------------------------------------------------------------------------\u001b[0m",
      "\u001b[0;31mAttributeError\u001b[0m                            Traceback (most recent call last)",
      "Input \u001b[0;32mIn [22]\u001b[0m, in \u001b[0;36m<cell line: 2>\u001b[0;34m()\u001b[0m\n\u001b[1;32m      1\u001b[0m p \u001b[38;5;241m=\u001b[39m Program()\n\u001b[0;32m----> 2\u001b[0m \u001b[43mp\u001b[49m\u001b[38;5;241;43m.\u001b[39;49m\u001b[43mversion\u001b[49m\n",
      "\u001b[0;31mAttributeError\u001b[0m: 'Program' object has no attribute 'version'"
     ]
    }
   ],
   "source": [
    "p = Program()\n",
    "p.version"
   ]
  },
  {
   "cell_type": "code",
   "execution_count": 23,
   "id": "f6d48868",
   "metadata": {},
   "outputs": [
    {
     "name": "stdout",
     "output_type": "stream",
     "text": [
      "3.7\n"
     ]
    },
    {
     "data": {
      "text/plain": [
       "{'version': '3.7'}"
      ]
     },
     "execution_count": 23,
     "metadata": {},
     "output_type": "execute_result"
    }
   ],
   "source": [
    "p.version = \"3.7\"\n",
    "print(p.version)\n",
    "p.__dict__"
   ]
  },
  {
   "cell_type": "code",
   "execution_count": null,
   "id": "9ce12050",
   "metadata": {},
   "outputs": [],
   "source": []
  }
 ],
 "metadata": {
  "kernelspec": {
   "display_name": "Python 3 (ipykernel)",
   "language": "python",
   "name": "python3"
  },
  "language_info": {
   "codemirror_mode": {
    "name": "ipython",
    "version": 3
   },
   "file_extension": ".py",
   "mimetype": "text/x-python",
   "name": "python",
   "nbconvert_exporter": "python",
   "pygments_lexer": "ipython3",
   "version": "3.9.12"
  }
 },
 "nbformat": 4,
 "nbformat_minor": 5
}
