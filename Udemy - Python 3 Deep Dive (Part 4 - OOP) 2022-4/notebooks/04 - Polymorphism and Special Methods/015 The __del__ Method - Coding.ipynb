{
 "cells": [
  {
   "cell_type": "markdown",
   "id": "615d63a8",
   "metadata": {},
   "source": [
    "# The __del__ Method - Coding"
   ]
  },
  {
   "cell_type": "code",
   "execution_count": 7,
   "id": "7f6da464",
   "metadata": {},
   "outputs": [
    {
     "name": "stdout",
     "output_type": "stream",
     "text": [
      "Ref count: 1\n"
     ]
    }
   ],
   "source": [
    "import ctypes\n",
    "\n",
    "def ref_count(address):\n",
    "    return ctypes.c_long.from_address(address).value\n",
    "\n",
    "class Person:\n",
    "    def __init__(self, name):\n",
    "        self.name = name\n",
    "        \n",
    "    def __repr__(self):\n",
    "        return f\"Person({self.name})\"\n",
    "    \n",
    "    def __del__(self):\n",
    "        print(f\"__del__ called for {self}...\")\n",
    "        \n",
    "\n",
    "p = Person('Alex')\n",
    "id_p = id(p)\n",
    "print(\"Ref count:\", ref_count(id_p))"
   ]
  },
  {
   "cell_type": "code",
   "execution_count": 8,
   "id": "5d4875e0",
   "metadata": {},
   "outputs": [
    {
     "name": "stdout",
     "output_type": "stream",
     "text": [
      "__del__ called for Person(Alex)...\n"
     ]
    }
   ],
   "source": [
    "p = None"
   ]
  },
  {
   "cell_type": "code",
   "execution_count": 9,
   "id": "e08a41bb",
   "metadata": {},
   "outputs": [
    {
     "name": "stdout",
     "output_type": "stream",
     "text": [
      "__del__ called for Person(Alex)...\n"
     ]
    }
   ],
   "source": [
    "p = Person('Alex')\n",
    "del p"
   ]
  },
  {
   "cell_type": "code",
   "execution_count": 28,
   "id": "98cf835f",
   "metadata": {},
   "outputs": [
    {
     "name": "stdout",
     "output_type": "stream",
     "text": [
      "Ref count: 1\n"
     ]
    }
   ],
   "source": [
    "import ctypes\n",
    "\n",
    "def ref_count(address):\n",
    "    return ctypes.c_long.from_address(address).value\n",
    "\n",
    "class Person:\n",
    "    def __init__(self, name):\n",
    "        self.name = name\n",
    "        \n",
    "    def __repr__(self):\n",
    "        return f\"Person({self.name})\"\n",
    "    \n",
    "    def __del__(self):\n",
    "        print(f\"__del__ called for {self}...\")\n",
    "        \n",
    "    def gen_ex(self):\n",
    "        raise ValueError(\"Something went bump...\")\n",
    "        \n",
    "\n",
    "p = Person('Eric')\n",
    "id_p = id(p)\n",
    "print(\"Ref count:\", ref_count(id_p))"
   ]
  },
  {
   "cell_type": "code",
   "execution_count": 29,
   "id": "a87e8b09",
   "metadata": {},
   "outputs": [
    {
     "name": "stdout",
     "output_type": "stream",
     "text": [
      "Something went bump...\n"
     ]
    }
   ],
   "source": [
    "try: \n",
    "    p.gen_ex()\n",
    "except ValueError as ex:\n",
    "    error = ex\n",
    "    print(ex)"
   ]
  },
  {
   "cell_type": "code",
   "execution_count": 30,
   "id": "cb3f93d1",
   "metadata": {
    "scrolled": true
   },
   "outputs": [
    {
     "data": {
      "text/plain": [
       "2"
      ]
     },
     "execution_count": 30,
     "metadata": {},
     "output_type": "execute_result"
    }
   ],
   "source": [
    "ref_count(id_p)"
   ]
  },
  {
   "cell_type": "code",
   "execution_count": 31,
   "id": "9b057478",
   "metadata": {},
   "outputs": [
    {
     "data": {
      "text/plain": [
       "ValueError"
      ]
     },
     "execution_count": 31,
     "metadata": {},
     "output_type": "execute_result"
    }
   ],
   "source": [
    "type(error)"
   ]
  },
  {
   "cell_type": "code",
   "execution_count": 32,
   "id": "8ef41e8f",
   "metadata": {},
   "outputs": [
    {
     "data": {
      "text/plain": [
       "['__cause__',\n",
       " '__class__',\n",
       " '__context__',\n",
       " '__delattr__',\n",
       " '__dict__',\n",
       " '__dir__',\n",
       " '__doc__',\n",
       " '__eq__',\n",
       " '__format__',\n",
       " '__ge__',\n",
       " '__getattribute__',\n",
       " '__gt__',\n",
       " '__hash__',\n",
       " '__init__',\n",
       " '__init_subclass__',\n",
       " '__le__',\n",
       " '__lt__',\n",
       " '__ne__',\n",
       " '__new__',\n",
       " '__reduce__',\n",
       " '__reduce_ex__',\n",
       " '__repr__',\n",
       " '__setattr__',\n",
       " '__setstate__',\n",
       " '__sizeof__',\n",
       " '__str__',\n",
       " '__subclasshook__',\n",
       " '__suppress_context__',\n",
       " '__traceback__',\n",
       " 'args',\n",
       " 'with_traceback']"
      ]
     },
     "execution_count": 32,
     "metadata": {},
     "output_type": "execute_result"
    }
   ],
   "source": [
    "dir(error)"
   ]
  },
  {
   "cell_type": "code",
   "execution_count": 33,
   "id": "8420e977",
   "metadata": {},
   "outputs": [
    {
     "data": {
      "text/plain": [
       "['tb_frame', 'tb_lasti', 'tb_lineno', 'tb_next']"
      ]
     },
     "execution_count": 33,
     "metadata": {},
     "output_type": "execute_result"
    }
   ],
   "source": [
    "dir(error.__traceback__)"
   ]
  },
  {
   "cell_type": "code",
   "execution_count": 34,
   "id": "3d835d20",
   "metadata": {},
   "outputs": [
    {
     "data": {
      "text/plain": [
       "['__class__',\n",
       " '__delattr__',\n",
       " '__dir__',\n",
       " '__doc__',\n",
       " '__eq__',\n",
       " '__format__',\n",
       " '__ge__',\n",
       " '__getattribute__',\n",
       " '__gt__',\n",
       " '__hash__',\n",
       " '__init__',\n",
       " '__init_subclass__',\n",
       " '__le__',\n",
       " '__lt__',\n",
       " '__ne__',\n",
       " '__new__',\n",
       " '__reduce__',\n",
       " '__reduce_ex__',\n",
       " '__repr__',\n",
       " '__setattr__',\n",
       " '__sizeof__',\n",
       " '__str__',\n",
       " '__subclasshook__',\n",
       " 'clear',\n",
       " 'f_back',\n",
       " 'f_builtins',\n",
       " 'f_code',\n",
       " 'f_globals',\n",
       " 'f_lasti',\n",
       " 'f_lineno',\n",
       " 'f_locals',\n",
       " 'f_trace',\n",
       " 'f_trace_lines',\n",
       " 'f_trace_opcodes']"
      ]
     },
     "execution_count": 34,
     "metadata": {},
     "output_type": "execute_result"
    }
   ],
   "source": [
    "dir(error.__traceback__.tb_frame)"
   ]
  },
  {
   "cell_type": "code",
   "execution_count": 35,
   "id": "ea6bc3a2",
   "metadata": {},
   "outputs": [
    {
     "data": {
      "text/plain": [
       "builtin_function_or_method"
      ]
     },
     "execution_count": 35,
     "metadata": {},
     "output_type": "execute_result"
    }
   ],
   "source": [
    "type(error.__traceback__.tb_frame.f_locals.items)"
   ]
  },
  {
   "cell_type": "code",
   "execution_count": 36,
   "id": "5c5435bb",
   "metadata": {},
   "outputs": [
    {
     "name": "stdout",
     "output_type": "stream",
     "text": [
      "p Person(Eric) 139743743229760\n"
     ]
    }
   ],
   "source": [
    "for key, value in error.__traceback__.tb_frame.f_locals.copy().items():\n",
    "    if isinstance(value, Person):\n",
    "        print(key, value, id(value))"
   ]
  },
  {
   "cell_type": "code",
   "execution_count": 37,
   "id": "41482644",
   "metadata": {},
   "outputs": [
    {
     "name": "stdout",
     "output_type": "stream",
     "text": [
      "__del__ called for Person(Eric)...\n"
     ]
    }
   ],
   "source": [
    "del p\n",
    "del error "
   ]
  },
  {
   "cell_type": "code",
   "execution_count": 39,
   "id": "4da20748",
   "metadata": {},
   "outputs": [
    {
     "name": "stderr",
     "output_type": "stream",
     "text": [
      "Exception ignored in: <function Person.__del__ at 0x7f18a056bb80>\n",
      "Traceback (most recent call last):\n",
      "  File \"/tmp/ipykernel_9822/1901527688.py\", line 3, in __del__\n",
      "ValueError: Something get bump...\n"
     ]
    },
    {
     "name": "stdout",
     "output_type": "stream",
     "text": [
      "All good, no excepitions interuupted out code.\n"
     ]
    }
   ],
   "source": [
    "class Person:\n",
    "    def __del__(self):\n",
    "        raise ValueError(\"Something get bump...\")\n",
    "        \n",
    "p = Person()\n",
    "del p\n",
    "print(\"All good, no excepitions interuupted out code.\")"
   ]
  },
  {
   "cell_type": "code",
   "execution_count": 40,
   "id": "a69579dd",
   "metadata": {},
   "outputs": [
    {
     "data": {
      "text/plain": [
       "(<ipykernel.iostream.OutStream at 0x7f18b34e68b0>,\n",
       " <ipykernel.iostream.OutStream at 0x7f18b34e6820>)"
      ]
     },
     "execution_count": 40,
     "metadata": {},
     "output_type": "execute_result"
    }
   ],
   "source": [
    "import sys\n",
    "\n",
    "sys.stderr, sys.stdout"
   ]
  },
  {
   "cell_type": "code",
   "execution_count": 46,
   "id": "52f685d9",
   "metadata": {},
   "outputs": [
    {
     "name": "stdout",
     "output_type": "stream",
     "text": [
      "100\n",
      "200\n",
      "300\n"
     ]
    }
   ],
   "source": [
    "class ErrToFile:\n",
    "    def __init__(self, fname):\n",
    "        self._fname = fname\n",
    "        self._current_stderr = sys.stderr\n",
    "        \n",
    "        \n",
    "    def __enter__(self):\n",
    "        self._file = open(self._fname, \"w\")\n",
    "        sys.stderr = self._file\n",
    "        \n",
    "    def __exit__(self, exc_type, exc_value, exc_tb):\n",
    "        sys.stderr = self._current_stderr\n",
    "        if self._file:\n",
    "            self._file.close()\n",
    "        return False\n",
    "    \n",
    "    \n",
    "p = Person()\n",
    "\n",
    "with ErrToFile(\"err.txt\"):\n",
    "    del p\n",
    "    print(100)\n",
    "print(200)\n",
    "print(300)"
   ]
  },
  {
   "cell_type": "code",
   "execution_count": 47,
   "id": "fc49078d",
   "metadata": {},
   "outputs": [
    {
     "name": "stdout",
     "output_type": "stream",
     "text": [
      "['Exception ignored in: <function Person.__del__ at 0x7f18a056bb80>\\n', 'Traceback (most recent call last):\\n', '  File \"/tmp/ipykernel_9822/1901527688.py\", line 3, in __del__\\n', 'ValueError: Something get bump...\\n']\n"
     ]
    }
   ],
   "source": [
    "with open(\"err.txt\") as f:\n",
    "    print(f.readlines())"
   ]
  },
  {
   "cell_type": "code",
   "execution_count": null,
   "id": "069a6154",
   "metadata": {},
   "outputs": [],
   "source": []
  }
 ],
 "metadata": {
  "kernelspec": {
   "display_name": "Python 3 (ipykernel)",
   "language": "python",
   "name": "python3"
  },
  "language_info": {
   "codemirror_mode": {
    "name": "ipython",
    "version": 3
   },
   "file_extension": ".py",
   "mimetype": "text/x-python",
   "name": "python",
   "nbconvert_exporter": "python",
   "pygments_lexer": "ipython3",
   "version": "3.9.12"
  }
 },
 "nbformat": 4,
 "nbformat_minor": 5
}
