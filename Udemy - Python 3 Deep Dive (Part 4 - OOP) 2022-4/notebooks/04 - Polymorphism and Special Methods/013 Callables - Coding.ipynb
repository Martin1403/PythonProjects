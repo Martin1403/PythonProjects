{
 "cells": [
  {
   "cell_type": "markdown",
   "id": "337e38c2",
   "metadata": {},
   "source": [
    "# Callables - Coding"
   ]
  },
  {
   "cell_type": "code",
   "execution_count": 1,
   "id": "aeaf2127",
   "metadata": {},
   "outputs": [
    {
     "name": "stdout",
     "output_type": "stream",
     "text": [
      "__call__ called...\n"
     ]
    },
    {
     "data": {
      "text/plain": [
       "(None, __main__.Person)"
      ]
     },
     "execution_count": 1,
     "metadata": {},
     "output_type": "execute_result"
    }
   ],
   "source": [
    "class Person:\n",
    "    def __call__(self):\n",
    "        print('__call__ called...')\n",
    "    \n",
    "p = Person()\n",
    "p(), type(p)"
   ]
  },
  {
   "cell_type": "code",
   "execution_count": 2,
   "id": "c10d8ec4",
   "metadata": {},
   "outputs": [
    {
     "data": {
      "text/plain": [
       "(type, type)"
      ]
     },
     "execution_count": 2,
     "metadata": {},
     "output_type": "execute_result"
    }
   ],
   "source": [
    "from functools import partial\n",
    "\n",
    "type(partial), type(Person)"
   ]
  },
  {
   "cell_type": "code",
   "execution_count": 3,
   "id": "0ca07f2b",
   "metadata": {},
   "outputs": [
    {
     "data": {
      "text/plain": [
       "function"
      ]
     },
     "execution_count": 3,
     "metadata": {},
     "output_type": "execute_result"
    }
   ],
   "source": [
    "def my_func(a, b, c):\n",
    "    return a, b, c\n",
    "\n",
    "type(my_func)"
   ]
  },
  {
   "cell_type": "code",
   "execution_count": 4,
   "id": "c98c6848",
   "metadata": {},
   "outputs": [
    {
     "name": "stdout",
     "output_type": "stream",
     "text": [
      "functools.partial(<function my_func at 0x7f08b0409700>, 10, 20)\n"
     ]
    },
    {
     "data": {
      "text/plain": [
       "(10, 20, 30)"
      ]
     },
     "execution_count": 4,
     "metadata": {},
     "output_type": "execute_result"
    }
   ],
   "source": [
    "partial_func = partial(my_func, 10, 20)\n",
    "print(partial_func)\n",
    "partial_func(30)"
   ]
  },
  {
   "cell_type": "code",
   "execution_count": 5,
   "id": "930fd331",
   "metadata": {},
   "outputs": [
    {
     "name": "stdout",
     "output_type": "stream",
     "text": [
      "<class '__main__.Partial'>\n",
      "arguments: (10, 20, 30)\n",
      "(10, 20, 30)\n",
      "True\n",
      "True\n"
     ]
    }
   ],
   "source": [
    "class Partial:\n",
    "    def __init__(self, func, *args):\n",
    "        self._func = func\n",
    "        self._args = args\n",
    "        \n",
    "    def __call__(self, *args):\n",
    "        arguments = (*self._args, *args)\n",
    "        print(\"arguments:\", arguments)\n",
    "        return self._func(*arguments)\n",
    "    \n",
    "partial_func = Partial(my_func, 10, 20)\n",
    "print(type(partial_func))\n",
    "print(partial_func(30))\n",
    "print(callable(Partial))\n",
    "print(callable(partial_func))"
   ]
  },
  {
   "cell_type": "code",
   "execution_count": 6,
   "id": "bf311176",
   "metadata": {},
   "outputs": [
    {
     "name": "stdout",
     "output_type": "stream",
     "text": [
      "True\n",
      "False\n"
     ]
    }
   ],
   "source": [
    "class Person:\n",
    "    pass\n",
    "\n",
    "p = Person()\n",
    "print(callable(Person))\n",
    "print(callable(p))"
   ]
  },
  {
   "cell_type": "code",
   "execution_count": 7,
   "id": "c02efaa3",
   "metadata": {},
   "outputs": [
    {
     "name": "stdout",
     "output_type": "stream",
     "text": [
      "N/A\n",
      "100\n",
      "dict_items([('a', 'N/A'), ('b', 100)])\n"
     ]
    }
   ],
   "source": [
    "from collections import defaultdict\n",
    "\n",
    "def default_value():\n",
    "    return 'N/A'\n",
    "\n",
    "d = defaultdict(default_value)\n",
    "print(d['a'])\n",
    "d['b'] = 100\n",
    "print(d['b'])\n",
    "print(d.items())"
   ]
  },
  {
   "cell_type": "code",
   "execution_count": 8,
   "id": "55bb0e63",
   "metadata": {},
   "outputs": [
    {
     "name": "stdout",
     "output_type": "stream",
     "text": [
      "100\n",
      "0\n",
      "N/A\n",
      "1\n"
     ]
    }
   ],
   "source": [
    "from collections import defaultdict\n",
    "\n",
    "miss_counter = 0\n",
    "def default_value():\n",
    "    global miss_counter\n",
    "    miss_counter += 1\n",
    "    return 'N/A'\n",
    "\n",
    "d = defaultdict(default_value)\n",
    "d['a'] = 100\n",
    "print(d['a'])\n",
    "print(miss_counter)\n",
    "print(d['b'])\n",
    "print(miss_counter)"
   ]
  },
  {
   "cell_type": "code",
   "execution_count": 9,
   "id": "681de648",
   "metadata": {},
   "outputs": [
    {
     "data": {
      "text/plain": [
       "1"
      ]
     },
     "execution_count": 9,
     "metadata": {},
     "output_type": "execute_result"
    }
   ],
   "source": [
    "class DefaultValue:\n",
    "    def __init__(self):\n",
    "        self.counter = 0\n",
    "        \n",
    "    def __iadd__(self, other):\n",
    "        if isinstance(other, int):\n",
    "            self.counter += other\n",
    "            return self\n",
    "        raise ValueError('Can only increment with an integer value.')\n",
    "\n",
    "default_value_1 = DefaultValue()\n",
    "default_value_1 += 1\n",
    "default_value_1.counter"
   ]
  },
  {
   "cell_type": "code",
   "execution_count": 12,
   "id": "2c973eec",
   "metadata": {},
   "outputs": [
    {
     "name": "stdout",
     "output_type": "stream",
     "text": [
      "N\\A N\\A\n",
      "2\n",
      "N\\A\n",
      "1\n"
     ]
    }
   ],
   "source": [
    "class DefaultValue:\n",
    "    def __init__(self):\n",
    "        self.counter = 0\n",
    "        \n",
    "    def __iadd__(self, other):\n",
    "        if isinstance(other, int):\n",
    "            self.counter += other\n",
    "            return self\n",
    "        raise ValueError('Can only increment with an integer value.')\n",
    "   \n",
    "    def __call__(self):\n",
    "        self.counter += 1\n",
    "        return 'N\\A'\n",
    "\n",
    "def_1 = DefaultValue()\n",
    "def_2 = DefaultValue()\n",
    "\n",
    "cache_1 = defaultdict(def_1)\n",
    "cache_2 = defaultdict(def_2)\n",
    "\n",
    "print(cache_1['a'], cache_1['b'])\n",
    "print(def_1.counter)\n",
    "\n",
    "print(cache_2['a'])\n",
    "print(def_2.counter)\n",
    "\n"
   ]
  },
  {
   "cell_type": "code",
   "execution_count": 11,
   "id": "334a286e",
   "metadata": {},
   "outputs": [
    {
     "name": "stdout",
     "output_type": "stream",
     "text": [
      "None None\n",
      "2\n",
      "0\n",
      "1\n"
     ]
    }
   ],
   "source": [
    "class DefaultValue:\n",
    "    def __init__(self, default_value):\n",
    "        self.default_value = default_value\n",
    "        self.counter = 0\n",
    "        \n",
    "    def __call__(self):\n",
    "        self.counter += 1\n",
    "        return self.default_value\n",
    "\n",
    "cache_def_1 = DefaultValue(None)\n",
    "cache_def_2 = DefaultValue(0)\n",
    "\n",
    "cache_1 = defaultdict(cache_def_1)\n",
    "cache_2 = defaultdict(cache_def_2)\n",
    "\n",
    "print(cache_1['a'], cache_1['b'])\n",
    "print(def_1.counter)\n",
    "\n",
    "print(cache_2['a'])\n",
    "print(def_2.counter)"
   ]
  },
  {
   "cell_type": "code",
   "execution_count": 31,
   "id": "f88de2cc",
   "metadata": {},
   "outputs": [
    {
     "data": {
      "text/plain": [
       "(None, None)"
      ]
     },
     "execution_count": 31,
     "metadata": {},
     "output_type": "execute_result"
    }
   ],
   "source": [
    "from time import perf_counter, sleep\n",
    "from functools import wraps\n",
    "import random\n",
    "\n",
    "def profiler(fn):\n",
    "    _counter = 0\n",
    "    _total_elapsed = 0\n",
    "    _avg_time = 0\n",
    "    \n",
    "    @wraps(fn)\n",
    "    def inner(*args, **kwargs):\n",
    "        nonlocal _counter\n",
    "        nonlocal _total_elapsed\n",
    "        \n",
    "        _counter += 1\n",
    "        start = perf_counter()\n",
    "        result = fn(*args, **kwargs)\n",
    "        end = perf_counter()\n",
    "        _total_elapsed += (end - start)\n",
    "        return result\n",
    "    \n",
    "    def counter():\n",
    "        return _counter\n",
    "    \n",
    "    def avg_time():\n",
    "        return _total_elapsed / _counter\n",
    "    \n",
    "    inner.counter = counter\n",
    "    inner.avg_time = avg_time\n",
    "    \n",
    "    return inner\n",
    "\n",
    "random.seed(0)\n",
    "\n",
    "@profiler\n",
    "def func1():\n",
    "    sleep(random.random())\n",
    "\n",
    "\n",
    "func1(), func1()"
   ]
  },
  {
   "cell_type": "code",
   "execution_count": 32,
   "id": "a49e4c62",
   "metadata": {},
   "outputs": [
    {
     "data": {
      "text/plain": [
       "(2, 0.8019464965000225)"
      ]
     },
     "execution_count": 32,
     "metadata": {},
     "output_type": "execute_result"
    }
   ],
   "source": [
    "func1.counter(), func1.avg_time()"
   ]
  },
  {
   "cell_type": "code",
   "execution_count": null,
   "id": "ac5b94fe",
   "metadata": {},
   "outputs": [],
   "source": [
    "class Profiler:\n",
    "    def __init__(self, fn):\n",
    "        self.counter = 0\n",
    "        self.total_elapsed = 0\n",
    "        self.fn = fn\n",
    "        \n",
    "    def __call_(self, *args, **kwargs):\n",
    "        self.counter += 1\n",
    "        start = perf_counter()\n",
    "        result = self.fn(*args, **kwargs)\n",
    "        end = perf_counter()\n",
    "        self.total_elapsed += (end - start)\n",
    "        return result\n",
    "    \n",
    "    @property\n",
    "    def avg_time(self):\n",
    "        return self.total_elapsed / self.counter\n",
    "    \n",
    "@Profiler\n",
    "def func_1(a, b):\n",
    "    sleep(random.random())\n",
    "    return (a, b)\n",
    "\n",
    "#func_1 = Profiler(func_1)        "
   ]
  },
  {
   "cell_type": "code",
   "execution_count": null,
   "id": "7549327a",
   "metadata": {},
   "outputs": [],
   "source": []
  },
  {
   "cell_type": "code",
   "execution_count": null,
   "id": "af8ad03a",
   "metadata": {},
   "outputs": [],
   "source": []
  },
  {
   "cell_type": "code",
   "execution_count": null,
   "id": "f8016bdd",
   "metadata": {},
   "outputs": [],
   "source": []
  },
  {
   "cell_type": "code",
   "execution_count": null,
   "id": "e049b783",
   "metadata": {},
   "outputs": [],
   "source": []
  },
  {
   "cell_type": "code",
   "execution_count": null,
   "id": "8da30a71",
   "metadata": {},
   "outputs": [],
   "source": []
  },
  {
   "cell_type": "code",
   "execution_count": null,
   "id": "a156a957",
   "metadata": {},
   "outputs": [],
   "source": []
  },
  {
   "cell_type": "code",
   "execution_count": null,
   "id": "4af0aee0",
   "metadata": {},
   "outputs": [],
   "source": []
  },
  {
   "cell_type": "code",
   "execution_count": null,
   "id": "a1a4538c",
   "metadata": {},
   "outputs": [],
   "source": []
  },
  {
   "cell_type": "code",
   "execution_count": null,
   "id": "6dd8df4c",
   "metadata": {},
   "outputs": [],
   "source": []
  },
  {
   "cell_type": "code",
   "execution_count": null,
   "id": "356ce14b",
   "metadata": {},
   "outputs": [],
   "source": []
  },
  {
   "cell_type": "code",
   "execution_count": null,
   "id": "de10336a",
   "metadata": {},
   "outputs": [],
   "source": []
  },
  {
   "cell_type": "code",
   "execution_count": null,
   "id": "812a1ca8",
   "metadata": {},
   "outputs": [],
   "source": []
  }
 ],
 "metadata": {
  "kernelspec": {
   "display_name": "Python 3 (ipykernel)",
   "language": "python",
   "name": "python3"
  },
  "language_info": {
   "codemirror_mode": {
    "name": "ipython",
    "version": 3
   },
   "file_extension": ".py",
   "mimetype": "text/x-python",
   "name": "python",
   "nbconvert_exporter": "python",
   "pygments_lexer": "ipython3",
   "version": "3.9.12"
  }
 },
 "nbformat": 4,
 "nbformat_minor": 5
}
