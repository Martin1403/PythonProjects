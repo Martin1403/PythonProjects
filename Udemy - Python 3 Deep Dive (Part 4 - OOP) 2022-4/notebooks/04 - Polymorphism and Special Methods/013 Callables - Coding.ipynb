{
 "cells": [
  {
   "cell_type": "markdown",
   "id": "337e38c2",
   "metadata": {},
   "source": [
    "# Callables - Coding"
   ]
  },
  {
   "cell_type": "code",
   "execution_count": null,
   "id": "aeaf2127",
   "metadata": {},
   "outputs": [],
   "source": [
    "class Person:\n",
    "    def __call__(self):\n",
    "        print('__call__ called...')\n",
    "    \n",
    "p = Person()\n",
    "p(), type(p)"
   ]
  },
  {
   "cell_type": "code",
   "execution_count": null,
   "id": "c10d8ec4",
   "metadata": {},
   "outputs": [],
   "source": [
    "from functools import partial\n",
    "\n",
    "type(partial), type(Person)"
   ]
  },
  {
   "cell_type": "code",
   "execution_count": null,
   "id": "0ca07f2b",
   "metadata": {},
   "outputs": [],
   "source": [
    "def my_func(a, b, c):\n",
    "    return a, b, c\n",
    "\n",
    "type(my_func)"
   ]
  },
  {
   "cell_type": "code",
   "execution_count": null,
   "id": "c98c6848",
   "metadata": {},
   "outputs": [],
   "source": [
    "partial_func = partial(my_func, 10, 20)\n",
    "print(partial_func)\n",
    "partial_func(30)"
   ]
  },
  {
   "cell_type": "code",
   "execution_count": null,
   "id": "930fd331",
   "metadata": {},
   "outputs": [],
   "source": [
    "class Partial:\n",
    "    def __init__(self, func, *args):\n",
    "        self._func = func\n",
    "        self._args = args\n",
    "        \n",
    "    def __call__(self, *args):\n",
    "        arguments = (*self._args, *args)\n",
    "        print(\"arguments:\", arguments)\n",
    "        return self._func(*arguments)\n",
    "    \n",
    "partial_func = Partial(my_func, 10, 20)\n",
    "print(type(partial_func))\n",
    "print(partial_func(30))\n",
    "print(callable(Partial))\n",
    "print(callable(partial_func))"
   ]
  },
  {
   "cell_type": "code",
   "execution_count": null,
   "id": "bf311176",
   "metadata": {},
   "outputs": [],
   "source": [
    "class Person:\n",
    "    pass\n",
    "\n",
    "p = Person()\n",
    "print(callable(Person))\n",
    "print(callable(p))"
   ]
  },
  {
   "cell_type": "code",
   "execution_count": null,
   "id": "c02efaa3",
   "metadata": {},
   "outputs": [],
   "source": [
    "from collections import defaultdict\n",
    "\n",
    "def default_value():\n",
    "    return 'N/A'\n",
    "\n",
    "d = defaultdict(default_value)\n",
    "print(d['a'])\n",
    "d['b'] = 100\n",
    "print(d['b'])\n",
    "print(d.items())"
   ]
  },
  {
   "cell_type": "code",
   "execution_count": null,
   "id": "55bb0e63",
   "metadata": {},
   "outputs": [],
   "source": [
    "from collections import defaultdict\n",
    "\n",
    "miss_counter = 0\n",
    "def default_value():\n",
    "    global miss_counter\n",
    "    miss_counter += 1\n",
    "    return 'N/A'\n",
    "\n",
    "d = defaultdict(default_value)\n",
    "d['a'] = 100\n",
    "print(d['a'])\n",
    "print(miss_counter)\n",
    "print(d['b'])\n",
    "print(miss_counter)"
   ]
  },
  {
   "cell_type": "code",
   "execution_count": null,
   "id": "681de648",
   "metadata": {},
   "outputs": [],
   "source": [
    "class DefaultValue:\n",
    "    def __init__(self):\n",
    "        self.counter = 0\n",
    "        \n",
    "    def __iadd__(self, other):\n",
    "        if isinstance(other, int):\n",
    "            self.counter += other\n",
    "            return self\n",
    "        raise ValueError('Can only increment with an integer value.')\n",
    "\n",
    "default_value_1 = DefaultValue()\n",
    "default_value_1 += 1\n",
    "default_value_1.counter"
   ]
  },
  {
   "cell_type": "code",
   "execution_count": null,
   "id": "2c973eec",
   "metadata": {},
   "outputs": [],
   "source": [
    "class DefaultValue:\n",
    "    def __init__(self):\n",
    "        self.counter = 0\n",
    "        \n",
    "    def __iadd__(self, other):\n",
    "        if isinstance(other, int):\n",
    "            self.counter += other\n",
    "            return self\n",
    "        raise ValueError('Can only increment with an integer value.')\n",
    "   \n",
    "    def __call__(self):\n",
    "        self.counter += 1\n",
    "        return 'N\\A'\n",
    "\n",
    "def_1 = DefaultValue()\n",
    "def_2 = DefaultValue()\n",
    "\n",
    "cache_1 = defaultdict(def_1)\n",
    "cache_2 = defaultdict(def_2)\n",
    "\n",
    "print(cache_1['a'], cache_1['b'])\n",
    "print(def_1.counter)\n",
    "\n",
    "print(cache_2['a'])\n",
    "print(def_2.counter)\n",
    "\n"
   ]
  },
  {
   "cell_type": "code",
   "execution_count": null,
   "id": "334a286e",
   "metadata": {},
   "outputs": [],
   "source": [
    "class DefaultValue:\n",
    "    def __init__(self, default_value):\n",
    "        self.default_value = default_value\n",
    "        self.counter = 0\n",
    "        \n",
    "    def __call__(self):\n",
    "        self.counter += 1\n",
    "        return self.default_value\n",
    "\n",
    "cache_def_1 = DefaultValue(None)\n",
    "cache_def_2 = DefaultValue(0)\n",
    "\n",
    "cache_1 = defaultdict(cache_def_1)\n",
    "cache_2 = defaultdict(cache_def_2)\n",
    "\n",
    "print(cache_1['a'], cache_1['b'])\n",
    "print(def_1.counter)\n",
    "\n",
    "print(cache_2['a'])\n",
    "print(def_2.counter)"
   ]
  },
  {
   "cell_type": "code",
   "execution_count": null,
   "id": "f88de2cc",
   "metadata": {},
   "outputs": [],
   "source": [
    "from time import perf_counter, sleep\n",
    "from functools import wraps\n",
    "import random\n",
    "\n",
    "def profiler(fn):\n",
    "    _counter = 0\n",
    "    _total_elapsed = 0\n",
    "    _avg_time = 0\n",
    "    \n",
    "    @wraps(fn)\n",
    "    def inner(*args, **kwargs):\n",
    "        nonlocal _counter\n",
    "        nonlocal _total_elapsed\n",
    "        \n",
    "        _counter += 1\n",
    "        start = perf_counter()\n",
    "        result = fn(*args, **kwargs)\n",
    "        end = perf_counter()\n",
    "        _total_elapsed += (end - start)\n",
    "        return result\n",
    "    \n",
    "    def counter():\n",
    "        return _counter\n",
    "    \n",
    "    def avg_time():\n",
    "        return _total_elapsed / _counter\n",
    "    \n",
    "    inner.counter = counter\n",
    "    inner.avg_time = avg_time\n",
    "    \n",
    "    return inner\n",
    "\n",
    "random.seed(0)\n",
    "\n",
    "@profiler\n",
    "def func1():\n",
    "    sleep(random.random())\n",
    "\n",
    "\n",
    "func1(), func1()"
   ]
  },
  {
   "cell_type": "code",
   "execution_count": null,
   "id": "a49e4c62",
   "metadata": {},
   "outputs": [],
   "source": [
    "func1.counter(), func1.avg_time()"
   ]
  },
  {
   "cell_type": "code",
   "execution_count": 11,
   "id": "ac5b94fe",
   "metadata": {},
   "outputs": [
    {
     "name": "stdout",
     "output_type": "stream",
     "text": [
      "<class '__main__.Profiler'>\n",
      "True\n",
      "__call__ called...\n",
      "__call__ called...\n"
     ]
    },
    {
     "data": {
      "text/plain": [
       "(0.43357345950062154, 2)"
      ]
     },
     "execution_count": 11,
     "metadata": {},
     "output_type": "execute_result"
    }
   ],
   "source": [
    "from time import perf_counter, sleep\n",
    "import random\n",
    "\n",
    "class Profiler:\n",
    "    def __init__(self, fn):\n",
    "        self.counter = 0\n",
    "        self.total_elapsed = 0\n",
    "        self.fn = fn\n",
    "        \n",
    "    def __call__(self, *args, **kwargs):\n",
    "        print(\"__call__ called...\")\n",
    "        self.counter += 1\n",
    "        start = perf_counter()\n",
    "        result = self.fn(*args, **kwargs)\n",
    "        end = perf_counter()\n",
    "        self.total_elapsed += (end - start)\n",
    "        return result\n",
    "    \n",
    "    @property\n",
    "    def avg_time(self):\n",
    "        return self.total_elapsed / self.counter\n",
    "    \n",
    "@Profiler # func_1 = Profiler(func_1)   \n",
    "def func_1(a, b):\n",
    "    sleep(random.random())\n",
    "    return (a, b)\n",
    "\n",
    "     \n",
    "print(type(func_1))\n",
    "print(callable(func_1))\n",
    "func_1(1, 2) \n",
    "func_1(2, 4)\n",
    "func_1.avg_time, func_1.counter"
   ]
  },
  {
   "cell_type": "code",
   "execution_count": null,
   "id": "e63cb840",
   "metadata": {},
   "outputs": [],
   "source": []
  },
  {
   "cell_type": "code",
   "execution_count": null,
   "id": "dec06c48",
   "metadata": {},
   "outputs": [],
   "source": []
  },
  {
   "cell_type": "code",
   "execution_count": null,
   "id": "8e6c6771",
   "metadata": {},
   "outputs": [],
   "source": []
  },
  {
   "cell_type": "code",
   "execution_count": null,
   "id": "b72a4667",
   "metadata": {},
   "outputs": [],
   "source": []
  },
  {
   "cell_type": "code",
   "execution_count": null,
   "id": "6b8490f9",
   "metadata": {},
   "outputs": [],
   "source": []
  },
  {
   "cell_type": "code",
   "execution_count": null,
   "id": "6910b9a8",
   "metadata": {},
   "outputs": [],
   "source": []
  },
  {
   "cell_type": "code",
   "execution_count": null,
   "id": "4f5428ab",
   "metadata": {},
   "outputs": [],
   "source": []
  },
  {
   "cell_type": "code",
   "execution_count": null,
   "id": "5fdba68a",
   "metadata": {},
   "outputs": [],
   "source": []
  },
  {
   "cell_type": "code",
   "execution_count": null,
   "id": "fb73fd5d",
   "metadata": {},
   "outputs": [],
   "source": []
  },
  {
   "cell_type": "code",
   "execution_count": null,
   "id": "43bc2dcc",
   "metadata": {},
   "outputs": [],
   "source": []
  },
  {
   "cell_type": "code",
   "execution_count": null,
   "id": "e3493f67",
   "metadata": {},
   "outputs": [],
   "source": []
  },
  {
   "cell_type": "code",
   "execution_count": null,
   "id": "97f80ebd",
   "metadata": {},
   "outputs": [],
   "source": []
  }
 ],
 "metadata": {
  "kernelspec": {
   "display_name": "Python 3 (ipykernel)",
   "language": "python",
   "name": "python3"
  },
  "language_info": {
   "codemirror_mode": {
    "name": "ipython",
    "version": 3
   },
   "file_extension": ".py",
   "mimetype": "text/x-python",
   "name": "python",
   "nbconvert_exporter": "python",
   "pygments_lexer": "ipython3",
   "version": "3.9.12"
  }
 },
 "nbformat": 4,
 "nbformat_minor": 5
}
