{
 "cells": [
  {
   "cell_type": "markdown",
   "id": "337e38c2",
   "metadata": {},
   "source": [
    "# Callables - Coding"
   ]
  },
  {
   "cell_type": "code",
   "execution_count": 3,
   "id": "aeaf2127",
   "metadata": {},
   "outputs": [
    {
     "name": "stdout",
     "output_type": "stream",
     "text": [
      "__call__ called...\n"
     ]
    },
    {
     "data": {
      "text/plain": [
       "(None, __main__.Person)"
      ]
     },
     "execution_count": 3,
     "metadata": {},
     "output_type": "execute_result"
    }
   ],
   "source": [
    "class Person:\n",
    "    def __call__(self):\n",
    "        print('__call__ called...')\n",
    "    \n",
    "p = Person()\n",
    "p(), type(p)"
   ]
  },
  {
   "cell_type": "code",
   "execution_count": 5,
   "id": "c10d8ec4",
   "metadata": {},
   "outputs": [
    {
     "data": {
      "text/plain": [
       "(type, type)"
      ]
     },
     "execution_count": 5,
     "metadata": {},
     "output_type": "execute_result"
    }
   ],
   "source": [
    "from functools import partial\n",
    "\n",
    "type(partial), type(Person)"
   ]
  },
  {
   "cell_type": "code",
   "execution_count": 6,
   "id": "0ca07f2b",
   "metadata": {},
   "outputs": [
    {
     "data": {
      "text/plain": [
       "function"
      ]
     },
     "execution_count": 6,
     "metadata": {},
     "output_type": "execute_result"
    }
   ],
   "source": [
    "def my_func(a, b, c):\n",
    "    return a, b, c\n",
    "\n",
    "type(my_func)"
   ]
  },
  {
   "cell_type": "code",
   "execution_count": 8,
   "id": "c98c6848",
   "metadata": {},
   "outputs": [
    {
     "name": "stdout",
     "output_type": "stream",
     "text": [
      "functools.partial(<function my_func at 0x7f4d1f4d7310>, 10, 20)\n"
     ]
    },
    {
     "data": {
      "text/plain": [
       "(10, 20, 30)"
      ]
     },
     "execution_count": 8,
     "metadata": {},
     "output_type": "execute_result"
    }
   ],
   "source": [
    "partial_func = partial(my_func, 10, 20)\n",
    "print(partial_func)\n",
    "partial_func(30)"
   ]
  },
  {
   "cell_type": "code",
   "execution_count": 22,
   "id": "930fd331",
   "metadata": {},
   "outputs": [
    {
     "name": "stdout",
     "output_type": "stream",
     "text": [
      "<class '__main__.Partial'>\n",
      "arguments: (10, 20, 30)\n",
      "(10, 20, 30)\n",
      "True\n",
      "True\n"
     ]
    }
   ],
   "source": [
    "class Partial:\n",
    "    def __init__(self, func, *args):\n",
    "        self._func = func\n",
    "        self._args = args\n",
    "        \n",
    "    def __call__(self, *args):\n",
    "        arguments = (*self._args, *args)\n",
    "        print(\"arguments:\", arguments)\n",
    "        return self._func(*arguments)\n",
    "    \n",
    "partial_func = Partial(my_func, 10, 20)\n",
    "print(type(partial_func))\n",
    "print(partial_func(30))\n",
    "print(callable(Partial))\n",
    "print(callable(partial_func))"
   ]
  },
  {
   "cell_type": "code",
   "execution_count": 23,
   "id": "bf311176",
   "metadata": {},
   "outputs": [
    {
     "name": "stdout",
     "output_type": "stream",
     "text": [
      "True\n",
      "False\n"
     ]
    }
   ],
   "source": [
    "class Person:\n",
    "    pass\n",
    "\n",
    "p = Person()\n",
    "print(callable(Person))\n",
    "print(callable(p))"
   ]
  },
  {
   "cell_type": "code",
   "execution_count": 24,
   "id": "c02efaa3",
   "metadata": {},
   "outputs": [
    {
     "name": "stdout",
     "output_type": "stream",
     "text": [
      "N/A\n",
      "100\n",
      "dict_items([('a', 'N/A'), ('b', 100)])\n"
     ]
    }
   ],
   "source": [
    "from collections import defaultdict\n",
    "\n",
    "def default_value():\n",
    "    return 'N/A'\n",
    "\n",
    "d = defaultdict(default_value)\n",
    "print(d['a'])\n",
    "d['b'] = 100\n",
    "print(d['b'])\n",
    "print(d.items())"
   ]
  },
  {
   "cell_type": "code",
   "execution_count": 25,
   "id": "55bb0e63",
   "metadata": {},
   "outputs": [
    {
     "name": "stdout",
     "output_type": "stream",
     "text": [
      "100\n",
      "0\n",
      "N/A\n",
      "1\n"
     ]
    }
   ],
   "source": [
    "from collections import defaultdict\n",
    "\n",
    "miss_counter = 0\n",
    "def default_value():\n",
    "    global miss_counter\n",
    "    miss_counter += 1\n",
    "    return 'N/A'\n",
    "\n",
    "d = defaultdict(default_value)\n",
    "d['a'] = 100\n",
    "print(d['a'])\n",
    "print(miss_counter)\n",
    "print(d['b'])\n",
    "print(miss_counter)"
   ]
  },
  {
   "cell_type": "code",
   "execution_count": 27,
   "id": "681de648",
   "metadata": {},
   "outputs": [
    {
     "data": {
      "text/plain": [
       "1"
      ]
     },
     "execution_count": 27,
     "metadata": {},
     "output_type": "execute_result"
    }
   ],
   "source": [
    "class DefaultValue:\n",
    "    def __init__(self):\n",
    "        self.counter = 0\n",
    "        \n",
    "    def __iadd__(self, other):\n",
    "        if isinstance(other, int):\n",
    "            self.counter += other\n",
    "            return self\n",
    "        raise ValueError('Can only increment with an integer value.')\n",
    "\n",
    "default_value_1 = DefaultValue()\n",
    "default_value_1 += 1\n",
    "default_value_1.counter"
   ]
  },
  {
   "cell_type": "code",
   "execution_count": 30,
   "id": "2c973eec",
   "metadata": {},
   "outputs": [
    {
     "name": "stdout",
     "output_type": "stream",
     "text": [
      "N\\A N\\A\n",
      "2\n",
      "N\\A\n",
      "1\n"
     ]
    }
   ],
   "source": [
    "class DefaultValue:\n",
    "    def __init__(self):\n",
    "        self.counter = 0\n",
    "        \n",
    "    def __iadd__(self, other):\n",
    "        if isinstance(other, int):\n",
    "            self.counter += other\n",
    "            return self\n",
    "        raise ValueError('Can only increment with an integer value.')\n",
    "   \n",
    "    def __call__(self):\n",
    "        self.counter += 1\n",
    "        return 'N\\A'\n",
    "\n",
    "def_1 = DefaultValue()\n",
    "def_2 = DefaultValue()\n",
    "\n",
    "cache_1 = defaultdict(def_1)\n",
    "cache_2 = defaultdict(def_2)\n",
    "\n",
    "print(cache_1['a'], cache_1['b'])\n",
    "print(def_1.counter)\n",
    "\n",
    "print(cache_2['a'])\n",
    "print(def_2.counter)\n",
    "\n"
   ]
  },
  {
   "cell_type": "code",
   "execution_count": 31,
   "id": "334a286e",
   "metadata": {},
   "outputs": [
    {
     "name": "stdout",
     "output_type": "stream",
     "text": [
      "None None\n",
      "2\n",
      "0\n",
      "1\n"
     ]
    }
   ],
   "source": [
    "class DefaultValue:\n",
    "    def __init__(self, default_value):\n",
    "        self.default_value = default_value\n",
    "        self.counter = 0\n",
    "        \n",
    "    def __call__(self):\n",
    "        self.counter += 1\n",
    "        return self.default_value\n",
    "\n",
    "cache_def_1 = DefaultValue(None)\n",
    "cache_def_2 = DefaultValue(0)\n",
    "\n",
    "cache_1 = defaultdict(cache_def_1)\n",
    "cache_2 = defaultdict(cache_def_2)\n",
    "\n",
    "print(cache_1['a'], cache_1['b'])\n",
    "print(def_1.counter)\n",
    "\n",
    "print(cache_2['a'])\n",
    "print(def_2.counter)"
   ]
  },
  {
   "cell_type": "code",
   "execution_count": null,
   "id": "3514ec42",
   "metadata": {},
   "outputs": [],
   "source": []
  },
  {
   "cell_type": "code",
   "execution_count": null,
   "id": "68fd5482",
   "metadata": {},
   "outputs": [],
   "source": []
  },
  {
   "cell_type": "code",
   "execution_count": null,
   "id": "7b98ad50",
   "metadata": {},
   "outputs": [],
   "source": []
  },
  {
   "cell_type": "code",
   "execution_count": null,
   "id": "b9769d55",
   "metadata": {},
   "outputs": [],
   "source": []
  },
  {
   "cell_type": "code",
   "execution_count": null,
   "id": "54c787c5",
   "metadata": {},
   "outputs": [],
   "source": []
  },
  {
   "cell_type": "code",
   "execution_count": null,
   "id": "9398280b",
   "metadata": {},
   "outputs": [],
   "source": []
  },
  {
   "cell_type": "code",
   "execution_count": null,
   "id": "b4bc867a",
   "metadata": {},
   "outputs": [],
   "source": []
  },
  {
   "cell_type": "code",
   "execution_count": null,
   "id": "a25b5888",
   "metadata": {},
   "outputs": [],
   "source": []
  },
  {
   "cell_type": "code",
   "execution_count": null,
   "id": "f88de2cc",
   "metadata": {},
   "outputs": [],
   "source": []
  },
  {
   "cell_type": "code",
   "execution_count": null,
   "id": "869a021e",
   "metadata": {},
   "outputs": [],
   "source": []
  },
  {
   "cell_type": "code",
   "execution_count": null,
   "id": "a49e4c62",
   "metadata": {},
   "outputs": [],
   "source": []
  },
  {
   "cell_type": "code",
   "execution_count": null,
   "id": "ac5b94fe",
   "metadata": {},
   "outputs": [],
   "source": []
  }
 ],
 "metadata": {
  "kernelspec": {
   "display_name": "Python 3 (ipykernel)",
   "language": "python",
   "name": "python3"
  },
  "language_info": {
   "codemirror_mode": {
    "name": "ipython",
    "version": 3
   },
   "file_extension": ".py",
   "mimetype": "text/x-python",
   "name": "python",
   "nbconvert_exporter": "python",
   "pygments_lexer": "ipython3",
   "version": "3.9.12"
  }
 },
 "nbformat": 4,
 "nbformat_minor": 5
}
