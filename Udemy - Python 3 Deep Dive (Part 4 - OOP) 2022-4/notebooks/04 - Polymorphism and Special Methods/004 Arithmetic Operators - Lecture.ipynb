{
 "cells": [
  {
   "cell_type": "markdown",
   "id": "650b2c2c",
   "metadata": {},
   "source": [
    "# Arithmetic Operators - Lecture"
   ]
  },
  {
   "cell_type": "code",
   "execution_count": 6,
   "id": "38133869",
   "metadata": {},
   "outputs": [],
   "source": [
    "from numbers import Real\n",
    "\n",
    "class Vector:\n",
    "    def __init__(self, *components):\n",
    "        if len(components) < 1:\n",
    "            raise ValueError(\"Cannot create an empty Vector.\")\n",
    "            \n",
    "        for component in components:\n",
    "            if not isinstance(component, Real):\n",
    "                raise ValueError(f\"Vector components must all\"\n",
    "                f\" be all real numbers. {component} is invalid\")\n",
    "                \n",
    "        self._components = tuple(components)\n",
    "        \n",
    "    def __len__(self):\n",
    "        return len(self._components)\n",
    "    \n",
    "    @property\n",
    "    def components(self):\n",
    "        return self._components\n",
    "    \n",
    "    def __repr__(self):\n",
    "        return f\"Vector({self.components})\""
   ]
  },
  {
   "cell_type": "code",
   "execution_count": 10,
   "id": "30f55978",
   "metadata": {},
   "outputs": [
    {
     "name": "stdout",
     "output_type": "stream",
     "text": [
      "2 4\n",
      "Vector((1, 2)) Vector((10, 20, 30, 40))\n",
      "Vector((1, 2, 3, 4))\n"
     ]
    }
   ],
   "source": [
    "v1 = Vector(1, 2)\n",
    "v2 = Vector(10, 20, 30, 40)\n",
    "print(len(v1), len(v2))\n",
    "print(repr(v1), repr(v2))\n",
    "print(Vector(*(x for x in range(1, 5))))"
   ]
  },
  {
   "cell_type": "code",
   "execution_count": 17,
   "id": "ef832db6",
   "metadata": {},
   "outputs": [],
   "source": [
    "from numbers import Real\n",
    "\n",
    "class VectorDimensionMismatch(TypeError):\n",
    "    pass\n",
    "\n",
    "class Vector:\n",
    "    def __init__(self, *components):\n",
    "        if len(components) < 1:\n",
    "            raise ValueError(\"Cannot create an empty Vector.\")\n",
    "            \n",
    "        for component in components:\n",
    "            if not isinstance(component, Real):\n",
    "                raise ValueError(f\"Vector components must all\"\n",
    "                f\" be all real numbers. {component} is invalid\")\n",
    "                \n",
    "        self._components = tuple(components)\n",
    "        \n",
    "    def __len__(self):\n",
    "        return len(self._components)\n",
    "    \n",
    "    @property\n",
    "    def components(self):\n",
    "        return self._components\n",
    "    \n",
    "    def __repr__(self):\n",
    "        return f\"Vector({self.components})\"\n",
    "    \n",
    "    def validate_type_and_dimension(self, v):\n",
    "        return isinstance(v, Vector) and len(v) == len(self)\n",
    "    \n",
    "    \n",
    "    def __add__(self, other):\n",
    "        if not self.validate_type_and_dimension(other):\n",
    "            # raise VectorDimensionMismatch('Vectors must be of same dimension.')\n",
    "            return NotImplemented\n",
    "        components = (x + y for x, y in zip(self.components, other.components))         \n",
    "        return Vector(*components)\n",
    "        \n",
    "    def __sub__(self, other):\n",
    "        if not self.validate_type_and_dimension(other):\n",
    "            # raise VectorDimensionMismatch('Vectors must be of same dimension.')\n",
    "            return NotImplemented\n",
    "        components = (x - y for x, y in zip(self.components, other.components))         \n",
    "        return Vector(*components)    \n",
    "    \n",
    "    "
   ]
  },
  {
   "cell_type": "code",
   "execution_count": 18,
   "id": "1ba08fcc",
   "metadata": {},
   "outputs": [
    {
     "name": "stdout",
     "output_type": "stream",
     "text": [
      "Vector((11, 12))\n",
      "Vector((11, 12))\n"
     ]
    },
    {
     "ename": "TypeError",
     "evalue": "unsupported operand type(s) for +: 'Vector' and 'Vector'",
     "output_type": "error",
     "traceback": [
      "\u001b[0;31m---------------------------------------------------------------------------\u001b[0m",
      "\u001b[0;31mTypeError\u001b[0m                                 Traceback (most recent call last)",
      "Input \u001b[0;32mIn [18]\u001b[0m, in \u001b[0;36m<cell line: 5>\u001b[0;34m()\u001b[0m\n\u001b[1;32m      6\u001b[0m     \u001b[38;5;28mprint\u001b[39m(v1 \u001b[38;5;241m+\u001b[39m v2)\n\u001b[1;32m      7\u001b[0m     \u001b[38;5;28mprint\u001b[39m(v2 \u001b[38;5;241m+\u001b[39m v1)\n\u001b[0;32m----> 8\u001b[0m     \u001b[38;5;28mprint\u001b[39m(\u001b[43mv1\u001b[49m\u001b[43m \u001b[49m\u001b[38;5;241;43m+\u001b[39;49m\u001b[43m \u001b[49m\u001b[43mv3\u001b[49m)\n\u001b[1;32m      9\u001b[0m \u001b[38;5;28;01mexcept\u001b[39;00m VectorDimensionMismatch \u001b[38;5;28;01mas\u001b[39;00m  ex:\n\u001b[1;32m     10\u001b[0m     \u001b[38;5;28mprint\u001b[39m(ex)\n",
      "\u001b[0;31mTypeError\u001b[0m: unsupported operand type(s) for +: 'Vector' and 'Vector'"
     ]
    }
   ],
   "source": [
    "v1 = Vector(1, 2)\n",
    "v2 = Vector(10, 10)\n",
    "v3 = Vector(1, 2, 3, 4)\n",
    "\n",
    "try:\n",
    "    print(v1 + v2)\n",
    "    print(v2 + v1)\n",
    "    print(v1 + v3)\n",
    "except VectorDimensionMismatch as  ex:\n",
    "    print(ex)"
   ]
  },
  {
   "cell_type": "code",
   "execution_count": 29,
   "id": "6d47048f",
   "metadata": {},
   "outputs": [],
   "source": [
    "from numbers import Real\n",
    "\n",
    "class VectorDimensionMismatch(TypeError):\n",
    "    pass\n",
    "\n",
    "class Vector:\n",
    "    def __init__(self, *components):\n",
    "        if len(components) < 1:\n",
    "            raise ValueError(\"Cannot create an empty Vector.\")\n",
    "            \n",
    "        for component in components:\n",
    "            if not isinstance(component, Real):\n",
    "                raise ValueError(f\"Vector components must all\"\n",
    "                f\" be all real numbers. {component} is invalid\")\n",
    "                \n",
    "        self._components = tuple(components)\n",
    "        \n",
    "    def __len__(self):\n",
    "        return len(self._components)\n",
    "    \n",
    "    @property\n",
    "    def components(self):\n",
    "        return self._components\n",
    "    \n",
    "    def __repr__(self):\n",
    "        return f\"Vector({self.components})\"\n",
    "    \n",
    "    def validate_type_and_dimension(self, v):\n",
    "        return isinstance(v, Vector) and len(v) == len(self)\n",
    "    \n",
    "    \n",
    "    def __add__(self, other):\n",
    "        if not self.validate_type_and_dimension(other):\n",
    "            # raise VectorDimensionMismatch('Vectors must be of same dimension.')\n",
    "            return NotImplemented\n",
    "        components = (x + y for x, y in zip(self.components, other.components))         \n",
    "        return Vector(*components)\n",
    "        \n",
    "    def __sub__(self, other):\n",
    "        if not self.validate_type_and_dimension(other):\n",
    "            # raise VectorDimensionMismatch('Vectors must be of same dimension.')\n",
    "            return NotImplemented\n",
    "        components = (x - y for x, y in zip(self.components, other.components))         \n",
    "        return Vector(*components)  \n",
    "    \n",
    "    def __mul__(self, other):\n",
    "        print(\"__mul__ called...\")\n",
    "        if not isinstance(other, Real):\n",
    "            return NotImplemented\n",
    "        components = (other * x for x in self.components)\n",
    "        return Vector(*components)\n",
    "    \n",
    "    def __rmul__(self, other):\n",
    "        print(\"__rmul__ called...\")\n",
    "        return self * other\n",
    "    \n",
    "    "
   ]
  },
  {
   "cell_type": "code",
   "execution_count": 31,
   "id": "2afa0af5",
   "metadata": {},
   "outputs": [
    {
     "name": "stdout",
     "output_type": "stream",
     "text": [
      "\n",
      "__mul__ called...\n",
      "Vector((10, 20))\n",
      "\n",
      "__rmul__ called...\n",
      "__mul__ called...\n",
      "Vector((10, 20))\n"
     ]
    }
   ],
   "source": [
    "v1 = Vector(1, 2)\n",
    "print()\n",
    "print(v1 * 10)\n",
    "print()\n",
    "print(10 * v1)"
   ]
  },
  {
   "cell_type": "code",
   "execution_count": 34,
   "id": "efe80767",
   "metadata": {},
   "outputs": [],
   "source": [
    "from numbers import Real\n",
    "\n",
    "class VectorDimensionMismatch(TypeError):\n",
    "    pass\n",
    "\n",
    "class Vector:\n",
    "    def __init__(self, *components):\n",
    "        if len(components) < 1:\n",
    "            raise ValueError(\"Cannot create an empty Vector.\")\n",
    "            \n",
    "        for component in components:\n",
    "            if not isinstance(component, Real):\n",
    "                raise ValueError(f\"Vector components must all\"\n",
    "                f\" be all real numbers. {component} is invalid\")\n",
    "                \n",
    "        self._components = tuple(components)\n",
    "        \n",
    "    def __len__(self):\n",
    "        return len(self._components)\n",
    "    \n",
    "    @property\n",
    "    def components(self):\n",
    "        return self._components\n",
    "    \n",
    "    def __repr__(self):\n",
    "        return f\"Vector({self.components})\"\n",
    "    \n",
    "    def validate_type_and_dimension(self, v):\n",
    "        return isinstance(v, Vector) and len(v) == len(self)\n",
    "    \n",
    "    \n",
    "    def __add__(self, other):\n",
    "        if not self.validate_type_and_dimension(other):\n",
    "            # raise VectorDimensionMismatch('Vectors must be of same dimension.')\n",
    "            return NotImplemented\n",
    "        components = (x + y for x, y in zip(self.components, other.components))         \n",
    "        return Vector(*components)\n",
    "        \n",
    "    def __sub__(self, other):\n",
    "        if not self.validate_type_and_dimension(other):\n",
    "            # raise VectorDimensionMismatch('Vectors must be of same dimension.')\n",
    "            return NotImplemented\n",
    "        components = (x - y for x, y in zip(self.components, other.components))         \n",
    "        return Vector(*components)  \n",
    "    \n",
    "    def __mul__(self, other):\n",
    "        print(\"__mul__ called...\")\n",
    "        if isinstance(other, Real):\n",
    "            # scalar\n",
    "            components = (other * x for x in self.components)\n",
    "            return Vector(*components)\n",
    "        if self.validate_type_and_dimension(other):\n",
    "            # dot product\n",
    "            components = (x * y for x, y in zip(self.components, other.components))\n",
    "            return sum(components)\n",
    "        return NotImplemented\n",
    "                          \n",
    "    def __rmul__(self, other):\n",
    "        print(\"__rmul__ called...\")\n",
    "        return self * other\n",
    "    \n",
    "    "
   ]
  },
  {
   "cell_type": "code",
   "execution_count": 35,
   "id": "ff97f363",
   "metadata": {},
   "outputs": [
    {
     "name": "stdout",
     "output_type": "stream",
     "text": [
      "__mul__ called...\n"
     ]
    },
    {
     "data": {
      "text/plain": [
       "11"
      ]
     },
     "execution_count": 35,
     "metadata": {},
     "output_type": "execute_result"
    }
   ],
   "source": [
    "v1 = Vector(1, 2)\n",
    "v2 = Vector(3, 4)\n",
    "v1 * v2"
   ]
  },
  {
   "cell_type": "code",
   "execution_count": 37,
   "id": "842ce319",
   "metadata": {},
   "outputs": [],
   "source": [
    "from numbers import Real\n",
    "\n",
    "class VectorDimensionMismatch(TypeError):\n",
    "    pass\n",
    "\n",
    "class Vector:\n",
    "    def __init__(self, *components):\n",
    "        if len(components) < 1:\n",
    "            raise ValueError(\"Cannot create an empty Vector.\")\n",
    "            \n",
    "        for component in components:\n",
    "            if not isinstance(component, Real):\n",
    "                raise ValueError(f\"Vector components must all\"\n",
    "                f\" be all real numbers. {component} is invalid\")\n",
    "                \n",
    "        self._components = tuple(components)\n",
    "        \n",
    "    def __len__(self):\n",
    "        return len(self._components)\n",
    "    \n",
    "    @property\n",
    "    def components(self):\n",
    "        return self._components\n",
    "    \n",
    "    def __repr__(self):\n",
    "        return f\"Vector({self.components})\"\n",
    "    \n",
    "    def validate_type_and_dimension(self, v):\n",
    "        return isinstance(v, Vector) and len(v) == len(self)\n",
    "    \n",
    "    \n",
    "    def __add__(self, other):\n",
    "        if not self.validate_type_and_dimension(other):\n",
    "            # raise VectorDimensionMismatch('Vectors must be of same dimension.')\n",
    "            return NotImplemented\n",
    "        components = (x + y for x, y in zip(self.components, other.components))         \n",
    "        return Vector(*components)\n",
    "        \n",
    "    def __sub__(self, other):\n",
    "        if not self.validate_type_and_dimension(other):\n",
    "            # raise VectorDimensionMismatch('Vectors must be of same dimension.')\n",
    "            return NotImplemented\n",
    "        components = (x - y for x, y in zip(self.components, other.components))         \n",
    "        return Vector(*components)  \n",
    "    \n",
    "    def __mul__(self, other):\n",
    "        print(\"__mul__ called...\")\n",
    "        if isinstance(other, Real):\n",
    "            # scalar\n",
    "            components = (other * x for x in self.components)\n",
    "            return Vector(*components)\n",
    "        if self.validate_type_and_dimension(other):\n",
    "            # dot product\n",
    "            components = (x * y for x, y in zip(self.components, other.components))\n",
    "            return sum(components)\n",
    "        return NotImplemented\n",
    "                          \n",
    "    def __rmul__(self, other):\n",
    "        print(\"__rmul__ called...\")\n",
    "        return self * other\n",
    "    \n",
    "    def __matmul__(self, other):\n",
    "        print(\"__matmul__ called...\")"
   ]
  },
  {
   "cell_type": "code",
   "execution_count": 39,
   "id": "7b96d01e",
   "metadata": {},
   "outputs": [
    {
     "name": "stdout",
     "output_type": "stream",
     "text": [
      "__matmul__ called...\n"
     ]
    }
   ],
   "source": [
    "v1 = Vector(1, 2)\n",
    "v2 = Vector(3, 4)\n",
    "v1 @ v2"
   ]
  },
  {
   "cell_type": "markdown",
   "id": "0902994b",
   "metadata": {},
   "source": [
    "## In-Place Operators"
   ]
  },
  {
   "cell_type": "code",
   "execution_count": 43,
   "id": "4e5a26cb",
   "metadata": {},
   "outputs": [
    {
     "name": "stdout",
     "output_type": "stream",
     "text": [
      "140718161941248\n",
      "140718161941248 [1, 2, 3, 4]\n"
     ]
    }
   ],
   "source": [
    "l = [1, 2]\n",
    "print(id(l))\n",
    "l += [3, 4]\n",
    "print(id(l), l)"
   ]
  },
  {
   "cell_type": "code",
   "execution_count": 42,
   "id": "2abedf15",
   "metadata": {},
   "outputs": [
    {
     "name": "stdout",
     "output_type": "stream",
     "text": [
      "140718162692608\n",
      "140718162338176 [1, 2, 3, 4]\n"
     ]
    }
   ],
   "source": [
    "l = [1, 2]\n",
    "print(id(l))\n",
    "l = l + [3, 4]\n",
    "print(id(l), l)"
   ]
  },
  {
   "cell_type": "code",
   "execution_count": 44,
   "id": "9f0454b3",
   "metadata": {},
   "outputs": [
    {
     "name": "stdout",
     "output_type": "stream",
     "text": [
      "140718161941248\n",
      "140717818474800 (1, 2, 3, 4)\n"
     ]
    }
   ],
   "source": [
    "t = (1, 2)\n",
    "print(id(l))\n",
    "t += (3, 4)\n",
    "print(id(t), t) # Performed mutations"
   ]
  },
  {
   "cell_type": "code",
   "execution_count": 49,
   "id": "e4bf10cd",
   "metadata": {},
   "outputs": [],
   "source": [
    "from numbers import Real\n",
    "\n",
    "class VectorDimensionMismatch(TypeError):\n",
    "    pass\n",
    "\n",
    "class Vector:\n",
    "    def __init__(self, *components):\n",
    "        if len(components) < 1:\n",
    "            raise ValueError(\"Cannot create an empty Vector.\")\n",
    "            \n",
    "        for component in components:\n",
    "            if not isinstance(component, Real):\n",
    "                raise ValueError(f\"Vector components must all\"\n",
    "                f\" be all real numbers. {component} is invalid\")\n",
    "                \n",
    "        self._components = tuple(components)\n",
    "        \n",
    "    def __len__(self):\n",
    "        return len(self._components)\n",
    "    \n",
    "    @property\n",
    "    def components(self):\n",
    "        return self._components\n",
    "    \n",
    "    def __repr__(self):\n",
    "        return f\"Vector({self.components})\"\n",
    "    \n",
    "    def validate_type_and_dimension(self, v):\n",
    "        return isinstance(v, Vector) and len(v) == len(self)\n",
    "    \n",
    "    \n",
    "    def __add__(self, other):\n",
    "        if not self.validate_type_and_dimension(other):\n",
    "            # raise VectorDimensionMismatch('Vectors must be of same dimension.')\n",
    "            return NotImplemented\n",
    "        components = (x + y for x, y in zip(self.components, other.components))         \n",
    "        return Vector(*components)\n",
    "        \n",
    "    def __sub__(self, other):\n",
    "        if not self.validate_type_and_dimension(other):\n",
    "            # raise VectorDimensionMismatch('Vectors must be of same dimension.')\n",
    "            return NotImplemented\n",
    "        components = (x - y for x, y in zip(self.components, other.components))         \n",
    "        return Vector(*components)  \n",
    "    \n",
    "    def __mul__(self, other):\n",
    "        print(\"__mul__ called...\")\n",
    "        if isinstance(other, Real):\n",
    "            # scalar\n",
    "            components = (other * x for x in self.components)\n",
    "            return Vector(*components)\n",
    "        if self.validate_type_and_dimension(other):\n",
    "            # dot product\n",
    "            components = (x * y for x, y in zip(self.components, other.components))\n",
    "            return sum(components)\n",
    "        return NotImplemented\n",
    "                          \n",
    "    def __rmul__(self, other):\n",
    "        print(\"__rmul__ called...\")\n",
    "        return self * other\n",
    "    \n",
    "    def __matmul__(self, other):\n",
    "        print(\"__matmul__ called...\")\n",
    "        \n",
    "    def __iadd__(self, other):\n",
    "        print('__radd__ called...')\n",
    "        return self + other"
   ]
  },
  {
   "cell_type": "code",
   "execution_count": 52,
   "id": "d58035ec",
   "metadata": {},
   "outputs": [
    {
     "name": "stdout",
     "output_type": "stream",
     "text": [
      "140717818894416\n",
      "__radd__ called...\n",
      "140717818892400 Vector((11, 12))\n"
     ]
    }
   ],
   "source": [
    "v1 = Vector(1, 2)\n",
    "v2 = Vector(10, 10)\n",
    "print(id(v1))\n",
    "v1 += v2\n",
    "print(id(v1), v1)"
   ]
  },
  {
   "cell_type": "code",
   "execution_count": 56,
   "id": "448b83fe",
   "metadata": {},
   "outputs": [],
   "source": [
    "from numbers import Real\n",
    "\n",
    "class VectorDimensionMismatch(TypeError):\n",
    "    pass\n",
    "\n",
    "class Vector:\n",
    "    def __init__(self, *components):\n",
    "        if len(components) < 1:\n",
    "            raise ValueError(\"Cannot create an empty Vector.\")\n",
    "            \n",
    "        for component in components:\n",
    "            if not isinstance(component, Real):\n",
    "                raise ValueError(f\"Vector components must all\"\n",
    "                f\" be all real numbers. {component} is invalid\")\n",
    "                \n",
    "        self._components = tuple(components)\n",
    "        \n",
    "    def __len__(self):\n",
    "        return len(self._components)\n",
    "    \n",
    "    @property\n",
    "    def components(self):\n",
    "        return self._components\n",
    "    \n",
    "    def __repr__(self):\n",
    "        return f\"Vector({self.components})\"\n",
    "    \n",
    "    def validate_type_and_dimension(self, v):\n",
    "        return isinstance(v, Vector) and len(v) == len(self)\n",
    "    \n",
    "    \n",
    "    def __add__(self, other):\n",
    "        if not self.validate_type_and_dimension(other):\n",
    "            # raise VectorDimensionMismatch('Vectors must be of same dimension.')\n",
    "            return NotImplemented\n",
    "        components = (x + y for x, y in zip(self.components, other.components))         \n",
    "        return Vector(*components)\n",
    "        \n",
    "    def __sub__(self, other):\n",
    "        if not self.validate_type_and_dimension(other):\n",
    "            # raise VectorDimensionMismatch('Vectors must be of same dimension.')\n",
    "            return NotImplemented\n",
    "        components = (x - y for x, y in zip(self.components, other.components))         \n",
    "        return Vector(*components)  \n",
    "    \n",
    "    def __mul__(self, other):\n",
    "        print(\"__mul__ called...\")\n",
    "        if isinstance(other, Real):\n",
    "            # scalar\n",
    "            components = (other * x for x in self.components)\n",
    "            return Vector(*components)\n",
    "        if self.validate_type_and_dimension(other):\n",
    "            # dot product\n",
    "            components = (x * y for x, y in zip(self.components, other.components))\n",
    "            return sum(components)\n",
    "        return NotImplemented\n",
    "                          \n",
    "    def __rmul__(self, other):\n",
    "        print(\"__rmul__ called...\")\n",
    "        return self * other\n",
    "    \n",
    "    def __matmul__(self, other):\n",
    "        print(\"__matmul__ called...\")\n",
    "        \n",
    "    def __iadd__(self, other):\n",
    "        print('__radd__ called...')\n",
    "        if self.validate_type_and_dimension(other):\n",
    "            components = (x + y for x, y in zip(self.components, other.components))\n",
    "            self._components = tuple(components)\n",
    "            return self\n",
    "        return NotImplemented"
   ]
  },
  {
   "cell_type": "code",
   "execution_count": 57,
   "id": "2a88e9fa",
   "metadata": {},
   "outputs": [
    {
     "name": "stdout",
     "output_type": "stream",
     "text": [
      "140717818992432\n",
      "__radd__ called...\n",
      "140717818992432 Vector((11, 12))\n"
     ]
    }
   ],
   "source": [
    "v1 = Vector(1, 2)\n",
    "v2 = Vector(10, 10)\n",
    "print(id(v1))\n",
    "v1 += v2\n",
    "print(id(v1), v1)"
   ]
  },
  {
   "cell_type": "code",
   "execution_count": 58,
   "id": "3037a51f",
   "metadata": {},
   "outputs": [],
   "source": [
    "from numbers import Real\n",
    "\n",
    "class VectorDimensionMismatch(TypeError):\n",
    "    pass\n",
    "\n",
    "class Vector:\n",
    "    def __init__(self, *components):\n",
    "        if len(components) < 1:\n",
    "            raise ValueError(\"Cannot create an empty Vector.\")\n",
    "            \n",
    "        for component in components:\n",
    "            if not isinstance(component, Real):\n",
    "                raise ValueError(f\"Vector components must all\"\n",
    "                f\" be all real numbers. {component} is invalid\")\n",
    "                \n",
    "        self._components = tuple(components)\n",
    "        \n",
    "    def __len__(self):\n",
    "        return len(self._components)\n",
    "    \n",
    "    @property\n",
    "    def components(self):\n",
    "        return self._components\n",
    "    \n",
    "    def __repr__(self):\n",
    "        return f\"Vector({self.components})\"\n",
    "    \n",
    "    def validate_type_and_dimension(self, v):\n",
    "        return isinstance(v, Vector) and len(v) == len(self)\n",
    "    \n",
    "    \n",
    "    def __add__(self, other):\n",
    "        if not self.validate_type_and_dimension(other):\n",
    "            # raise VectorDimensionMismatch('Vectors must be of same dimension.')\n",
    "            return NotImplemented\n",
    "        components = (x + y for x, y in zip(self.components, other.components))         \n",
    "        return Vector(*components)\n",
    "        \n",
    "    def __sub__(self, other):\n",
    "        if not self.validate_type_and_dimension(other):\n",
    "            # raise VectorDimensionMismatch('Vectors must be of same dimension.')\n",
    "            return NotImplemented\n",
    "        components = (x - y for x, y in zip(self.components, other.components))         \n",
    "        return Vector(*components)  \n",
    "    \n",
    "    def __mul__(self, other):\n",
    "        print(\"__mul__ called...\")\n",
    "        if isinstance(other, Real):\n",
    "            # scalar\n",
    "            components = (other * x for x in self.components)\n",
    "            return Vector(*components)\n",
    "        if self.validate_type_and_dimension(other):\n",
    "            # dot product\n",
    "            components = (x * y for x, y in zip(self.components, other.components))\n",
    "            return sum(components)\n",
    "        return NotImplemented\n",
    "                          \n",
    "    def __rmul__(self, other):\n",
    "        print(\"__rmul__ called...\")\n",
    "        return self * other\n",
    "    \n",
    "    def __matmul__(self, other):\n",
    "        print(\"__matmul__ called...\")\n",
    "        \n",
    "    def __iadd__(self, other):\n",
    "        print('__radd__ called...')\n",
    "        if self.validate_type_and_dimension(other):\n",
    "            components = (x + y for x, y in zip(self.components, other.components))\n",
    "            self._components = tuple(components)\n",
    "            return self\n",
    "        return NotImplemented\n",
    "    \n",
    "    def __neg__(self):\n",
    "        print(\"__neg__ called...\")\n",
    "        componets = (-x for x in self.components)\n",
    "        return Vector(*componets)"
   ]
  },
  {
   "cell_type": "code",
   "execution_count": 59,
   "id": "2a2b80f9",
   "metadata": {},
   "outputs": [
    {
     "name": "stdout",
     "output_type": "stream",
     "text": [
      "140717819662048\n",
      "__neg__ called...\n"
     ]
    },
    {
     "data": {
      "text/plain": [
       "Vector((-1, -2))"
      ]
     },
     "execution_count": 59,
     "metadata": {},
     "output_type": "execute_result"
    }
   ],
   "source": [
    "v1 = Vector(1, 2)\n",
    "print(id(v1))\n",
    "-v1"
   ]
  },
  {
   "cell_type": "code",
   "execution_count": 60,
   "id": "92cc1059",
   "metadata": {},
   "outputs": [],
   "source": [
    "from numbers import Real\n",
    "from math import sqrt\n",
    "\n",
    "class VectorDimensionMismatch(TypeError):\n",
    "    pass\n",
    "\n",
    "class Vector:\n",
    "    def __init__(self, *components):\n",
    "        if len(components) < 1:\n",
    "            raise ValueError(\"Cannot create an empty Vector.\")\n",
    "            \n",
    "        for component in components:\n",
    "            if not isinstance(component, Real):\n",
    "                raise ValueError(f\"Vector components must all\"\n",
    "                f\" be all real numbers. {component} is invalid\")\n",
    "                \n",
    "        self._components = tuple(components)\n",
    "        \n",
    "    def __len__(self):\n",
    "        return len(self._components)\n",
    "    \n",
    "    @property\n",
    "    def components(self):\n",
    "        return self._components\n",
    "    \n",
    "    def __repr__(self):\n",
    "        return f\"Vector({self.components})\"\n",
    "    \n",
    "    def validate_type_and_dimension(self, v):\n",
    "        return isinstance(v, Vector) and len(v) == len(self)\n",
    "    \n",
    "    \n",
    "    def __add__(self, other):\n",
    "        if not self.validate_type_and_dimension(other):\n",
    "            # raise VectorDimensionMismatch('Vectors must be of same dimension.')\n",
    "            return NotImplemented\n",
    "        components = (x + y for x, y in zip(self.components, other.components))         \n",
    "        return Vector(*components)\n",
    "        \n",
    "    def __sub__(self, other):\n",
    "        if not self.validate_type_and_dimension(other):\n",
    "            # raise VectorDimensionMismatch('Vectors must be of same dimension.')\n",
    "            return NotImplemented\n",
    "        components = (x - y for x, y in zip(self.components, other.components))         \n",
    "        return Vector(*components)  \n",
    "    \n",
    "    def __mul__(self, other):\n",
    "        print(\"__mul__ called...\")\n",
    "        if isinstance(other, Real):\n",
    "            # scalar\n",
    "            components = (other * x for x in self.components)\n",
    "            return Vector(*components)\n",
    "        if self.validate_type_and_dimension(other):\n",
    "            # dot product\n",
    "            components = (x * y for x, y in zip(self.components, other.components))\n",
    "            return sum(components)\n",
    "        return NotImplemented\n",
    "                          \n",
    "    def __rmul__(self, other):\n",
    "        print(\"__rmul__ called...\")\n",
    "        return self * other\n",
    "    \n",
    "    def __matmul__(self, other):\n",
    "        print(\"__matmul__ called...\")\n",
    "        \n",
    "    def __iadd__(self, other):\n",
    "        print('__radd__ called...')\n",
    "        if self.validate_type_and_dimension(other):\n",
    "            components = (x + y for x, y in zip(self.components, other.components))\n",
    "            self._components = tuple(components)\n",
    "            return self\n",
    "        return NotImplemented\n",
    "    \n",
    "    def __neg__(self):\n",
    "        print(\"__neg__ called...\")\n",
    "        componets = (-x for x in self.components)\n",
    "        return Vector(*componets)\n",
    "    \n",
    "    def __abs__(self):\n",
    "        print(\"__abs__ called...\")\n",
    "        return sqrt(sum(x ** 2 for x in self.components))"
   ]
  },
  {
   "cell_type": "code",
   "execution_count": 61,
   "id": "3be35388",
   "metadata": {},
   "outputs": [
    {
     "name": "stdout",
     "output_type": "stream",
     "text": [
      "__abs__ called...\n"
     ]
    },
    {
     "data": {
      "text/plain": [
       "3.7416573867739413"
      ]
     },
     "execution_count": 61,
     "metadata": {},
     "output_type": "execute_result"
    }
   ],
   "source": [
    "v1 = Vector(-1, -2, 3)\n",
    "abs(v1)"
   ]
  },
  {
   "cell_type": "code",
   "execution_count": 64,
   "id": "bbc2c337",
   "metadata": {},
   "outputs": [],
   "source": [
    "class Person:\n",
    "    def __init__(self, name):\n",
    "        self.name = name\n",
    "        \n",
    "    def __repr__(self):\n",
    "        return f\"Person('{self.name}')\"\n",
    "    \n",
    "class Family:\n",
    "    def __init__(self, mother, father):\n",
    "        self.mother = mother\n",
    "        self.father = father\n",
    "        self.children = []\n",
    "        \n",
    "    def __iadd__(self,other):\n",
    "        self.children.append(other)\n",
    "        return self"
   ]
  },
  {
   "cell_type": "code",
   "execution_count": 65,
   "id": "6c4abaff",
   "metadata": {},
   "outputs": [
    {
     "data": {
      "text/plain": [
       "(Person('Marry'), Person('John'), [])"
      ]
     },
     "execution_count": 65,
     "metadata": {},
     "output_type": "execute_result"
    }
   ],
   "source": [
    "f = Family(Person(\"Marry\"), Person(\"John\"))\n",
    "f.mother, f.father, f.children"
   ]
  },
  {
   "cell_type": "code",
   "execution_count": 66,
   "id": "2f20ba90",
   "metadata": {},
   "outputs": [
    {
     "data": {
      "text/plain": [
       "[Person('Eric')]"
      ]
     },
     "execution_count": 66,
     "metadata": {},
     "output_type": "execute_result"
    }
   ],
   "source": [
    "f += Person(\"Eric\")\n",
    "f.children"
   ]
  },
  {
   "cell_type": "code",
   "execution_count": null,
   "id": "3dc3d140",
   "metadata": {},
   "outputs": [],
   "source": []
  },
  {
   "cell_type": "code",
   "execution_count": null,
   "id": "3420d0c4",
   "metadata": {},
   "outputs": [],
   "source": []
  },
  {
   "cell_type": "code",
   "execution_count": null,
   "id": "e7ba63f4",
   "metadata": {},
   "outputs": [],
   "source": []
  },
  {
   "cell_type": "code",
   "execution_count": null,
   "id": "afeff58f",
   "metadata": {},
   "outputs": [],
   "source": []
  },
  {
   "cell_type": "code",
   "execution_count": null,
   "id": "7ffbf2d6",
   "metadata": {},
   "outputs": [],
   "source": []
  },
  {
   "cell_type": "code",
   "execution_count": null,
   "id": "fac98ff7",
   "metadata": {},
   "outputs": [],
   "source": []
  },
  {
   "cell_type": "code",
   "execution_count": null,
   "id": "e65e569a",
   "metadata": {},
   "outputs": [],
   "source": []
  },
  {
   "cell_type": "code",
   "execution_count": null,
   "id": "c4fcc0f7",
   "metadata": {},
   "outputs": [],
   "source": []
  }
 ],
 "metadata": {
  "kernelspec": {
   "display_name": "Python 3 (ipykernel)",
   "language": "python",
   "name": "python3"
  },
  "language_info": {
   "codemirror_mode": {
    "name": "ipython",
    "version": 3
   },
   "file_extension": ".py",
   "mimetype": "text/x-python",
   "name": "python",
   "nbconvert_exporter": "python",
   "pygments_lexer": "ipython3",
   "version": "3.9.12"
  }
 },
 "nbformat": 4,
 "nbformat_minor": 5
}
