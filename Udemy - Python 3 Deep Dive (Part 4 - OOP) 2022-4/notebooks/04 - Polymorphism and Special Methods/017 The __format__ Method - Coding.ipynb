{
 "cells": [
  {
   "cell_type": "markdown",
   "id": "094845e2",
   "metadata": {},
   "source": [
    "# The __format__ Method - Coding"
   ]
  },
  {
   "cell_type": "code",
   "execution_count": 1,
   "id": "a5155041",
   "metadata": {},
   "outputs": [
    {
     "data": {
      "text/plain": [
       "'0.10'"
      ]
     },
     "execution_count": 1,
     "metadata": {},
     "output_type": "execute_result"
    }
   ],
   "source": [
    "a = 0.1\n",
    "format(a, \".2f\")"
   ]
  },
  {
   "cell_type": "code",
   "execution_count": 4,
   "id": "d27779f8",
   "metadata": {},
   "outputs": [
    {
     "data": {
      "text/plain": [
       "'              0.1000'"
      ]
     },
     "execution_count": 4,
     "metadata": {},
     "output_type": "execute_result"
    }
   ],
   "source": [
    "format(a, \"20.4f\")"
   ]
  },
  {
   "cell_type": "code",
   "execution_count": 5,
   "id": "c24bae68",
   "metadata": {},
   "outputs": [
    {
     "data": {
      "text/plain": [
       "datetime.datetime(2023, 6, 9, 6, 19, 34, 879115)"
      ]
     },
     "execution_count": 5,
     "metadata": {},
     "output_type": "execute_result"
    }
   ],
   "source": [
    "from datetime import datetime\n",
    "\n",
    "now = datetime.utcnow()\n",
    "now"
   ]
  },
  {
   "cell_type": "code",
   "execution_count": 7,
   "id": "a752d465",
   "metadata": {},
   "outputs": [
    {
     "data": {
      "text/plain": [
       "'Fri 2023-06-09 06:19 AM'"
      ]
     },
     "execution_count": 7,
     "metadata": {},
     "output_type": "execute_result"
    }
   ],
   "source": [
    "format(now, \"%a %Y-%m-%d %I:%M %p\")"
   ]
  },
  {
   "cell_type": "code",
   "execution_count": 12,
   "id": "3be05fcb",
   "metadata": {},
   "outputs": [],
   "source": [
    "class Person:\n",
    "    def __init__(self, name, dob):\n",
    "        self.name = name\n",
    "        self.dob = dob\n",
    "        \n",
    "    def __repr__(self):\n",
    "        return f\"Person(name={self.name}, dob={self.dob.isoformat()})\"\n",
    "    \n",
    "    def __str__(self):\n",
    "        print(\"__str__ called...\")\n",
    "        return f\"Person({self.name})\"\n",
    "    \n",
    "    def __format__(self, date_format_spec):\n",
    "        print(f\"__format__ called with spec={date_format_spec}\")\n",
    "        dob = format(self.dob, date_format_spec)\n",
    "        return f\"Person(name={self.name}, dob={dob})\"\n"
   ]
  },
  {
   "cell_type": "code",
   "execution_count": 13,
   "id": "c8220e5e",
   "metadata": {},
   "outputs": [
    {
     "name": "stdout",
     "output_type": "stream",
     "text": [
      "Person(name=Alex, dob=1900-10-20)\n",
      "__str__ called...\n",
      "Person(Alex)\n",
      "__format__ called with spec=%B %d, %Y\n"
     ]
    },
    {
     "data": {
      "text/plain": [
       "'Person(name=Alex, dob=October 20, 1900)'"
      ]
     },
     "execution_count": 13,
     "metadata": {},
     "output_type": "execute_result"
    }
   ],
   "source": [
    "from datetime import date\n",
    "\n",
    "p = Person(\"Alex\", date(1900, 10, 20))\n",
    "print(repr(p))\n",
    "print(str(p))\n",
    "format(p, \"%B %d, %Y\")"
   ]
  },
  {
   "cell_type": "code",
   "execution_count": 14,
   "id": "9034bb87",
   "metadata": {},
   "outputs": [
    {
     "name": "stdout",
     "output_type": "stream",
     "text": [
      "__format__ called with spec=\n"
     ]
    },
    {
     "data": {
      "text/plain": [
       "'Person(name=Alex, dob=1900-10-20)'"
      ]
     },
     "execution_count": 14,
     "metadata": {},
     "output_type": "execute_result"
    }
   ],
   "source": [
    "format(p)"
   ]
  },
  {
   "cell_type": "code",
   "execution_count": null,
   "id": "779e0fac",
   "metadata": {},
   "outputs": [],
   "source": []
  },
  {
   "cell_type": "code",
   "execution_count": null,
   "id": "138c987e",
   "metadata": {},
   "outputs": [],
   "source": []
  },
  {
   "cell_type": "code",
   "execution_count": null,
   "id": "92aa1ddd",
   "metadata": {},
   "outputs": [],
   "source": []
  },
  {
   "cell_type": "code",
   "execution_count": null,
   "id": "32d5b5de",
   "metadata": {},
   "outputs": [],
   "source": []
  },
  {
   "cell_type": "code",
   "execution_count": null,
   "id": "b9d2da66",
   "metadata": {},
   "outputs": [],
   "source": []
  },
  {
   "cell_type": "code",
   "execution_count": null,
   "id": "9d98ae71",
   "metadata": {},
   "outputs": [],
   "source": []
  },
  {
   "cell_type": "code",
   "execution_count": null,
   "id": "3bd8da6a",
   "metadata": {},
   "outputs": [],
   "source": []
  },
  {
   "cell_type": "code",
   "execution_count": null,
   "id": "b1e4e211",
   "metadata": {},
   "outputs": [],
   "source": []
  },
  {
   "cell_type": "code",
   "execution_count": null,
   "id": "82587bab",
   "metadata": {},
   "outputs": [],
   "source": []
  },
  {
   "cell_type": "code",
   "execution_count": null,
   "id": "018e1cbd",
   "metadata": {},
   "outputs": [],
   "source": []
  }
 ],
 "metadata": {
  "kernelspec": {
   "display_name": "Python 3 (ipykernel)",
   "language": "python",
   "name": "python3"
  },
  "language_info": {
   "codemirror_mode": {
    "name": "ipython",
    "version": 3
   },
   "file_extension": ".py",
   "mimetype": "text/x-python",
   "name": "python",
   "nbconvert_exporter": "python",
   "pygments_lexer": "ipython3",
   "version": "3.9.12"
  }
 },
 "nbformat": 4,
 "nbformat_minor": 5
}
