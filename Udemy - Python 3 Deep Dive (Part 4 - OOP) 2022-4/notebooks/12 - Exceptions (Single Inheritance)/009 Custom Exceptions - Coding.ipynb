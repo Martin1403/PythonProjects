{
 "cells": [
  {
   "cell_type": "markdown",
   "id": "0d24d6a9",
   "metadata": {},
   "source": [
    "# Custom Exceptions - Coding"
   ]
  },
  {
   "cell_type": "code",
   "execution_count": 1,
   "id": "88b84bc6",
   "metadata": {},
   "outputs": [],
   "source": [
    "class TimeoutError(Exception):\n",
    "    \"\"\"Timeout exception\"\"\""
   ]
  },
  {
   "cell_type": "code",
   "execution_count": 2,
   "id": "0145535e",
   "metadata": {},
   "outputs": [
    {
     "name": "stdout",
     "output_type": "stream",
     "text": [
      "TimeoutError('timeout occured')\n"
     ]
    }
   ],
   "source": [
    "try:\n",
    "    raise TimeoutError('timeout occured')\n",
    "except TimeoutError as ex:\n",
    "    print(repr(ex))"
   ]
  },
  {
   "cell_type": "code",
   "execution_count": 4,
   "id": "c839f683",
   "metadata": {},
   "outputs": [
    {
     "name": "stdout",
     "output_type": "stream",
     "text": [
      "<class '__main__.TimeoutError'>\n",
      "timeout occured\n",
      "<traceback object at 0x7f7f086b9ac0>\n"
     ]
    }
   ],
   "source": [
    "import sys\n",
    "\n",
    "try:\n",
    "    raise TimeoutError('timeout occured')\n",
    "except:\n",
    "    ex_type, ex, tb = sys.exc_info()\n",
    "    print(ex_type)\n",
    "    print(ex)\n",
    "    print(tb)"
   ]
  },
  {
   "cell_type": "code",
   "execution_count": 5,
   "id": "469a6655",
   "metadata": {},
   "outputs": [
    {
     "name": "stdout",
     "output_type": "stream",
     "text": [
      "('timeout occured',) <traceback object at 0x7f7f082db040>\n"
     ]
    }
   ],
   "source": [
    "import sys\n",
    "\n",
    "try:\n",
    "    raise TimeoutError('timeout occured')\n",
    "except Exception as ex:\n",
    "    print(ex.args, ex.__traceback__)\n"
   ]
  },
  {
   "cell_type": "code",
   "execution_count": 6,
   "id": "771a843b",
   "metadata": {},
   "outputs": [],
   "source": [
    "class ReadOnlyError(AttributeError):\n",
    "    \"\"\"Indicates an attribute is read-only\"\"\""
   ]
  },
  {
   "cell_type": "code",
   "execution_count": 7,
   "id": "4b5b77dd",
   "metadata": {},
   "outputs": [
    {
     "name": "stdout",
     "output_type": "stream",
     "text": [
      "ReadOnlyError('Account number is read-only', 'BA10001')\n"
     ]
    }
   ],
   "source": [
    "try:\n",
    "    raise ReadOnlyError('Account number is read-only', 'BA10001')\n",
    "except ReadOnlyError as ex:\n",
    "    print(repr(ex))"
   ]
  },
  {
   "cell_type": "code",
   "execution_count": 8,
   "id": "d8fb02e0",
   "metadata": {},
   "outputs": [
    {
     "name": "stdout",
     "output_type": "stream",
     "text": [
      "ReadOnlyError('Account number is read-only', 'BA10001')\n"
     ]
    }
   ],
   "source": [
    "try:\n",
    "    raise ReadOnlyError('Account number is read-only', 'BA10001')\n",
    "except AttributeError as ex:\n",
    "    print(repr(ex))"
   ]
  },
  {
   "cell_type": "code",
   "execution_count": 9,
   "id": "b9b29f87",
   "metadata": {},
   "outputs": [],
   "source": [
    "class WebScraperException(Exception):\n",
    "    \"\"\"Base exception for WebScraper\"\"\"\n",
    "    \n",
    "class HTTPException(WebScraperException):\n",
    "    \"\"\"General HTTP exception for WS\"\"\"\n",
    "    \n",
    "class InvalidUrlException(HTTPException):\n",
    "    \"\"\"Indicates the url is invalid (dns lookup fail)\"\"\"\n",
    "    \n",
    "class TimeoutException(HTTPException):\n",
    "    \"\"\"Indicates a general timeout exception in http connectivity\"\"\"\n",
    "    \n",
    "class PingTimeoutException(TimeoutException):\n",
    "    \"\"\"Ping time out\"\"\"\n",
    "\n",
    "class LoadTimeoutException(TimeoutException):\n",
    "    \"\"\"Page load time out\"\"\"\n",
    "    \n",
    "class ParserException(WebScraperException):\n",
    "    \"\"\"General page parsing exception\"\"\""
   ]
  },
  {
   "cell_type": "raw",
   "id": "89f150df",
   "metadata": {},
   "source": [
    "WebScraperException\n",
    "  - HTTPException\n",
    "      - InvalidUrlException\n",
    "      - TimeoutException\n",
    "          - PingTimeoutException\n",
    "          - LoadTimeoutException\n",
    "  - ParserException "
   ]
  },
  {
   "cell_type": "code",
   "execution_count": 10,
   "id": "ad34a254",
   "metadata": {},
   "outputs": [
    {
     "name": "stdout",
     "output_type": "stream",
     "text": [
      "PingTimeoutException('Ping to www... time out')\n"
     ]
    }
   ],
   "source": [
    "try:\n",
    "    raise PingTimeoutException(\"Ping to www... time out\")\n",
    "except WebScraperException as ex:\n",
    "    print(repr(ex))"
   ]
  },
  {
   "cell_type": "code",
   "execution_count": 13,
   "id": "2d04c570",
   "metadata": {},
   "outputs": [],
   "source": [
    "class APIException(Exception):\n",
    "    \"\"\"Base API exception\"\"\""
   ]
  },
  {
   "cell_type": "code",
   "execution_count": 15,
   "id": "19673ad4",
   "metadata": {},
   "outputs": [],
   "source": [
    "class ApplicationException(APIException):\n",
    "    \"\"\"Indicates an application error (not user caused) - 5xx HTTP type errors\"\"\"\n",
    "    \n",
    "class DBException(ApplicationException):\n",
    "    \"\"\"General database exception\"\"\"\n",
    "    \n",
    "class DBConnectionError(DBException):\n",
    "    \"\"\"Indicates an error connecting to database\"\"\"\n",
    "    \n",
    "class ClientException(APIException):\n",
    "    \"\"\"Indicates exception that was caused by user, not an internal error\"\"\"\n",
    "    \n",
    "class NotFoundError(ClientException):\n",
    "    \"\"\"Indicates resource was not found\"\"\"\n",
    "\n",
    "class NotAuthorizedError(ClientException):\n",
    "    \"\"\"User is not authorized to perform requested action on resource\"\"\"\n",
    "    \n"
   ]
  },
  {
   "cell_type": "code",
   "execution_count": 16,
   "id": "9e04aa7a",
   "metadata": {},
   "outputs": [],
   "source": [
    "class Account:\n",
    "    def __init__(self, account_id, account_type):\n",
    "        self.account_id = account_id\n",
    "        self.account_type = account_type"
   ]
  },
  {
   "cell_type": "code",
   "execution_count": 17,
   "id": "e1d18bc5",
   "metadata": {},
   "outputs": [],
   "source": [
    "def lookup_account_by_id(account_id):\n",
    "    if not isinstance(account_id, int) or account_id <= 0:\n",
    "        raise ClientException(f\"Account number {account_id} is invalid.\")\n",
    "    \n",
    "    if account_id < 100:\n",
    "        raise DBConnectionError(\"Permanent failure connecting to database.\")\n",
    "    elif account_id < 200:\n",
    "        raise NotAuthorizedError('User does not have permissions to read this account.')\n",
    "    elif account_id < 300:\n",
    "        raise NotFoundError('Account not found')\n",
    "    else:\n",
    "        return Account(account_id, 'Savings')"
   ]
  },
  {
   "cell_type": "code",
   "execution_count": 18,
   "id": "d5fc9a30",
   "metadata": {},
   "outputs": [],
   "source": [
    "from http import HTTPStatus"
   ]
  },
  {
   "cell_type": "code",
   "execution_count": 19,
   "id": "4ef987b0",
   "metadata": {},
   "outputs": [],
   "source": [
    "def get_account(account_id):\n",
    "    try:\n",
    "        account = lookup_account_by_id(account_id)\n",
    "    except ApplicationException as ex:\n",
    "        return HTTPStatus.INTERNAL_SERVER_ERROR, str(ex)\n",
    "    except NotFoundError as ex:\n",
    "        return HTTPStatus.NOT_FOUND, f\"The account {account_id} does not exist\"\n",
    "    except NotAuthorizedError as ex:\n",
    "        return HTTPStatus.UNAUTHORIZED, f\"You do not have the proper authorization\"\n",
    "    except ClientException as ex:\n",
    "        return HTTPStatus.BAD_REQUEST,  str(ex)\n",
    "    else:\n",
    "        return HTTPStatus.OK, {\"id\": account.account_id, \"type\": account.account_type}"
   ]
  },
  {
   "cell_type": "code",
   "execution_count": 20,
   "id": "2a341848",
   "metadata": {},
   "outputs": [
    {
     "data": {
      "text/plain": [
       "(<HTTPStatus.BAD_REQUEST: 400>, 'Account number abc is invalid.')"
      ]
     },
     "execution_count": 20,
     "metadata": {},
     "output_type": "execute_result"
    }
   ],
   "source": [
    "get_account('abc')"
   ]
  },
  {
   "cell_type": "code",
   "execution_count": 21,
   "id": "14e3742f",
   "metadata": {},
   "outputs": [
    {
     "data": {
      "text/plain": [
       "(<HTTPStatus.INTERNAL_SERVER_ERROR: 500>,\n",
       " 'Permanent failure connecting to database.')"
      ]
     },
     "execution_count": 21,
     "metadata": {},
     "output_type": "execute_result"
    }
   ],
   "source": [
    "get_account(50)"
   ]
  },
  {
   "cell_type": "code",
   "execution_count": 22,
   "id": "41ba6d9a",
   "metadata": {},
   "outputs": [
    {
     "data": {
      "text/plain": [
       "(<HTTPStatus.OK: 200>, {'id': 350, 'type': 'Savings'})"
      ]
     },
     "execution_count": 22,
     "metadata": {},
     "output_type": "execute_result"
    }
   ],
   "source": [
    "get_account(350)"
   ]
  },
  {
   "cell_type": "code",
   "execution_count": null,
   "id": "e2acb199",
   "metadata": {},
   "outputs": [],
   "source": []
  },
  {
   "cell_type": "code",
   "execution_count": 23,
   "id": "b4adda43",
   "metadata": {},
   "outputs": [],
   "source": [
    "class APIException(Exception):\n",
    "    \"\"\"Base API exception\"\"\"\n",
    "    \n",
    "    http_status = HTTPStatus.INTERNAL_SERVER_ERROR\n",
    "    internal_err_msg = \"API exception occured.\"\n",
    "    user_err_msg = 'We are sorry! An unexpected error occurred on our end.'\n",
    "    \n",
    "    def __init__(self, *args, user_err_msg=None):\n",
    "        if args:\n",
    "            self.internal_err_msg = args[0]\n",
    "            super().__init__(*args)\n",
    "        else:\n",
    "            super().__init__(self.internal_err_msg)\n",
    "            \n",
    "        if user_err_msg is not None:\n",
    "            self.user_err_msg = user_err_msg\n",
    "            "
   ]
  },
  {
   "cell_type": "code",
   "execution_count": 26,
   "id": "6818b03f",
   "metadata": {},
   "outputs": [
    {
     "name": "stdout",
     "output_type": "stream",
     "text": [
      "APIException('custom message...', 10, 20)\n",
      "custom user msg\n"
     ]
    }
   ],
   "source": [
    "try:\n",
    "    raise APIException('custom message...', 10, 20, user_err_msg=\"custom user msg\")\n",
    "except APIException as ex:\n",
    "    print(repr(ex))\n",
    "    print(ex.user_err_msg)"
   ]
  },
  {
   "cell_type": "code",
   "execution_count": 27,
   "id": "681c7666",
   "metadata": {},
   "outputs": [],
   "source": [
    "import json"
   ]
  },
  {
   "cell_type": "code",
   "execution_count": 28,
   "id": "f90dda5b",
   "metadata": {},
   "outputs": [],
   "source": [
    "class APIException(Exception):\n",
    "    \"\"\"Base API exception\"\"\"\n",
    "    \n",
    "    http_status = HTTPStatus.INTERNAL_SERVER_ERROR\n",
    "    internal_err_msg = \"API exception occured.\"\n",
    "    user_err_msg = 'We are sorry! An unexpected error occurred on our end.'\n",
    "    \n",
    "    def __init__(self, *args, user_err_msg=None):\n",
    "        if args:\n",
    "            self.internal_err_msg = args[0]\n",
    "            super().__init__(*args)\n",
    "        else:\n",
    "            super().__init__(self.internal_err_msg)\n",
    "            \n",
    "        if user_err_msg is not None:\n",
    "            self.user_err_msg = user_err_msg\n",
    "            \n",
    "    def to_json(self):\n",
    "        err_object = {\"status\": self.http_status, \n",
    "                      \"message\": self.user_err_msg}\n",
    "        return json.dumps(err_object)"
   ]
  },
  {
   "cell_type": "code",
   "execution_count": 29,
   "id": "d1eb39f9",
   "metadata": {},
   "outputs": [
    {
     "name": "stdout",
     "output_type": "stream",
     "text": [
      "APIException('API exception occured.')\n",
      "{\"status\": 500, \"message\": \"We are sorry! An unexpected error occurred on our end.\"}\n"
     ]
    }
   ],
   "source": [
    "try:\n",
    "    raise APIException()\n",
    "except APIException as ex:\n",
    "    print(repr(ex))\n",
    "    print(ex.to_json())"
   ]
  },
  {
   "cell_type": "code",
   "execution_count": 34,
   "id": "e90d985c",
   "metadata": {},
   "outputs": [],
   "source": [
    "from datetime import datetime"
   ]
  },
  {
   "cell_type": "code",
   "execution_count": 44,
   "id": "46cfdb01",
   "metadata": {},
   "outputs": [],
   "source": [
    "class APIException(Exception):\n",
    "    \"\"\"Base API exception\"\"\"\n",
    "    \n",
    "    http_status = HTTPStatus.INTERNAL_SERVER_ERROR\n",
    "    internal_err_msg = \"API exception occured.\"\n",
    "    user_err_msg = 'We are sorry! An unexpected error occurred on our end.'\n",
    "    \n",
    "    def __init__(self, *args, user_err_msg=None):\n",
    "        if args:\n",
    "            self.internal_err_msg = args[0]\n",
    "            super().__init__(*args)\n",
    "        else:\n",
    "            super().__init__(self.internal_err_msg)\n",
    "            \n",
    "        if user_err_msg is not None:\n",
    "            self.user_err_msg = user_err_msg\n",
    "            \n",
    "    def to_json(self):\n",
    "        err_object = {\"status\": self.http_status, \n",
    "                      \"message\": self.user_err_msg}\n",
    "        return json.dumps(err_object)\n",
    "    \n",
    "    def log_exception(self):\n",
    "        exception = {\n",
    "            \"type\": type(self).__name__,\n",
    "            \"http_status\": self.http_status,\n",
    "            \"message\": self.args[0] if self.args else self.internal_err_msg,\n",
    "            \"args\": self.args[1:]\n",
    "        }\n",
    "        print(f\"EXCEPTION: {datetime.utcnow().isoformat()}: {exception}\")"
   ]
  },
  {
   "cell_type": "code",
   "execution_count": 45,
   "id": "62b19c41",
   "metadata": {},
   "outputs": [
    {
     "name": "stdout",
     "output_type": "stream",
     "text": [
      "EXCEPTION: 2023-07-02T12:46:03.781072: {'type': 'APIException', 'http_status': <HTTPStatus.INTERNAL_SERVER_ERROR: 500>, 'message': 'API exception occured.', 'args': ()}\n",
      "\n",
      "{\"status\": 500, \"message\": \"We are sorry! An unexpected error occurred on our end.\"}\n"
     ]
    }
   ],
   "source": [
    "try:\n",
    "    raise APIException()\n",
    "except APIException as ex:\n",
    "    ex.log_exception()\n",
    "    print()\n",
    "    print(ex.to_json())"
   ]
  },
  {
   "cell_type": "code",
   "execution_count": 46,
   "id": "9e27b78d",
   "metadata": {},
   "outputs": [],
   "source": [
    "class ApplicationException(APIException):\n",
    "    \"\"\"Indicates an application error (not user caused) - 5xx HTTP type errors\"\"\"\n",
    "    http_status = HTTPStatus.INTERNAL_SERVER_ERROR\n",
    "    internal_err_msg = \"Generic server side exception\"\n",
    "    user_err_msg = \"We are sorry. An unexpected error occurred on our end.\"\n",
    "    \n",
    "    \n",
    "class DBException(ApplicationException):\n",
    "    \"\"\"General database exception\"\"\"\n",
    "    http_status = HTTPStatus.INTERNAL_SERVER_ERROR\n",
    "    internal_err_msg = \"Database exception\"\n",
    "    user_err_msg = \"We are sorry. An unexpected error occurred on our end.\"\n",
    "    \n",
    "        \n",
    "class DBConnectionError(DBException):\n",
    "    \"\"\"Indicates an error connecting to database\"\"\"\n",
    "    http_status = HTTPStatus.INTERNAL_SERVER_ERROR\n",
    "    internal_err_msg = \"Database connection exception\"\n",
    "    user_err_msg = \"We are sorry. An unexpected error occurred on our end.\"\n",
    "    \n",
    "        \n",
    "class ClientException(APIException):\n",
    "    \"\"\"Indicates exception that was caused by user, not an internal error\"\"\"\n",
    "    http_status = HTTPStatus.BAD_REQUEST\n",
    "    internal_err_msg = \"Client submitted bad request.\"\n",
    "    user_err_msg = \"A bad request was received.\"\n",
    "        \n",
    "        \n",
    "class NotFoundError(ClientException):\n",
    "    \"\"\"Indicates resource was not found\"\"\"\n",
    "    http_status = HTTPStatus.NOT_FOUND\n",
    "    internal_err_msg = \"Resource not found.\"\n",
    "    user_err_msg = \"Requested resource was not found.\"\n",
    "    \n",
    "    \n",
    "class NotAuthorizedError(ClientException):\n",
    "    \"\"\"User is not authorized to perform requested action on resource\"\"\"\n",
    "    http_status = HTTPStatus.UNAUTHORIZED\n",
    "    internal_err_msg = \"Client not authorized to perform operation.\"\n",
    "    user_err_msg = \"You are not authorized to perform this request.\""
   ]
  },
  {
   "cell_type": "code",
   "execution_count": 47,
   "id": "739edecb",
   "metadata": {},
   "outputs": [],
   "source": [
    "def lookup_account_by_id(account_id):\n",
    "    if not isinstance(account_id, int) or account_id <= 0:\n",
    "        raise ClientException(f\"Account number {account_id} is invalid.\",\n",
    "                             f\"account_id= {account_id}\", \n",
    "                             f\"type error - account number not an integer\")\n",
    "    \n",
    "    if account_id < 100:\n",
    "        raise DBConnectionError(\"Permanent failure connecting to database.\",\"db=db01\")\n",
    "    elif account_id < 200:\n",
    "        raise NotAuthorizedError('User does not have permissions to read this account.',\n",
    "                                f\"account_id={account_id}\")\n",
    "    elif account_id < 300:\n",
    "        raise NotFoundError('Account not found',f\"account_id={account_id}\")\n",
    "    else:\n",
    "        return Account(account_id, 'Savings')"
   ]
  },
  {
   "cell_type": "code",
   "execution_count": 48,
   "id": "17ca1ebd",
   "metadata": {},
   "outputs": [],
   "source": [
    "def get_account(account_id):\n",
    "    try:\n",
    "        account = lookup_account_by_id(account_id)\n",
    "    except APIException as ex:\n",
    "        ex.log_exception()\n",
    "        return ex.to_json()\n",
    "    else:\n",
    "        return HTTPStatus.OK, {\"id\": account.account_id, \"type\": account.account_type}"
   ]
  },
  {
   "cell_type": "code",
   "execution_count": 49,
   "id": "8fbf349e",
   "metadata": {},
   "outputs": [
    {
     "name": "stdout",
     "output_type": "stream",
     "text": [
      "EXCEPTION: 2023-07-02T12:46:04.586142: {'type': 'ClientException', 'http_status': <HTTPStatus.BAD_REQUEST: 400>, 'message': 'Account number ABC is invalid.', 'args': ('account_id= ABC', 'type error - account number not an integer')}\n"
     ]
    },
    {
     "data": {
      "text/plain": [
       "'{\"status\": 400, \"message\": \"A bad request was received.\"}'"
      ]
     },
     "execution_count": 49,
     "metadata": {},
     "output_type": "execute_result"
    }
   ],
   "source": [
    "get_account(\"ABC\")"
   ]
  },
  {
   "cell_type": "code",
   "execution_count": 50,
   "id": "61db1596",
   "metadata": {},
   "outputs": [
    {
     "name": "stdout",
     "output_type": "stream",
     "text": [
      "EXCEPTION: 2023-07-02T12:46:34.441089: {'type': 'DBConnectionError', 'http_status': <HTTPStatus.INTERNAL_SERVER_ERROR: 500>, 'message': 'Permanent failure connecting to database.', 'args': ('db=db01',)}\n"
     ]
    },
    {
     "data": {
      "text/plain": [
       "'{\"status\": 500, \"message\": \"We are sorry. An unexpected error occurred on our end.\"}'"
      ]
     },
     "execution_count": 50,
     "metadata": {},
     "output_type": "execute_result"
    }
   ],
   "source": [
    "get_account(50)"
   ]
  },
  {
   "cell_type": "code",
   "execution_count": 51,
   "id": "923bf616",
   "metadata": {},
   "outputs": [
    {
     "name": "stdout",
     "output_type": "stream",
     "text": [
      "EXCEPTION: 2023-07-02T12:46:55.292003: {'type': 'NotAuthorizedError', 'http_status': <HTTPStatus.UNAUTHORIZED: 401>, 'message': 'User does not have permissions to read this account.', 'args': ('account_id=150',)}\n"
     ]
    },
    {
     "data": {
      "text/plain": [
       "'{\"status\": 401, \"message\": \"You are not authorized to perform this request.\"}'"
      ]
     },
     "execution_count": 51,
     "metadata": {},
     "output_type": "execute_result"
    }
   ],
   "source": [
    "get_account(150)"
   ]
  },
  {
   "cell_type": "code",
   "execution_count": 52,
   "id": "c0ee3c14",
   "metadata": {},
   "outputs": [
    {
     "name": "stdout",
     "output_type": "stream",
     "text": [
      "EXCEPTION: 2023-07-02T12:47:08.340102: {'type': 'NotFoundError', 'http_status': <HTTPStatus.NOT_FOUND: 404>, 'message': 'Account not found', 'args': ('account_id=250',)}\n"
     ]
    },
    {
     "data": {
      "text/plain": [
       "'{\"status\": 404, \"message\": \"Requested resource was not found.\"}'"
      ]
     },
     "execution_count": 52,
     "metadata": {},
     "output_type": "execute_result"
    }
   ],
   "source": [
    "get_account(250)"
   ]
  },
  {
   "cell_type": "code",
   "execution_count": 53,
   "id": "99325fc0",
   "metadata": {},
   "outputs": [
    {
     "data": {
      "text/plain": [
       "(<HTTPStatus.OK: 200>, {'id': 350, 'type': 'Savings'})"
      ]
     },
     "execution_count": 53,
     "metadata": {},
     "output_type": "execute_result"
    }
   ],
   "source": [
    "get_account(350)"
   ]
  },
  {
   "cell_type": "code",
   "execution_count": null,
   "id": "f660d1af",
   "metadata": {},
   "outputs": [],
   "source": []
  },
  {
   "cell_type": "code",
   "execution_count": 64,
   "id": "7378ce94",
   "metadata": {},
   "outputs": [],
   "source": [
    "class AppException(Exception):\n",
    "    \"\"\"generic application exception\"\"\"\n",
    "    \n",
    "class NegativeIntegerError(AppException, ValueError):\n",
    "    \"\"\"Used to indicate an error when an integer is negative\"\"\""
   ]
  },
  {
   "cell_type": "code",
   "execution_count": 67,
   "id": "2e740c10",
   "metadata": {},
   "outputs": [
    {
     "data": {
      "text/plain": [
       "(True, True)"
      ]
     },
     "execution_count": 67,
     "metadata": {},
     "output_type": "execute_result"
    }
   ],
   "source": [
    "ex = NegativeIntegerError()\n",
    "isinstance(ex, AppException), isinstance(ex, ValueError)"
   ]
  },
  {
   "cell_type": "code",
   "execution_count": 65,
   "id": "e38f1715",
   "metadata": {},
   "outputs": [],
   "source": [
    "def set_age(age):\n",
    "    if age < 0:\n",
    "        raise NegativeIntegerError(\"age cannot be negative\")"
   ]
  },
  {
   "cell_type": "code",
   "execution_count": 66,
   "id": "13a99fb1",
   "metadata": {},
   "outputs": [
    {
     "name": "stdout",
     "output_type": "stream",
     "text": [
      "NegativeIntegerError('age cannot be negative')\n"
     ]
    }
   ],
   "source": [
    "try:\n",
    "    set_age(-10)\n",
    "except ValueError as ex:\n",
    "    print(repr(ex))"
   ]
  },
  {
   "cell_type": "code",
   "execution_count": null,
   "id": "1d40e0a1",
   "metadata": {},
   "outputs": [],
   "source": []
  },
  {
   "cell_type": "code",
   "execution_count": null,
   "id": "1767a760",
   "metadata": {},
   "outputs": [],
   "source": []
  },
  {
   "cell_type": "code",
   "execution_count": null,
   "id": "1d1c7d28",
   "metadata": {},
   "outputs": [],
   "source": []
  },
  {
   "cell_type": "code",
   "execution_count": null,
   "id": "cef5e6d3",
   "metadata": {},
   "outputs": [],
   "source": []
  },
  {
   "cell_type": "code",
   "execution_count": null,
   "id": "5d63133f",
   "metadata": {},
   "outputs": [],
   "source": []
  },
  {
   "cell_type": "code",
   "execution_count": null,
   "id": "fcf0fee7",
   "metadata": {},
   "outputs": [],
   "source": []
  },
  {
   "cell_type": "code",
   "execution_count": null,
   "id": "4735811d",
   "metadata": {},
   "outputs": [],
   "source": []
  },
  {
   "cell_type": "code",
   "execution_count": null,
   "id": "988292ba",
   "metadata": {},
   "outputs": [],
   "source": []
  },
  {
   "cell_type": "code",
   "execution_count": null,
   "id": "70e89ab4",
   "metadata": {},
   "outputs": [],
   "source": []
  },
  {
   "cell_type": "code",
   "execution_count": null,
   "id": "6d29c27b",
   "metadata": {},
   "outputs": [],
   "source": []
  },
  {
   "cell_type": "code",
   "execution_count": null,
   "id": "61d5182b",
   "metadata": {},
   "outputs": [],
   "source": []
  }
 ],
 "metadata": {
  "kernelspec": {
   "display_name": "Python 3 (ipykernel)",
   "language": "python",
   "name": "python3"
  },
  "language_info": {
   "codemirror_mode": {
    "name": "ipython",
    "version": 3
   },
   "file_extension": ".py",
   "mimetype": "text/x-python",
   "name": "python",
   "nbconvert_exporter": "python",
   "pygments_lexer": "ipython3",
   "version": "3.9.12"
  }
 },
 "nbformat": 4,
 "nbformat_minor": 5
}
