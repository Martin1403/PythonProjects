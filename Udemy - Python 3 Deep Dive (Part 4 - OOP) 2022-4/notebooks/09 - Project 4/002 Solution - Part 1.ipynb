{
 "cells": [
  {
   "cell_type": "markdown",
   "id": "30270aec",
   "metadata": {},
   "source": [
    "# Solution - Part 1"
   ]
  },
  {
   "cell_type": "code",
   "execution_count": 26,
   "id": "d4488f61",
   "metadata": {},
   "outputs": [],
   "source": [
    "import numbers\n",
    "\n",
    "class IntegerField:\n",
    "    def __init__(self, min_, max_):\n",
    "        self._min = min_\n",
    "        self._max = max_\n",
    "        \n",
    "    def __set_name__(self, owner_class, prop_name):\n",
    "        self.prop_name = prop_name\n",
    "        \n",
    "    def __set__(self, instance, value):\n",
    "        if not isinstance(value, numbers.Integral):\n",
    "            raise ValueError(f\"{self.prop_name} must be an integer value.\")\n",
    "        if value < self._min:\n",
    "            raise ValueError(f\"{self.prop_name} must be >= {self._min}.\")\n",
    "        if value > self._max:\n",
    "            raise ValueError(f\"{self.prop_name} must be <= {self._max}\")\n",
    "        instance.__dict__[self.prop_name] = value\n",
    "        \n",
    "    def __get__(self, instance, owner_class):\n",
    "        if instance is None:\n",
    "            return self\n",
    "        return instance.__dict__.get(self.prop_name, None)"
   ]
  },
  {
   "cell_type": "code",
   "execution_count": 27,
   "id": "4842c9ad",
   "metadata": {},
   "outputs": [
    {
     "name": "stdout",
     "output_type": "stream",
     "text": [
      "100\n",
      "age must be <= 100\n"
     ]
    }
   ],
   "source": [
    "class Person:\n",
    "    age = IntegerField(0, 100)\n",
    "    \n",
    "p = Person()\n",
    "p.age = 100\n",
    "print(p.age)\n",
    "try:\n",
    "    p.age = 200\n",
    "except ValueError as ex:\n",
    "    print(ex)"
   ]
  },
  {
   "cell_type": "code",
   "execution_count": 28,
   "id": "b9a61a7a",
   "metadata": {},
   "outputs": [],
   "source": [
    "import unittest\n",
    "\n",
    "def run_tests(test_class):\n",
    "    suite = unittest.TestLoader().loadTestsFromTestCase(test_class)\n",
    "    runner = unittest.TextTestRunner(verbosity=2)\n",
    "    result = runner.run(suite)"
   ]
  },
  {
   "cell_type": "code",
   "execution_count": 29,
   "id": "adc11d12",
   "metadata": {},
   "outputs": [],
   "source": [
    "class TestIntegerField(unittest.TestCase):\n",
    "    class Person:\n",
    "        age = IntegerField(0, 10)\n",
    "    \n",
    "    def test_set_age_ok(self):\n",
    "        p = self.Person()\n",
    "        p.age = 5 \n",
    "        self.assertEqual(5, p.age)"
   ]
  },
  {
   "cell_type": "code",
   "execution_count": 30,
   "id": "fe332b9c",
   "metadata": {},
   "outputs": [
    {
     "name": "stderr",
     "output_type": "stream",
     "text": [
      "test_set_age_ok (__main__.TestIntegerField) ... ok\n",
      "\n",
      "----------------------------------------------------------------------\n",
      "Ran 1 test in 0.006s\n",
      "\n",
      "OK\n"
     ]
    }
   ],
   "source": [
    "run_tests(TestIntegerField)"
   ]
  },
  {
   "cell_type": "code",
   "execution_count": 33,
   "id": "99fe6d06",
   "metadata": {},
   "outputs": [],
   "source": [
    "class TestIntegerField(unittest.TestCase):\n",
    "    class Person:\n",
    "        age = IntegerField(0, 10)  \n",
    "        \n",
    "    def test_set_age_ok(self):\n",
    "        min_ = 5\n",
    "        max_ = 10\n",
    "        self.Person.age = IntegerField(5, 10) # __set_name__ didn't called\n",
    "        \n",
    "        p = self.Person()\n",
    "        p.age = 5\n",
    "        self.assertEqual(5, p.age)"
   ]
  },
  {
   "cell_type": "code",
   "execution_count": 34,
   "id": "1bc031e3",
   "metadata": {},
   "outputs": [
    {
     "name": "stderr",
     "output_type": "stream",
     "text": [
      "test_set_age_ok (__main__.TestIntegerField) ... ERROR\n",
      "\n",
      "======================================================================\n",
      "ERROR: test_set_age_ok (__main__.TestIntegerField)\n",
      "----------------------------------------------------------------------\n",
      "Traceback (most recent call last):\n",
      "  File \"C:\\Users\\Martin\\AppData\\Local\\Temp\\ipykernel_11400\\1160983393.py\", line 11, in test_set_age_ok\n",
      "    p.age = 5\n",
      "  File \"C:\\Users\\Martin\\AppData\\Local\\Temp\\ipykernel_11400\\2505411751.py\", line 18, in __set__\n",
      "    instance.__dict__[self.prop_name] = value\n",
      "AttributeError: 'IntegerField' object has no attribute 'prop_name'\n",
      "\n",
      "----------------------------------------------------------------------\n",
      "Ran 1 test in 0.006s\n",
      "\n",
      "FAILED (errors=1)\n"
     ]
    }
   ],
   "source": [
    "run_tests(TestIntegerField)"
   ]
  },
  {
   "cell_type": "code",
   "execution_count": 35,
   "id": "514c5434",
   "metadata": {},
   "outputs": [],
   "source": [
    "class TestIntegerField(unittest.TestCase):\n",
    "    class Person:\n",
    "        age = IntegerField(0, 10)  \n",
    "        \n",
    "    def create_person(self, min_, max_):\n",
    "        self.Person.age = IntegerField(5, 10) # __set_name__ didn't called\n",
    "        self.Person.age.__set_name__(Person, \"age\")        \n",
    "        return self.Person()\n",
    "        \n",
    "    def test_set_age_ok(self):\n",
    "        min_ = 5\n",
    "        max_ = 10\n",
    "        p = self.create_person(min_, max_)\n",
    "        p.age = 5\n",
    "        self.assertEqual(5, p.age)"
   ]
  },
  {
   "cell_type": "code",
   "execution_count": 36,
   "id": "64ac6a8b",
   "metadata": {},
   "outputs": [
    {
     "name": "stderr",
     "output_type": "stream",
     "text": [
      "test_set_age_ok (__main__.TestIntegerField) ... ok\n",
      "\n",
      "----------------------------------------------------------------------\n",
      "Ran 1 test in 0.006s\n",
      "\n",
      "OK\n"
     ]
    }
   ],
   "source": [
    "run_tests(TestIntegerField)"
   ]
  },
  {
   "cell_type": "code",
   "execution_count": null,
   "id": "4fc9e8fb",
   "metadata": {},
   "outputs": [],
   "source": [
    "42:32"
   ]
  },
  {
   "cell_type": "code",
   "execution_count": null,
   "id": "149ee65e",
   "metadata": {},
   "outputs": [],
   "source": []
  },
  {
   "cell_type": "code",
   "execution_count": null,
   "id": "497f8263",
   "metadata": {},
   "outputs": [],
   "source": []
  },
  {
   "cell_type": "code",
   "execution_count": null,
   "id": "4f70315d",
   "metadata": {},
   "outputs": [],
   "source": []
  },
  {
   "cell_type": "code",
   "execution_count": null,
   "id": "115b36a9",
   "metadata": {},
   "outputs": [],
   "source": []
  },
  {
   "cell_type": "code",
   "execution_count": null,
   "id": "a2afb761",
   "metadata": {},
   "outputs": [],
   "source": []
  },
  {
   "cell_type": "code",
   "execution_count": null,
   "id": "3c639266",
   "metadata": {},
   "outputs": [],
   "source": []
  },
  {
   "cell_type": "code",
   "execution_count": null,
   "id": "306441e4",
   "metadata": {},
   "outputs": [],
   "source": []
  }
 ],
 "metadata": {
  "kernelspec": {
   "display_name": "Python 3 (ipykernel)",
   "language": "python",
   "name": "python3"
  },
  "language_info": {
   "codemirror_mode": {
    "name": "ipython",
    "version": 3
   },
   "file_extension": ".py",
   "mimetype": "text/x-python",
   "name": "python",
   "nbconvert_exporter": "python",
   "pygments_lexer": "ipython3",
   "version": "3.9.13"
  }
 },
 "nbformat": 4,
 "nbformat_minor": 5
}
