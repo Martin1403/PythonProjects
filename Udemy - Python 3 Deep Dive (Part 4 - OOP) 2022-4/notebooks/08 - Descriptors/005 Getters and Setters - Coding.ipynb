{
 "cells": [
  {
   "cell_type": "markdown",
   "id": "24912c25",
   "metadata": {},
   "source": [
    "# Getters and Setters - Coding"
   ]
  },
  {
   "cell_type": "code",
   "execution_count": 1,
   "id": "0e01447b",
   "metadata": {},
   "outputs": [
    {
     "name": "stdout",
     "output_type": "stream",
     "text": [
      "__get__ called, self=<__main__.TimeUTC object at 0x7f244e07fbe0>, instnce=None, owner_class=<class '__main__.Logger1'>\n"
     ]
    },
    {
     "data": {
      "text/plain": [
       "'2023-06-21T05:49:33.438949'"
      ]
     },
     "execution_count": 1,
     "metadata": {},
     "output_type": "execute_result"
    }
   ],
   "source": [
    "from datetime import datetime\n",
    "\n",
    "class TimeUTC:\n",
    "    def __get__(self, instance, owner_class):\n",
    "        print(f\"__get__ called, self={self}, instnce={instance}, owner_class={owner_class}\")\n",
    "        return datetime.utcnow().isoformat()\n",
    "    \n",
    "class Logger1:\n",
    "    current_time = TimeUTC()\n",
    "    \n",
    "class Logger2:\n",
    "    current_time = TimeUTC()\n",
    "    \n",
    "getattr(Logger1, \"current_time\")"
   ]
  },
  {
   "cell_type": "code",
   "execution_count": 2,
   "id": "4062e637",
   "metadata": {},
   "outputs": [
    {
     "name": "stdout",
     "output_type": "stream",
     "text": [
      "__get__ called, self=<__main__.TimeUTC object at 0x7f244e07fbe0>, instnce=None, owner_class=<class '__main__.Logger1'>\n"
     ]
    },
    {
     "data": {
      "text/plain": [
       "'2023-06-21T05:49:55.186901'"
      ]
     },
     "execution_count": 2,
     "metadata": {},
     "output_type": "execute_result"
    }
   ],
   "source": [
    "Logger1.current_time"
   ]
  },
  {
   "cell_type": "code",
   "execution_count": 3,
   "id": "3a1a04eb",
   "metadata": {},
   "outputs": [
    {
     "name": "stdout",
     "output_type": "stream",
     "text": [
      "__get__ called, self=<__main__.TimeUTC object at 0x7f244e07f610>, instnce=None, owner_class=<class '__main__.Logger2'>\n"
     ]
    },
    {
     "data": {
      "text/plain": [
       "'2023-06-21T05:50:46.069267'"
      ]
     },
     "execution_count": 3,
     "metadata": {},
     "output_type": "execute_result"
    }
   ],
   "source": [
    "Logger2.current_time"
   ]
  },
  {
   "cell_type": "code",
   "execution_count": 4,
   "id": "fd8b61c0",
   "metadata": {},
   "outputs": [
    {
     "name": "stdout",
     "output_type": "stream",
     "text": [
      "0x7f244edc2220\n",
      "__get__ called, self=<__main__.TimeUTC object at 0x7f244e07fbe0>, instnce=<__main__.Logger1 object at 0x7f244edc2220>, owner_class=<class '__main__.Logger1'>\n"
     ]
    },
    {
     "data": {
      "text/plain": [
       "'2023-06-21T05:51:30.432077'"
      ]
     },
     "execution_count": 4,
     "metadata": {},
     "output_type": "execute_result"
    }
   ],
   "source": [
    "l1 = Logger1()\n",
    "print(hex(id(l1)))\n",
    "l1.current_time"
   ]
  },
  {
   "cell_type": "code",
   "execution_count": 6,
   "id": "e43a4b53",
   "metadata": {},
   "outputs": [
    {
     "name": "stdout",
     "output_type": "stream",
     "text": [
      "0x7f244e991d90\n",
      "__get__ called, self=<__main__.TimeUTC object at 0x7f244e07fbe0>, instnce=<__main__.Logger1 object at 0x7f244e991d90>, owner_class=<class '__main__.Logger1'>\n"
     ]
    },
    {
     "data": {
      "text/plain": [
       "'2023-06-21T05:52:44.190527'"
      ]
     },
     "execution_count": 6,
     "metadata": {},
     "output_type": "execute_result"
    }
   ],
   "source": [
    "l2 = Logger1()\n",
    "print(hex(id(l2)))\n",
    "l2.current_time"
   ]
  },
  {
   "cell_type": "code",
   "execution_count": 7,
   "id": "9913f1ce",
   "metadata": {},
   "outputs": [
    {
     "name": "stdout",
     "output_type": "stream",
     "text": [
      "0x7f244ece96d0\n",
      "__get__ called, self=<__main__.TimeUTC object at 0x7f244e07f610>, instnce=<__main__.Logger2 object at 0x7f244ece96d0>, owner_class=<class '__main__.Logger2'>\n"
     ]
    },
    {
     "data": {
      "text/plain": [
       "'2023-06-21T05:53:20.946434'"
      ]
     },
     "execution_count": 7,
     "metadata": {},
     "output_type": "execute_result"
    }
   ],
   "source": [
    "l2 = Logger2()\n",
    "print(hex(id(l2)))\n",
    "l2.current_time"
   ]
  },
  {
   "cell_type": "code",
   "execution_count": 8,
   "id": "a44fe499",
   "metadata": {},
   "outputs": [
    {
     "data": {
      "text/plain": [
       "<__main__.TimeUTC at 0x7f244ec54d60>"
      ]
     },
     "execution_count": 8,
     "metadata": {},
     "output_type": "execute_result"
    }
   ],
   "source": [
    "from datetime import datetime\n",
    "\n",
    "class TimeUTC:\n",
    "    def __get__(self, instance, owner_class):\n",
    "        if instance is None:\n",
    "            return self\n",
    "        else:\n",
    "            return datetime.utcnow().isoformat()\n",
    "    \n",
    "class Logger:\n",
    "    current_time = TimeUTC()\n",
    "    \n",
    "Logger.current_time"
   ]
  },
  {
   "cell_type": "code",
   "execution_count": 9,
   "id": "0bb780ef",
   "metadata": {},
   "outputs": [
    {
     "data": {
      "text/plain": [
       "mappingproxy({'__module__': '__main__',\n",
       "              'current_time': <__main__.TimeUTC at 0x7f244ec54d60>,\n",
       "              '__dict__': <attribute '__dict__' of 'Logger' objects>,\n",
       "              '__weakref__': <attribute '__weakref__' of 'Logger' objects>,\n",
       "              '__doc__': None})"
      ]
     },
     "execution_count": 9,
     "metadata": {},
     "output_type": "execute_result"
    }
   ],
   "source": [
    "Logger.__dict__"
   ]
  },
  {
   "cell_type": "code",
   "execution_count": 10,
   "id": "c1d62218",
   "metadata": {},
   "outputs": [
    {
     "data": {
      "text/plain": [
       "'2023-06-21T05:55:48.361203'"
      ]
     },
     "execution_count": 10,
     "metadata": {},
     "output_type": "execute_result"
    }
   ],
   "source": [
    "l = Logger()\n",
    "l.current_time"
   ]
  },
  {
   "cell_type": "code",
   "execution_count": 11,
   "id": "45755b06",
   "metadata": {},
   "outputs": [
    {
     "data": {
      "text/plain": [
       "<property at 0x7f244e5fbf40>"
      ]
     },
     "execution_count": 11,
     "metadata": {},
     "output_type": "execute_result"
    }
   ],
   "source": [
    "class Logger:\n",
    "    @property\n",
    "    def current_time(self):\n",
    "        return datetime.utcnow().isoformat()\n",
    "    \n",
    "Logger.current_time"
   ]
  },
  {
   "cell_type": "code",
   "execution_count": 12,
   "id": "15992beb",
   "metadata": {},
   "outputs": [
    {
     "data": {
      "text/plain": [
       "'2023-06-21T05:57:15.524049'"
      ]
     },
     "execution_count": 12,
     "metadata": {},
     "output_type": "execute_result"
    }
   ],
   "source": [
    "l = Logger()\n",
    "l.current_time"
   ]
  },
  {
   "cell_type": "code",
   "execution_count": 13,
   "id": "6d1d4680",
   "metadata": {},
   "outputs": [
    {
     "name": "stdout",
     "output_type": "stream",
     "text": [
      "__get__ called in <__main__.TimeUTC object at 0x7f244e051d60>\n",
      "__get__ called in <__main__.TimeUTC object at 0x7f244e051d60>\n"
     ]
    },
    {
     "data": {
      "text/plain": [
       "('2023-06-21T05:59:34.489822', '2023-06-21T05:59:34.489877')"
      ]
     },
     "execution_count": 13,
     "metadata": {},
     "output_type": "execute_result"
    }
   ],
   "source": [
    "from datetime import datetime\n",
    "\n",
    "class TimeUTC:\n",
    "    def __get__(self, instance, owner_class):\n",
    "        if instance is None:\n",
    "            return self\n",
    "        else:\n",
    "            print(f\"__get__ called in {self}\")\n",
    "            return datetime.utcnow().isoformat()\n",
    "        \n",
    "class Logger:\n",
    "    current_time = TimeUTC()\n",
    "    \n",
    "l1 = Logger()\n",
    "l2 = Logger()\n",
    "\n",
    "l1.current_time, l2.current_time"
   ]
  },
  {
   "cell_type": "code",
   "execution_count": 15,
   "id": "e83afda6",
   "metadata": {},
   "outputs": [
    {
     "name": "stdout",
     "output_type": "stream",
     "text": [
      "10\n",
      "9\n",
      "8\n"
     ]
    }
   ],
   "source": [
    "class Countdown:\n",
    "    def __init__(self, start):\n",
    "        self.start = start + 1\n",
    "        \n",
    "    def __get__(self, instance, owner):\n",
    "        if instance is None:\n",
    "            return self\n",
    "        self.start -= 1\n",
    "        return self.start\n",
    "    \n",
    "class Rocket:\n",
    "    countdown = Countdown(10)\n",
    "    \n",
    "rocket1 = Rocket()\n",
    "rocket2 = Rocket()\n",
    "print(rocket1.countdown)\n",
    "print(rocket2.countdown)\n",
    "print(rocket1.countdown)"
   ]
  },
  {
   "cell_type": "code",
   "execution_count": 17,
   "id": "089739e1",
   "metadata": {},
   "outputs": [
    {
     "name": "stdout",
     "output_type": "stream",
     "text": [
      "__get__ called from class\n",
      "__get__ called, instatnce=<__main__.Point2D object at 0x7f244e8adb50>, owner_class=<class '__main__.Point2D'>\n"
     ]
    }
   ],
   "source": [
    "class IntegerValue:\n",
    "    def __set__(self, instance, value):\n",
    "        print(f\"__set__ called, instance={instance}, value={value}\")\n",
    "    \n",
    "    def __get__(self, instance, owner_class):\n",
    "        if instance is None:\n",
    "            print(\"__get__ called from class\")\n",
    "        else:\n",
    "            print(f\"__get__ called, instatnce={instance}, owner_class={owner_class}\")\n",
    "\n",
    "class Point2D:\n",
    "    x = IntegerValue()\n",
    "    y = IntegerValue()\n",
    "    \n",
    "Point2D.x\n",
    "p = Point2D()\n",
    "p.x"
   ]
  },
  {
   "cell_type": "code",
   "execution_count": 18,
   "id": "70a96878",
   "metadata": {},
   "outputs": [
    {
     "name": "stdout",
     "output_type": "stream",
     "text": [
      "__set__ called, instance=<__main__.Point2D object at 0x7f244e8adb50>, value=100\n"
     ]
    }
   ],
   "source": [
    "p.x = 100"
   ]
  },
  {
   "cell_type": "code",
   "execution_count": 28,
   "id": "df1cab10",
   "metadata": {},
   "outputs": [
    {
     "data": {
      "text/plain": [
       "(1.1, 2.2, {})"
      ]
     },
     "execution_count": 28,
     "metadata": {},
     "output_type": "execute_result"
    }
   ],
   "source": [
    "class IntegerValue:\n",
    "    def __set__(self, instance, value):\n",
    "        self._value = value\n",
    "    \n",
    "    def __get__(self, instance, owner_class):\n",
    "        if instance is None:\n",
    "            return self\n",
    "        else:\n",
    "            return self._value\n",
    "            \n",
    "class Point2D:\n",
    "    x = IntegerValue()\n",
    "    y = IntegerValue()\n",
    "    \n",
    "    \n",
    "p1 = Point2D()\n",
    "p1.x = 1.1\n",
    "p1.y = 2.2\n",
    "p1.x, p1.y, p.__dict__"
   ]
  },
  {
   "cell_type": "code",
   "execution_count": 29,
   "id": "329b8c33",
   "metadata": {},
   "outputs": [
    {
     "data": {
      "text/plain": [
       "(10.0, 2.2)"
      ]
     },
     "execution_count": 29,
     "metadata": {},
     "output_type": "execute_result"
    }
   ],
   "source": [
    "p2 = Point2D()\n",
    "p2.x = 10.0\n",
    "p2.x, p2.y"
   ]
  },
  {
   "cell_type": "code",
   "execution_count": null,
   "id": "2e490abf",
   "metadata": {},
   "outputs": [],
   "source": []
  },
  {
   "cell_type": "code",
   "execution_count": null,
   "id": "d8f6ed23",
   "metadata": {},
   "outputs": [],
   "source": []
  },
  {
   "cell_type": "code",
   "execution_count": null,
   "id": "05d8ecd4",
   "metadata": {},
   "outputs": [],
   "source": []
  },
  {
   "cell_type": "code",
   "execution_count": null,
   "id": "e3cd45ec",
   "metadata": {},
   "outputs": [],
   "source": []
  }
 ],
 "metadata": {
  "kernelspec": {
   "display_name": "Python 3 (ipykernel)",
   "language": "python",
   "name": "python3"
  },
  "language_info": {
   "codemirror_mode": {
    "name": "ipython",
    "version": 3
   },
   "file_extension": ".py",
   "mimetype": "text/x-python",
   "name": "python",
   "nbconvert_exporter": "python",
   "pygments_lexer": "ipython3",
   "version": "3.9.12"
  }
 },
 "nbformat": 4,
 "nbformat_minor": 5
}
