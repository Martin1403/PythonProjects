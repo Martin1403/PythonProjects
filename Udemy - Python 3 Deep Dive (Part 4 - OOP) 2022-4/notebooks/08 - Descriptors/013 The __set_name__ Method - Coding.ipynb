{
 "cells": [
  {
   "cell_type": "markdown",
   "id": "6c7053e7",
   "metadata": {},
   "source": [
    "# The __set_name__ Method - Coding"
   ]
  },
  {
   "cell_type": "code",
   "execution_count": 1,
   "id": "dd423819",
   "metadata": {},
   "outputs": [],
   "source": [
    "class ValidString:\n",
    "    def __set_name__(self, owner_class, property_name):\n",
    "        print(f\"__set_name__: owner={owner_class}, property_name={property_name}\")"
   ]
  },
  {
   "cell_type": "code",
   "execution_count": 2,
   "id": "eae4819a",
   "metadata": {},
   "outputs": [
    {
     "name": "stdout",
     "output_type": "stream",
     "text": [
      "__set_name__: owner=<class '__main__.Person'>, property_name=name\n"
     ]
    }
   ],
   "source": [
    "class Person:\n",
    "    name = ValidString()"
   ]
  },
  {
   "cell_type": "code",
   "execution_count": null,
   "id": "74a58f20",
   "metadata": {},
   "outputs": [],
   "source": []
  },
  {
   "cell_type": "code",
   "execution_count": 21,
   "id": "b5c34048",
   "metadata": {},
   "outputs": [],
   "source": [
    "class ValidString:\n",
    "    def __set_name__(self, owner_class, property_name):\n",
    "        print(f\"__set_name__: owner={owner_class}, property_name={property_name}\")\n",
    "        self.property_name = property_name\n",
    "        \n",
    "    def __get__(self, instance, owner):\n",
    "        if instance is None:\n",
    "            return self\n",
    "        print(f\"__get__ called for property {self.property_name} or instance {instance}\")\n"
   ]
  },
  {
   "cell_type": "code",
   "execution_count": 22,
   "id": "d0dd23ad",
   "metadata": {},
   "outputs": [
    {
     "name": "stdout",
     "output_type": "stream",
     "text": [
      "__set_name__: owner=<class '__main__.Person'>, property_name=first_name\n",
      "__set_name__: owner=<class '__main__.Person'>, property_name=last_name\n"
     ]
    }
   ],
   "source": [
    "class Person:\n",
    "    first_name = ValidString()\n",
    "    last_name = ValidString()"
   ]
  },
  {
   "cell_type": "code",
   "execution_count": 23,
   "id": "de00d07c",
   "metadata": {},
   "outputs": [
    {
     "name": "stdout",
     "output_type": "stream",
     "text": [
      "__get__ called for property first_name or instance <__main__.Person object at 0x000001E92B0B64F0>\n"
     ]
    }
   ],
   "source": [
    "p = Person()\n",
    "p.first_name"
   ]
  },
  {
   "cell_type": "code",
   "execution_count": null,
   "id": "5b84f8ca",
   "metadata": {},
   "outputs": [],
   "source": []
  },
  {
   "cell_type": "code",
   "execution_count": 32,
   "id": "f6492666",
   "metadata": {},
   "outputs": [],
   "source": [
    "class ValidString:\n",
    "    \n",
    "    def __init__(self, min_length=None):\n",
    "        self.min_length = min_length\n",
    "    \n",
    "    def __set_name__(self, owner_class, property_name):\n",
    "        print(f\"__set_name__: owner={owner_class}, property_name={property_name}\")\n",
    "        self.property_name = property_name\n",
    "        \n",
    "    def __set__(self, instance, value):\n",
    "        if not isinstance(value, str):\n",
    "            raise ValueError(f\"{self.property_name} must be a String.\")\n",
    "        if self.min_length is not None and len(value) < self.min_length:\n",
    "            raise ValueError(f\"{self.property_name} must be at least {self.min_length} characters.\")\n",
    "            \n",
    "        key = '_' + self.property_name\n",
    "        setattr(instance, key, value)\n",
    "        \n",
    "    \n",
    "    def __get__(self, instance, owner):\n",
    "        if instance is None:\n",
    "            return self\n",
    "        print(f\"__get__ called for property {self.property_name} or instance {instance}\")\n",
    "        key = '_' + self.property_name\n",
    "        return getattr(instance, key, None)"
   ]
  },
  {
   "cell_type": "code",
   "execution_count": 33,
   "id": "3ba236b4",
   "metadata": {},
   "outputs": [
    {
     "name": "stdout",
     "output_type": "stream",
     "text": [
      "__set_name__: owner=<class '__main__.Person'>, property_name=first_name\n",
      "__set_name__: owner=<class '__main__.Person'>, property_name=last_name\n"
     ]
    }
   ],
   "source": [
    "class Person:\n",
    "    first_name = ValidString(min_length=1)\n",
    "    last_name = ValidString(2)"
   ]
  },
  {
   "cell_type": "code",
   "execution_count": 34,
   "id": "0ffbee8e",
   "metadata": {},
   "outputs": [
    {
     "name": "stdout",
     "output_type": "stream",
     "text": [
      "last_name must be at least 2 characters.\n"
     ]
    }
   ],
   "source": [
    "p = Person()\n",
    "try:\n",
    "    p.first_name = \"Alex\"\n",
    "    p.last_name = \"M\"\n",
    "except ValueError as ex:\n",
    "    print(ex)"
   ]
  },
  {
   "cell_type": "code",
   "execution_count": 35,
   "id": "d157aa59",
   "metadata": {},
   "outputs": [
    {
     "name": "stdout",
     "output_type": "stream",
     "text": [
      "__get__ called for property first_name or instance <__main__.Person object at 0x000001E92B457B80>\n",
      "__get__ called for property last_name or instance <__main__.Person object at 0x000001E92B457B80>\n"
     ]
    },
    {
     "data": {
      "text/plain": [
       "('Alex', 'Martelli', {'_first_name': 'Alex', '_last_name': 'Martelli'})"
      ]
     },
     "execution_count": 35,
     "metadata": {},
     "output_type": "execute_result"
    }
   ],
   "source": [
    "p.first_name = \"Alex\"\n",
    "p.last_name = \"Martelli\"\n",
    "p.first_name, p.last_name, p.__dict__"
   ]
  },
  {
   "cell_type": "code",
   "execution_count": null,
   "id": "02ab7fae",
   "metadata": {},
   "outputs": [],
   "source": []
  },
  {
   "cell_type": "code",
   "execution_count": 37,
   "id": "60eb6119",
   "metadata": {},
   "outputs": [],
   "source": [
    "class ValidString:\n",
    "    \n",
    "    def __init__(self, min_length=None):\n",
    "        self.min_length = min_length\n",
    "    \n",
    "    def __set_name__(self, owner_class, property_name):\n",
    "        print(f\"__set_name__: owner={owner_class}, property_name={property_name}\")\n",
    "        self.property_name = property_name\n",
    "        \n",
    "    def __set__(self, instance, value):\n",
    "        if not isinstance(value, str):\n",
    "            raise ValueError(f\"{self.property_name} must be a String.\")\n",
    "        if self.min_length is not None and len(value) < self.min_length:\n",
    "            raise ValueError(f\"{self.property_name} must be at least {self.min_length} characters.\")\n",
    "            \n",
    "        instance.__dict__[self.property_name] = value\n",
    "    \n",
    "    def __get__(self, instance, owner):\n",
    "        if instance is None:\n",
    "            return self\n",
    "        print(f\"__get__ called for property {self.property_name} or instance {instance}\")\n",
    "        return instance.__dict__.get(self.property_name, None)"
   ]
  },
  {
   "cell_type": "code",
   "execution_count": 38,
   "id": "7348b0e7",
   "metadata": {},
   "outputs": [
    {
     "name": "stdout",
     "output_type": "stream",
     "text": [
      "__set_name__: owner=<class '__main__.Person'>, property_name=first_name\n",
      "__set_name__: owner=<class '__main__.Person'>, property_name=last_name\n"
     ]
    }
   ],
   "source": [
    "class Person:\n",
    "    first_name = ValidString(min_length=1)\n",
    "    last_name = ValidString(2)"
   ]
  },
  {
   "cell_type": "code",
   "execution_count": 39,
   "id": "a447240d",
   "metadata": {},
   "outputs": [
    {
     "data": {
      "text/plain": [
       "{}"
      ]
     },
     "execution_count": 39,
     "metadata": {},
     "output_type": "execute_result"
    }
   ],
   "source": [
    "p = Person()\n",
    "p.__dict__"
   ]
  },
  {
   "cell_type": "code",
   "execution_count": 40,
   "id": "705f8973",
   "metadata": {},
   "outputs": [
    {
     "data": {
      "text/plain": [
       "{'first_name': 'Alex'}"
      ]
     },
     "execution_count": 40,
     "metadata": {},
     "output_type": "execute_result"
    }
   ],
   "source": [
    "p.first_name = \"Alex\"\n",
    "p.__dict__"
   ]
  },
  {
   "cell_type": "code",
   "execution_count": 41,
   "id": "a19d30fa",
   "metadata": {},
   "outputs": [
    {
     "name": "stdout",
     "output_type": "stream",
     "text": [
      "__get__ called for property first_name or instance <__main__.Person object at 0x000001E92B44FD60>\n"
     ]
    },
    {
     "data": {
      "text/plain": [
       "'Alex'"
      ]
     },
     "execution_count": 41,
     "metadata": {},
     "output_type": "execute_result"
    }
   ],
   "source": [
    "p.first_name"
   ]
  },
  {
   "cell_type": "code",
   "execution_count": null,
   "id": "a1095856",
   "metadata": {},
   "outputs": [],
   "source": []
  },
  {
   "cell_type": "code",
   "execution_count": null,
   "id": "f981a424",
   "metadata": {},
   "outputs": [],
   "source": []
  },
  {
   "cell_type": "code",
   "execution_count": null,
   "id": "8f47581c",
   "metadata": {},
   "outputs": [],
   "source": []
  },
  {
   "cell_type": "code",
   "execution_count": null,
   "id": "61b8a326",
   "metadata": {},
   "outputs": [],
   "source": []
  },
  {
   "cell_type": "code",
   "execution_count": null,
   "id": "83a04e91",
   "metadata": {},
   "outputs": [],
   "source": []
  },
  {
   "cell_type": "code",
   "execution_count": null,
   "id": "f2377315",
   "metadata": {},
   "outputs": [],
   "source": []
  },
  {
   "cell_type": "code",
   "execution_count": null,
   "id": "b634ef6b",
   "metadata": {},
   "outputs": [],
   "source": []
  },
  {
   "cell_type": "code",
   "execution_count": null,
   "id": "5503cbd7",
   "metadata": {},
   "outputs": [],
   "source": []
  },
  {
   "cell_type": "code",
   "execution_count": null,
   "id": "4ae3bb34",
   "metadata": {},
   "outputs": [],
   "source": []
  },
  {
   "cell_type": "code",
   "execution_count": null,
   "id": "82428229",
   "metadata": {},
   "outputs": [],
   "source": []
  },
  {
   "cell_type": "code",
   "execution_count": null,
   "id": "097a45c4",
   "metadata": {},
   "outputs": [],
   "source": []
  },
  {
   "cell_type": "code",
   "execution_count": null,
   "id": "ae2b0791",
   "metadata": {},
   "outputs": [],
   "source": []
  },
  {
   "cell_type": "code",
   "execution_count": null,
   "id": "cb6e154d",
   "metadata": {},
   "outputs": [],
   "source": []
  }
 ],
 "metadata": {
  "kernelspec": {
   "display_name": "Python 3 (ipykernel)",
   "language": "python",
   "name": "python3"
  },
  "language_info": {
   "codemirror_mode": {
    "name": "ipython",
    "version": 3
   },
   "file_extension": ".py",
   "mimetype": "text/x-python",
   "name": "python",
   "nbconvert_exporter": "python",
   "pygments_lexer": "ipython3",
   "version": "3.9.13"
  }
 },
 "nbformat": 4,
 "nbformat_minor": 5
}
