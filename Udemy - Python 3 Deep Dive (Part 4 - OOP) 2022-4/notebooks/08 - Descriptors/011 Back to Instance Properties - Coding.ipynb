{
 "cells": [
  {
   "cell_type": "markdown",
   "id": "b6d29215",
   "metadata": {},
   "source": [
    "# Back to Instance Properties - Coding"
   ]
  },
  {
   "cell_type": "code",
   "execution_count": 3,
   "id": "da2e018c",
   "metadata": {},
   "outputs": [],
   "source": [
    "class IntegerValue:\n",
    "    def __init__(self):\n",
    "        self.values = {}\n",
    "        \n",
    "    def __set__(self, instance, value):\n",
    "        print(\"Setting __set__ to value...\")\n",
    "        self.values[instance] = int(value)\n",
    "        \n",
    "    def __get__(self, instance, owner_class):\n",
    "        if instance is None:\n",
    "            return self\n",
    "        else:\n",
    "            return self.values.get(instance)"
   ]
  },
  {
   "cell_type": "code",
   "execution_count": 1,
   "id": "78d6fb4c",
   "metadata": {},
   "outputs": [],
   "source": [
    "import weakref\n",
    "\n",
    "class IntegerValue:\n",
    "    def __init__(self):\n",
    "        self.values = weakref.WeakKeyDictionary()\n",
    "        \n",
    "    def __set__(self, instance, value):\n",
    "        self.values[instance] = int(value)\n",
    "        \n",
    "    def __get__(self, instance, owner_class):\n",
    "        if instance is None:\n",
    "            return self\n",
    "        else:\n",
    "            return self.values.get(instance)"
   ]
  },
  {
   "cell_type": "code",
   "execution_count": 2,
   "id": "f7a5b66c",
   "metadata": {},
   "outputs": [
    {
     "data": {
      "text/plain": [
       "1"
      ]
     },
     "execution_count": 2,
     "metadata": {},
     "output_type": "execute_result"
    }
   ],
   "source": [
    "class Point:\n",
    "    x = IntegerValue()\n",
    "    \n",
    "    def __init__(self, x):\n",
    "        self.x = x\n",
    "        \n",
    "p = Point(1)\n",
    "p.__dict__\n",
    "p.x"
   ]
  },
  {
   "cell_type": "code",
   "execution_count": 17,
   "id": "eddbf53b",
   "metadata": {},
   "outputs": [
    {
     "name": "stdout",
     "output_type": "stream",
     "text": [
      "0x22e7e1100a0\n"
     ]
    }
   ],
   "source": [
    "p = Point()\n",
    "print(hex(id(p)))"
   ]
  },
  {
   "cell_type": "code",
   "execution_count": 18,
   "id": "0e00b51a",
   "metadata": {},
   "outputs": [],
   "source": [
    "p.x = 100.1"
   ]
  },
  {
   "cell_type": "code",
   "execution_count": 19,
   "id": "ec0ba9b7",
   "metadata": {},
   "outputs": [
    {
     "data": {
      "text/plain": [
       "100"
      ]
     },
     "execution_count": 19,
     "metadata": {},
     "output_type": "execute_result"
    }
   ],
   "source": [
    "p.x"
   ]
  },
  {
   "cell_type": "code",
   "execution_count": 20,
   "id": "95edef92",
   "metadata": {},
   "outputs": [
    {
     "data": {
      "text/plain": [
       "[<weakref at 0x0000022E7DC06EF0; to 'Point' at 0x0000022E7E1100A0>]"
      ]
     },
     "execution_count": 20,
     "metadata": {},
     "output_type": "execute_result"
    }
   ],
   "source": [
    "Point.x.values.keyrefs()"
   ]
  },
  {
   "cell_type": "code",
   "execution_count": 21,
   "id": "1e6a7965",
   "metadata": {},
   "outputs": [],
   "source": [
    "del p"
   ]
  },
  {
   "cell_type": "code",
   "execution_count": 22,
   "id": "83e6cf63",
   "metadata": {},
   "outputs": [
    {
     "data": {
      "text/plain": [
       "[]"
      ]
     },
     "execution_count": 22,
     "metadata": {},
     "output_type": "execute_result"
    }
   ],
   "source": [
    "Point.x.values.keyrefs()"
   ]
  },
  {
   "cell_type": "code",
   "execution_count": 4,
   "id": "88376a23",
   "metadata": {},
   "outputs": [],
   "source": [
    "class IntegerValue:\n",
    "    def __init__(self):\n",
    "        self.values = {}\n",
    "        \n",
    "    def __set__(self, instance, value):\n",
    "        self.values[id(instance)] = int(value)\n",
    "        \n",
    "    def __get__(self, instance, owner_class):\n",
    "        if instance is None:\n",
    "            return self\n",
    "        else:\n",
    "            return self.values.get(id(instance))\n",
    "        "
   ]
  },
  {
   "cell_type": "code",
   "execution_count": 5,
   "id": "94eea30b",
   "metadata": {},
   "outputs": [],
   "source": [
    "class Point:\n",
    "    x = IntegerValue()\n",
    "    \n",
    "    def __init__(self, x):\n",
    "        self.x = x\n",
    "        \n",
    "    def __eq__(self, other):\n",
    "        return isinstance(other, Point) and self.x == other.x"
   ]
  },
  {
   "cell_type": "code",
   "execution_count": 6,
   "id": "4e9eb4dc",
   "metadata": {},
   "outputs": [],
   "source": [
    "p = Point(10.1)"
   ]
  },
  {
   "cell_type": "code",
   "execution_count": 7,
   "id": "227623f3",
   "metadata": {},
   "outputs": [
    {
     "data": {
      "text/plain": [
       "{}"
      ]
     },
     "execution_count": 7,
     "metadata": {},
     "output_type": "execute_result"
    }
   ],
   "source": [
    "p.__dict__"
   ]
  },
  {
   "cell_type": "code",
   "execution_count": 8,
   "id": "50b8f2c4",
   "metadata": {},
   "outputs": [
    {
     "data": {
      "text/plain": [
       "10"
      ]
     },
     "execution_count": 8,
     "metadata": {},
     "output_type": "execute_result"
    }
   ],
   "source": [
    "p.x"
   ]
  },
  {
   "cell_type": "code",
   "execution_count": 9,
   "id": "fab06cf1",
   "metadata": {},
   "outputs": [],
   "source": [
    "p.x = 20.2"
   ]
  },
  {
   "cell_type": "code",
   "execution_count": 10,
   "id": "692a0f4e",
   "metadata": {},
   "outputs": [
    {
     "data": {
      "text/plain": [
       "20"
      ]
     },
     "execution_count": 10,
     "metadata": {},
     "output_type": "execute_result"
    }
   ],
   "source": [
    "p.x"
   ]
  },
  {
   "cell_type": "code",
   "execution_count": 11,
   "id": "6b23f0e2",
   "metadata": {
    "scrolled": false
   },
   "outputs": [
    {
     "data": {
      "text/plain": [
       "(140310390235824, {140310390235824: 20})"
      ]
     },
     "execution_count": 11,
     "metadata": {},
     "output_type": "execute_result"
    }
   ],
   "source": [
    "id(p), Point.x.values"
   ]
  },
  {
   "cell_type": "code",
   "execution_count": 12,
   "id": "c2b138a7",
   "metadata": {},
   "outputs": [],
   "source": [
    "import ctypes\n",
    "\n",
    "def ref_count(address):\n",
    "    return ctypes.c_long.from_address(address).value"
   ]
  },
  {
   "cell_type": "code",
   "execution_count": 13,
   "id": "a118dfcf",
   "metadata": {},
   "outputs": [
    {
     "data": {
      "text/plain": [
       "1"
      ]
     },
     "execution_count": 13,
     "metadata": {},
     "output_type": "execute_result"
    }
   ],
   "source": [
    "p_id = id(p)\n",
    "ref_count(p_id)"
   ]
  },
  {
   "cell_type": "code",
   "execution_count": 14,
   "id": "6f567de8",
   "metadata": {},
   "outputs": [
    {
     "data": {
      "text/plain": [
       "1"
      ]
     },
     "execution_count": 14,
     "metadata": {},
     "output_type": "execute_result"
    }
   ],
   "source": [
    "del p\n",
    "ref_count(p_id)"
   ]
  },
  {
   "cell_type": "code",
   "execution_count": 15,
   "id": "0f48d1fb",
   "metadata": {},
   "outputs": [
    {
     "data": {
      "text/plain": [
       "{140310390235824: 20}"
      ]
     },
     "execution_count": 15,
     "metadata": {},
     "output_type": "execute_result"
    }
   ],
   "source": [
    "Point.x.values"
   ]
  },
  {
   "cell_type": "code",
   "execution_count": 16,
   "id": "597b0134",
   "metadata": {},
   "outputs": [
    {
     "data": {
      "text/plain": [
       "<weakref at 0x7f9cac0f2f90; dead>"
      ]
     },
     "execution_count": 16,
     "metadata": {},
     "output_type": "execute_result"
    }
   ],
   "source": [
    "p = Point(10.1)\n",
    "weak_p = weakref.ref(p)\n",
    "ref_count(id(p))\n",
    "del p\n",
    "weak_p"
   ]
  },
  {
   "cell_type": "code",
   "execution_count": 21,
   "id": "cebb7f01",
   "metadata": {},
   "outputs": [],
   "source": [
    "def obj_destroyed(obj):\n",
    "    print(f\"{obj} is being destroyed\")"
   ]
  },
  {
   "cell_type": "code",
   "execution_count": 22,
   "id": "8866507b",
   "metadata": {},
   "outputs": [],
   "source": [
    "p = Point(10.1)\n",
    "w = weakref.ref(p, obj_destroyed)"
   ]
  },
  {
   "cell_type": "code",
   "execution_count": 23,
   "id": "18c7ccd4",
   "metadata": {},
   "outputs": [
    {
     "name": "stdout",
     "output_type": "stream",
     "text": [
      "<weakref at 0x7f9cac06d720; dead> is being destroyed\n"
     ]
    }
   ],
   "source": [
    "del p"
   ]
  },
  {
   "cell_type": "code",
   "execution_count": 30,
   "id": "3e66237d",
   "metadata": {},
   "outputs": [],
   "source": [
    "class IntegerValue:\n",
    "    def __init__(self):\n",
    "        self.values = {}\n",
    "        \n",
    "    def __set__(self, instance, value):\n",
    "        self.values[id(instance)] = (weakref.ref(instance, self._remove_object)\n",
    "                                     ,int(value))\n",
    "        \n",
    "    def __get__(self, instance, owner_class):\n",
    "        if instance is None:\n",
    "            return self\n",
    "        else:\n",
    "            return self.values.get(id(instance))[1]\n",
    "        \n",
    "    def _remove_object(self, weak_ref):\n",
    "        print(f\"removing dead entry for {weak_ref}\")"
   ]
  },
  {
   "cell_type": "code",
   "execution_count": 31,
   "id": "bb614bcb",
   "metadata": {},
   "outputs": [],
   "source": [
    "class Point:\n",
    "    x = IntegerValue()"
   ]
  },
  {
   "cell_type": "code",
   "execution_count": 32,
   "id": "3bc6173b",
   "metadata": {},
   "outputs": [
    {
     "data": {
      "text/plain": [
       "(10, 100)"
      ]
     },
     "execution_count": 32,
     "metadata": {},
     "output_type": "execute_result"
    }
   ],
   "source": [
    "p1 = Point()\n",
    "p2 = Point()\n",
    "\n",
    "p1.x, p2.x = 10.1, 100.1\n",
    "p1.x, p2.x"
   ]
  },
  {
   "cell_type": "code",
   "execution_count": 33,
   "id": "ab28533a",
   "metadata": {},
   "outputs": [
    {
     "data": {
      "text/plain": [
       "(1, 1)"
      ]
     },
     "execution_count": 33,
     "metadata": {},
     "output_type": "execute_result"
    }
   ],
   "source": [
    "ref_count(id(p1)), ref_count(id(p2))"
   ]
  },
  {
   "cell_type": "code",
   "execution_count": 34,
   "id": "f93d0825",
   "metadata": {},
   "outputs": [
    {
     "name": "stdout",
     "output_type": "stream",
     "text": [
      "removing dead entry for <weakref at 0x7f9c8e2089a0; dead>\n"
     ]
    }
   ],
   "source": [
    "del p1"
   ]
  },
  {
   "cell_type": "code",
   "execution_count": 35,
   "id": "9c25d513",
   "metadata": {},
   "outputs": [
    {
     "data": {
      "text/plain": [
       "{140310371935808: (<weakref at 0x7f9c8e2089a0; dead>, 10),\n",
       " 140310371936960: (<weakref at 0x7f9c8e2082c0; to 'Point' at 0x7f9c8de0aac0>,\n",
       "  100)}"
      ]
     },
     "execution_count": 35,
     "metadata": {},
     "output_type": "execute_result"
    }
   ],
   "source": [
    "Point.x.values"
   ]
  },
  {
   "cell_type": "code",
   "execution_count": null,
   "id": "40c40338",
   "metadata": {},
   "outputs": [],
   "source": []
  },
  {
   "cell_type": "code",
   "execution_count": 37,
   "id": "aa2dfe2a",
   "metadata": {},
   "outputs": [],
   "source": [
    "class IntegerValue:\n",
    "    def __init__(self):\n",
    "        self.values = {}\n",
    "        \n",
    "    def __set__(self, instance, value):\n",
    "        self.values[id(instance)] = (weakref.ref(instance, self._remove_object)\n",
    "                                     ,int(value))\n",
    "        \n",
    "    def __get__(self, instance, owner_class):\n",
    "        if instance is None:\n",
    "            return self\n",
    "        else:\n",
    "            return self.values.get(id(instance))[1]\n",
    "        \n",
    "    def _remove_object(self, weak_ref):\n",
    "        print(f\"removing dead entry for {weak_ref}\")\n",
    "#         reverse_lookup = [key for key, value in self.values.items()\n",
    "#                          if value[0] is weak_ref]\n",
    "#         if reverse_lookup:\n",
    "#             key = reverse_lookup[0]\n",
    "#             del self.values[key]\n",
    "            \n",
    "        for key, value in self.values.items():\n",
    "            if value[0] is weak_ref:\n",
    "                del self.values[key]\n",
    "                break"
   ]
  },
  {
   "cell_type": "code",
   "execution_count": 38,
   "id": "173c86d5",
   "metadata": {},
   "outputs": [],
   "source": [
    "class Point:\n",
    "    x = IntegerValue()"
   ]
  },
  {
   "cell_type": "code",
   "execution_count": 39,
   "id": "ea83af08",
   "metadata": {},
   "outputs": [
    {
     "data": {
      "text/plain": [
       "(10, 100)"
      ]
     },
     "execution_count": 39,
     "metadata": {},
     "output_type": "execute_result"
    }
   ],
   "source": [
    "p1 = Point()\n",
    "p2 = Point()\n",
    "\n",
    "p1.x, p2.x = 10.1, 100.1\n",
    "p1.x, p2.x"
   ]
  },
  {
   "cell_type": "code",
   "execution_count": 40,
   "id": "3e50421c",
   "metadata": {},
   "outputs": [
    {
     "name": "stdout",
     "output_type": "stream",
     "text": [
      "removing dead entry for <weakref at 0x7f9c8dc16e50; dead>\n"
     ]
    }
   ],
   "source": [
    "del p1"
   ]
  },
  {
   "cell_type": "code",
   "execution_count": 41,
   "id": "b50271ef",
   "metadata": {},
   "outputs": [
    {
     "data": {
      "text/plain": [
       "{140310376246720: (<weakref at 0x7f9c8df4f450; to 'Point' at 0x7f9c8e226dc0>,\n",
       "  100)}"
      ]
     },
     "execution_count": 41,
     "metadata": {},
     "output_type": "execute_result"
    }
   ],
   "source": [
    "Point.x.values"
   ]
  },
  {
   "cell_type": "code",
   "execution_count": 42,
   "id": "43125a26",
   "metadata": {},
   "outputs": [
    {
     "data": {
      "text/plain": [
       "mappingproxy({'__module__': '__main__',\n",
       "              '__dict__': <attribute '__dict__' of 'Person' objects>,\n",
       "              '__weakref__': <attribute '__weakref__' of 'Person' objects>,\n",
       "              '__doc__': None})"
      ]
     },
     "execution_count": 42,
     "metadata": {},
     "output_type": "execute_result"
    }
   ],
   "source": [
    "class Person:\n",
    "    pass\n",
    "\n",
    "Person.__dict__"
   ]
  },
  {
   "cell_type": "code",
   "execution_count": 44,
   "id": "b3b31363",
   "metadata": {},
   "outputs": [
    {
     "data": {
      "text/plain": [
       "(True, True)"
      ]
     },
     "execution_count": 44,
     "metadata": {},
     "output_type": "execute_result"
    }
   ],
   "source": [
    "hasattr(Person.__weakref__, \"__set__\"), hasattr(Person.__weakref__, \"__get__\")"
   ]
  },
  {
   "cell_type": "code",
   "execution_count": 45,
   "id": "5195888b",
   "metadata": {},
   "outputs": [
    {
     "data": {
      "text/plain": [
       "True"
      ]
     },
     "execution_count": 45,
     "metadata": {},
     "output_type": "execute_result"
    }
   ],
   "source": [
    "p = Person()\n",
    "hasattr(p, \"__weakref__\")"
   ]
  },
  {
   "cell_type": "code",
   "execution_count": 46,
   "id": "1a0fc368",
   "metadata": {},
   "outputs": [
    {
     "name": "stdout",
     "output_type": "stream",
     "text": [
      "None\n"
     ]
    }
   ],
   "source": [
    "print(p.__weakref__)"
   ]
  },
  {
   "cell_type": "code",
   "execution_count": 47,
   "id": "6a8959f8",
   "metadata": {},
   "outputs": [
    {
     "name": "stdout",
     "output_type": "stream",
     "text": [
      "<weakref at 0x7f9c8e0dbe50; to 'Person' at 0x7f9c8df236d0>\n"
     ]
    }
   ],
   "source": [
    "w = weakref.ref(p)\n",
    "print(p.__weakref__)"
   ]
  },
  {
   "cell_type": "code",
   "execution_count": 48,
   "id": "a9897733",
   "metadata": {},
   "outputs": [
    {
     "data": {
      "text/plain": [
       "mappingproxy({'__module__': '__main__',\n",
       "              '__slots__': ('name',),\n",
       "              'name': <member 'name' of 'Person' objects>,\n",
       "              '__doc__': None})"
      ]
     },
     "execution_count": 48,
     "metadata": {},
     "output_type": "execute_result"
    }
   ],
   "source": [
    "class Person:\n",
    "    __slots__ = \"name\",\n",
    "    \n",
    "Person.__dict__"
   ]
  },
  {
   "cell_type": "code",
   "execution_count": 49,
   "id": "99eda709",
   "metadata": {},
   "outputs": [
    {
     "data": {
      "text/plain": [
       "False"
      ]
     },
     "execution_count": 49,
     "metadata": {},
     "output_type": "execute_result"
    }
   ],
   "source": [
    "p = Person()\n",
    "hasattr(p, \"__weakref__\")"
   ]
  },
  {
   "cell_type": "code",
   "execution_count": 50,
   "id": "677a4dd4",
   "metadata": {},
   "outputs": [
    {
     "ename": "TypeError",
     "evalue": "cannot create weak reference to 'Person' object",
     "output_type": "error",
     "traceback": [
      "\u001b[0;31m---------------------------------------------------------------------------\u001b[0m",
      "\u001b[0;31mTypeError\u001b[0m                                 Traceback (most recent call last)",
      "Input \u001b[0;32mIn [50]\u001b[0m, in \u001b[0;36m<cell line: 1>\u001b[0;34m()\u001b[0m\n\u001b[0;32m----> 1\u001b[0m w \u001b[38;5;241m=\u001b[39m \u001b[43mweakref\u001b[49m\u001b[38;5;241;43m.\u001b[39;49m\u001b[43mref\u001b[49m\u001b[43m(\u001b[49m\u001b[43mp\u001b[49m\u001b[43m)\u001b[49m\n",
      "\u001b[0;31mTypeError\u001b[0m: cannot create weak reference to 'Person' object"
     ]
    }
   ],
   "source": [
    "w = weakref.ref(p)"
   ]
  },
  {
   "cell_type": "code",
   "execution_count": 51,
   "id": "fc739070",
   "metadata": {
    "scrolled": true
   },
   "outputs": [
    {
     "data": {
      "text/plain": [
       "mappingproxy({'__module__': '__main__',\n",
       "              '__slots__': ('name', '__weakref__'),\n",
       "              'name': <member 'name' of 'Person' objects>,\n",
       "              '__weakref__': <attribute '__weakref__' of 'Person' objects>,\n",
       "              '__doc__': None})"
      ]
     },
     "execution_count": 51,
     "metadata": {},
     "output_type": "execute_result"
    }
   ],
   "source": [
    "class Person:\n",
    "    __slots__ = \"name\", \"__weakref__\"\n",
    "    \n",
    "Person.__dict__"
   ]
  },
  {
   "cell_type": "code",
   "execution_count": 53,
   "id": "5d7b2a09",
   "metadata": {},
   "outputs": [],
   "source": [
    "p = Person()\n",
    "hasattr(p, \"__weakref__\")\n",
    "w = weakref.ref(p)"
   ]
  },
  {
   "cell_type": "code",
   "execution_count": 1,
   "id": "a0a665c9",
   "metadata": {},
   "outputs": [],
   "source": [
    "class ValidString:\n",
    "    def __init__(self, min_length=0, max_length=255):\n",
    "        self.data = {}\n",
    "        self._min_length = min_length\n",
    "        self._max_length = max_length\n",
    "        \n",
    "    def __set__(self, instance, value):\n",
    "        if not isinstance(value, str):\n",
    "            raise ValueError(\"Value must be a string\")\n",
    "        if len(value) < self._min_length:\n",
    "            raise ValueError(\n",
    "            f\"Value should be at least {self._min_length} characters.\"                \n",
    "            )\n",
    "        if len(value) > self._max_length:\n",
    "            raise ValueError(\n",
    "            f\"Value cannot exceed {self._max_length} characters.\"                \n",
    "            )\n",
    "        self.data[id(instance)] = (weakref.ref(instance, self._finalize_instance), value)\n",
    "        \n",
    "    def __get__(self, instance, owner_class):\n",
    "        if instance is None:\n",
    "            return self\n",
    "        else:\n",
    "            value_tuple = self.data.get(id(instance))\n",
    "            return value_tuple[1]\n",
    "    \n",
    "    def _finalize_instance(self, weak_ref):\n",
    "        print(f\"removing dead entry for {weak_ref}\")\n",
    "        reverse_lookup = [key for key, value in self.data.items()\n",
    "                         if value[0] is weak_ref]\n",
    "        if reverse_lookup:\n",
    "            key = reverse_lookup[0]\n",
    "            del self.data[key]"
   ]
  },
  {
   "cell_type": "code",
   "execution_count": 87,
   "id": "4e396d68",
   "metadata": {},
   "outputs": [],
   "source": [
    "class Person:\n",
    "    __slots__ = \"__weakref__\",\n",
    "    \n",
    "    first_name = ValidString(1, 100)\n",
    "    last_name = ValidString(1, 100)\n",
    "    \n",
    "    def __eq__(self, other):\n",
    "        return (\n",
    "            isinstance(other, Person) and\n",
    "            self.first_name == other.first_name and\n",
    "            self.last_name == other.last_name\n",
    "        )\n",
    "    \n",
    "class BankAccount:\n",
    "    __slots__ = \"__weakref__\",\n",
    "    \n",
    "    account_number = ValidString(5, 255)\n",
    "    \n",
    "    def __eq__(self, other):\n",
    "        return (isinstance(other, BankAccount) and\n",
    "               self.account_number == other.account_number)\n",
    "    "
   ]
  },
  {
   "cell_type": "code",
   "execution_count": 88,
   "id": "c7999fb7",
   "metadata": {},
   "outputs": [
    {
     "data": {
      "text/plain": [
       "('Guido', 'van Rossum', 'Raymond', 'Hettinger')"
      ]
     },
     "execution_count": 88,
     "metadata": {},
     "output_type": "execute_result"
    }
   ],
   "source": [
    "p1 = Person()\n",
    "p2 = Person()\n",
    "p1.first_name, p1.last_name = \"Guido\", \"van Rossum\"\n",
    "p2.first_name, p2.last_name = \"Raymond\", \"Hettinger\"\n",
    "\n",
    "b1, b2 = BankAccount(), BankAccount()\n",
    "b1.account_number, b2.account_number = \"Savings\", \"Checking\"\n",
    "p1.first_name, p1.last_name, p2.first_name, p2.last_name"
   ]
  },
  {
   "cell_type": "code",
   "execution_count": 89,
   "id": "10614f64",
   "metadata": {},
   "outputs": [
    {
     "data": {
      "text/plain": [
       "('Savings', 'Checking')"
      ]
     },
     "execution_count": 89,
     "metadata": {},
     "output_type": "execute_result"
    }
   ],
   "source": [
    "b1.account_number, b2.account_number"
   ]
  },
  {
   "cell_type": "code",
   "execution_count": 90,
   "id": "a7f47708",
   "metadata": {},
   "outputs": [
    {
     "data": {
      "text/plain": [
       "{140310374211008: (<weakref at 0x7f9c8d6af9a0; to 'Person' at 0x7f9c8e035dc0>,\n",
       "  'Guido'),\n",
       " 140310371212112: (<weakref at 0x7f9c8d6b83b0; to 'Person' at 0x7f9c8dd59b50>,\n",
       "  'Raymond')}"
      ]
     },
     "execution_count": 90,
     "metadata": {},
     "output_type": "execute_result"
    }
   ],
   "source": [
    "Person.first_name.data"
   ]
  },
  {
   "cell_type": "code",
   "execution_count": 91,
   "id": "0f1284fe",
   "metadata": {},
   "outputs": [
    {
     "name": "stdout",
     "output_type": "stream",
     "text": [
      "removing dead entry for <weakref at 0x7f9c8d6b8130; dead>\n",
      "removing dead entry for <weakref at 0x7f9c8d6af9a0; dead>\n",
      "removing dead entry for <weakref at 0x7f9c8d6b8310; dead>\n",
      "removing dead entry for <weakref at 0x7f9c8d6b83b0; dead>\n",
      "removing dead entry for <weakref at 0x7f9c8d6b8270; dead>\n",
      "removing dead entry for <weakref at 0x7f9c8d6b8220; dead>\n"
     ]
    }
   ],
   "source": [
    "del p1\n",
    "del p2\n",
    "del b1\n",
    "del b2"
   ]
  },
  {
   "cell_type": "code",
   "execution_count": 92,
   "id": "57d071ee",
   "metadata": {},
   "outputs": [
    {
     "data": {
      "text/plain": [
       "{}"
      ]
     },
     "execution_count": 92,
     "metadata": {},
     "output_type": "execute_result"
    }
   ],
   "source": [
    "Person.first_name.data"
   ]
  },
  {
   "cell_type": "code",
   "execution_count": null,
   "id": "20e1b0ca",
   "metadata": {},
   "outputs": [],
   "source": []
  },
  {
   "cell_type": "code",
   "execution_count": null,
   "id": "8bc9d8a6",
   "metadata": {},
   "outputs": [],
   "source": []
  },
  {
   "cell_type": "code",
   "execution_count": null,
   "id": "0b75d8ff",
   "metadata": {},
   "outputs": [],
   "source": []
  }
 ],
 "metadata": {
  "kernelspec": {
   "display_name": "Python 3 (ipykernel)",
   "language": "python",
   "name": "python3"
  },
  "language_info": {
   "codemirror_mode": {
    "name": "ipython",
    "version": 3
   },
   "file_extension": ".py",
   "mimetype": "text/x-python",
   "name": "python",
   "nbconvert_exporter": "python",
   "pygments_lexer": "ipython3",
   "version": "3.9.13"
  }
 },
 "nbformat": 4,
 "nbformat_minor": 5
}
