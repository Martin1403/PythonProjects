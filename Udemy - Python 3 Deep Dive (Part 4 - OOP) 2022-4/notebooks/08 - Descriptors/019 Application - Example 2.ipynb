{
 "cells": [
  {
   "cell_type": "markdown",
   "id": "083700c2",
   "metadata": {},
   "source": [
    "# Application - Example 2"
   ]
  },
  {
   "cell_type": "code",
   "execution_count": 12,
   "id": "22fe81d5",
   "metadata": {},
   "outputs": [],
   "source": [
    "class Int:\n",
    "    def __init__(self, min_value=None, max_value=None):\n",
    "        self.min_value = min_value\n",
    "        self.max_value = max_value\n",
    "        \n",
    "    def __set_name__(self, owner_class, name):\n",
    "        self.name = name\n",
    "        \n",
    "    def __set__(self, instance, value):\n",
    "        if not isinstance(value, int):\n",
    "            raise ValueError(f\"{self.name} must be an int.\")\n",
    "        if self.min_value is not None and value < self.min_value:\n",
    "            raise ValueError(f\"{self.name} must be at least {self.min_value}\")\n",
    "        if self.max_value is not None and value > self.max_value:\n",
    "            raise ValueError(f\"{self.name} cannot be grater than {self.min_value}\")\n",
    "        instance.__dict__[self.name] = value\n",
    "        \n",
    "    def __get__(self, instance, owner_class):\n",
    "        if instance is None:\n",
    "            return self\n",
    "        return instance.__dict__.get(self.name, None)\n",
    "        \n",
    "        \n",
    "class Point2D:\n",
    "    x = Int(min_value=0, max_value=800)\n",
    "    y = Int(min_value=0, max_value=600)\n",
    "    \n",
    "    def __init__(self, x, y):\n",
    "        self.x = x\n",
    "        self.y = y\n",
    "        \n",
    "    def __repr__(self):\n",
    "        return f\"{self.__class__.__name__}(x={self.x}, y={self.y})\"\n",
    "    \n",
    "    def __str__(self):\n",
    "        return f\"(x={self.x}, y={self.y})\""
   ]
  },
  {
   "cell_type": "code",
   "execution_count": 13,
   "id": "6a62acfd",
   "metadata": {},
   "outputs": [
    {
     "name": "stdout",
     "output_type": "stream",
     "text": [
      "(x=0, y=10) Point2D(x=0, y=10)\n",
      "x must be at least 0\n"
     ]
    }
   ],
   "source": [
    "p = Point2D(0, 10)\n",
    "print(str(p), repr(p))\n",
    "try:\n",
    "    p = Point2D(-1, 1)\n",
    "except ValueError as ex:\n",
    "    print(ex)"
   ]
  },
  {
   "cell_type": "code",
   "execution_count": 15,
   "id": "b0778620",
   "metadata": {},
   "outputs": [
    {
     "name": "stdout",
     "output_type": "stream",
     "text": [
      "True\n",
      "True\n",
      "False\n",
      "True\n",
      "False\n",
      "False\n"
     ]
    }
   ],
   "source": [
    "import collections\n",
    "\n",
    "print(isinstance([1, 2, 3], collections.abc.Sequence))\n",
    "print(isinstance((1, 2, 3), collections.abc.Sequence))\n",
    "print(isinstance({1, 2, 3}, collections.abc.Sequence))\n",
    "print(isinstance([1, 2, 3], collections.abc.MutableSequence))\n",
    "print(isinstance((1, 2, 3), collections.abc.MutableSequence))\n",
    "print(isinstance({1, 2, 3}, collections.abc.MutableSequence))"
   ]
  },
  {
   "cell_type": "code",
   "execution_count": null,
   "id": "fdfc76a1",
   "metadata": {},
   "outputs": [],
   "source": []
  },
  {
   "cell_type": "code",
   "execution_count": 22,
   "id": "c5af2003",
   "metadata": {},
   "outputs": [],
   "source": [
    "class Point2DSequence:\n",
    "    def __init__(self, min_length=None, max_length=None):\n",
    "        self.min_length = min_length\n",
    "        self.max_length = max_length\n",
    "        \n",
    "    def __set_name__(self, cls, name):\n",
    "        self.name = name\n",
    "        \n",
    "    def __set__(self, instance, value):\n",
    "        if not isinstance(value, collections.abc.Sequence):\n",
    "            raise ValueError(f\"{self.name} must be a sequence type.\")\n",
    "        if self.min_length is not None and len(value) < self.min_length:\n",
    "            raise ValueError(f\"{self.name} must have at least {self.min_length} elements\")\n",
    "        if self.max_length is not None and len(value) > self.max_length:\n",
    "            raise ValueError(f\"{self.name} cannot contain more than {self.max_length} elements\")\n",
    "        \n",
    "        for index, item in enumerate(value):\n",
    "            if not isinstance(item, Point2D):\n",
    "                raise ValueError(f\"Item at index {index} is not a Point 2D instance.\")\n",
    "            \n",
    "        instance.__dict__[self.name] = list(value)\n",
    "        \n",
    "    def __get__(self, instance, owner_class):\n",
    "        if instance is None:\n",
    "            return self\n",
    "        else:\n",
    "            if self.name not in instance.__dict__:\n",
    "                instance.__dict__[self.name] = []\n",
    "        \n",
    "        return instance.__dict__.get(self.name)"
   ]
  },
  {
   "cell_type": "code",
   "execution_count": 32,
   "id": "16fde3cd",
   "metadata": {},
   "outputs": [
    {
     "name": "stdout",
     "output_type": "stream",
     "text": [
      "verticies must have at least 3 elements\n"
     ]
    }
   ],
   "source": [
    "class Polygon:\n",
    "    verticies = Point2DSequence(min_length=3, max_length=3)\n",
    "    \n",
    "    def __init__(self, *verticies):\n",
    "        self.verticies = verticies\n",
    "        \n",
    "try:    \n",
    "    p = Polygon()\n",
    "except ValueError as ex:\n",
    "    print(ex)"
   ]
  },
  {
   "cell_type": "code",
   "execution_count": 33,
   "id": "0fd743e3",
   "metadata": {},
   "outputs": [
    {
     "name": "stdout",
     "output_type": "stream",
     "text": [
      "x must be at least 0\n"
     ]
    }
   ],
   "source": [
    "try:    \n",
    "    p = Polygon(Point2D(-100, 2), Point2D(0, 1), Point2D(1, 0))\n",
    "except ValueError as ex:\n",
    "    print(ex)"
   ]
  },
  {
   "cell_type": "code",
   "execution_count": 34,
   "id": "d2fd09c1",
   "metadata": {},
   "outputs": [
    {
     "data": {
      "text/plain": [
       "[Point2D(x=0, y=2), Point2D(x=0, y=1), Point2D(x=1, y=0)]"
      ]
     },
     "execution_count": 34,
     "metadata": {},
     "output_type": "execute_result"
    }
   ],
   "source": [
    "p = Polygon(Point2D(0, 2), Point2D(0, 1), Point2D(1, 0))\n",
    "p.verticies"
   ]
  },
  {
   "cell_type": "code",
   "execution_count": null,
   "id": "39d9004c",
   "metadata": {},
   "outputs": [],
   "source": []
  },
  {
   "cell_type": "code",
   "execution_count": 37,
   "id": "e6be2e61",
   "metadata": {},
   "outputs": [
    {
     "data": {
      "text/plain": [
       "[Point2D(x=0, y=2), Point2D(x=0, y=1), Point2D(x=1, y=0), Point2D(x=3, y=4)]"
      ]
     },
     "execution_count": 37,
     "metadata": {},
     "output_type": "execute_result"
    }
   ],
   "source": [
    "class Polygon:\n",
    "    verticies = Point2DSequence(min_length=3, max_length=4)\n",
    "    \n",
    "    def __init__(self, *verticies):\n",
    "        self.verticies = verticies\n",
    "        \n",
    "    def append(self, pt):\n",
    "        if not isinstance(pt, Point2D):\n",
    "            raise ValueError(\"Can only append Point2D instance...\")\n",
    "        # print(type(self).verticies.max_length)\n",
    "        max_length = type(self).verticies.max_length\n",
    "        if max_length is not None and len(self.verticies) >= max_length:\n",
    "            raise ValueError(f\"Verticies length is at max ({max_length}).\")\n",
    "        self.verticies.append(pt)\n",
    "        \n",
    "        \n",
    "p = Polygon(Point2D(0, 2), Point2D(0, 1), Point2D(1, 0))\n",
    "p.append(pt=Point2D(3, 4))\n",
    "p.verticies"
   ]
  },
  {
   "cell_type": "code",
   "execution_count": null,
   "id": "b98a1ec3",
   "metadata": {},
   "outputs": [],
   "source": [
    "34:23"
   ]
  },
  {
   "cell_type": "code",
   "execution_count": null,
   "id": "299f867c",
   "metadata": {},
   "outputs": [],
   "source": []
  },
  {
   "cell_type": "code",
   "execution_count": null,
   "id": "9b708784",
   "metadata": {},
   "outputs": [],
   "source": []
  },
  {
   "cell_type": "code",
   "execution_count": null,
   "id": "1cd13d0b",
   "metadata": {},
   "outputs": [],
   "source": []
  },
  {
   "cell_type": "code",
   "execution_count": null,
   "id": "23302bd0",
   "metadata": {},
   "outputs": [],
   "source": []
  },
  {
   "cell_type": "code",
   "execution_count": null,
   "id": "b30c7421",
   "metadata": {},
   "outputs": [],
   "source": []
  },
  {
   "cell_type": "code",
   "execution_count": null,
   "id": "14f86665",
   "metadata": {},
   "outputs": [],
   "source": []
  },
  {
   "cell_type": "code",
   "execution_count": null,
   "id": "a5ce0ea9",
   "metadata": {},
   "outputs": [],
   "source": []
  },
  {
   "cell_type": "code",
   "execution_count": null,
   "id": "c5a31e90",
   "metadata": {},
   "outputs": [],
   "source": []
  },
  {
   "cell_type": "code",
   "execution_count": null,
   "id": "faa54d47",
   "metadata": {},
   "outputs": [],
   "source": []
  },
  {
   "cell_type": "code",
   "execution_count": null,
   "id": "ba03623c",
   "metadata": {},
   "outputs": [],
   "source": []
  },
  {
   "cell_type": "code",
   "execution_count": null,
   "id": "59f25068",
   "metadata": {},
   "outputs": [],
   "source": []
  },
  {
   "cell_type": "code",
   "execution_count": null,
   "id": "262b0a4a",
   "metadata": {},
   "outputs": [],
   "source": []
  },
  {
   "cell_type": "code",
   "execution_count": null,
   "id": "d481c24f",
   "metadata": {},
   "outputs": [],
   "source": []
  }
 ],
 "metadata": {
  "kernelspec": {
   "display_name": "Python 3 (ipykernel)",
   "language": "python",
   "name": "python3"
  },
  "language_info": {
   "codemirror_mode": {
    "name": "ipython",
    "version": 3
   },
   "file_extension": ".py",
   "mimetype": "text/x-python",
   "name": "python",
   "nbconvert_exporter": "python",
   "pygments_lexer": "ipython3",
   "version": "3.9.12"
  }
 },
 "nbformat": 4,
 "nbformat_minor": 5
}
