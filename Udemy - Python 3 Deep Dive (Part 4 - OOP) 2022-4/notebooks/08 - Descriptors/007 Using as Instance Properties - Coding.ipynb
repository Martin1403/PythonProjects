{
 "cells": [
  {
   "cell_type": "markdown",
   "id": "24912c25",
   "metadata": {},
   "source": [
    "# 007 Using as Instance Properties - Coding"
   ]
  },
  {
   "cell_type": "code",
   "execution_count": 1,
   "id": "df1cab10",
   "metadata": {},
   "outputs": [
    {
     "data": {
      "text/plain": [
       "(10, 12)"
      ]
     },
     "execution_count": 1,
     "metadata": {},
     "output_type": "execute_result"
    }
   ],
   "source": [
    "class IntegerValue:\n",
    "    \n",
    "    def __set__(self, instance, value):\n",
    "        instance.stored_value = int(value)\n",
    "    \n",
    "    def __get__(self, instance, owner_class):\n",
    "        if instance is None:\n",
    "            return self\n",
    "        return getattr(instance, \"stored_value\", None)\n",
    "    \n",
    "        \n",
    "class Point1D:\n",
    "    x = IntegerValue()\n",
    "    \n",
    "    \n",
    "p1 = Point1D()\n",
    "p2 = Point1D()\n",
    "p1.x = 10.1\n",
    "p2.x = 12.3\n",
    "p1.x, p2.x"
   ]
  },
  {
   "cell_type": "code",
   "execution_count": 2,
   "id": "2e490abf",
   "metadata": {},
   "outputs": [
    {
     "data": {
      "text/plain": [
       "({'stored_value': 10}, {'stored_value': 12})"
      ]
     },
     "execution_count": 2,
     "metadata": {},
     "output_type": "execute_result"
    }
   ],
   "source": [
    "p1.__dict__, p2.__dict__"
   ]
  },
  {
   "cell_type": "code",
   "execution_count": 3,
   "id": "d8f6ed23",
   "metadata": {},
   "outputs": [
    {
     "name": "stdout",
     "output_type": "stream",
     "text": [
      "{'stored_value': 10}\n",
      "{'stored_value': 20}\n"
     ]
    }
   ],
   "source": [
    "class Point2D:\n",
    "    x = IntegerValue()\n",
    "    y = IntegerValue()\n",
    "    \n",
    "p = Point2D()\n",
    "p.x = 10.1\n",
    "print(p.__dict__)\n",
    "p.y = 20.1\n",
    "print(p.__dict__)"
   ]
  },
  {
   "cell_type": "code",
   "execution_count": 4,
   "id": "05d8ecd4",
   "metadata": {},
   "outputs": [
    {
     "data": {
      "text/plain": [
       "{'_x': 10.2, '_y': 20.5}"
      ]
     },
     "execution_count": 4,
     "metadata": {},
     "output_type": "execute_result"
    }
   ],
   "source": [
    "class IntegerValue:\n",
    "    def __init__(self, name):\n",
    "        self.storage_name = \"_\" + name\n",
    "    \n",
    "    def __set__(self, instance, value):\n",
    "        setattr(instance, self.storage_name, value)\n",
    "    \n",
    "    def __get__(self, instance, owner_class):\n",
    "        if instance is None:\n",
    "            return self\n",
    "        return getattr(instance, self.storage_name, None)\n",
    "    \n",
    "        \n",
    "class Point2D:\n",
    "    x = IntegerValue(\"x\")\n",
    "    y = IntegerValue(\"y\")\n",
    "    \n",
    "p1 = Point2D()\n",
    "p2 = Point2D()\n",
    "p1.x = 10.2\n",
    "p1.y = 20.5\n",
    "p1.__dict__"
   ]
  },
  {
   "cell_type": "code",
   "execution_count": 6,
   "id": "6ae70194",
   "metadata": {},
   "outputs": [
    {
     "data": {
      "text/plain": [
       "{}"
      ]
     },
     "execution_count": 6,
     "metadata": {},
     "output_type": "execute_result"
    }
   ],
   "source": [
    "p2.__dict__"
   ]
  },
  {
   "cell_type": "code",
   "execution_count": 8,
   "id": "41962d13",
   "metadata": {},
   "outputs": [
    {
     "data": {
      "text/plain": [
       "({'_x': 100.2, '_y': 88}, {'_x': 10.2, '_y': 20.5})"
      ]
     },
     "execution_count": 8,
     "metadata": {},
     "output_type": "execute_result"
    }
   ],
   "source": [
    "p2.x = 100.2\n",
    "p2.y = 88\n",
    "p2.__dict__, p1.__dict__"
   ]
  },
  {
   "cell_type": "code",
   "execution_count": null,
   "id": "45285215",
   "metadata": {},
   "outputs": [],
   "source": []
  },
  {
   "cell_type": "code",
   "execution_count": 9,
   "id": "b66b5ab0",
   "metadata": {},
   "outputs": [
    {
     "data": {
      "text/plain": [
       "(10, 20)"
      ]
     },
     "execution_count": 9,
     "metadata": {},
     "output_type": "execute_result"
    }
   ],
   "source": [
    "class IntegerValue:\n",
    "    def __init__(self):\n",
    "        self.values = {}\n",
    "    \n",
    "    def __set__(self, instance, value):\n",
    "        self.values[instance] = int(value)\n",
    "        \n",
    "    def __get__(self, instance, owner_class):\n",
    "        if instance is None:\n",
    "            return self\n",
    "        return self.values.get(instance)\n",
    "    \n",
    "class Point2D:\n",
    "    x = IntegerValue()\n",
    "    y = IntegerValue()\n",
    "    \n",
    "p1 = Point2D()\n",
    "p2 = Point2D()\n",
    "p1.x = 10.2\n",
    "p1.y = 20.3\n",
    "p1.x, p1.y"
   ]
  },
  {
   "cell_type": "code",
   "execution_count": 11,
   "id": "adbcb8fb",
   "metadata": {},
   "outputs": [
    {
     "data": {
      "text/plain": [
       "({<__main__.Point2D at 0x7f9ddef01250>: 10}, '0x7f9ddef01250')"
      ]
     },
     "execution_count": 11,
     "metadata": {},
     "output_type": "execute_result"
    }
   ],
   "source": [
    "Point2D.x.values, hex(id(p1))"
   ]
  },
  {
   "cell_type": "code",
   "execution_count": 13,
   "id": "9baaeaca",
   "metadata": {},
   "outputs": [
    {
     "data": {
      "text/plain": [
       "({<__main__.Point2D at 0x7f9ddef01250>: 10,\n",
       "  <__main__.Point2D at 0x7f9ddef01be0>: 100},\n",
       " '0x7f9ddef01be0')"
      ]
     },
     "execution_count": 13,
     "metadata": {},
     "output_type": "execute_result"
    }
   ],
   "source": [
    "p2.x = 100.1\n",
    "Point2D.x.values, hex(id(p2))"
   ]
  },
  {
   "cell_type": "code",
   "execution_count": 14,
   "id": "3a9a29fe",
   "metadata": {},
   "outputs": [
    {
     "data": {
      "text/plain": [
       "{<__main__.Point2D at 0x7f9ddef01250>: 20}"
      ]
     },
     "execution_count": 14,
     "metadata": {},
     "output_type": "execute_result"
    }
   ],
   "source": [
    "Point2D.y.values"
   ]
  },
  {
   "cell_type": "code",
   "execution_count": 15,
   "id": "cd0a47fe",
   "metadata": {},
   "outputs": [
    {
     "data": {
      "text/plain": [
       "{<__main__.Point2D at 0x7f9ddef01250>: 20,\n",
       " <__main__.Point2D at 0x7f9ddef01be0>: 200}"
      ]
     },
     "execution_count": 15,
     "metadata": {},
     "output_type": "execute_result"
    }
   ],
   "source": [
    "p2.y = 200\n",
    "Point2D.y.values"
   ]
  },
  {
   "cell_type": "code",
   "execution_count": 16,
   "id": "44b9e886",
   "metadata": {},
   "outputs": [
    {
     "data": {
      "text/plain": [
       "{<__main__.Point2D at 0x7f9ddef01250>: 10,\n",
       " <__main__.Point2D at 0x7f9ddef01be0>: 100}"
      ]
     },
     "execution_count": 16,
     "metadata": {},
     "output_type": "execute_result"
    }
   ],
   "source": [
    "hex(id(p1))\n",
    "del p1\n",
    "Point2D.x.values"
   ]
  },
  {
   "cell_type": "code",
   "execution_count": 17,
   "id": "e3ed0239",
   "metadata": {},
   "outputs": [
    {
     "data": {
      "text/plain": [
       "{<__main__.Point2D at 0x7f9ddef01250>: 10,\n",
       " <__main__.Point2D at 0x7f9ddef01be0>: 100,\n",
       " <__main__.Point2D at 0x7f9dfc08ca00>: 1000}"
      ]
     },
     "execution_count": 17,
     "metadata": {},
     "output_type": "execute_result"
    }
   ],
   "source": [
    "p1 = Point2D()\n",
    "p1.x = 1000.33\n",
    "Point2D.x.values"
   ]
  },
  {
   "cell_type": "code",
   "execution_count": 25,
   "id": "16de06fa",
   "metadata": {},
   "outputs": [
    {
     "data": {
      "text/plain": [
       "1"
      ]
     },
     "execution_count": 25,
     "metadata": {},
     "output_type": "execute_result"
    }
   ],
   "source": [
    "import ctypes\n",
    "\n",
    "def ref_count(address):\n",
    "    return ctypes.c_long.from_address(address).value\n",
    "\n",
    "p1 = Point2D()\n",
    "id_p1 = id(p1)\n",
    "ref_count(id_p1)"
   ]
  },
  {
   "cell_type": "code",
   "execution_count": 26,
   "id": "cfba68ee",
   "metadata": {},
   "outputs": [
    {
     "data": {
      "text/plain": [
       "2"
      ]
     },
     "execution_count": 26,
     "metadata": {},
     "output_type": "execute_result"
    }
   ],
   "source": [
    "p1.x = 100.1\n",
    "ref_count(id_p1)"
   ]
  },
  {
   "cell_type": "code",
   "execution_count": 27,
   "id": "65551fff",
   "metadata": {},
   "outputs": [
    {
     "data": {
      "text/plain": [
       "True"
      ]
     },
     "execution_count": 27,
     "metadata": {},
     "output_type": "execute_result"
    }
   ],
   "source": [
    "\"p1\" in globals()"
   ]
  },
  {
   "cell_type": "code",
   "execution_count": 28,
   "id": "53aec1b7",
   "metadata": {},
   "outputs": [],
   "source": [
    "del p1"
   ]
  },
  {
   "cell_type": "code",
   "execution_count": 29,
   "id": "e3cd45ec",
   "metadata": {},
   "outputs": [
    {
     "data": {
      "text/plain": [
       "False"
      ]
     },
     "execution_count": 29,
     "metadata": {},
     "output_type": "execute_result"
    }
   ],
   "source": [
    "\"p1\" in globals()"
   ]
  },
  {
   "cell_type": "code",
   "execution_count": 30,
   "id": "33799597",
   "metadata": {},
   "outputs": [
    {
     "data": {
      "text/plain": [
       "1"
      ]
     },
     "execution_count": 30,
     "metadata": {},
     "output_type": "execute_result"
    }
   ],
   "source": [
    "ref_count(id_p1)"
   ]
  },
  {
   "cell_type": "code",
   "execution_count": null,
   "id": "a1d35d2c",
   "metadata": {},
   "outputs": [],
   "source": []
  },
  {
   "cell_type": "code",
   "execution_count": null,
   "id": "60255c55",
   "metadata": {},
   "outputs": [],
   "source": []
  },
  {
   "cell_type": "code",
   "execution_count": null,
   "id": "a0f98a92",
   "metadata": {},
   "outputs": [],
   "source": []
  },
  {
   "cell_type": "code",
   "execution_count": null,
   "id": "2637460a",
   "metadata": {},
   "outputs": [],
   "source": []
  },
  {
   "cell_type": "code",
   "execution_count": null,
   "id": "6c512bc3",
   "metadata": {},
   "outputs": [],
   "source": []
  },
  {
   "cell_type": "code",
   "execution_count": null,
   "id": "9208ea97",
   "metadata": {},
   "outputs": [],
   "source": []
  },
  {
   "cell_type": "code",
   "execution_count": null,
   "id": "4620e20d",
   "metadata": {},
   "outputs": [],
   "source": []
  },
  {
   "cell_type": "code",
   "execution_count": null,
   "id": "5f4277c2",
   "metadata": {},
   "outputs": [],
   "source": []
  },
  {
   "cell_type": "code",
   "execution_count": null,
   "id": "b2051c13",
   "metadata": {},
   "outputs": [],
   "source": []
  },
  {
   "cell_type": "code",
   "execution_count": null,
   "id": "f03126ce",
   "metadata": {},
   "outputs": [],
   "source": []
  },
  {
   "cell_type": "code",
   "execution_count": null,
   "id": "26cb89f7",
   "metadata": {},
   "outputs": [],
   "source": []
  },
  {
   "cell_type": "code",
   "execution_count": null,
   "id": "1a1c8ad4",
   "metadata": {},
   "outputs": [],
   "source": []
  },
  {
   "cell_type": "code",
   "execution_count": null,
   "id": "9401c92c",
   "metadata": {},
   "outputs": [],
   "source": []
  },
  {
   "cell_type": "code",
   "execution_count": null,
   "id": "208c4e29",
   "metadata": {},
   "outputs": [],
   "source": []
  },
  {
   "cell_type": "code",
   "execution_count": null,
   "id": "2ef562a3",
   "metadata": {},
   "outputs": [],
   "source": []
  }
 ],
 "metadata": {
  "kernelspec": {
   "display_name": "Python 3 (ipykernel)",
   "language": "python",
   "name": "python3"
  },
  "language_info": {
   "codemirror_mode": {
    "name": "ipython",
    "version": 3
   },
   "file_extension": ".py",
   "mimetype": "text/x-python",
   "name": "python",
   "nbconvert_exporter": "python",
   "pygments_lexer": "ipython3",
   "version": "3.9.12"
  }
 },
 "nbformat": 4,
 "nbformat_minor": 5
}
