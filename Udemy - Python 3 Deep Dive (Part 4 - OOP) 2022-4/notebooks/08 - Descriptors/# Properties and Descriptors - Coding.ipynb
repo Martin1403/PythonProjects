{
 "cells": [
  {
   "cell_type": "markdown",
   "id": "a8b90f48",
   "metadata": {},
   "source": [
    "# Properties and Descriptors - Coding"
   ]
  },
  {
   "cell_type": "code",
   "execution_count": 1,
   "id": "f7bb0554",
   "metadata": {},
   "outputs": [
    {
     "name": "stdout",
     "output_type": "stream",
     "text": [
      "Age must be a non-negative integr.\n"
     ]
    }
   ],
   "source": [
    "from numbers import Integral\n",
    "\n",
    "class Person:\n",
    "    @property\n",
    "    def age(self):\n",
    "        return getattr(self, \"_age\", None)\n",
    "    \n",
    "    @age.setter\n",
    "    def age(self, value):\n",
    "        if not isinstance(value, Integral):\n",
    "            raise ValueError(\"age: must be an integer.\")\n",
    "        if value < 0:\n",
    "            raise ValueError(\"Age must be a non-negative integr.\")\n",
    "        setattr(self, \"_age\", value)\n",
    "        \n",
    "p = Person()\n",
    "try:\n",
    "    p.age = -100\n",
    "except ValueError as ex:\n",
    "    print(ex)"
   ]
  },
  {
   "cell_type": "code",
   "execution_count": 4,
   "id": "b579900a",
   "metadata": {},
   "outputs": [
    {
     "data": {
      "text/plain": [
       "{'_age': 10}"
      ]
     },
     "execution_count": 4,
     "metadata": {},
     "output_type": "execute_result"
    }
   ],
   "source": [
    "p.age = 10\n",
    "p.__dict__"
   ]
  },
  {
   "cell_type": "code",
   "execution_count": null,
   "id": "1acb8e6b",
   "metadata": {},
   "outputs": [],
   "source": []
  },
  {
   "cell_type": "code",
   "execution_count": 8,
   "id": "52ae920a",
   "metadata": {},
   "outputs": [],
   "source": [
    "from numbers import Integral\n",
    "\n",
    "class Person:\n",
    "    def get_age(self):\n",
    "        return getattr(self, \"_age\", None)\n",
    "    \n",
    "    def set_age(self, value):\n",
    "        if not isinstance(value, Integral):\n",
    "            raise ValueError(\"age: must be an integer.\")\n",
    "        if value < 0:\n",
    "            raise ValueError(\"Age must be a non-negative integr.\")\n",
    "        setattr(self, \"_age\", value)\n",
    "        \n",
    "    age = property(fget=get_age, fset=set_age)    \n",
    "    \n",
    "prop = Person.age"
   ]
  },
  {
   "cell_type": "code",
   "execution_count": 10,
   "id": "e8690aef",
   "metadata": {},
   "outputs": [
    {
     "name": "stdout",
     "output_type": "stream",
     "text": [
      "True\n",
      "True\n",
      "True\n"
     ]
    }
   ],
   "source": [
    "print(hasattr(prop, '__get__'))\n",
    "print(hasattr(prop, '__set__'))\n",
    "print(hasattr(prop, '__delete__'))"
   ]
  },
  {
   "cell_type": "code",
   "execution_count": 11,
   "id": "5b0d434a",
   "metadata": {},
   "outputs": [
    {
     "data": {
      "text/plain": [
       "10"
      ]
     },
     "execution_count": 11,
     "metadata": {},
     "output_type": "execute_result"
    }
   ],
   "source": [
    "p = Person()\n",
    "p.age = 10\n",
    "p.age"
   ]
  },
  {
   "cell_type": "code",
   "execution_count": 12,
   "id": "6865535c",
   "metadata": {},
   "outputs": [
    {
     "name": "stdout",
     "output_type": "stream",
     "text": [
      "True\n",
      "True\n",
      "True\n",
      "current_time\n",
      "can't set attribute\n"
     ]
    }
   ],
   "source": [
    "class TimeUTC:\n",
    "    @property\n",
    "    def current_time(self):\n",
    "        return \"current_time\"\n",
    "    \n",
    "t = TimeUTC()\n",
    "print(hasattr(TimeUTC.current_time, \"__set__\"))\n",
    "print(hasattr(TimeUTC.current_time, \"__get__\"))\n",
    "print(hasattr(TimeUTC.current_time, \"__delete__\"))\n",
    "print(t.current_time)\n",
    "try:\n",
    "    t.current_time = \"other\"\n",
    "except AttributeError as ex:\n",
    "    print(ex)"
   ]
  },
  {
   "cell_type": "code",
   "execution_count": 14,
   "id": "f68eca6e",
   "metadata": {},
   "outputs": [
    {
     "name": "stdout",
     "output_type": "stream",
     "text": [
      "{}\n",
      "10\n",
      "{'_age': 10}\n",
      "{'_age': 10, 'age': 100}\n",
      "10\n"
     ]
    }
   ],
   "source": [
    "p = Person()\n",
    "print(p.__dict__)\n",
    "p.age = 10\n",
    "print(p.age)\n",
    "print(p.__dict__)\n",
    "p.__dict__[\"age\"] = 100\n",
    "print(p.__dict__)\n",
    "print(p.age)"
   ]
  },
  {
   "cell_type": "code",
   "execution_count": 15,
   "id": "3e527d90",
   "metadata": {},
   "outputs": [],
   "source": [
    "class MakeProperty:\n",
    "    def __init__(self, fget=None, fset=None):\n",
    "        self.fget = fget\n",
    "        self.fset = fset\n",
    "        \n",
    "    def __set_name__(self, owner_clas, prop_name):\n",
    "        self.prop_name = prop_name\n",
    "        \n",
    "    def __get__(self, instance, owner_class):\n",
    "        print(\"__get__ called...\")\n",
    "        if instance is None:\n",
    "            return self\n",
    "        if self.fget is None:\n",
    "            raise AttributeError(f\"{self.prop_name} is not readable\")\n",
    "        return self.fget(instance)\n",
    "    \n",
    "    def __set__(self, instance, value):\n",
    "        print(\"__set__ called...\")\n",
    "        if self.fset is None:\n",
    "            raise AttributeError(f\"{self.prop_name} is not writable.\")\n",
    "        self.fset(instance, value)    \n",
    "        \n",
    "        \n",
    "class Person:\n",
    "    def get_name(self):\n",
    "        print(\"get_name called...\")\n",
    "        return getattr(self, \"_name\", None)\n",
    "    \n",
    "    def set_name(self, value):\n",
    "        print(\"set_name called...\")\n",
    "        self._name = value\n",
    "        \n",
    "    name = MakeProperty(fget=get_name, fset=set_name)"
   ]
  },
  {
   "cell_type": "code",
   "execution_count": 17,
   "id": "65ed3586",
   "metadata": {},
   "outputs": [],
   "source": [
    "p = Person()"
   ]
  },
  {
   "cell_type": "code",
   "execution_count": 18,
   "id": "2743fca7",
   "metadata": {},
   "outputs": [
    {
     "name": "stdout",
     "output_type": "stream",
     "text": [
      "__set__ called...\n",
      "set_name called...\n"
     ]
    }
   ],
   "source": [
    "p.name = \"Guido\""
   ]
  },
  {
   "cell_type": "code",
   "execution_count": 19,
   "id": "d5620b4a",
   "metadata": {},
   "outputs": [
    {
     "name": "stdout",
     "output_type": "stream",
     "text": [
      "__get__ called...\n",
      "get_name called...\n"
     ]
    },
    {
     "data": {
      "text/plain": [
       "'Guido'"
      ]
     },
     "execution_count": 19,
     "metadata": {},
     "output_type": "execute_result"
    }
   ],
   "source": [
    "p.name"
   ]
  },
  {
   "cell_type": "code",
   "execution_count": 20,
   "id": "e0b4326d",
   "metadata": {},
   "outputs": [
    {
     "data": {
      "text/plain": [
       "{'_name': 'Guido'}"
      ]
     },
     "execution_count": 20,
     "metadata": {},
     "output_type": "execute_result"
    }
   ],
   "source": [
    "p.__dict__"
   ]
  },
  {
   "cell_type": "code",
   "execution_count": 22,
   "id": "ff8d866f",
   "metadata": {},
   "outputs": [],
   "source": [
    "p.__dict__[\"name\"] = \"Alex\""
   ]
  },
  {
   "cell_type": "code",
   "execution_count": 24,
   "id": "a825beb7",
   "metadata": {},
   "outputs": [
    {
     "name": "stdout",
     "output_type": "stream",
     "text": [
      "__get__ called...\n",
      "get_name called...\n"
     ]
    },
    {
     "data": {
      "text/plain": [
       "'Guido'"
      ]
     },
     "execution_count": 24,
     "metadata": {},
     "output_type": "execute_result"
    }
   ],
   "source": [
    "p.name"
   ]
  },
  {
   "cell_type": "code",
   "execution_count": 25,
   "id": "9108c031",
   "metadata": {},
   "outputs": [
    {
     "data": {
      "text/plain": [
       "{'_name': 'Guido', 'name': 'Alex'}"
      ]
     },
     "execution_count": 25,
     "metadata": {},
     "output_type": "execute_result"
    }
   ],
   "source": [
    "p.__dict__"
   ]
  },
  {
   "cell_type": "code",
   "execution_count": null,
   "id": "d70b6205",
   "metadata": {},
   "outputs": [],
   "source": []
  },
  {
   "cell_type": "code",
   "execution_count": 26,
   "id": "c3bc84ab",
   "metadata": {},
   "outputs": [],
   "source": [
    "from numbers import Integral\n",
    "\n",
    "class Person:\n",
    "    def age(self):\n",
    "        return getattr(self, \"_age\", None)\n",
    "    \n",
    "    age = property(age)\n",
    "    \n",
    "    def set_age(self, value):\n",
    "        if not isinstance(value, Integral):\n",
    "            raise ValueError(\"age: must be an integer.\")\n",
    "        if value < 0:\n",
    "            raise ValueError(\"Age must be a non-negative integr.\")\n",
    "        setattr(self, \"_age\", value)\n",
    "    \n",
    "    age = age.setter(set_age)\n",
    "    "
   ]
  },
  {
   "cell_type": "code",
   "execution_count": 27,
   "id": "d8343e2f",
   "metadata": {},
   "outputs": [
    {
     "name": "stdout",
     "output_type": "stream",
     "text": [
      "__get__ called...\n"
     ]
    },
    {
     "data": {
      "text/plain": [
       "<__main__.MakeProperty at 0x7fcb2d5f2d30>"
      ]
     },
     "execution_count": 27,
     "metadata": {},
     "output_type": "execute_result"
    }
   ],
   "source": [
    "class Person:\n",
    "    @MakeProperty\n",
    "    def age(self):\n",
    "        return getattr(self, \"_age\", None)\n",
    "    \n"
   ]
  },
  {
   "cell_type": "code",
   "execution_count": 28,
   "id": "e123c653",
   "metadata": {},
   "outputs": [
    {
     "name": "stdout",
     "output_type": "stream",
     "text": [
      "__get__ called...\n"
     ]
    },
    {
     "data": {
      "text/plain": [
       "100"
      ]
     },
     "execution_count": 28,
     "metadata": {},
     "output_type": "execute_result"
    }
   ],
   "source": [
    "p.age"
   ]
  },
  {
   "cell_type": "code",
   "execution_count": null,
   "id": "2094cccc",
   "metadata": {},
   "outputs": [],
   "source": []
  },
  {
   "cell_type": "code",
   "execution_count": 29,
   "id": "7b0baa94",
   "metadata": {},
   "outputs": [],
   "source": [
    "class MakeProperty:\n",
    "    def __init__(self, fget=None, fset=None):\n",
    "        self.fget = fget\n",
    "        self.fset = fset\n",
    "        \n",
    "    def __set_name__(self, owner_clas, prop_name):\n",
    "        self.prop_name = prop_name\n",
    "        \n",
    "    def __get__(self, instance, owner_class):\n",
    "        print(\"__get__ called...\")\n",
    "        if instance is None:\n",
    "            return self\n",
    "        if self.fget is None:\n",
    "            raise AttributeError(f\"{self.prop_name} is not readable\")\n",
    "        return self.fget(instance)\n",
    "    \n",
    "    def __set__(self, instance, value):\n",
    "        print(\"__set__ called...\")\n",
    "        if self.fset is None:\n",
    "            raise AttributeError(f\"{self.prop_name} is not writable.\")\n",
    "        self.fset(instance, value)    \n",
    "        \n",
    "    def setter(self, fset):\n",
    "        self.fset = fset\n",
    "        return self"
   ]
  },
  {
   "cell_type": "code",
   "execution_count": 30,
   "id": "a632ab67",
   "metadata": {},
   "outputs": [
    {
     "name": "stdout",
     "output_type": "stream",
     "text": [
      "__set__ called...\n",
      "__get__ called...\n"
     ]
    },
    {
     "data": {
      "text/plain": [
       "(100, {'_age': 100})"
      ]
     },
     "execution_count": 30,
     "metadata": {},
     "output_type": "execute_result"
    }
   ],
   "source": [
    "class Person:\n",
    "    @MakeProperty\n",
    "    def age(self):\n",
    "        return getattr(self, \"_age\", None)\n",
    "    \n",
    "    @age.setter\n",
    "    def age(self, value):\n",
    "        self._age = value\n",
    "        \n",
    "p = Person()\n",
    "p.age = 100\n",
    "p.age, p.__dict__"
   ]
  },
  {
   "cell_type": "code",
   "execution_count": null,
   "id": "189baac3",
   "metadata": {},
   "outputs": [],
   "source": []
  },
  {
   "cell_type": "code",
   "execution_count": null,
   "id": "ff207409",
   "metadata": {},
   "outputs": [],
   "source": []
  },
  {
   "cell_type": "code",
   "execution_count": null,
   "id": "cc641d8e",
   "metadata": {},
   "outputs": [],
   "source": []
  },
  {
   "cell_type": "code",
   "execution_count": null,
   "id": "c9aae732",
   "metadata": {},
   "outputs": [],
   "source": []
  },
  {
   "cell_type": "code",
   "execution_count": null,
   "id": "fad91a78",
   "metadata": {},
   "outputs": [],
   "source": []
  },
  {
   "cell_type": "code",
   "execution_count": null,
   "id": "4d9a87e7",
   "metadata": {},
   "outputs": [],
   "source": []
  },
  {
   "cell_type": "code",
   "execution_count": null,
   "id": "43b5861e",
   "metadata": {},
   "outputs": [],
   "source": []
  },
  {
   "cell_type": "code",
   "execution_count": null,
   "id": "5dc7952d",
   "metadata": {},
   "outputs": [],
   "source": []
  },
  {
   "cell_type": "code",
   "execution_count": null,
   "id": "051c3238",
   "metadata": {},
   "outputs": [],
   "source": []
  },
  {
   "cell_type": "code",
   "execution_count": null,
   "id": "47a2963b",
   "metadata": {},
   "outputs": [],
   "source": []
  },
  {
   "cell_type": "code",
   "execution_count": null,
   "id": "9fa002b6",
   "metadata": {},
   "outputs": [],
   "source": []
  }
 ],
 "metadata": {
  "kernelspec": {
   "display_name": "Python 3 (ipykernel)",
   "language": "python",
   "name": "python3"
  },
  "language_info": {
   "codemirror_mode": {
    "name": "ipython",
    "version": 3
   },
   "file_extension": ".py",
   "mimetype": "text/x-python",
   "name": "python",
   "nbconvert_exporter": "python",
   "pygments_lexer": "ipython3",
   "version": "3.9.12"
  }
 },
 "nbformat": 4,
 "nbformat_minor": 5
}
