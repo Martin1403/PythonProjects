{
 "cells": [
  {
   "cell_type": "markdown",
   "id": "038c9acb",
   "metadata": {},
   "source": [
    "# Descriptors - Coding"
   ]
  },
  {
   "cell_type": "code",
   "execution_count": 1,
   "id": "0972373b",
   "metadata": {},
   "outputs": [
    {
     "data": {
      "text/plain": [
       "mappingproxy({'__module__': '__main__',\n",
       "              'current_time': <__main__.TimeUTC at 0x7f4400225400>,\n",
       "              '__dict__': <attribute '__dict__' of 'Logger' objects>,\n",
       "              '__weakref__': <attribute '__weakref__' of 'Logger' objects>,\n",
       "              '__doc__': None})"
      ]
     },
     "execution_count": 1,
     "metadata": {},
     "output_type": "execute_result"
    }
   ],
   "source": [
    "from datetime import datetime\n",
    "\n",
    "class TimeUTC:\n",
    "    def __get__(self, instance, owner_class):\n",
    "        print(f\"instance: {instance}\")\n",
    "        print(f\"owner_class: {owner_class}\")\n",
    "        return datetime.utcnow().isoformat()\n",
    "    \n",
    "class Logger:\n",
    "    current_time = TimeUTC()\n",
    "    \n",
    "Logger.__dict__"
   ]
  },
  {
   "cell_type": "code",
   "execution_count": 2,
   "id": "d1a93b32",
   "metadata": {},
   "outputs": [
    {
     "name": "stdout",
     "output_type": "stream",
     "text": [
      "instance: None\n",
      "owner_class: <class '__main__.Logger'>\n",
      "2023-06-21T04:58:01.659034\n",
      "instance: <__main__.Logger object at 0x7f43ebf4cb20>\n",
      "owner_class: <class '__main__.Logger'>\n",
      "2023-06-21T04:58:01.659273\n"
     ]
    },
    {
     "data": {
      "text/plain": [
       "{}"
      ]
     },
     "execution_count": 2,
     "metadata": {},
     "output_type": "execute_result"
    }
   ],
   "source": [
    "print(Logger.current_time)\n",
    "l = Logger()\n",
    "print(l.current_time)\n",
    "l.__dict__"
   ]
  },
  {
   "cell_type": "code",
   "execution_count": 5,
   "id": "66a9272a",
   "metadata": {},
   "outputs": [
    {
     "name": "stdout",
     "output_type": "stream",
     "text": [
      "8 Club\n",
      "2 Diamond\n",
      "J Club\n",
      "8 Diamond\n",
      "9 Diamond\n",
      "Q Heart\n",
      "J Heart\n",
      "6 Heart\n",
      "10 Spade\n",
      "Q Diamond\n"
     ]
    }
   ],
   "source": [
    "from random import choice, seed\n",
    "\n",
    "class Deck:\n",
    "    @property\n",
    "    def suit(self):\n",
    "        return choice((\"Spade\", \"Heart\", \"Diamond\", \"Club\"))\n",
    "    \n",
    "    @property\n",
    "    def card(self):\n",
    "        return choice(tuple(\"23456789JQKA\") + ('10',))\n",
    "    \n",
    "d = Deck()\n",
    "seed(0)\n",
    "for _ in range(10):\n",
    "    print(d.card, d.suit)"
   ]
  },
  {
   "cell_type": "code",
   "execution_count": 8,
   "id": "0a2adc80",
   "metadata": {},
   "outputs": [
    {
     "name": "stdout",
     "output_type": "stream",
     "text": [
      "8 Club\n",
      "2 Diamon\n",
      "J Club\n",
      "8 Diamon\n",
      "9 Diamon\n",
      "Q Heart\n",
      "J Heart\n",
      "6 Heart\n",
      "10 Spade\n",
      "Q Diamon\n"
     ]
    }
   ],
   "source": [
    "class Choice:\n",
    "    def __init__(self, *choices):\n",
    "        self.choices = choices\n",
    "        \n",
    "    def __get__(self, instance, owner_class):\n",
    "        return choice(self.choices)\n",
    "    \n",
    "class Deck:\n",
    "    suit = Choice(\"Spade\", \"Heart\", \"Diamon\", \"Club\")\n",
    "    card = Choice(*\"23456789JQKA\", \"10\")\n",
    "    \n",
    "d = Deck()\n",
    "seed(0)\n",
    "for _ in range(10):\n",
    "    print(d.card, d.suit)"
   ]
  },
  {
   "cell_type": "code",
   "execution_count": 11,
   "id": "3fff460e",
   "metadata": {},
   "outputs": [
    {
     "name": "stdout",
     "output_type": "stream",
     "text": [
      "4 4 1\n",
      "3 5 4\n",
      "4 3 4\n",
      "3 5 2\n",
      "5 2 3\n",
      "2 1 5\n",
      "3 5 6\n",
      "5 2 3\n",
      "1 6 1\n",
      "6 3 4\n"
     ]
    }
   ],
   "source": [
    "class Dice:\n",
    "    die_1 = Choice(1,2,3,4,5,6)\n",
    "    die_2 = Choice(1,2,3,4,5,6)\n",
    "    die_3 = Choice(1,2,3,4,5,6)\n",
    "    \n",
    "seed(0)\n",
    "dice = Dice()\n",
    "for _ in range(10):\n",
    "    print(dice.die_1, dice.die_2, dice.die_3)"
   ]
  },
  {
   "cell_type": "code",
   "execution_count": null,
   "id": "768f5d8b",
   "metadata": {},
   "outputs": [],
   "source": []
  },
  {
   "cell_type": "code",
   "execution_count": null,
   "id": "24cfccb9",
   "metadata": {},
   "outputs": [],
   "source": []
  },
  {
   "cell_type": "code",
   "execution_count": null,
   "id": "bb07e79c",
   "metadata": {},
   "outputs": [],
   "source": []
  },
  {
   "cell_type": "code",
   "execution_count": null,
   "id": "16330468",
   "metadata": {},
   "outputs": [],
   "source": []
  }
 ],
 "metadata": {
  "kernelspec": {
   "display_name": "Python 3 (ipykernel)",
   "language": "python",
   "name": "python3"
  },
  "language_info": {
   "codemirror_mode": {
    "name": "ipython",
    "version": 3
   },
   "file_extension": ".py",
   "mimetype": "text/x-python",
   "name": "python",
   "nbconvert_exporter": "python",
   "pygments_lexer": "ipython3",
   "version": "3.9.12"
  }
 },
 "nbformat": 4,
 "nbformat_minor": 5
}
