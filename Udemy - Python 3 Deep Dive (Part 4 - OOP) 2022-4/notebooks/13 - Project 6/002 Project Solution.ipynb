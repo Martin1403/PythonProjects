{
 "cells": [
  {
   "cell_type": "markdown",
   "id": "56f85826",
   "metadata": {},
   "source": [
    "# Project Solution"
   ]
  },
  {
   "cell_type": "raw",
   "id": "b6a1e569",
   "metadata": {},
   "source": [
    "1. Supplier exceptions\n",
    "    a. Not manufactured anymore\n",
    "    b. Production delayed\n",
    "    c. Shipping delayed\n",
    "   \n",
    "2. Checkout exceptions\n",
    "    a. Inventory type exceptions\n",
    "        - out of stock\n",
    "    b. Pricing exceptions\n",
    "        - invalid coupon code\n",
    "        - cannot stack coupons"
   ]
  },
  {
   "cell_type": "code",
   "execution_count": 1,
   "id": "8c78cdc9",
   "metadata": {},
   "outputs": [],
   "source": [
    "from datetime import datetime"
   ]
  },
  {
   "cell_type": "code",
   "execution_count": 18,
   "id": "1815546f",
   "metadata": {},
   "outputs": [],
   "source": [
    "class WidgetException(Exception):\n",
    "    message = 'Generic Widget exception.'\n",
    "    \n",
    "    def __init__(self, *args, customer_message=None):\n",
    "        super().__init__(args)\n",
    "        if args:\n",
    "            self.message = args[0]\n",
    "        self.customer_message = customer_message if customer_message is not None else self.message    \n",
    "        \n",
    "    def log_exception(self):\n",
    "        exception = {\n",
    "            \"type\": type(self).__name__,\n",
    "            \"message\": self.message,\n",
    "            \"args\": self.args[1:]\n",
    "        }\n",
    "        print(f\"EXCEPTION: {datetime.utcnow().isoformat()}: {exception}\")\n",
    "        \n",
    "    "
   ]
  },
  {
   "cell_type": "code",
   "execution_count": 14,
   "id": "98825631",
   "metadata": {},
   "outputs": [],
   "source": [
    "ex1 = WidgetException(\"Some custom message\", 10, 100)\n",
    "ex2 = WidgetException(customer_message=\"A custom user message.\")"
   ]
  },
  {
   "cell_type": "code",
   "execution_count": 15,
   "id": "8a2431c5",
   "metadata": {},
   "outputs": [
    {
     "name": "stdout",
     "output_type": "stream",
     "text": [
      "EXCEPTION: 2023-07-02T14:06:58.141243: {'type': 'WidgetException', 'message': 'Some custom message', 'args': ()}\n"
     ]
    }
   ],
   "source": [
    "ex1.log_exception()"
   ]
  },
  {
   "cell_type": "code",
   "execution_count": 16,
   "id": "41cc35b6",
   "metadata": {},
   "outputs": [
    {
     "name": "stdout",
     "output_type": "stream",
     "text": [
      "EXCEPTION: 2023-07-02T14:07:19.405296: {'type': 'WidgetException', 'message': 'Generic Widget exception.', 'args': ()}\n"
     ]
    }
   ],
   "source": [
    "ex2.log_exception()"
   ]
  },
  {
   "cell_type": "code",
   "execution_count": 17,
   "id": "2854aa55",
   "metadata": {},
   "outputs": [],
   "source": [
    "class SupplierException(WidgetException):\n",
    "    message = \"Supplier exception.\"\n",
    "    \n",
    "class NotManufacturedException(SupplierException):\n",
    "    message = \"Widget is no longer manufactured by supplier.\"\n",
    "    \n",
    "class ProductionDelayedException(SupplierException):\n",
    "    message = \"Widget production has been delayed by manufacturer.\"\n",
    "    \n",
    "class ShippingDelayedException(SupplierException):\n",
    "    message = \"Widget shipping has been delayed by supplier.\"\n",
    "    \n",
    "class CheckoutException(WidgetException):\n",
    "    message = \"Checkout exception\"\n",
    "    \n",
    "class InventoryException(CheckoutException):\n",
    "    message = \"Checkout inventory exception\"\n",
    "     \n",
    "class OutOfStockException(InventoryException):\n",
    "    message = \"Inventory out of stock\"\n",
    "    \n",
    "class PricingException(CheckoutException):\n",
    "    message = \"Checkout pricing exception\"\n",
    "    \n",
    "class InvalidCouponCodeException(PricingException):\n",
    "    message = \"Invalid checkout coupon code.\"\n",
    "    \n",
    "class CannotStackCouponException(PricingException):\n",
    "    message = \"Cannot stack checkout coupon code.\""
   ]
  },
  {
   "cell_type": "code",
   "execution_count": 19,
   "id": "7f963e72",
   "metadata": {},
   "outputs": [
    {
     "name": "stdout",
     "output_type": "stream",
     "text": [
      "EXCEPTION: 2023-07-02T14:17:59.969842: {'type': 'CannotStackCouponException', 'message': 'Cannot stack checkout coupon code.', 'args': ()}\n"
     ]
    },
    {
     "ename": "CannotStackCouponException",
     "evalue": "()",
     "output_type": "error",
     "traceback": [
      "\u001b[0;31m---------------------------------------------------------------------------\u001b[0m",
      "\u001b[0;31mCannotStackCouponException\u001b[0m                Traceback (most recent call last)",
      "Input \u001b[0;32mIn [19]\u001b[0m, in \u001b[0;36m<cell line: 1>\u001b[0;34m()\u001b[0m\n\u001b[1;32m      1\u001b[0m \u001b[38;5;28;01mtry\u001b[39;00m:\n\u001b[0;32m----> 2\u001b[0m     \u001b[38;5;28;01mraise\u001b[39;00m CannotStackCouponException()\n\u001b[1;32m      3\u001b[0m \u001b[38;5;28;01mexcept\u001b[39;00m CannotStackCouponException \u001b[38;5;28;01mas\u001b[39;00m ex:\n\u001b[1;32m      4\u001b[0m     ex\u001b[38;5;241m.\u001b[39mlog_exception()\n",
      "\u001b[0;31mCannotStackCouponException\u001b[0m: ()"
     ]
    }
   ],
   "source": [
    "try:\n",
    "    raise CannotStackCouponException()\n",
    "except CannotStackCouponException as ex:\n",
    "    ex.log_exception()\n",
    "    raise"
   ]
  },
  {
   "cell_type": "code",
   "execution_count": 21,
   "id": "2c577cd3",
   "metadata": {},
   "outputs": [],
   "source": [
    "from http import HTTPStatus\n",
    "import json"
   ]
  },
  {
   "cell_type": "code",
   "execution_count": 24,
   "id": "185cdbab",
   "metadata": {},
   "outputs": [],
   "source": [
    "class WidgetException(Exception):\n",
    "    message = 'Generic Widget exception.'\n",
    "    http_status = HTTPStatus.INTERNAL_SERVER_ERROR\n",
    "    \n",
    "    \n",
    "    def __init__(self, *args, customer_message=None):\n",
    "        super().__init__(args)\n",
    "        if args:\n",
    "            self.message = args[0]\n",
    "        self.customer_message = customer_message if customer_message is not None else self.message    \n",
    "        \n",
    "    def log_exception(self):\n",
    "        exception = {\n",
    "            \"type\": type(self).__name__,\n",
    "            \"message\": self.message,\n",
    "            \"args\": self.args[1:]\n",
    "        }\n",
    "        print(f\"EXCEPTION: {datetime.utcnow().isoformat()}: {exception}\")\n",
    "        \n",
    "    def to_json(self):\n",
    "        response = {\n",
    "            \"code\": self.http_status.value,\n",
    "            \"message\": f\"{self.http_status.phrase}: {self.customer_message}\",\n",
    "            \"category\": type(self).__name__,\n",
    "            \"time_utc\": datetime.utcnow().isoformat()\n",
    "\n",
    "        }\n",
    "        return json.dumps(response)"
   ]
  },
  {
   "cell_type": "code",
   "execution_count": 25,
   "id": "d118e916",
   "metadata": {},
   "outputs": [
    {
     "name": "stdout",
     "output_type": "stream",
     "text": [
      "EXCEPTION: 2023-07-02T14:23:50.991757: {'type': 'WidgetException', 'message': 'same custom message for log and user', 'args': ()}\n"
     ]
    }
   ],
   "source": [
    "e = WidgetException(\"same custom message for log and user\")\n",
    "e.log_exception()"
   ]
  },
  {
   "cell_type": "code",
   "execution_count": 32,
   "id": "428aefff",
   "metadata": {},
   "outputs": [
    {
     "data": {
      "text/plain": [
       "{'code': 500,\n",
       " 'message': 'Internal Server Error: same custom message for log and user',\n",
       " 'category': 'WidgetException',\n",
       " 'time_utc': '2023-07-02T14:24:43.698369'}"
      ]
     },
     "execution_count": 32,
     "metadata": {},
     "output_type": "execute_result"
    }
   ],
   "source": [
    "json.loads(e.to_json())"
   ]
  },
  {
   "cell_type": "code",
   "execution_count": 33,
   "id": "0f2b170d",
   "metadata": {},
   "outputs": [
    {
     "name": "stdout",
     "output_type": "stream",
     "text": [
      "EXCEPTION: 2023-07-02T14:25:39.497799: {'type': 'WidgetException', 'message': 'same custom message for log and user', 'args': ()}\n"
     ]
    }
   ],
   "source": [
    "e = WidgetException(\"same custom message for log and user\", \n",
    "                    customer_message=\"custom user message\")\n",
    "e.log_exception()"
   ]
  },
  {
   "cell_type": "code",
   "execution_count": 34,
   "id": "64402e2c",
   "metadata": {},
   "outputs": [
    {
     "data": {
      "text/plain": [
       "{'code': 500,\n",
       " 'message': 'Internal Server Error: custom user message',\n",
       " 'category': 'WidgetException',\n",
       " 'time_utc': '2023-07-02T14:25:50.478812'}"
      ]
     },
     "execution_count": 34,
     "metadata": {},
     "output_type": "execute_result"
    }
   ],
   "source": [
    "json.loads(e.to_json())"
   ]
  },
  {
   "cell_type": "code",
   "execution_count": 36,
   "id": "c72ab13c",
   "metadata": {},
   "outputs": [
    {
     "name": "stdout",
     "output_type": "stream",
     "text": [
      "<traceback object at 0x7fba357104c0>\n"
     ]
    }
   ],
   "source": [
    "try:\n",
    "    raise WidgetException(\"custom error message\")\n",
    "except WidgetException as ex:\n",
    "    print(repr(ex.__traceback__))"
   ]
  },
  {
   "cell_type": "code",
   "execution_count": 37,
   "id": "23ccfee9",
   "metadata": {},
   "outputs": [],
   "source": [
    "import traceback"
   ]
  },
  {
   "cell_type": "code",
   "execution_count": 38,
   "id": "06675e4f",
   "metadata": {},
   "outputs": [
    {
     "name": "stdout",
     "output_type": "stream",
     "text": [
      "['Traceback (most recent call last):\\n', '  File \"/tmp/ipykernel_30163/629708075.py\", line 2, in <cell line: 1>\\n    raise ValueError\\n', 'ValueError\\n', '\\nDuring handling of the above exception, another exception occurred:\\n\\n', 'Traceback (most recent call last):\\n', '  File \"/tmp/ipykernel_30163/629708075.py\", line 5, in <cell line: 1>\\n    raise WidgetException(\"custom message\")\\n', \"WidgetException: ('custom message',)\\n\"]\n"
     ]
    }
   ],
   "source": [
    "try:\n",
    "    raise ValueError\n",
    "except ValueError:\n",
    "    try:\n",
    "        raise WidgetException(\"custom message\")\n",
    "    except WidgetException as ex:\n",
    "        tb = traceback.TracebackException.from_exception(ex)\n",
    "        print(list(tb.format()))"
   ]
  },
  {
   "cell_type": "code",
   "execution_count": 39,
   "id": "1d296295",
   "metadata": {},
   "outputs": [
    {
     "name": "stdout",
     "output_type": "stream",
     "text": [
      "Traceback (most recent call last):\n",
      "  File \"/tmp/ipykernel_30163/3472716484.py\", line 2, in <cell line: 1>\n",
      "    raise ValueError\n",
      "ValueError\n",
      "\n",
      "During handling of the above exception, another exception occurred:\n",
      "\n",
      "Traceback (most recent call last):\n",
      "  File \"/tmp/ipykernel_30163/3472716484.py\", line 5, in <cell line: 1>\n",
      "    raise WidgetException(\"custom message\")\n",
      "WidgetException: ('custom message',)\n",
      "\n"
     ]
    }
   ],
   "source": [
    "try:\n",
    "    raise ValueError\n",
    "except ValueError:\n",
    "    try:\n",
    "        raise WidgetException(\"custom message\")\n",
    "    except WidgetException as ex:\n",
    "        tb = traceback.TracebackException.from_exception(ex)\n",
    "        tb = \"\".join(tb.format())\n",
    "        print(tb)"
   ]
  },
  {
   "cell_type": "code",
   "execution_count": 40,
   "id": "62ddefab",
   "metadata": {},
   "outputs": [
    {
     "ename": "WidgetException",
     "evalue": "('custom message',)",
     "output_type": "error",
     "traceback": [
      "\u001b[0;31m---------------------------------------------------------------------------\u001b[0m",
      "\u001b[0;31mValueError\u001b[0m                                Traceback (most recent call last)",
      "Input \u001b[0;32mIn [40]\u001b[0m, in \u001b[0;36m<cell line: 1>\u001b[0;34m()\u001b[0m\n\u001b[1;32m      1\u001b[0m \u001b[38;5;28;01mtry\u001b[39;00m:\n\u001b[0;32m----> 2\u001b[0m     \u001b[38;5;28;01mraise\u001b[39;00m \u001b[38;5;167;01mValueError\u001b[39;00m\n\u001b[1;32m      3\u001b[0m \u001b[38;5;28;01mexcept\u001b[39;00m \u001b[38;5;167;01mValueError\u001b[39;00m:\n",
      "\u001b[0;31mValueError\u001b[0m: ",
      "\nDuring handling of the above exception, another exception occurred:\n",
      "\u001b[0;31mWidgetException\u001b[0m                           Traceback (most recent call last)",
      "Input \u001b[0;32mIn [40]\u001b[0m, in \u001b[0;36m<cell line: 1>\u001b[0;34m()\u001b[0m\n\u001b[1;32m      2\u001b[0m     \u001b[38;5;28;01mraise\u001b[39;00m \u001b[38;5;167;01mValueError\u001b[39;00m\n\u001b[1;32m      3\u001b[0m \u001b[38;5;28;01mexcept\u001b[39;00m \u001b[38;5;167;01mValueError\u001b[39;00m:\n\u001b[0;32m----> 4\u001b[0m     \u001b[38;5;28;01mraise\u001b[39;00m WidgetException(\u001b[38;5;124m\"\u001b[39m\u001b[38;5;124mcustom message\u001b[39m\u001b[38;5;124m\"\u001b[39m)\n",
      "\u001b[0;31mWidgetException\u001b[0m: ('custom message',)"
     ]
    }
   ],
   "source": [
    "try:\n",
    "    raise ValueError\n",
    "except ValueError:\n",
    "    raise WidgetException(\"custom message\")\n",
    "   "
   ]
  },
  {
   "cell_type": "code",
   "execution_count": null,
   "id": "3dc57806",
   "metadata": {},
   "outputs": [],
   "source": []
  },
  {
   "cell_type": "code",
   "execution_count": 43,
   "id": "878b76dd",
   "metadata": {},
   "outputs": [],
   "source": [
    "class WidgetException(Exception):\n",
    "    message = 'Generic Widget exception.'\n",
    "    http_status = HTTPStatus.INTERNAL_SERVER_ERROR\n",
    "    \n",
    "    \n",
    "    def __init__(self, *args, customer_message=None):\n",
    "        super().__init__(args)\n",
    "        if args:\n",
    "            self.message = args[0]\n",
    "        self.customer_message = customer_message if customer_message is not None else self.message    \n",
    "        \n",
    "    @property\n",
    "    def traceback(self):\n",
    "        tb = traceback.TracebackException.from_exception(self)\n",
    "        tb = tb.format()\n",
    "        return tb    \n",
    "    \n",
    "    \n",
    "    def log_exception(self):\n",
    "        exception = {\n",
    "            \"type\": type(self).__name__,\n",
    "            \"message\": self.message,\n",
    "            \"args\": self.args[1:],\n",
    "            \"traceback\": list(self.traceback)\n",
    "        }\n",
    "        print(f\"EXCEPTION: {datetime.utcnow().isoformat()}: {exception}\")\n",
    "        \n",
    "    def to_json(self):\n",
    "        response = {\n",
    "            \"code\": self.http_status.value,\n",
    "            \"message\": f\"{self.http_status.phrase}: {self.customer_message}\",\n",
    "            \"category\": type(self).__name__,\n",
    "            \"time_utc\": datetime.utcnow().isoformat()\n",
    "\n",
    "        }\n",
    "        return json.dumps(response)"
   ]
  },
  {
   "cell_type": "code",
   "execution_count": 49,
   "id": "757dd3a4",
   "metadata": {},
   "outputs": [
    {
     "name": "stdout",
     "output_type": "stream",
     "text": [
      "EXCEPTION: 2023-07-02T14:35:05.361793: {'type': 'WidgetException', 'message': 'Generic Widget exception.', 'args': (), 'traceback': ['Traceback (most recent call last):\\n', '  File \"/tmp/ipykernel_30163/1966510761.py\", line 2, in <cell line: 1>\\n    raise WidgetException()\\n', 'WidgetException: ()\\n']}\n",
      "----------\n",
      "{\"code\": 500, \"message\": \"Internal Server Error: Generic Widget exception.\", \"category\": \"WidgetException\", \"time_utc\": \"2023-07-02T14:35:05.361942\"}\n"
     ]
    }
   ],
   "source": [
    "try:\n",
    "    raise WidgetException()\n",
    "except WidgetException as ex:\n",
    "    ex.log_exception()\n",
    "    print(\"-\"*10)\n",
    "    print(ex.to_json())"
   ]
  },
  {
   "cell_type": "code",
   "execution_count": 50,
   "id": "2f6a7b9c",
   "metadata": {},
   "outputs": [
    {
     "name": "stdout",
     "output_type": "stream",
     "text": [
      "Traceback (most recent call last):\n",
      "  File \"/tmp/ipykernel_30163/3805027978.py\", line 2, in <cell line: 1>\n",
      "    a = 1 / 0\n",
      "ZeroDivisionError: division by zero\n",
      "\n",
      "During handling of the above exception, another exception occurred:\n",
      "\n",
      "Traceback (most recent call last):\n",
      "  File \"/tmp/ipykernel_30163/3805027978.py\", line 5, in <cell line: 1>\n",
      "    raise WidgetException()\n",
      "WidgetException: ()\n",
      "\n"
     ]
    }
   ],
   "source": [
    "try:\n",
    "    a = 1 / 0\n",
    "except ZeroDivisionError:\n",
    "    try:\n",
    "        raise WidgetException()\n",
    "    except WidgetException as ex:\n",
    "        print(\"\".join(ex.traceback))"
   ]
  },
  {
   "cell_type": "code",
   "execution_count": 51,
   "id": "06fcc75f",
   "metadata": {},
   "outputs": [],
   "source": [
    "class SupplierException(WidgetException):\n",
    "    message = \"Supplier exception.\"\n",
    "    \n",
    "class NotManufacturedException(SupplierException):\n",
    "    message = \"Widget is no longer manufactured by supplier.\"\n",
    "    \n",
    "class ProductionDelayedException(SupplierException):\n",
    "    message = \"Widget production has been delayed by manufacturer.\"\n",
    "    \n",
    "class ShippingDelayedException(SupplierException):\n",
    "    message = \"Widget shipping has been delayed by supplier.\"\n",
    "    \n",
    "class CheckoutException(WidgetException):\n",
    "    message = \"Checkout exception\"\n",
    "    \n",
    "class InventoryException(CheckoutException):\n",
    "    message = \"Checkout inventory exception\"\n",
    "     \n",
    "class OutOfStockException(InventoryException):\n",
    "    message = \"Inventory out of stock\"\n",
    "    \n",
    "class PricingException(CheckoutException):\n",
    "    message = \"Checkout pricing exception\"\n",
    "    \n",
    "class InvalidCouponCodeException(PricingException):\n",
    "    message = \"Invalid checkout coupon code.\"\n",
    "    \n",
    "class CannotStackCouponException(PricingException):\n",
    "    message = \"Cannot stack checkout coupon code.\""
   ]
  },
  {
   "cell_type": "code",
   "execution_count": 53,
   "id": "c3b7898e",
   "metadata": {},
   "outputs": [],
   "source": [
    "e = InvalidCouponCodeException(\"User tried to pull a fast one on us.\",\n",
    "                              customer_message=\"Sorry. This coupon is not valid.\")"
   ]
  },
  {
   "cell_type": "code",
   "execution_count": 54,
   "id": "baaad565",
   "metadata": {},
   "outputs": [
    {
     "name": "stdout",
     "output_type": "stream",
     "text": [
      "EXCEPTION: 2023-07-02T14:38:01.998072: {'type': 'InvalidCouponCodeException', 'message': 'User tried to pull a fast one on us.', 'args': (), 'traceback': [\"InvalidCouponCodeException: ('User tried to pull a fast one on us.',)\\n\"]}\n"
     ]
    }
   ],
   "source": [
    "e.log_exception()"
   ]
  },
  {
   "cell_type": "code",
   "execution_count": 55,
   "id": "c4cb16c8",
   "metadata": {},
   "outputs": [
    {
     "data": {
      "text/plain": [
       "'{\"code\": 500, \"message\": \"Internal Server Error: Sorry. This coupon is not valid.\", \"category\": \"InvalidCouponCodeException\", \"time_utc\": \"2023-07-02T14:38:22.066310\"}'"
      ]
     },
     "execution_count": 55,
     "metadata": {},
     "output_type": "execute_result"
    }
   ],
   "source": [
    "e.to_json()"
   ]
  },
  {
   "cell_type": "code",
   "execution_count": 56,
   "id": "688deff3",
   "metadata": {},
   "outputs": [
    {
     "name": "stdout",
     "output_type": "stream",
     "text": [
      "EXCEPTION: 2023-07-02T14:40:28.201629: {'type': 'InvalidCouponCodeException', 'message': 'User tried to pull a fast one on us.', 'args': (), 'traceback': ['Traceback (most recent call last):\\n', '  File \"/tmp/ipykernel_30163/3126969583.py\", line 2, in <cell line: 1>\\n    raise ValueError\\n', 'ValueError\\n', '\\nDuring handling of the above exception, another exception occurred:\\n\\n', 'Traceback (most recent call last):\\n', '  File \"/tmp/ipykernel_30163/3126969583.py\", line 5, in <cell line: 1>\\n    raise InvalidCouponCodeException(\"User tried to pull a fast one on us.\",\\n', \"InvalidCouponCodeException: ('User tried to pull a fast one on us.',)\\n\"]}\n",
      "----------\n",
      "{\"code\": 500, \"message\": \"Internal Server Error: Sorry. This coupon is not valid.\", \"category\": \"InvalidCouponCodeException\", \"time_utc\": \"2023-07-02T14:40:28.201800\"}\n",
      "----------\n",
      "Traceback (most recent call last):\n",
      "  File \"/tmp/ipykernel_30163/3126969583.py\", line 2, in <cell line: 1>\n",
      "    raise ValueError\n",
      "ValueError\n",
      "\n",
      "During handling of the above exception, another exception occurred:\n",
      "\n",
      "Traceback (most recent call last):\n",
      "  File \"/tmp/ipykernel_30163/3126969583.py\", line 5, in <cell line: 1>\n",
      "    raise InvalidCouponCodeException(\"User tried to pull a fast one on us.\",\n",
      "InvalidCouponCodeException: ('User tried to pull a fast one on us.',)\n",
      "\n"
     ]
    }
   ],
   "source": [
    "try:\n",
    "    raise ValueError\n",
    "except ValueError:\n",
    "    try:\n",
    "        raise InvalidCouponCodeException(\"User tried to pull a fast one on us.\",\n",
    "                              customer_message=\"Sorry. This coupon is not valid.\")\n",
    "    except InvalidCouponCodeException as ex:\n",
    "        ex.log_exception()\n",
    "        print(\"-\"*10)\n",
    "        print(ex.to_json())\n",
    "        print(\"-\"*10)\n",
    "        print(\"\".join(ex.traceback))"
   ]
  },
  {
   "cell_type": "code",
   "execution_count": null,
   "id": "56eb90c6",
   "metadata": {},
   "outputs": [],
   "source": []
  },
  {
   "cell_type": "code",
   "execution_count": null,
   "id": "211211d1",
   "metadata": {},
   "outputs": [],
   "source": []
  }
 ],
 "metadata": {
  "kernelspec": {
   "display_name": "Python 3 (ipykernel)",
   "language": "python",
   "name": "python3"
  },
  "language_info": {
   "codemirror_mode": {
    "name": "ipython",
    "version": 3
   },
   "file_extension": ".py",
   "mimetype": "text/x-python",
   "name": "python",
   "nbconvert_exporter": "python",
   "pygments_lexer": "ipython3",
   "version": "3.9.12"
  }
 },
 "nbformat": 4,
 "nbformat_minor": 5
}
