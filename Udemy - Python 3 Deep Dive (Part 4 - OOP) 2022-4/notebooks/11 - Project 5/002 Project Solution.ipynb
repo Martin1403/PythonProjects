{
 "cells": [
  {
   "cell_type": "markdown",
   "id": "83ac14a8",
   "metadata": {},
   "source": [
    "# Project Solution"
   ]
  },
  {
   "cell_type": "code",
   "execution_count": 2,
   "id": "7c049461",
   "metadata": {},
   "outputs": [],
   "source": [
    "class GenericException(Exception):\n",
    "    pass\n",
    "\n",
    "class Timeout(Exception):\n",
    "    pass"
   ]
  },
  {
   "cell_type": "code",
   "execution_count": 10,
   "id": "f5ec0634",
   "metadata": {},
   "outputs": [],
   "source": [
    "from enum import Enum, unique\n",
    "\n",
    "@unique\n",
    "class AppException(Enum):\n",
    "    Generic = 100, GenericException, \"Application exception\"\n",
    "    Timeout = 101, Timeout, \"Timeout connecting to resource\"\n",
    "    NotAnInteger = 200, ValueError, \"Value must be an integer\"\n",
    "    NotList = 201, ValueError, \"Value must be a list\"\n",
    "    \n",
    "    def __new__(cls, ex_code, ex_class, ex_message):\n",
    "        member = object.__new__(cls)\n",
    "        member._value_ = ex_code\n",
    "        member.exception = ex_class\n",
    "        member.message = ex_message\n",
    "        \n",
    "        return member"
   ]
  },
  {
   "cell_type": "code",
   "execution_count": 11,
   "id": "f7348887",
   "metadata": {},
   "outputs": [
    {
     "data": {
      "text/plain": [
       "(101, 'Timeout connecting to resource', __main__.Timeout)"
      ]
     },
     "execution_count": 11,
     "metadata": {},
     "output_type": "execute_result"
    }
   ],
   "source": [
    "AppException.Timeout.value, AppException.Timeout.message, AppException.Timeout.exception"
   ]
  },
  {
   "cell_type": "code",
   "execution_count": 16,
   "id": "4309c381",
   "metadata": {},
   "outputs": [
    {
     "name": "stdout",
     "output_type": "stream",
     "text": [
      "101 - Timeout connecting to resource\n"
     ]
    }
   ],
   "source": [
    "try:\n",
    "    raise AppException.Timeout.exception(\n",
    "        f\"{AppException.Timeout.value} - {AppException.Timeout.message}\")\n",
    "except Timeout as ex:\n",
    "    print(ex)"
   ]
  },
  {
   "cell_type": "code",
   "execution_count": 17,
   "id": "61d25132",
   "metadata": {},
   "outputs": [
    {
     "data": {
      "text/plain": [
       "<AppException.Timeout: 101>"
      ]
     },
     "execution_count": 17,
     "metadata": {},
     "output_type": "execute_result"
    }
   ],
   "source": [
    "AppException(101)"
   ]
  },
  {
   "cell_type": "code",
   "execution_count": null,
   "id": "1d62d1e6",
   "metadata": {},
   "outputs": [],
   "source": []
  },
  {
   "cell_type": "code",
   "execution_count": 20,
   "id": "e2edbc01",
   "metadata": {},
   "outputs": [],
   "source": [
    "from enum import Enum, unique\n",
    "\n",
    "@unique\n",
    "class AppException(Enum):\n",
    "    Generic = 100, GenericException, \"Application exception\"\n",
    "    Timeout = 101, Timeout, \"Timeout connecting to resource\"\n",
    "    NotAnInteger = 200, ValueError, \"Value must be an integer\"\n",
    "    NotList = 201, ValueError, \"Value must be a list\"\n",
    "    \n",
    "    def __new__(cls, ex_code, ex_class, ex_message):\n",
    "        member = object.__new__(cls)\n",
    "        member._value_ = ex_code\n",
    "        member.exception = ex_class\n",
    "        member.message = ex_message\n",
    "        \n",
    "        return member\n",
    "    \n",
    "    @property\n",
    "    def code(self):\n",
    "        return self.value\n",
    "    \n",
    "    def throw(self, message=None):\n",
    "        message = message or self.message\n",
    "        raise self.exception(f\"{self.code} - {message}\")"
   ]
  },
  {
   "cell_type": "code",
   "execution_count": 21,
   "id": "94399cef",
   "metadata": {},
   "outputs": [
    {
     "name": "stdout",
     "output_type": "stream",
     "text": [
      "200 - Some error message\n"
     ]
    }
   ],
   "source": [
    "try:\n",
    "    AppException.NotAnInteger.throw(\"Some error message\")\n",
    "except ValueError as ex:\n",
    "    print(ex)"
   ]
  },
  {
   "cell_type": "code",
   "execution_count": 22,
   "id": "553b943b",
   "metadata": {},
   "outputs": [
    {
     "data": {
      "text/plain": [
       "[<AppException.Generic: 100>,\n",
       " <AppException.Timeout: 101>,\n",
       " <AppException.NotAnInteger: 200>,\n",
       " <AppException.NotList: 201>]"
      ]
     },
     "execution_count": 22,
     "metadata": {},
     "output_type": "execute_result"
    }
   ],
   "source": [
    "list(AppException)"
   ]
  },
  {
   "cell_type": "code",
   "execution_count": 24,
   "id": "61af747e",
   "metadata": {},
   "outputs": [
    {
     "data": {
      "text/plain": [
       "[('Generic', 100, 'GenericException', 'Application exception'),\n",
       " ('Timeout', 101, 'Timeout', 'Timeout connecting to resource'),\n",
       " ('NotAnInteger', 200, 'ValueError', 'Value must be an integer'),\n",
       " ('NotList', 201, 'ValueError', 'Value must be a list')]"
      ]
     },
     "execution_count": 24,
     "metadata": {},
     "output_type": "execute_result"
    }
   ],
   "source": [
    "[(ex.name, ex.code, ex.exception.__name__, ex.message) for ex in AppException]"
   ]
  },
  {
   "cell_type": "code",
   "execution_count": null,
   "id": "e276a37c",
   "metadata": {},
   "outputs": [],
   "source": []
  },
  {
   "cell_type": "code",
   "execution_count": null,
   "id": "13039d87",
   "metadata": {},
   "outputs": [],
   "source": []
  },
  {
   "cell_type": "code",
   "execution_count": null,
   "id": "1db0df3b",
   "metadata": {},
   "outputs": [],
   "source": []
  },
  {
   "cell_type": "code",
   "execution_count": null,
   "id": "d6f4fc24",
   "metadata": {},
   "outputs": [],
   "source": []
  },
  {
   "cell_type": "code",
   "execution_count": null,
   "id": "ea30e5d6",
   "metadata": {},
   "outputs": [],
   "source": []
  },
  {
   "cell_type": "code",
   "execution_count": null,
   "id": "8f1584f8",
   "metadata": {},
   "outputs": [],
   "source": []
  },
  {
   "cell_type": "code",
   "execution_count": null,
   "id": "b4a45611",
   "metadata": {},
   "outputs": [],
   "source": []
  },
  {
   "cell_type": "code",
   "execution_count": null,
   "id": "bdc41671",
   "metadata": {},
   "outputs": [],
   "source": []
  },
  {
   "cell_type": "code",
   "execution_count": null,
   "id": "ac0f9666",
   "metadata": {},
   "outputs": [],
   "source": []
  },
  {
   "cell_type": "code",
   "execution_count": null,
   "id": "4b7d14d7",
   "metadata": {},
   "outputs": [],
   "source": []
  }
 ],
 "metadata": {
  "kernelspec": {
   "display_name": "Python 3 (ipykernel)",
   "language": "python",
   "name": "python3"
  },
  "language_info": {
   "codemirror_mode": {
    "name": "ipython",
    "version": 3
   },
   "file_extension": ".py",
   "mimetype": "text/x-python",
   "name": "python",
   "nbconvert_exporter": "python",
   "pygments_lexer": "ipython3",
   "version": "3.9.12"
  }
 },
 "nbformat": 4,
 "nbformat_minor": 5
}
