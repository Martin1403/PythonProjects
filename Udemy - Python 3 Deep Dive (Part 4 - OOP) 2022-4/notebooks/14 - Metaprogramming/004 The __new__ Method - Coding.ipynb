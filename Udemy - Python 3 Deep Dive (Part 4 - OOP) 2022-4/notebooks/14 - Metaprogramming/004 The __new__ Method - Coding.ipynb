{
 "cells": [
  {
   "cell_type": "markdown",
   "id": "36cb17da",
   "metadata": {},
   "source": [
    "# The __new__ Method - Coding"
   ]
  },
  {
   "cell_type": "code",
   "execution_count": 8,
   "id": "700659a7",
   "metadata": {},
   "outputs": [],
   "source": [
    "class Point(object):\n",
    "    pass"
   ]
  },
  {
   "cell_type": "code",
   "execution_count": 9,
   "id": "810ef8e9",
   "metadata": {},
   "outputs": [
    {
     "data": {
      "text/plain": [
       "__main__.Point"
      ]
     },
     "execution_count": 9,
     "metadata": {},
     "output_type": "execute_result"
    }
   ],
   "source": [
    "p = Point()\n",
    "type(p)"
   ]
  },
  {
   "cell_type": "code",
   "execution_count": 10,
   "id": "4aeaa4a3",
   "metadata": {},
   "outputs": [
    {
     "data": {
      "text/plain": [
       "<__main__.Point at 0x7f35a66602e0>"
      ]
     },
     "execution_count": 10,
     "metadata": {},
     "output_type": "execute_result"
    }
   ],
   "source": [
    "p = object.__new__(Point)\n",
    "p"
   ]
  },
  {
   "cell_type": "code",
   "execution_count": 11,
   "id": "6f65d10f",
   "metadata": {},
   "outputs": [
    {
     "data": {
      "text/plain": [
       "__main__.Point"
      ]
     },
     "execution_count": 11,
     "metadata": {},
     "output_type": "execute_result"
    }
   ],
   "source": [
    "type(p)"
   ]
  },
  {
   "cell_type": "code",
   "execution_count": 12,
   "id": "366e8714",
   "metadata": {},
   "outputs": [],
   "source": [
    "class Point(object):\n",
    "    def __init__(self, x, y):\n",
    "        self.x = x\n",
    "        self.y = y"
   ]
  },
  {
   "cell_type": "code",
   "execution_count": 13,
   "id": "ce255083",
   "metadata": {},
   "outputs": [
    {
     "data": {
      "text/plain": [
       "{}"
      ]
     },
     "execution_count": 13,
     "metadata": {},
     "output_type": "execute_result"
    }
   ],
   "source": [
    "p = object.__new__(Point)\n",
    "p.__dict__"
   ]
  },
  {
   "cell_type": "code",
   "execution_count": 14,
   "id": "17dd28ed",
   "metadata": {},
   "outputs": [
    {
     "data": {
      "text/plain": [
       "{'x': 10, 'y': 20}"
      ]
     },
     "execution_count": 14,
     "metadata": {},
     "output_type": "execute_result"
    }
   ],
   "source": [
    "p.__init__(10, 20)\n",
    "p.__dict__"
   ]
  },
  {
   "cell_type": "code",
   "execution_count": 15,
   "id": "bdaf8758",
   "metadata": {},
   "outputs": [
    {
     "data": {
      "text/plain": [
       "{}"
      ]
     },
     "execution_count": 15,
     "metadata": {},
     "output_type": "execute_result"
    }
   ],
   "source": [
    "p = object.__new__(Point, 10, 20)\n",
    "p.__dict__"
   ]
  },
  {
   "cell_type": "code",
   "execution_count": null,
   "id": "d18c1750",
   "metadata": {},
   "outputs": [],
   "source": [
    "p = Point(10, 20)"
   ]
  },
  {
   "cell_type": "code",
   "execution_count": 17,
   "id": "2e645dbb",
   "metadata": {},
   "outputs": [
    {
     "name": "stdout",
     "output_type": "stream",
     "text": [
      "Creating instance...  10 20\n",
      "Init called...  10 20\n"
     ]
    },
    {
     "data": {
      "text/plain": [
       "{'x': 10, 'y': 20}"
      ]
     },
     "execution_count": 17,
     "metadata": {},
     "output_type": "execute_result"
    }
   ],
   "source": [
    "class Point(object):\n",
    "    \n",
    "    def __new__(cls, x, y):\n",
    "        print(\"Creating instance... \", x, y)\n",
    "        instance = object.__new__(cls) # super\n",
    "        return instance\n",
    "    \n",
    "    def __init__(self, x, y):\n",
    "        print(\"Init called... \", x, y)\n",
    "        self.x = x\n",
    "        self.y = y\n",
    "        \n",
    "        \n",
    "p = Point(10, 20)\n",
    "p.__dict__"
   ]
  },
  {
   "cell_type": "code",
   "execution_count": null,
   "id": "5bcc2661",
   "metadata": {},
   "outputs": [],
   "source": []
  },
  {
   "cell_type": "code",
   "execution_count": 22,
   "id": "e6d25a14",
   "metadata": {},
   "outputs": [
    {
     "name": "stdout",
     "output_type": "stream",
     "text": [
      "Creating instance...  10 20\n",
      "Init called...  10 20\n"
     ]
    },
    {
     "data": {
      "text/plain": [
       "{'x': 10, 'y': 20}"
      ]
     },
     "execution_count": 22,
     "metadata": {},
     "output_type": "execute_result"
    }
   ],
   "source": [
    "class Point(object):\n",
    "    \n",
    "    def __new__(cls, x, y):\n",
    "        print(\"Creating instance... \", x, y)\n",
    "        instance = super().__new__(cls)\n",
    "        return instance\n",
    "    \n",
    "    def __init__(self, x, y):\n",
    "        print(\"Init called... \", x, y)\n",
    "        self.x = x\n",
    "        self.y = y\n",
    "        \n",
    "        \n",
    "p = Point(10, 20)\n",
    "p.__dict__"
   ]
  },
  {
   "cell_type": "code",
   "execution_count": 24,
   "id": "327cff29",
   "metadata": {},
   "outputs": [
    {
     "data": {
      "text/plain": [
       "16"
      ]
     },
     "execution_count": 24,
     "metadata": {},
     "output_type": "execute_result"
    }
   ],
   "source": [
    "class Square(int):\n",
    "    def __new__(cls, x):\n",
    "        return super().__new__(cls, x**2)\n",
    "    \n",
    "result = Square(4)\n",
    "result"
   ]
  },
  {
   "cell_type": "code",
   "execution_count": 25,
   "id": "053654c2",
   "metadata": {},
   "outputs": [
    {
     "data": {
      "text/plain": [
       "__main__.Square"
      ]
     },
     "execution_count": 25,
     "metadata": {},
     "output_type": "execute_result"
    }
   ],
   "source": [
    "type(result)"
   ]
  },
  {
   "cell_type": "code",
   "execution_count": 26,
   "id": "fc5d0e65",
   "metadata": {},
   "outputs": [
    {
     "data": {
      "text/plain": [
       "True"
      ]
     },
     "execution_count": 26,
     "metadata": {},
     "output_type": "execute_result"
    }
   ],
   "source": [
    "isinstance(result, int)"
   ]
  },
  {
   "cell_type": "code",
   "execution_count": 27,
   "id": "81fe0b50",
   "metadata": {},
   "outputs": [
    {
     "name": "stdout",
     "output_type": "stream",
     "text": [
      "calling init...\n"
     ]
    },
    {
     "ename": "TypeError",
     "evalue": "object.__init__() takes exactly one argument (the instance to initialize)",
     "output_type": "error",
     "traceback": [
      "\u001b[0;31m---------------------------------------------------------------------------\u001b[0m",
      "\u001b[0;31mTypeError\u001b[0m                                 Traceback (most recent call last)",
      "Input \u001b[0;32mIn [27]\u001b[0m, in \u001b[0;36m<cell line: 6>\u001b[0;34m()\u001b[0m\n\u001b[1;32m      3\u001b[0m         \u001b[38;5;28mprint\u001b[39m(\u001b[38;5;124m\"\u001b[39m\u001b[38;5;124mcalling init...\u001b[39m\u001b[38;5;124m\"\u001b[39m)\n\u001b[1;32m      4\u001b[0m         \u001b[38;5;28msuper\u001b[39m()\u001b[38;5;241m.\u001b[39m\u001b[38;5;21m__init__\u001b[39m(x\u001b[38;5;241m*\u001b[39m\u001b[38;5;241m*\u001b[39m\u001b[38;5;241m2\u001b[39m)\n\u001b[0;32m----> 6\u001b[0m \u001b[43mSquare\u001b[49m\u001b[43m(\u001b[49m\u001b[38;5;241;43m4\u001b[39;49m\u001b[43m)\u001b[49m\n",
      "Input \u001b[0;32mIn [27]\u001b[0m, in \u001b[0;36mSquare.__init__\u001b[0;34m(self, x)\u001b[0m\n\u001b[1;32m      2\u001b[0m \u001b[38;5;28;01mdef\u001b[39;00m \u001b[38;5;21m__init__\u001b[39m(\u001b[38;5;28mself\u001b[39m, x):\n\u001b[1;32m      3\u001b[0m     \u001b[38;5;28mprint\u001b[39m(\u001b[38;5;124m\"\u001b[39m\u001b[38;5;124mcalling init...\u001b[39m\u001b[38;5;124m\"\u001b[39m)\n\u001b[0;32m----> 4\u001b[0m     \u001b[38;5;28;43msuper\u001b[39;49m\u001b[43m(\u001b[49m\u001b[43m)\u001b[49m\u001b[38;5;241;43m.\u001b[39;49m\u001b[38;5;21;43m__init__\u001b[39;49m\u001b[43m(\u001b[49m\u001b[43mx\u001b[49m\u001b[38;5;241;43m*\u001b[39;49m\u001b[38;5;241;43m*\u001b[39;49m\u001b[38;5;241;43m2\u001b[39;49m\u001b[43m)\u001b[49m\n",
      "\u001b[0;31mTypeError\u001b[0m: object.__init__() takes exactly one argument (the instance to initialize)"
     ]
    }
   ],
   "source": [
    "class Square(int):\n",
    "    def __init__(self, x):\n",
    "        print(\"calling init...\")\n",
    "        super().__init__(x**2)\n",
    "        \n",
    "Square(4)        "
   ]
  },
  {
   "cell_type": "code",
   "execution_count": 33,
   "id": "7d9b3fce",
   "metadata": {},
   "outputs": [],
   "source": [
    "class Person:\n",
    "    def __new__(cls, name):\n",
    "        print(f\"Person: instantiating {cls.__name__}...\")\n",
    "        instance = super().__new__(cls)\n",
    "        return instance\n",
    "    \n",
    "    def __init__(self, name):\n",
    "        print(\"Person: initializing instance...\")\n",
    "        self.name = name"
   ]
  },
  {
   "cell_type": "code",
   "execution_count": 34,
   "id": "4bf49e65",
   "metadata": {},
   "outputs": [
    {
     "name": "stdout",
     "output_type": "stream",
     "text": [
      "Person: instantiating Person...\n",
      "Person: initializing instance...\n"
     ]
    },
    {
     "data": {
      "text/plain": [
       "{'name': 'Guido'}"
      ]
     },
     "execution_count": 34,
     "metadata": {},
     "output_type": "execute_result"
    }
   ],
   "source": [
    "p = Person(\"Guido\")\n",
    "p.__dict__"
   ]
  },
  {
   "cell_type": "code",
   "execution_count": 35,
   "id": "61c02690",
   "metadata": {},
   "outputs": [
    {
     "name": "stdout",
     "output_type": "stream",
     "text": [
      "Student: instantiating Student...\n",
      "Student: initializing instance...\n",
      "Person: initializing instance...\n"
     ]
    }
   ],
   "source": [
    "class Student(Person):\n",
    "    def __new__(cls, name, major):\n",
    "        print(f\"Student: instantiating {cls.__name__}...\")\n",
    "        instance = object.__new__(cls)\n",
    "        return instance\n",
    "    \n",
    "    def __init__(self, name, major):\n",
    "        print(\"Student: initializing instance...\")\n",
    "        super().__init__(name)\n",
    "        self.major = major\n",
    "        \n",
    "s = Student(\"John\", \"Major\")"
   ]
  },
  {
   "cell_type": "code",
   "execution_count": 36,
   "id": "6f529d8d",
   "metadata": {},
   "outputs": [
    {
     "name": "stdout",
     "output_type": "stream",
     "text": [
      "Student: instantiating Student...\n",
      "Person: instantiating Student...\n",
      "Student: initializing instance...\n",
      "Person: initializing instance...\n"
     ]
    }
   ],
   "source": [
    "class Student(Person):\n",
    "    def __new__(cls, name, major):\n",
    "        print(f\"Student: instantiating {cls.__name__}...\")\n",
    "        instance = super().__new__(cls, name)\n",
    "        return instance\n",
    "    \n",
    "    def __init__(self, name, major):\n",
    "        print(\"Student: initializing instance...\")\n",
    "        super().__init__(name)\n",
    "        self.major = major\n",
    "        \n",
    "s = Student(\"John\", \"Major\")"
   ]
  },
  {
   "cell_type": "code",
   "execution_count": null,
   "id": "5d27ef71",
   "metadata": {},
   "outputs": [],
   "source": []
  },
  {
   "cell_type": "code",
   "execution_count": 38,
   "id": "26c2e387",
   "metadata": {},
   "outputs": [
    {
     "data": {
      "text/plain": [
       "{'w': 3, 'l': 4}"
      ]
     },
     "execution_count": 38,
     "metadata": {},
     "output_type": "execute_result"
    }
   ],
   "source": [
    "class Square:\n",
    "    def __new__(cls, w, l):\n",
    "        cls.area = lambda self: self.w * self.l\n",
    "        instance = super().__new__(cls)\n",
    "        return instance\n",
    "    \n",
    "    def __init__(self, w, l):\n",
    "        self.w = w\n",
    "        self.l = l\n",
    "        \n",
    "s = Square(3, 4)\n",
    "s.__dict__"
   ]
  },
  {
   "cell_type": "code",
   "execution_count": 42,
   "id": "cb370b44",
   "metadata": {},
   "outputs": [
    {
     "data": {
      "text/plain": [
       "12"
      ]
     },
     "execution_count": 42,
     "metadata": {},
     "output_type": "execute_result"
    }
   ],
   "source": [
    "s.area()"
   ]
  },
  {
   "cell_type": "code",
   "execution_count": null,
   "id": "67f8c3f2",
   "metadata": {},
   "outputs": [],
   "source": []
  },
  {
   "cell_type": "code",
   "execution_count": 50,
   "id": "cb61d69e",
   "metadata": {},
   "outputs": [
    {
     "name": "stdout",
     "output_type": "stream",
     "text": [
      "Init called ... \n"
     ]
    },
    {
     "data": {
      "text/plain": [
       "({'w': 3, 'l': 4}, 12)"
      ]
     },
     "execution_count": 50,
     "metadata": {},
     "output_type": "execute_result"
    }
   ],
   "source": [
    "class Square:\n",
    "    @staticmethod\n",
    "    def __new__(cls, w, l):\n",
    "        cls.area = lambda self: self.w * self.l\n",
    "        instance = super().__new__(cls)\n",
    "        instance.w = w\n",
    "        instance.l = l        \n",
    "        return instance\n",
    "    \n",
    "    def __init__(self, w, l):\n",
    "        print(\"Init called ... \")\n",
    "        \n",
    "s = Square(3, 4)\n",
    "s.__dict__, s.area()"
   ]
  },
  {
   "cell_type": "code",
   "execution_count": 51,
   "id": "2c2bb74d",
   "metadata": {},
   "outputs": [
    {
     "data": {
      "text/plain": [
       "({'w': 3, 'l': 4}, 12)"
      ]
     },
     "execution_count": 51,
     "metadata": {},
     "output_type": "execute_result"
    }
   ],
   "source": [
    "s = Square.__new__(Square, 3, 4)\n",
    "s.__dict__, s.area()"
   ]
  },
  {
   "cell_type": "code",
   "execution_count": 52,
   "id": "788e7a83",
   "metadata": {},
   "outputs": [
    {
     "name": "stdout",
     "output_type": "stream",
     "text": [
      "Init called ... \n"
     ]
    },
    {
     "data": {
      "text/plain": [
       "{'w': 3, 'l': 4}"
      ]
     },
     "execution_count": 52,
     "metadata": {},
     "output_type": "execute_result"
    }
   ],
   "source": [
    "s = Square(3, 4)\n",
    "s.__dict__"
   ]
  },
  {
   "cell_type": "code",
   "execution_count": 53,
   "id": "64e45426",
   "metadata": {},
   "outputs": [
    {
     "name": "stdout",
     "output_type": "stream",
     "text": [
      "Creating instance of Person... not really...\n"
     ]
    },
    {
     "data": {
      "text/plain": [
       "('Alex', str)"
      ]
     },
     "execution_count": 53,
     "metadata": {},
     "output_type": "execute_result"
    }
   ],
   "source": [
    "class Person:\n",
    "    def __new__(cls, name):\n",
    "        print(f\"Creating instance of {cls.__name__}... not really...\")\n",
    "        instance = str(name)\n",
    "        return instance\n",
    "    \n",
    "p = Person(\"Alex\")\n",
    "p, type(p)"
   ]
  },
  {
   "cell_type": "code",
   "execution_count": 55,
   "id": "95fd9a17",
   "metadata": {},
   "outputs": [
    {
     "name": "stdout",
     "output_type": "stream",
     "text": [
      "Creating instance of Person... not really...\n"
     ]
    },
    {
     "ename": "AttributeError",
     "evalue": "'str' object has no attribute '__dict__'",
     "output_type": "error",
     "traceback": [
      "\u001b[0;31m---------------------------------------------------------------------------\u001b[0m",
      "\u001b[0;31mAttributeError\u001b[0m                            Traceback (most recent call last)",
      "Input \u001b[0;32mIn [55]\u001b[0m, in \u001b[0;36m<cell line: 12>\u001b[0;34m()\u001b[0m\n\u001b[1;32m      9\u001b[0m         \u001b[38;5;28mself\u001b[39m\u001b[38;5;241m.\u001b[39mname \u001b[38;5;241m=\u001b[39m name\n\u001b[1;32m     11\u001b[0m p \u001b[38;5;241m=\u001b[39m Person(\u001b[38;5;124m\"\u001b[39m\u001b[38;5;124mAlex\u001b[39m\u001b[38;5;124m\"\u001b[39m)\n\u001b[0;32m---> 12\u001b[0m p, \u001b[38;5;28mtype\u001b[39m(p), \u001b[43mp\u001b[49m\u001b[38;5;241;43m.\u001b[39;49m\u001b[38;5;18;43m__dict__\u001b[39;49m\n",
      "\u001b[0;31mAttributeError\u001b[0m: 'str' object has no attribute '__dict__'"
     ]
    }
   ],
   "source": [
    "class Person:\n",
    "    def __new__(cls, name):\n",
    "        print(f\"Creating instance of {cls.__name__}... not really...\")\n",
    "        instance = str(name)\n",
    "        return instance\n",
    "    \n",
    "    def __init__(self, name):\n",
    "        print(\"Init called...\")\n",
    "        self.name = name\n",
    "    \n",
    "p = Person(\"Alex\")\n",
    "p, type(p), p.__dict__"
   ]
  },
  {
   "cell_type": "code",
   "execution_count": null,
   "id": "e0ad5e7e",
   "metadata": {},
   "outputs": [],
   "source": []
  },
  {
   "cell_type": "code",
   "execution_count": null,
   "id": "0d52e16f",
   "metadata": {},
   "outputs": [],
   "source": []
  },
  {
   "cell_type": "code",
   "execution_count": null,
   "id": "af60cf83",
   "metadata": {},
   "outputs": [],
   "source": []
  },
  {
   "cell_type": "code",
   "execution_count": null,
   "id": "f6423c74",
   "metadata": {},
   "outputs": [],
   "source": []
  }
 ],
 "metadata": {
  "kernelspec": {
   "display_name": "Python 3 (ipykernel)",
   "language": "python",
   "name": "python3"
  },
  "language_info": {
   "codemirror_mode": {
    "name": "ipython",
    "version": 3
   },
   "file_extension": ".py",
   "mimetype": "text/x-python",
   "name": "python",
   "nbconvert_exporter": "python",
   "pygments_lexer": "ipython3",
   "version": "3.9.12"
  }
 },
 "nbformat": 4,
 "nbformat_minor": 5
}
