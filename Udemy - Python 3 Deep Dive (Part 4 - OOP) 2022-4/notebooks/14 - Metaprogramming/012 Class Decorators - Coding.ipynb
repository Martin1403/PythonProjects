{
 "cells": [
  {
   "cell_type": "markdown",
   "id": "b73fdb76",
   "metadata": {},
   "source": [
    "# Class Decorators - Coding"
   ]
  },
  {
   "cell_type": "code",
   "execution_count": 8,
   "id": "d867cb2a",
   "metadata": {},
   "outputs": [],
   "source": [
    "def savings(cls):\n",
    "    cls.account_type = \"savings\"\n",
    "    return cls\n",
    "    \n",
    "def checking(cls):\n",
    "    cls.account_type = \"checking\"\n",
    "    return cls\n"
   ]
  },
  {
   "cell_type": "code",
   "execution_count": 14,
   "id": "745386ef",
   "metadata": {},
   "outputs": [],
   "source": [
    "class Account:\n",
    "    pass\n",
    "\n",
    "@savings\n",
    "class Bank1Savings(Account):\n",
    "    pass\n",
    "\n",
    "@savings \n",
    "class Bank2Savings(Account):\n",
    "    pass\n",
    "\n",
    "@checking\n",
    "class Bank1Checking(Account):\n",
    "    pass\n",
    "\n",
    "@checking\n",
    "class Bank2Checking(Account):\n",
    "    pass"
   ]
  },
  {
   "cell_type": "code",
   "execution_count": 15,
   "id": "0e7f8e2f",
   "metadata": {},
   "outputs": [
    {
     "data": {
      "text/plain": [
       "mappingproxy({'__module__': '__main__',\n",
       "              '__doc__': None,\n",
       "              'account_type': 'savings'})"
      ]
     },
     "execution_count": 15,
     "metadata": {},
     "output_type": "execute_result"
    }
   ],
   "source": [
    "Bank1Savings.__dict__"
   ]
  },
  {
   "cell_type": "code",
   "execution_count": 16,
   "id": "623381cb",
   "metadata": {},
   "outputs": [
    {
     "data": {
      "text/plain": [
       "mappingproxy({'__module__': '__main__',\n",
       "              '__doc__': None,\n",
       "              'account_type': 'checking'})"
      ]
     },
     "execution_count": 16,
     "metadata": {},
     "output_type": "execute_result"
    }
   ],
   "source": [
    "Bank2Checking.__dict__"
   ]
  },
  {
   "cell_type": "code",
   "execution_count": 19,
   "id": "0bc93ca8",
   "metadata": {},
   "outputs": [],
   "source": [
    "def account_type(type_):\n",
    "    def decorator(cls):\n",
    "        cls.account_type = type_\n",
    "        return cls\n",
    "    return decorator"
   ]
  },
  {
   "cell_type": "code",
   "execution_count": 20,
   "id": "06abca4c",
   "metadata": {},
   "outputs": [],
   "source": [
    "@account_type(\"Savings\")\n",
    "class Bank1Savings:\n",
    "    pass\n",
    "\n",
    "@account_type(\"Checking\")\n",
    "class Bank1Checking:\n",
    "    pass"
   ]
  },
  {
   "cell_type": "code",
   "execution_count": 21,
   "id": "168af72d",
   "metadata": {},
   "outputs": [
    {
     "data": {
      "text/plain": [
       "(mappingproxy({'__module__': '__main__',\n",
       "               '__dict__': <attribute '__dict__' of 'Bank1Savings' objects>,\n",
       "               '__weakref__': <attribute '__weakref__' of 'Bank1Savings' objects>,\n",
       "               '__doc__': None,\n",
       "               'account_type': 'Savings'}),\n",
       " mappingproxy({'__module__': '__main__',\n",
       "               '__dict__': <attribute '__dict__' of 'Bank1Checking' objects>,\n",
       "               '__weakref__': <attribute '__weakref__' of 'Bank1Checking' objects>,\n",
       "               '__doc__': None,\n",
       "               'account_type': 'Checking'}))"
      ]
     },
     "execution_count": 21,
     "metadata": {},
     "output_type": "execute_result"
    }
   ],
   "source": [
    "Bank1Savings.__dict__, Bank1Checking.__dict__"
   ]
  },
  {
   "cell_type": "code",
   "execution_count": 22,
   "id": "3d41b874",
   "metadata": {},
   "outputs": [],
   "source": [
    "def hello(cls):\n",
    "    cls.hello = lambda self: f\"{self} says hello!\"\n",
    "    return cls"
   ]
  },
  {
   "cell_type": "code",
   "execution_count": 23,
   "id": "28008229",
   "metadata": {},
   "outputs": [
    {
     "data": {
      "text/plain": [
       "mappingproxy({'__module__': '__main__',\n",
       "              '__init__': <function __main__.Person.__init__(self, name)>,\n",
       "              '__str__': <function __main__.Person.__str__(self)>,\n",
       "              '__dict__': <attribute '__dict__' of 'Person' objects>,\n",
       "              '__weakref__': <attribute '__weakref__' of 'Person' objects>,\n",
       "              '__doc__': None,\n",
       "              'hello': <function __main__.hello.<locals>.<lambda>(self)>})"
      ]
     },
     "execution_count": 23,
     "metadata": {},
     "output_type": "execute_result"
    }
   ],
   "source": [
    "@hello\n",
    "class Person:\n",
    "    def __init__(self, name):\n",
    "        self.name = name\n",
    "        \n",
    "    def __str__(self):\n",
    "        return self.name\n",
    "    \n",
    "vars(Person)"
   ]
  },
  {
   "cell_type": "code",
   "execution_count": 25,
   "id": "9dbcc67f",
   "metadata": {},
   "outputs": [
    {
     "data": {
      "text/plain": [
       "'Guidop says hello!'"
      ]
     },
     "execution_count": 25,
     "metadata": {},
     "output_type": "execute_result"
    }
   ],
   "source": [
    "p = Person(\"Guidop\")\n",
    "p.hello()"
   ]
  },
  {
   "cell_type": "code",
   "execution_count": 26,
   "id": "d66c3005",
   "metadata": {},
   "outputs": [],
   "source": [
    "from functools import wraps"
   ]
  },
  {
   "cell_type": "code",
   "execution_count": 56,
   "id": "919437aa",
   "metadata": {},
   "outputs": [],
   "source": [
    "def fun_logger(fn):\n",
    "    @wraps(fn)\n",
    "    def inner(*args, **kwargs):\n",
    "        result = fn(*args, **kwargs)\n",
    "        print(f\"Log: {fn.__qualname__}({args}, {kwargs} = {result})\")\n",
    "        return result\n",
    "    return inner"
   ]
  },
  {
   "cell_type": "code",
   "execution_count": 29,
   "id": "6bf60ec2",
   "metadata": {},
   "outputs": [],
   "source": [
    "class Person:\n",
    "    @fun_logger\n",
    "    def __init__(self, name, age):\n",
    "        self.name = name\n",
    "        self.age = age\n",
    "        \n",
    "    @fun_logger\n",
    "    def great(self):\n",
    "        return f\"Hello, my name is {self.name}, and I am {self.age} years old\""
   ]
  },
  {
   "cell_type": "code",
   "execution_count": 30,
   "id": "ab3ee027",
   "metadata": {},
   "outputs": [
    {
     "name": "stdout",
     "output_type": "stream",
     "text": [
      "Log: Person.__init__((<__main__.Person object at 0x7f4dd03eb970>, 'John', 78), {} = None)\n"
     ]
    }
   ],
   "source": [
    "p = Person(\"John\", 78)"
   ]
  },
  {
   "cell_type": "code",
   "execution_count": 31,
   "id": "eb49d9a4",
   "metadata": {},
   "outputs": [
    {
     "name": "stdout",
     "output_type": "stream",
     "text": [
      "Log: Person.great((<__main__.Person object at 0x7f4dd03eb970>,), {} = Hello, my name is John, and I am 78 years old)\n"
     ]
    },
    {
     "data": {
      "text/plain": [
       "'Hello, my name is John, and I am 78 years old'"
      ]
     },
     "execution_count": 31,
     "metadata": {},
     "output_type": "execute_result"
    }
   ],
   "source": [
    "p.great()"
   ]
  },
  {
   "cell_type": "code",
   "execution_count": 35,
   "id": "051505b4",
   "metadata": {},
   "outputs": [],
   "source": [
    "def class_logger(cls):\n",
    "    for name, obj in vars(cls).items():\n",
    "        if callable(obj):\n",
    "            print(\"decorating\", cls, name)\n",
    "            setattr(cls, name, fun_logger(obj))\n",
    "    return cls"
   ]
  },
  {
   "cell_type": "code",
   "execution_count": 36,
   "id": "054bf3c6",
   "metadata": {},
   "outputs": [
    {
     "name": "stdout",
     "output_type": "stream",
     "text": [
      "decorating <class '__main__.Person'> __init__\n",
      "decorating <class '__main__.Person'> great\n"
     ]
    }
   ],
   "source": [
    "@class_logger\n",
    "class Person:\n",
    "    def __init__(self, name, age):\n",
    "        self.name = name\n",
    "        self.age = age\n",
    "        \n",
    "    def great(self):\n",
    "        return f\"Hello, my name is {self.name}, and I am {self.age} years old\""
   ]
  },
  {
   "cell_type": "code",
   "execution_count": 34,
   "id": "5973d97e",
   "metadata": {},
   "outputs": [
    {
     "name": "stdout",
     "output_type": "stream",
     "text": [
      "Log: Person.__init__((<__main__.Person object at 0x7f4db6e23910>, 'John', 78), {} = None)\n"
     ]
    }
   ],
   "source": [
    "p = Person(\"John\", 78)"
   ]
  },
  {
   "cell_type": "code",
   "execution_count": 37,
   "id": "8f22da0d",
   "metadata": {},
   "outputs": [
    {
     "name": "stdout",
     "output_type": "stream",
     "text": [
      "Log: Person.great((<__main__.Person object at 0x7f4db6e23910>,), {} = Hello, my name is John, and I am 78 years old)\n"
     ]
    },
    {
     "data": {
      "text/plain": [
       "'Hello, my name is John, and I am 78 years old'"
      ]
     },
     "execution_count": 37,
     "metadata": {},
     "output_type": "execute_result"
    }
   ],
   "source": [
    "p.great()"
   ]
  },
  {
   "cell_type": "code",
   "execution_count": 38,
   "id": "bcf6239d",
   "metadata": {},
   "outputs": [
    {
     "name": "stdout",
     "output_type": "stream",
     "text": [
      "decorating <class '__main__.Person'> instance_method\n"
     ]
    }
   ],
   "source": [
    "@class_logger\n",
    "class Person:\n",
    "    @staticmethod\n",
    "    def static_method():\n",
    "        print(\"static_method invoked...\")\n",
    "        \n",
    "    @classmethod\n",
    "    def cls_method(cls):\n",
    "        print(f\"cls_method invoked for {cls}\")\n",
    "        \n",
    "    def instance_method(self):\n",
    "        print(f\"instance_method invoked for {self}\")"
   ]
  },
  {
   "cell_type": "code",
   "execution_count": 39,
   "id": "2db6a94b",
   "metadata": {},
   "outputs": [
    {
     "data": {
      "text/plain": [
       "mappingproxy({'__module__': '__main__',\n",
       "              'static_method': <staticmethod at 0x7f4db6e02310>,\n",
       "              'cls_method': <classmethod at 0x7f4db6e026d0>,\n",
       "              'instance_method': <function __main__.Person.instance_method(self)>,\n",
       "              '__dict__': <attribute '__dict__' of 'Person' objects>,\n",
       "              '__weakref__': <attribute '__weakref__' of 'Person' objects>,\n",
       "              '__doc__': None})"
      ]
     },
     "execution_count": 39,
     "metadata": {},
     "output_type": "execute_result"
    }
   ],
   "source": [
    "Person.__dict__"
   ]
  },
  {
   "cell_type": "code",
   "execution_count": 41,
   "id": "1c15d6fd",
   "metadata": {},
   "outputs": [
    {
     "data": {
      "text/plain": [
       "False"
      ]
     },
     "execution_count": 41,
     "metadata": {},
     "output_type": "execute_result"
    }
   ],
   "source": [
    "callable(Person.__dict__[\"static_method\"])"
   ]
  },
  {
   "cell_type": "code",
   "execution_count": 44,
   "id": "c683e87d",
   "metadata": {},
   "outputs": [],
   "source": [
    "class Person:\n",
    "    @fun_logger\n",
    "    @staticmethod\n",
    "    def static_method():\n",
    "        pass"
   ]
  },
  {
   "cell_type": "code",
   "execution_count": 45,
   "id": "79bec95c",
   "metadata": {},
   "outputs": [
    {
     "ename": "TypeError",
     "evalue": "'staticmethod' object is not callable",
     "output_type": "error",
     "traceback": [
      "\u001b[0;31m---------------------------------------------------------------------------\u001b[0m",
      "\u001b[0;31mTypeError\u001b[0m                                 Traceback (most recent call last)",
      "Input \u001b[0;32mIn [45]\u001b[0m, in \u001b[0;36m<cell line: 1>\u001b[0;34m()\u001b[0m\n\u001b[0;32m----> 1\u001b[0m \u001b[43mPerson\u001b[49m\u001b[38;5;241;43m.\u001b[39;49m\u001b[43mstatic_method\u001b[49m\u001b[43m(\u001b[49m\u001b[43m)\u001b[49m\n",
      "Input \u001b[0;32mIn [28]\u001b[0m, in \u001b[0;36mfun_logger.<locals>.inner\u001b[0;34m(*args, **kwargs)\u001b[0m\n\u001b[1;32m      2\u001b[0m \u001b[38;5;129m@wraps\u001b[39m(fn)\n\u001b[1;32m      3\u001b[0m \u001b[38;5;28;01mdef\u001b[39;00m \u001b[38;5;21minner\u001b[39m(\u001b[38;5;241m*\u001b[39margs, \u001b[38;5;241m*\u001b[39m\u001b[38;5;241m*\u001b[39mkwargs):\n\u001b[0;32m----> 4\u001b[0m     result \u001b[38;5;241m=\u001b[39m \u001b[43mfn\u001b[49m\u001b[43m(\u001b[49m\u001b[38;5;241;43m*\u001b[39;49m\u001b[43margs\u001b[49m\u001b[43m,\u001b[49m\u001b[43m \u001b[49m\u001b[38;5;241;43m*\u001b[39;49m\u001b[38;5;241;43m*\u001b[39;49m\u001b[43mkwargs\u001b[49m\u001b[43m)\u001b[49m\n\u001b[1;32m      5\u001b[0m     \u001b[38;5;28mprint\u001b[39m(\u001b[38;5;124mf\u001b[39m\u001b[38;5;124m\"\u001b[39m\u001b[38;5;124mLog: \u001b[39m\u001b[38;5;132;01m{\u001b[39;00mfn\u001b[38;5;241m.\u001b[39m\u001b[38;5;18m__qualname__\u001b[39m\u001b[38;5;132;01m}\u001b[39;00m\u001b[38;5;124m(\u001b[39m\u001b[38;5;132;01m{\u001b[39;00margs\u001b[38;5;132;01m}\u001b[39;00m\u001b[38;5;124m, \u001b[39m\u001b[38;5;132;01m{\u001b[39;00mkwargs\u001b[38;5;132;01m}\u001b[39;00m\u001b[38;5;124m = \u001b[39m\u001b[38;5;132;01m{\u001b[39;00mresult\u001b[38;5;132;01m}\u001b[39;00m\u001b[38;5;124m)\u001b[39m\u001b[38;5;124m\"\u001b[39m)\n\u001b[1;32m      6\u001b[0m     \u001b[38;5;28;01mreturn\u001b[39;00m result\n",
      "\u001b[0;31mTypeError\u001b[0m: 'staticmethod' object is not callable"
     ]
    }
   ],
   "source": [
    "Person.static_method()"
   ]
  },
  {
   "cell_type": "code",
   "execution_count": 46,
   "id": "3299c5e7",
   "metadata": {},
   "outputs": [],
   "source": [
    "class Person:\n",
    "    @staticmethod\n",
    "    def static_method():\n",
    "        pass\n",
    "    \n",
    "    @classmethod\n",
    "    def class_method(cls):\n",
    "        pass"
   ]
  },
  {
   "cell_type": "code",
   "execution_count": 48,
   "id": "75501fe2",
   "metadata": {},
   "outputs": [
    {
     "data": {
      "text/plain": [
       "staticmethod"
      ]
     },
     "execution_count": 48,
     "metadata": {},
     "output_type": "execute_result"
    }
   ],
   "source": [
    "type(Person.__dict__[\"static_method\"])"
   ]
  },
  {
   "cell_type": "code",
   "execution_count": 47,
   "id": "6924949c",
   "metadata": {},
   "outputs": [
    {
     "data": {
      "text/plain": [
       "classmethod"
      ]
     },
     "execution_count": 47,
     "metadata": {},
     "output_type": "execute_result"
    }
   ],
   "source": [
    "type(Person.__dict__[\"class_method\"])"
   ]
  },
  {
   "cell_type": "code",
   "execution_count": 50,
   "id": "8c777093",
   "metadata": {},
   "outputs": [
    {
     "data": {
      "text/plain": [
       "<function __main__.Person.static_method()>"
      ]
     },
     "execution_count": 50,
     "metadata": {},
     "output_type": "execute_result"
    }
   ],
   "source": [
    "Person.__dict__[\"static_method\"].__func__"
   ]
  },
  {
   "cell_type": "code",
   "execution_count": 57,
   "id": "e2b8029a",
   "metadata": {},
   "outputs": [],
   "source": [
    "def func_logger(fn):\n",
    "    @wraps(fn)\n",
    "    def inner(*args, **kwargs):\n",
    "        result = fn(*args, **kwargs)\n",
    "        print(f\"Log: {fn.__qualname__}({args}, {kwargs} = {result})\")\n",
    "        return result\n",
    "    return inner"
   ]
  },
  {
   "cell_type": "code",
   "execution_count": 58,
   "id": "984ad69d",
   "metadata": {},
   "outputs": [],
   "source": [
    "def class_logger(cls):\n",
    "    for name, obj in vars(cls).items():\n",
    "        if callable(obj):\n",
    "            print(\"decorating callable\", cls, name)\n",
    "            original_func = obj\n",
    "            decorated_func = func_logger(original_func)\n",
    "            setattr(cls, name, decorated_func)\n",
    "        elif isinstance(obj, staticmethod):\n",
    "            print(\"decorating static method\")\n",
    "            original_func = obj.__func__\n",
    "            decorated_func = func_logger(original_func)\n",
    "            method = staticmethod(decorated_func)\n",
    "            setattr(cls, name, method)\n",
    "        elif isinstance(obj, classmethod):\n",
    "            print(\"decorating classmethod method\")\n",
    "            original_func = obj.__func__\n",
    "            decorated_func = func_logger(original_func)\n",
    "            method = classmethod(decorated_func)\n",
    "            setattr(cls, name, method)            \n",
    "    return cls       "
   ]
  },
  {
   "cell_type": "code",
   "execution_count": 59,
   "id": "6909a17b",
   "metadata": {},
   "outputs": [
    {
     "name": "stdout",
     "output_type": "stream",
     "text": [
      "decorating static method\n",
      "decorating classmethod method\n",
      "decorating callable <class '__main__.Person'> instance_method\n"
     ]
    }
   ],
   "source": [
    "@class_logger\n",
    "class Person:\n",
    "    @staticmethod\n",
    "    def static_method(a, b):\n",
    "        print(\"static_method called ...\", a, b)\n",
    "    \n",
    "    @classmethod\n",
    "    def class_method(cls, a, b):\n",
    "        print(\"class method called ...\", a, b)\n",
    "        \n",
    "    def instance_method(self, a, b):\n",
    "        print(\"instance method called ...\", a, b)"
   ]
  },
  {
   "cell_type": "code",
   "execution_count": 65,
   "id": "af4d2f8d",
   "metadata": {},
   "outputs": [
    {
     "name": "stdout",
     "output_type": "stream",
     "text": [
      "static_method called ... 10 20\n",
      "Log: Person.static_method((10, 20), {} = None)\n"
     ]
    }
   ],
   "source": [
    "Person.static_method(10, 20)"
   ]
  },
  {
   "cell_type": "code",
   "execution_count": 66,
   "id": "e7736ca3",
   "metadata": {},
   "outputs": [
    {
     "name": "stdout",
     "output_type": "stream",
     "text": [
      "instance method called ... 10 20\n",
      "Log: Person.instance_method((<__main__.Person object at 0x7f4db671e460>, 10, 20), {} = None)\n"
     ]
    }
   ],
   "source": [
    "p = Person()\n",
    "p.instance_method(10, 20)"
   ]
  },
  {
   "cell_type": "code",
   "execution_count": 67,
   "id": "d7634bb8",
   "metadata": {},
   "outputs": [
    {
     "name": "stdout",
     "output_type": "stream",
     "text": [
      "decorating callable <class '__main__.Person'> __init__\n"
     ]
    }
   ],
   "source": [
    "@class_logger\n",
    "class Person:\n",
    "    def __init__(self, name):\n",
    "        self._name = name\n",
    "        \n",
    "    @property\n",
    "    def name(self):\n",
    "        return self._name"
   ]
  },
  {
   "cell_type": "code",
   "execution_count": 68,
   "id": "9eef95ec",
   "metadata": {},
   "outputs": [
    {
     "data": {
      "text/plain": [
       "property"
      ]
     },
     "execution_count": 68,
     "metadata": {},
     "output_type": "execute_result"
    }
   ],
   "source": [
    "type(vars(Person)['name'])"
   ]
  },
  {
   "cell_type": "code",
   "execution_count": 69,
   "id": "0ed43a7b",
   "metadata": {},
   "outputs": [
    {
     "data": {
      "text/plain": [
       "True"
      ]
     },
     "execution_count": 69,
     "metadata": {},
     "output_type": "execute_result"
    }
   ],
   "source": [
    "isinstance(Person.__dict__[\"name\"], property)"
   ]
  },
  {
   "cell_type": "code",
   "execution_count": 71,
   "id": "490b77cb",
   "metadata": {},
   "outputs": [
    {
     "data": {
      "text/plain": [
       "(None, <function __main__.Person.name(self)>, None)"
      ]
     },
     "execution_count": 71,
     "metadata": {},
     "output_type": "execute_result"
    }
   ],
   "source": [
    "prop = Person.__dict__[\"name\"]\n",
    "prop.fset, prop.fget, prop.fdel"
   ]
  },
  {
   "cell_type": "code",
   "execution_count": 73,
   "id": "35d8ca0a",
   "metadata": {},
   "outputs": [],
   "source": [
    "def class_logger(cls):\n",
    "    for name, obj in vars(cls).items():\n",
    "        if callable(obj):\n",
    "            print(\"decorating callable\", cls, name)\n",
    "            original_func = obj\n",
    "            decorated_func = func_logger(original_func)\n",
    "            setattr(cls, name, decorated_func)\n",
    "        elif isinstance(obj, staticmethod):\n",
    "            print(\"decorating static method\", cls, name)\n",
    "            original_func = obj.__func__\n",
    "            decorated_func = func_logger(original_func)\n",
    "            method = staticmethod(decorated_func)\n",
    "            setattr(cls, name, method)\n",
    "        elif isinstance(obj, classmethod):\n",
    "            print(\"decorating classmethod method\", cls, name)\n",
    "            original_func = obj.__func__\n",
    "            decorated_func = func_logger(original_func)\n",
    "            method = classmethod(decorated_func)\n",
    "            setattr(cls, name, method)  \n",
    "        elif isinstance(obj, property):\n",
    "            print(\"decorating property\", cls, name)\n",
    "            if obj.fget is not None:\n",
    "                obj = obj.getter(func_logger(obj.fget))\n",
    "            if obj.fset is not None:\n",
    "                obj = obj.setter(func_logger(obj.fset))\n",
    "            if obj.fdel is not None:\n",
    "                obj = obj.deleter(func_logger(obj.fdel))    \n",
    "            setattr(cls, name, obj)    \n",
    "    return cls       "
   ]
  },
  {
   "cell_type": "code",
   "execution_count": 74,
   "id": "27e0c393",
   "metadata": {},
   "outputs": [
    {
     "name": "stdout",
     "output_type": "stream",
     "text": [
      "decorating callable <class '__main__.Person'> __init__\n",
      "decorating property <class '__main__.Person'> name\n"
     ]
    }
   ],
   "source": [
    "@class_logger\n",
    "class Person:\n",
    "    def __init__(self, name):\n",
    "        self._name = name\n",
    "        \n",
    "    @property\n",
    "    def name(self):\n",
    "        return self._name\n",
    "    "
   ]
  },
  {
   "cell_type": "code",
   "execution_count": 76,
   "id": "ed9b09d2",
   "metadata": {},
   "outputs": [
    {
     "name": "stdout",
     "output_type": "stream",
     "text": [
      "Log: Person.__init__((<__main__.Person object at 0x7f4db6b2c430>, 'David'), {} = None)\n"
     ]
    }
   ],
   "source": [
    "p = Person(\"David\")"
   ]
  },
  {
   "cell_type": "code",
   "execution_count": 77,
   "id": "614f8f33",
   "metadata": {},
   "outputs": [
    {
     "name": "stdout",
     "output_type": "stream",
     "text": [
      "Log: Person.name((<__main__.Person object at 0x7f4db6b2c430>,), {} = David)\n"
     ]
    },
    {
     "data": {
      "text/plain": [
       "'David'"
      ]
     },
     "execution_count": 77,
     "metadata": {},
     "output_type": "execute_result"
    }
   ],
   "source": [
    "p.name"
   ]
  },
  {
   "cell_type": "code",
   "execution_count": 79,
   "id": "07306dbd",
   "metadata": {},
   "outputs": [
    {
     "name": "stdout",
     "output_type": "stream",
     "text": [
      "decorating callable <class '__main__.Person'> Other\n",
      "decorating callable <class '__main__.Person'> other\n"
     ]
    }
   ],
   "source": [
    "@class_logger\n",
    "class Person:\n",
    "    class Other:\n",
    "        def __call__(self):\n",
    "            print(\"called instance of other...\")\n",
    "    other = Other()"
   ]
  },
  {
   "cell_type": "code",
   "execution_count": 80,
   "id": "84830f1b",
   "metadata": {},
   "outputs": [
    {
     "data": {
      "text/plain": [
       "<function __main__.Person.Other()>"
      ]
     },
     "execution_count": 80,
     "metadata": {},
     "output_type": "execute_result"
    }
   ],
   "source": [
    "Person.Other"
   ]
  },
  {
   "cell_type": "code",
   "execution_count": 81,
   "id": "cf55a5df",
   "metadata": {},
   "outputs": [
    {
     "data": {
      "text/plain": [
       "<function __main__.func_logger.<locals>.inner()>"
      ]
     },
     "execution_count": 81,
     "metadata": {},
     "output_type": "execute_result"
    }
   ],
   "source": [
    "Person.other"
   ]
  },
  {
   "cell_type": "code",
   "execution_count": 82,
   "id": "b3a8894f",
   "metadata": {},
   "outputs": [],
   "source": [
    "import inspect"
   ]
  },
  {
   "cell_type": "code",
   "execution_count": 83,
   "id": "ce30fe7a",
   "metadata": {},
   "outputs": [],
   "source": [
    "class MyClass:\n",
    "    @staticmethod\n",
    "    def static_method():\n",
    "        pass\n",
    "    \n",
    "    @classmethod\n",
    "    def cls_method(cls):\n",
    "        pass\n",
    "    \n",
    "    def inst_method(self):\n",
    "        pass\n",
    "    \n",
    "    @property\n",
    "    def name(self):\n",
    "        pass\n",
    "    \n",
    "    def __add__(self, other):\n",
    "        pass\n",
    "    \n",
    "    class Other:\n",
    "        def __call__(self):\n",
    "            pass\n",
    "        \n",
    "    other = Other()"
   ]
  },
  {
   "cell_type": "code",
   "execution_count": 84,
   "id": "d90b03e3",
   "metadata": {},
   "outputs": [],
   "source": [
    "keys = (\"static_method\", \"cls_method\", \"inst_method\", \n",
    "        \"name\", \"__add__\", \"Other\", \"other\")\n",
    "inspect_funcs = (\"isroutine\", \"ismethod\", \"isfunction\",\n",
    "                \"isbuiltin\", \"ismethoddescriptor\")"
   ]
  },
  {
   "cell_type": "code",
   "execution_count": 86,
   "id": "34fb0a97",
   "metadata": {},
   "outputs": [
    {
     "name": "stdout",
     "output_type": "stream",
     "text": [
      "                   static_method\tcls_method   \tinst_method  \tname         \t__add__      \tOther        \tother        \n",
      "isroutine          True         \tTrue         \tTrue         \tFalse        \tTrue         \tFalse        \tFalse        \n",
      "ismethod           False        \tFalse        \tFalse        \tFalse        \tFalse        \tFalse        \tFalse        \n",
      "isfunction         False        \tFalse        \tTrue         \tFalse        \tTrue         \tFalse        \tFalse        \n",
      "isbuiltin          False        \tFalse        \tFalse        \tFalse        \tFalse        \tFalse        \tFalse        \n",
      "ismethoddescriptor True         \tTrue         \tFalse        \tFalse        \tFalse        \tFalse        \tFalse        \n"
     ]
    }
   ],
   "source": [
    "max_header_length = max(len(key) for key in keys)\n",
    "max_fname_length = max(len(func) for func in inspect_funcs)\n",
    "print(format('', f'{max_fname_length}s'), '\\t'.join(format(key, f'{max_header_length}s') for key in keys))\n",
    "for inspect_func in inspect_funcs:\n",
    "    fn = getattr(inspect, inspect_func)\n",
    "    inspect_results = (format(str(fn(MyClass.__dict__[key])), f'{max_header_length}s') for key in keys)\n",
    "    print(format(inspect_func, f'{max_fname_length}s'), '\\t'.join(inspect_results))"
   ]
  },
  {
   "cell_type": "code",
   "execution_count": 88,
   "id": "9a0804ac",
   "metadata": {},
   "outputs": [],
   "source": [
    "def class_logger(cls):\n",
    "    for name, obj in vars(cls).items():\n",
    "\n",
    "        if isinstance(obj, staticmethod):\n",
    "            print(\"decorating static method\", cls, name)\n",
    "            original_func = obj.__func__\n",
    "            decorated_func = func_logger(original_func)\n",
    "            method = staticmethod(decorated_func)\n",
    "            setattr(cls, name, method)\n",
    "        elif isinstance(obj, classmethod):\n",
    "            print(\"decorating classmethod method\", cls, name)\n",
    "            original_func = obj.__func__\n",
    "            decorated_func = func_logger(original_func)\n",
    "            method = classmethod(decorated_func)\n",
    "            setattr(cls, name, method)  \n",
    "        elif isinstance(obj, property):\n",
    "            print(\"decorating property\", cls, name)\n",
    "            if obj.fget is not None:\n",
    "                obj = obj.getter(func_logger(obj.fget))\n",
    "            if obj.fset is not None:\n",
    "                obj = obj.setter(func_logger(obj.fset))\n",
    "            if obj.fdel is not None:\n",
    "                obj = obj.deleter(func_logger(obj.fdel))    \n",
    "            setattr(cls, name, obj)    \n",
    "        elif inspect.isroutine(obj):\n",
    "            print(\"decorating callable\", cls, name)\n",
    "            original_func = obj\n",
    "            decorated_func = func_logger(original_func)\n",
    "            setattr(cls, name, decorated_func)\n",
    "    return cls       "
   ]
  },
  {
   "cell_type": "code",
   "execution_count": 89,
   "id": "ea7f0f16",
   "metadata": {},
   "outputs": [
    {
     "name": "stdout",
     "output_type": "stream",
     "text": [
      "decorating static method <class '__main__.MyClass'> static_method\n",
      "decorating classmethod method <class '__main__.MyClass'> cls_method\n",
      "decorating callable <class '__main__.MyClass'> inst_method\n",
      "decorating property <class '__main__.MyClass'> name\n",
      "decorating callable <class '__main__.MyClass'> __add__\n"
     ]
    }
   ],
   "source": [
    "@class_logger\n",
    "class MyClass:\n",
    "    @staticmethod\n",
    "    def static_method():\n",
    "        pass\n",
    "    \n",
    "    @classmethod\n",
    "    def cls_method(cls):\n",
    "        pass\n",
    "    \n",
    "    def inst_method(self):\n",
    "        pass\n",
    "    \n",
    "    @property\n",
    "    def name(self):\n",
    "        pass\n",
    "    \n",
    "    def __add__(self, other):\n",
    "        pass\n",
    "    \n",
    "    class Other:\n",
    "        def __call__(self):\n",
    "            pass\n",
    "        \n",
    "    other = Other()"
   ]
  },
  {
   "cell_type": "code",
   "execution_count": 3,
   "id": "da3d56ce",
   "metadata": {},
   "outputs": [
    {
     "data": {
      "text/plain": [
       "[2, 3, 4, 5, 6, 7, 8, 9, 10, 11]"
      ]
     },
     "execution_count": 3,
     "metadata": {},
     "output_type": "execute_result"
    }
   ],
   "source": [
    "list(reversed(range(11,1,-1)))"
   ]
  },
  {
   "cell_type": "code",
   "execution_count": null,
   "id": "ce8d5778",
   "metadata": {},
   "outputs": [],
   "source": []
  },
  {
   "cell_type": "code",
   "execution_count": 94,
   "id": "424735b3",
   "metadata": {},
   "outputs": [],
   "source": [
    "def class_logger(cls):\n",
    "    for name, obj in vars(cls).items():\n",
    "        if isinstance(obj, classmethod) or isinstance(obj, staticmethod):\n",
    "            print(f\"decorating: {name}\")\n",
    "            type_ = type(obj)\n",
    "            original_func = obj.__func__\n",
    "            decorated_func = func_logger(original_func)\n",
    "            method = type_(decorated_func)\n",
    "            setattr(cls, name, method)            \n",
    "\n",
    "        elif isinstance(obj, property):\n",
    "            print(\"decorating property\", cls, name)\n",
    "            if obj.fget is not None:\n",
    "                obj = obj.getter(func_logger(obj.fget))\n",
    "            if obj.fset is not None:\n",
    "                obj = obj.setter(func_logger(obj.fset))\n",
    "            if obj.fdel is not None:\n",
    "                obj = obj.deleter(func_logger(obj.fdel))    \n",
    "            setattr(cls, name, obj)    \n",
    "        elif inspect.isroutine(obj):\n",
    "            print(\"decorating callable\", cls, name)\n",
    "            original_func = obj\n",
    "            decorated_func = func_logger(original_func)\n",
    "            setattr(cls, name, decorated_func)\n",
    "    return cls       "
   ]
  },
  {
   "cell_type": "code",
   "execution_count": 95,
   "id": "87ce65c1",
   "metadata": {},
   "outputs": [
    {
     "name": "stdout",
     "output_type": "stream",
     "text": [
      "decorating: static_method\n",
      "decorating: cls_method\n",
      "decorating callable <class '__main__.MyClass'> inst_method\n",
      "decorating property <class '__main__.MyClass'> name\n",
      "decorating callable <class '__main__.MyClass'> __add__\n"
     ]
    }
   ],
   "source": [
    "@class_logger\n",
    "class MyClass:\n",
    "    @staticmethod\n",
    "    def static_method():\n",
    "        pass\n",
    "    \n",
    "    @classmethod\n",
    "    def cls_method(cls):\n",
    "        pass\n",
    "    \n",
    "    def inst_method(self):\n",
    "        pass\n",
    "    \n",
    "    @property\n",
    "    def name(self):\n",
    "        pass\n",
    "    \n",
    "    def __add__(self, other):\n",
    "        pass\n",
    "    \n",
    "    class Other:\n",
    "        def __call__(self):\n",
    "            pass\n",
    "        \n",
    "    other = Other()"
   ]
  },
  {
   "cell_type": "code",
   "execution_count": 98,
   "id": "1290163c",
   "metadata": {},
   "outputs": [],
   "source": [
    "def class_logger(cls):\n",
    "    for name, obj in vars(cls).items():\n",
    "        if isinstance(obj, classmethod) or isinstance(obj, staticmethod):\n",
    "            print(f\"decorating: {name}\")\n",
    "            type_ = type(obj)\n",
    "            original_func = obj.__func__\n",
    "            decorated_func = func_logger(original_func)\n",
    "            method = type_(decorated_func)\n",
    "            setattr(cls, name, method)            \n",
    "\n",
    "        elif isinstance(obj, property):\n",
    "            print(\"decorating property\", cls, name)\n",
    "            methods = {(\"fget\", \"getter\"), (\"fset\", \"setter\"),\n",
    "                      (\"fdel\", \"deleter\")}\n",
    "            for prop, method in methods:\n",
    "                if getattr(obj, prop):\n",
    "                    obj = getattr(obj, method)(func_logger(getattr(obj, prop)))\n",
    "            setattr(cls, name, obj)    \n",
    "        elif inspect.isroutine(obj):\n",
    "            print(\"decorating callable\", cls, name)\n",
    "            original_func = obj\n",
    "            decorated_func = func_logger(original_func)\n",
    "            setattr(cls, name, decorated_func)\n",
    "    return cls       "
   ]
  },
  {
   "cell_type": "code",
   "execution_count": 99,
   "id": "4c111a45",
   "metadata": {},
   "outputs": [
    {
     "name": "stdout",
     "output_type": "stream",
     "text": [
      "decorating: static_method\n",
      "decorating: cls_method\n",
      "decorating callable <class '__main__.MyClass'> inst_method\n",
      "decorating property <class '__main__.MyClass'> name\n",
      "decorating callable <class '__main__.MyClass'> __add__\n"
     ]
    }
   ],
   "source": [
    "@class_logger\n",
    "class MyClass:\n",
    "    @staticmethod\n",
    "    def static_method():\n",
    "        pass\n",
    "    \n",
    "    @classmethod\n",
    "    def cls_method(cls):\n",
    "        pass\n",
    "    \n",
    "    def inst_method(self):\n",
    "        pass\n",
    "    \n",
    "    @property\n",
    "    def name(self):\n",
    "        pass\n",
    "    \n",
    "    def __add__(self, other):\n",
    "        pass\n",
    "    \n",
    "    class Other:\n",
    "        def __call__(self):\n",
    "            pass\n",
    "        \n",
    "    other = Other()"
   ]
  },
  {
   "cell_type": "code",
   "execution_count": null,
   "id": "84a3a78c",
   "metadata": {},
   "outputs": [],
   "source": []
  },
  {
   "cell_type": "code",
   "execution_count": null,
   "id": "9a745b01",
   "metadata": {},
   "outputs": [],
   "source": []
  },
  {
   "cell_type": "code",
   "execution_count": null,
   "id": "6109a764",
   "metadata": {},
   "outputs": [],
   "source": []
  },
  {
   "cell_type": "code",
   "execution_count": null,
   "id": "4e32b8df",
   "metadata": {},
   "outputs": [],
   "source": []
  },
  {
   "cell_type": "code",
   "execution_count": null,
   "id": "cc153adc",
   "metadata": {},
   "outputs": [],
   "source": []
  },
  {
   "cell_type": "code",
   "execution_count": null,
   "id": "cd8caa47",
   "metadata": {},
   "outputs": [],
   "source": []
  },
  {
   "cell_type": "code",
   "execution_count": null,
   "id": "d08d1588",
   "metadata": {},
   "outputs": [],
   "source": []
  }
 ],
 "metadata": {
  "kernelspec": {
   "display_name": "Python 3 (ipykernel)",
   "language": "python",
   "name": "python3"
  },
  "language_info": {
   "codemirror_mode": {
    "name": "ipython",
    "version": 3
   },
   "file_extension": ".py",
   "mimetype": "text/x-python",
   "name": "python",
   "nbconvert_exporter": "python",
   "pygments_lexer": "ipython3",
   "version": "3.9.13"
  }
 },
 "nbformat": 4,
 "nbformat_minor": 5
}
