{
 "cells": [
  {
   "cell_type": "markdown",
   "id": "132d52dd",
   "metadata": {},
   "source": [
    "# Decorator Classes - Coding"
   ]
  },
  {
   "cell_type": "code",
   "execution_count": 17,
   "id": "0b0afb8b",
   "metadata": {},
   "outputs": [
    {
     "name": "stdout",
     "output_type": "stream",
     "text": [
      "Log: say_hello called.\n"
     ]
    }
   ],
   "source": [
    "from functools import wraps\n",
    "\n",
    "def logger(fn):\n",
    "    @wraps(fn)\n",
    "    def wrapper(*args, **kwargs):\n",
    "        print(f\"Log: {fn.__name__} called.\")\n",
    "        return fn(*args, **kwargs)\n",
    "    return wrapper\n",
    "\n",
    "@logger\n",
    "def say_hello():\n",
    "    pass\n",
    "\n",
    "say_hello()"
   ]
  },
  {
   "cell_type": "code",
   "execution_count": 18,
   "id": "77999fd5",
   "metadata": {},
   "outputs": [
    {
     "data": {
      "text/plain": [
       "<function __main__.say_hello()>"
      ]
     },
     "execution_count": 18,
     "metadata": {},
     "output_type": "execute_result"
    }
   ],
   "source": [
    "say_hello"
   ]
  },
  {
   "cell_type": "code",
   "execution_count": 19,
   "id": "30e31fab",
   "metadata": {},
   "outputs": [
    {
     "data": {
      "text/plain": [
       "<__main__.Logger at 0x7fb4b2641d90>"
      ]
     },
     "execution_count": 19,
     "metadata": {},
     "output_type": "execute_result"
    }
   ],
   "source": [
    "class Logger:\n",
    "    def __init__(self, fn):\n",
    "        self.fn = fn\n",
    "        \n",
    "    def __call__(self, *args, **kwargs):\n",
    "        print(f\"Log: {self.fn.__name__} called.\")\n",
    "        return self.fn(*args, **kwargs)     \n",
    "    \n",
    "def say_hello():\n",
    "    pass\n",
    "\n",
    "f = Logger(say_hello)\n",
    "f"
   ]
  },
  {
   "cell_type": "code",
   "execution_count": 20,
   "id": "2f38387c",
   "metadata": {},
   "outputs": [
    {
     "name": "stdout",
     "output_type": "stream",
     "text": [
      "Log: say_hello called.\n"
     ]
    }
   ],
   "source": [
    "f()"
   ]
  },
  {
   "cell_type": "code",
   "execution_count": 21,
   "id": "bc21c2eb",
   "metadata": {},
   "outputs": [
    {
     "name": "stdout",
     "output_type": "stream",
     "text": [
      "Log: say_hello called.\n"
     ]
    }
   ],
   "source": [
    "@Logger\n",
    "def say_hello():\n",
    "    pass\n",
    "\n",
    "say_hello()"
   ]
  },
  {
   "cell_type": "code",
   "execution_count": 22,
   "id": "f3914e5e",
   "metadata": {},
   "outputs": [],
   "source": [
    "class Person:\n",
    "    def __init__(self, name):\n",
    "        self.name = name\n",
    "        \n",
    "    @Logger\n",
    "    def say_hello(self):\n",
    "        return f\"{self.name} says hello\"\n",
    "    "
   ]
  },
  {
   "cell_type": "code",
   "execution_count": 23,
   "id": "c06457c4",
   "metadata": {},
   "outputs": [
    {
     "name": "stdout",
     "output_type": "stream",
     "text": [
      "Log: say_hello called.\n"
     ]
    },
    {
     "ename": "TypeError",
     "evalue": "say_hello() missing 1 required positional argument: 'self'",
     "output_type": "error",
     "traceback": [
      "\u001b[0;31m---------------------------------------------------------------------------\u001b[0m",
      "\u001b[0;31mTypeError\u001b[0m                                 Traceback (most recent call last)",
      "Input \u001b[0;32mIn [23]\u001b[0m, in \u001b[0;36m<cell line: 2>\u001b[0;34m()\u001b[0m\n\u001b[1;32m      1\u001b[0m p \u001b[38;5;241m=\u001b[39m Person(\u001b[38;5;124m\"\u001b[39m\u001b[38;5;124mDavid\u001b[39m\u001b[38;5;124m\"\u001b[39m)\n\u001b[0;32m----> 2\u001b[0m \u001b[43mp\u001b[49m\u001b[38;5;241;43m.\u001b[39;49m\u001b[43msay_hello\u001b[49m\u001b[43m(\u001b[49m\u001b[43m)\u001b[49m\n",
      "Input \u001b[0;32mIn [19]\u001b[0m, in \u001b[0;36mLogger.__call__\u001b[0;34m(self, *args, **kwargs)\u001b[0m\n\u001b[1;32m      5\u001b[0m \u001b[38;5;28;01mdef\u001b[39;00m \u001b[38;5;21m__call__\u001b[39m(\u001b[38;5;28mself\u001b[39m, \u001b[38;5;241m*\u001b[39margs, \u001b[38;5;241m*\u001b[39m\u001b[38;5;241m*\u001b[39mkwargs):\n\u001b[1;32m      6\u001b[0m     \u001b[38;5;28mprint\u001b[39m(\u001b[38;5;124mf\u001b[39m\u001b[38;5;124m\"\u001b[39m\u001b[38;5;124mLog: \u001b[39m\u001b[38;5;132;01m{\u001b[39;00m\u001b[38;5;28mself\u001b[39m\u001b[38;5;241m.\u001b[39mfn\u001b[38;5;241m.\u001b[39m\u001b[38;5;18m__name__\u001b[39m\u001b[38;5;132;01m}\u001b[39;00m\u001b[38;5;124m called.\u001b[39m\u001b[38;5;124m\"\u001b[39m)\n\u001b[0;32m----> 7\u001b[0m     \u001b[38;5;28;01mreturn\u001b[39;00m \u001b[38;5;28;43mself\u001b[39;49m\u001b[38;5;241;43m.\u001b[39;49m\u001b[43mfn\u001b[49m\u001b[43m(\u001b[49m\u001b[38;5;241;43m*\u001b[39;49m\u001b[43margs\u001b[49m\u001b[43m,\u001b[49m\u001b[43m \u001b[49m\u001b[38;5;241;43m*\u001b[39;49m\u001b[38;5;241;43m*\u001b[39;49m\u001b[43mkwargs\u001b[49m\u001b[43m)\u001b[49m\n",
      "\u001b[0;31mTypeError\u001b[0m: say_hello() missing 1 required positional argument: 'self'"
     ]
    }
   ],
   "source": [
    "p = Person(\"David\")\n",
    "p.say_hello()"
   ]
  },
  {
   "cell_type": "code",
   "execution_count": 24,
   "id": "4b7352b9",
   "metadata": {},
   "outputs": [
    {
     "data": {
      "text/plain": [
       "<__main__.Logger at 0x7fb4b2641880>"
      ]
     },
     "execution_count": 24,
     "metadata": {},
     "output_type": "execute_result"
    }
   ],
   "source": [
    "p.say_hello"
   ]
  },
  {
   "cell_type": "code",
   "execution_count": 25,
   "id": "9a97ce80",
   "metadata": {},
   "outputs": [
    {
     "data": {
      "text/plain": [
       "<function __main__.Person.__init__(self, name)>"
      ]
     },
     "execution_count": 25,
     "metadata": {},
     "output_type": "execute_result"
    }
   ],
   "source": [
    "Person.__init__"
   ]
  },
  {
   "cell_type": "code",
   "execution_count": 26,
   "id": "36bc91d3",
   "metadata": {},
   "outputs": [
    {
     "data": {
      "text/plain": [
       "True"
      ]
     },
     "execution_count": 26,
     "metadata": {},
     "output_type": "execute_result"
    }
   ],
   "source": [
    "hasattr(Person.__init__, '__get__')"
   ]
  },
  {
   "cell_type": "code",
   "execution_count": 27,
   "id": "b9deffd2",
   "metadata": {},
   "outputs": [
    {
     "data": {
      "text/plain": [
       "False"
      ]
     },
     "execution_count": 27,
     "metadata": {},
     "output_type": "execute_result"
    }
   ],
   "source": [
    "hasattr(Person.say_hello, '__get__')"
   ]
  },
  {
   "cell_type": "code",
   "execution_count": 28,
   "id": "9faa7516",
   "metadata": {},
   "outputs": [],
   "source": [
    "from types import MethodType\n",
    "\n",
    "class Logger:\n",
    "    def __init__(self, fn):\n",
    "        self.fn = fn\n",
    "        \n",
    "    def __call__(self, *args, **kwargs):\n",
    "        print(f\"Log: {self.fn.__name__} called.\")\n",
    "        return self.fn(*args, **kwargs)     \n",
    "    \n",
    "    def __get__(self, instance, owner_class):\n",
    "        print(f\"__get__ called: self={self}, instance={instance}\")\n",
    "        if instance is None:\n",
    "            print(\"\\returning self unbound...\")\n",
    "            return self\n",
    "        else:\n",
    "            print(\"\\treturning self as a method bound to instance\")\n",
    "            return MethodType(self, instance)"
   ]
  },
  {
   "cell_type": "code",
   "execution_count": 31,
   "id": "f0335653",
   "metadata": {},
   "outputs": [],
   "source": [
    "class Person:\n",
    "    def __init__(self, name):\n",
    "        self.name = name\n",
    "        \n",
    "    @Logger\n",
    "    def say_hello(self):\n",
    "        return f\"{self.name} says hello\"\n",
    "    "
   ]
  },
  {
   "cell_type": "code",
   "execution_count": 32,
   "id": "702996ad",
   "metadata": {},
   "outputs": [
    {
     "name": "stdout",
     "output_type": "stream",
     "text": [
      "__get__ called: self=<__main__.Logger object at 0x7fb4b2521550>, instance=<__main__.Person object at 0x7fb4b2664d90>\n",
      "\treturning self as a method bound to instance\n"
     ]
    },
    {
     "data": {
      "text/plain": [
       "<bound method ? of <__main__.Person object at 0x7fb4b2664d90>>"
      ]
     },
     "execution_count": 32,
     "metadata": {},
     "output_type": "execute_result"
    }
   ],
   "source": [
    "p = Person(\"David\")\n",
    "p.say_hello"
   ]
  },
  {
   "cell_type": "code",
   "execution_count": 33,
   "id": "b8336e5a",
   "metadata": {},
   "outputs": [
    {
     "name": "stdout",
     "output_type": "stream",
     "text": [
      "__get__ called: self=<__main__.Logger object at 0x7fb4b2521550>, instance=<__main__.Person object at 0x7fb4b2664d90>\n",
      "\treturning self as a method bound to instance\n",
      "Log: say_hello called.\n"
     ]
    },
    {
     "data": {
      "text/plain": [
       "'David says hello'"
      ]
     },
     "execution_count": 33,
     "metadata": {},
     "output_type": "execute_result"
    }
   ],
   "source": [
    "p.say_hello()"
   ]
  },
  {
   "cell_type": "code",
   "execution_count": 34,
   "id": "49f23a72",
   "metadata": {},
   "outputs": [
    {
     "data": {
      "text/plain": [
       "<__main__.Logger at 0x7fb4b19ae8e0>"
      ]
     },
     "execution_count": 34,
     "metadata": {},
     "output_type": "execute_result"
    }
   ],
   "source": [
    "@Logger\n",
    "def say_bye():\n",
    "    pass\n",
    "\n",
    "say_bye"
   ]
  },
  {
   "cell_type": "code",
   "execution_count": 35,
   "id": "5f006d43",
   "metadata": {},
   "outputs": [
    {
     "name": "stdout",
     "output_type": "stream",
     "text": [
      "Log: say_bye called.\n"
     ]
    }
   ],
   "source": [
    "say_bye()"
   ]
  },
  {
   "cell_type": "code",
   "execution_count": 37,
   "id": "11cb4e66",
   "metadata": {},
   "outputs": [],
   "source": [
    "class Person:\n",
    "    @classmethod\n",
    "    @Logger\n",
    "    def cls_method(cls):\n",
    "        print(\"class method called...\")\n",
    "    \n",
    "    @staticmethod\n",
    "    @Logger\n",
    "    def static_method():\n",
    "        print(\"static method called...\")\n",
    "        \n"
   ]
  },
  {
   "cell_type": "code",
   "execution_count": 38,
   "id": "9fd82986",
   "metadata": {},
   "outputs": [
    {
     "name": "stdout",
     "output_type": "stream",
     "text": [
      "__get__ called: self=<__main__.Logger object at 0x7fb4b18af850>, instance=<class '__main__.Person'>\n",
      "\treturning self as a method bound to instance\n",
      "Log: cls_method called.\n",
      "class method called...\n"
     ]
    }
   ],
   "source": [
    "Person.cls_method()"
   ]
  },
  {
   "cell_type": "code",
   "execution_count": 39,
   "id": "f61bb7e6",
   "metadata": {},
   "outputs": [
    {
     "name": "stdout",
     "output_type": "stream",
     "text": [
      "Log: static_method called.\n",
      "static method called...\n"
     ]
    }
   ],
   "source": [
    "Person.static_method()"
   ]
  },
  {
   "cell_type": "code",
   "execution_count": null,
   "id": "67f5a3fa",
   "metadata": {},
   "outputs": [],
   "source": []
  },
  {
   "cell_type": "code",
   "execution_count": null,
   "id": "95ed4e88",
   "metadata": {},
   "outputs": [],
   "source": []
  },
  {
   "cell_type": "code",
   "execution_count": null,
   "id": "60c21fe6",
   "metadata": {},
   "outputs": [],
   "source": []
  },
  {
   "cell_type": "code",
   "execution_count": null,
   "id": "8723334a",
   "metadata": {},
   "outputs": [],
   "source": []
  },
  {
   "cell_type": "code",
   "execution_count": null,
   "id": "5dc37601",
   "metadata": {},
   "outputs": [],
   "source": []
  },
  {
   "cell_type": "code",
   "execution_count": null,
   "id": "82ad83fd",
   "metadata": {},
   "outputs": [],
   "source": []
  },
  {
   "cell_type": "code",
   "execution_count": null,
   "id": "df4d4fdd",
   "metadata": {},
   "outputs": [],
   "source": []
  }
 ],
 "metadata": {
  "kernelspec": {
   "display_name": "Python 3 (ipykernel)",
   "language": "python",
   "name": "python3"
  },
  "language_info": {
   "codemirror_mode": {
    "name": "ipython",
    "version": 3
   },
   "file_extension": ".py",
   "mimetype": "text/x-python",
   "name": "python",
   "nbconvert_exporter": "python",
   "pygments_lexer": "ipython3",
   "version": "3.9.12"
  }
 },
 "nbformat": 4,
 "nbformat_minor": 5
}
