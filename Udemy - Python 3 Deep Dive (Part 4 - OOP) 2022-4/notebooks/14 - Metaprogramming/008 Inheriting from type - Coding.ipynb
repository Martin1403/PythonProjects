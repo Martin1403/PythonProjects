{
 "cells": [
  {
   "cell_type": "markdown",
   "id": "6ea7b122",
   "metadata": {},
   "source": [
    "# Inheriting from type - Coding"
   ]
  },
  {
   "cell_type": "code",
   "execution_count": 1,
   "id": "64e59e08",
   "metadata": {},
   "outputs": [],
   "source": [
    "class Test:\n",
    "    def __new__(cls, *args, **kwargs):\n",
    "        print(f\"New instance of {cls} being created with these values:\", args, kwargs)\n",
    "        "
   ]
  },
  {
   "cell_type": "code",
   "execution_count": 3,
   "id": "0a9b9585",
   "metadata": {},
   "outputs": [
    {
     "name": "stdout",
     "output_type": "stream",
     "text": [
      "New instance of <class '__main__.Test'> being created with these values: (10, 20) {'kw': 'a'}\n"
     ]
    }
   ],
   "source": [
    "t = Test(10, 20, kw='a')"
   ]
  },
  {
   "cell_type": "code",
   "execution_count": 4,
   "id": "b47e5a86",
   "metadata": {},
   "outputs": [
    {
     "name": "stdout",
     "output_type": "stream",
     "text": [
      "New instance of <class '__main__.Test'> being created with these values: (10, 20) {'kw': 'a'}\n"
     ]
    }
   ],
   "source": [
    "t = Test.__new__(Test, 10, 20, kw='a')"
   ]
  },
  {
   "cell_type": "code",
   "execution_count": 6,
   "id": "a93ba7f7",
   "metadata": {},
   "outputs": [],
   "source": [
    "import math\n",
    "\n",
    "class CustomType(type):\n",
    "    def __new__(cls, name, bases, class_dict):\n",
    "        print(\"Customized type creation\")\n",
    "        cls_obj = super().__new__(cls, name, bases, class_dict)\n",
    "        cls_obj.circ = lambda self: 2 * math.pi * self.r\n",
    "        return cls_obj"
   ]
  },
  {
   "cell_type": "code",
   "execution_count": 7,
   "id": "9028cb4d",
   "metadata": {},
   "outputs": [
    {
     "data": {
      "text/plain": [
       "{'__init__': <function __main__.__init__(self, x, y, r)>,\n",
       " 'area': <function __main__.area(self)>}"
      ]
     },
     "execution_count": 7,
     "metadata": {},
     "output_type": "execute_result"
    }
   ],
   "source": [
    "class_body = \"\"\"\n",
    "def __init__(self, x, y, r):\n",
    "    self.x = x\n",
    "    self.y = y\n",
    "    self.r = r\n",
    "        \n",
    "def area(self):\n",
    "    return math.pi * self.r ** 2\n",
    "\"\"\"\n",
    "class_dict = {}\n",
    "exec(class_body, globals(), class_dict)\n",
    "class_dict"
   ]
  },
  {
   "cell_type": "code",
   "execution_count": 8,
   "id": "975515db",
   "metadata": {},
   "outputs": [
    {
     "name": "stdout",
     "output_type": "stream",
     "text": [
      "Customized type creation\n"
     ]
    },
    {
     "data": {
      "text/plain": [
       "__main__.Circle"
      ]
     },
     "execution_count": 8,
     "metadata": {},
     "output_type": "execute_result"
    }
   ],
   "source": [
    "Circle = CustomType(\"Circle\", (object,), class_dict)\n",
    "Circle"
   ]
  },
  {
   "cell_type": "code",
   "execution_count": 9,
   "id": "b02af629",
   "metadata": {},
   "outputs": [
    {
     "data": {
      "text/plain": [
       "__main__.CustomType"
      ]
     },
     "execution_count": 9,
     "metadata": {},
     "output_type": "execute_result"
    }
   ],
   "source": [
    "type(Circle)"
   ]
  },
  {
   "cell_type": "code",
   "execution_count": 12,
   "id": "772db640",
   "metadata": {},
   "outputs": [
    {
     "data": {
      "text/plain": [
       "True"
      ]
     },
     "execution_count": 12,
     "metadata": {},
     "output_type": "execute_result"
    }
   ],
   "source": [
    "isinstance(Circle, type)"
   ]
  },
  {
   "cell_type": "code",
   "execution_count": 16,
   "id": "1a6f9cf9",
   "metadata": {},
   "outputs": [
    {
     "data": {
      "text/plain": [
       "3.141592653589793"
      ]
     },
     "execution_count": 16,
     "metadata": {},
     "output_type": "execute_result"
    }
   ],
   "source": [
    "c = Circle(0, 0, 1)\n",
    "c.area()"
   ]
  },
  {
   "cell_type": "code",
   "execution_count": 17,
   "id": "69b648a1",
   "metadata": {},
   "outputs": [
    {
     "data": {
      "text/plain": [
       "mappingproxy({'__init__': <function __main__.__init__(self, x, y, r)>,\n",
       "              'area': <function __main__.area(self)>,\n",
       "              '__module__': '__main__',\n",
       "              '__dict__': <attribute '__dict__' of 'Circle' objects>,\n",
       "              '__weakref__': <attribute '__weakref__' of 'Circle' objects>,\n",
       "              '__doc__': None,\n",
       "              'circ': <function __main__.CustomType.__new__.<locals>.<lambda>(self)>})"
      ]
     },
     "execution_count": 17,
     "metadata": {},
     "output_type": "execute_result"
    }
   ],
   "source": [
    "Circle.__dict__"
   ]
  },
  {
   "cell_type": "code",
   "execution_count": 18,
   "id": "01a31f57",
   "metadata": {},
   "outputs": [],
   "source": [
    "import math\n",
    "\n",
    "class CustomType(type):\n",
    "    def __new__(cls, name, bases, class_dict):\n",
    "        print(\"Customized type creation\")\n",
    "        class_dict['circ'] = lambda self: 2 * math.pi * self.r\n",
    "        cls_obj = super().__new__(cls, name, bases, class_dict)\n",
    "        return cls_obj"
   ]
  },
  {
   "cell_type": "code",
   "execution_count": 19,
   "id": "8e1a8d9a",
   "metadata": {},
   "outputs": [
    {
     "data": {
      "text/plain": [
       "{'__init__': <function __main__.__init__(self, x, y, r)>,\n",
       " 'area': <function __main__.area(self)>}"
      ]
     },
     "execution_count": 19,
     "metadata": {},
     "output_type": "execute_result"
    }
   ],
   "source": [
    "class_body = \"\"\"\n",
    "def __init__(self, x, y, r):\n",
    "    self.x = x\n",
    "    self.y = y\n",
    "    self.r = r\n",
    "        \n",
    "def area(self):\n",
    "    return math.pi * self.r ** 2\n",
    "\"\"\"\n",
    "class_dict = {}\n",
    "exec(class_body, globals(), class_dict)\n",
    "class_dict"
   ]
  },
  {
   "cell_type": "code",
   "execution_count": 21,
   "id": "74da97d4",
   "metadata": {},
   "outputs": [
    {
     "name": "stdout",
     "output_type": "stream",
     "text": [
      "Customized type creation\n"
     ]
    },
    {
     "data": {
      "text/plain": [
       "mappingproxy({'__init__': <function __main__.__init__(self, x, y, r)>,\n",
       "              'area': <function __main__.area(self)>,\n",
       "              'circ': <function __main__.CustomType.__new__.<locals>.<lambda>(self)>,\n",
       "              '__module__': '__main__',\n",
       "              '__dict__': <attribute '__dict__' of 'Circle' objects>,\n",
       "              '__weakref__': <attribute '__weakref__' of 'Circle' objects>,\n",
       "              '__doc__': None})"
      ]
     },
     "execution_count": 21,
     "metadata": {},
     "output_type": "execute_result"
    }
   ],
   "source": [
    "Circle = CustomType(\"Circle\", (object,), class_dict)\n",
    "Circle.__dict__"
   ]
  },
  {
   "cell_type": "code",
   "execution_count": 22,
   "id": "3502c61c",
   "metadata": {},
   "outputs": [
    {
     "data": {
      "text/plain": [
       "3.141592653589793"
      ]
     },
     "execution_count": 22,
     "metadata": {},
     "output_type": "execute_result"
    }
   ],
   "source": [
    "c = Circle(0, 0, 1)\n",
    "c.area()"
   ]
  },
  {
   "cell_type": "code",
   "execution_count": null,
   "id": "82437db4",
   "metadata": {},
   "outputs": [],
   "source": []
  },
  {
   "cell_type": "code",
   "execution_count": null,
   "id": "799eb176",
   "metadata": {},
   "outputs": [],
   "source": []
  },
  {
   "cell_type": "code",
   "execution_count": null,
   "id": "5e017da0",
   "metadata": {},
   "outputs": [],
   "source": []
  },
  {
   "cell_type": "code",
   "execution_count": null,
   "id": "8767bb96",
   "metadata": {},
   "outputs": [],
   "source": []
  },
  {
   "cell_type": "code",
   "execution_count": null,
   "id": "6dc37601",
   "metadata": {},
   "outputs": [],
   "source": []
  },
  {
   "cell_type": "code",
   "execution_count": null,
   "id": "aadb5a89",
   "metadata": {},
   "outputs": [],
   "source": []
  },
  {
   "cell_type": "code",
   "execution_count": null,
   "id": "e519f096",
   "metadata": {},
   "outputs": [],
   "source": []
  }
 ],
 "metadata": {
  "kernelspec": {
   "display_name": "Python 3 (ipykernel)",
   "language": "python",
   "name": "python3"
  },
  "language_info": {
   "codemirror_mode": {
    "name": "ipython",
    "version": 3
   },
   "file_extension": ".py",
   "mimetype": "text/x-python",
   "name": "python",
   "nbconvert_exporter": "python",
   "pygments_lexer": "ipython3",
   "version": "3.9.12"
  }
 },
 "nbformat": 4,
 "nbformat_minor": 5
}
