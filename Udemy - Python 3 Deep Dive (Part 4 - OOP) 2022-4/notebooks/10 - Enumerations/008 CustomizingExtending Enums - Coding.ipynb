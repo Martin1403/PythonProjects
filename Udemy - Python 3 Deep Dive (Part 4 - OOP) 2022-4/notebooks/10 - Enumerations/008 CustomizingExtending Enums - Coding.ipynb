{
 "cells": [
  {
   "cell_type": "markdown",
   "id": "71e019d8",
   "metadata": {},
   "source": [
    "# CustomizingExtending Enums - Coding"
   ]
  },
  {
   "cell_type": "code",
   "execution_count": 1,
   "id": "c6ea9596",
   "metadata": {},
   "outputs": [],
   "source": [
    "from enum import Enum"
   ]
  },
  {
   "cell_type": "code",
   "execution_count": 8,
   "id": "b59076f2",
   "metadata": {},
   "outputs": [],
   "source": [
    "class Color(Enum):\n",
    "    red = 1\n",
    "    green = 2\n",
    "    blue = 3\n",
    "    \n",
    "    def purecolor(self, value):\n",
    "        return {self: value}"
   ]
  },
  {
   "cell_type": "code",
   "execution_count": 9,
   "id": "96467081",
   "metadata": {},
   "outputs": [
    {
     "data": {
      "text/plain": [
       "({<Color.red: 1>: 100}, {<Color.blue: 3>: 255})"
      ]
     },
     "execution_count": 9,
     "metadata": {},
     "output_type": "execute_result"
    }
   ],
   "source": [
    "Color.red.purecolor(100), Color.blue.purecolor(255)"
   ]
  },
  {
   "cell_type": "code",
   "execution_count": 10,
   "id": "f1858f01",
   "metadata": {},
   "outputs": [
    {
     "data": {
      "text/plain": [
       "<Color.red: 1>"
      ]
     },
     "execution_count": 10,
     "metadata": {},
     "output_type": "execute_result"
    }
   ],
   "source": [
    "Color.red"
   ]
  },
  {
   "cell_type": "code",
   "execution_count": 24,
   "id": "da4d2d10",
   "metadata": {},
   "outputs": [],
   "source": [
    "class Color(Enum):\n",
    "    red = 1\n",
    "    green = 2\n",
    "    blue = 3\n",
    "    \n",
    "    def __repr__(self):\n",
    "        return f\"{self.name} ({self.value})\""
   ]
  },
  {
   "cell_type": "code",
   "execution_count": 26,
   "id": "2fe92be3",
   "metadata": {},
   "outputs": [
    {
     "data": {
      "text/plain": [
       "red (1)"
      ]
     },
     "execution_count": 26,
     "metadata": {},
     "output_type": "execute_result"
    }
   ],
   "source": [
    "Color.red"
   ]
  },
  {
   "cell_type": "code",
   "execution_count": 27,
   "id": "a6872b20",
   "metadata": {},
   "outputs": [],
   "source": [
    "class Number(Enum):\n",
    "    ONE = 1\n",
    "    TWO = 2\n",
    "    THREE = 3\n",
    "    "
   ]
  },
  {
   "cell_type": "code",
   "execution_count": 28,
   "id": "74275209",
   "metadata": {},
   "outputs": [
    {
     "ename": "TypeError",
     "evalue": "'>' not supported between instances of 'Number' and 'Number'",
     "output_type": "error",
     "traceback": [
      "\u001b[0;31m---------------------------------------------------------------------------\u001b[0m",
      "\u001b[0;31mTypeError\u001b[0m                                 Traceback (most recent call last)",
      "Input \u001b[0;32mIn [28]\u001b[0m, in \u001b[0;36m<cell line: 1>\u001b[0;34m()\u001b[0m\n\u001b[0;32m----> 1\u001b[0m \u001b[43mNumber\u001b[49m\u001b[38;5;241;43m.\u001b[39;49m\u001b[43mONE\u001b[49m\u001b[43m \u001b[49m\u001b[38;5;241;43m>\u001b[39;49m\u001b[43m \u001b[49m\u001b[43mNumber\u001b[49m\u001b[38;5;241;43m.\u001b[39;49m\u001b[43mTWO\u001b[49m\n",
      "\u001b[0;31mTypeError\u001b[0m: '>' not supported between instances of 'Number' and 'Number'"
     ]
    }
   ],
   "source": [
    "Number.ONE > Number.TWO"
   ]
  },
  {
   "cell_type": "code",
   "execution_count": 29,
   "id": "2361152a",
   "metadata": {},
   "outputs": [],
   "source": [
    "class Number(Enum):\n",
    "    ONE = 1\n",
    "    TWO = 2\n",
    "    THREE = 3\n",
    "    \n",
    "    def __lt__(self, other):\n",
    "        return isinstance(other, Number) and self.value < other.value"
   ]
  },
  {
   "cell_type": "code",
   "execution_count": 30,
   "id": "56df72f8",
   "metadata": {},
   "outputs": [
    {
     "data": {
      "text/plain": [
       "True"
      ]
     },
     "execution_count": 30,
     "metadata": {},
     "output_type": "execute_result"
    }
   ],
   "source": [
    "Number.ONE < Number.TWO"
   ]
  },
  {
   "cell_type": "code",
   "execution_count": 31,
   "id": "c9e0ae1d",
   "metadata": {},
   "outputs": [
    {
     "data": {
      "text/plain": [
       "False"
      ]
     },
     "execution_count": 31,
     "metadata": {},
     "output_type": "execute_result"
    }
   ],
   "source": [
    "Number.ONE > Number.TWO"
   ]
  },
  {
   "cell_type": "code",
   "execution_count": 32,
   "id": "78ace02d",
   "metadata": {},
   "outputs": [
    {
     "data": {
      "text/plain": [
       "False"
      ]
     },
     "execution_count": 32,
     "metadata": {},
     "output_type": "execute_result"
    }
   ],
   "source": [
    "Number.ONE == 1"
   ]
  },
  {
   "cell_type": "code",
   "execution_count": 76,
   "id": "41636cce",
   "metadata": {},
   "outputs": [],
   "source": [
    "class Number(Enum):\n",
    "    ONE = 1\n",
    "    TWO = 2\n",
    "    THREE = 3\n",
    "    \n",
    "    def __lt__(self, other):\n",
    "        return isinstance(other, Number) and self.value < other.value\n",
    "    \n",
    "    def __eq__(self, other):\n",
    "        if isinstance(other, Number):\n",
    "            return self is other\n",
    "        elif isinstance(other, int):\n",
    "            return self.value == other\n",
    "        return False\n",
    "    "
   ]
  },
  {
   "cell_type": "code",
   "execution_count": 77,
   "id": "12e41377",
   "metadata": {},
   "outputs": [
    {
     "data": {
      "text/plain": [
       "(True, True)"
      ]
     },
     "execution_count": 77,
     "metadata": {},
     "output_type": "execute_result"
    }
   ],
   "source": [
    "Number.ONE is Number.ONE, Number.ONE == Number.ONE"
   ]
  },
  {
   "cell_type": "code",
   "execution_count": 78,
   "id": "9fb228a0",
   "metadata": {},
   "outputs": [
    {
     "data": {
      "text/plain": [
       "True"
      ]
     },
     "execution_count": 78,
     "metadata": {},
     "output_type": "execute_result"
    }
   ],
   "source": [
    "Number.ONE == 1"
   ]
  },
  {
   "cell_type": "code",
   "execution_count": 79,
   "id": "5ccf394d",
   "metadata": {},
   "outputs": [
    {
     "data": {
      "text/plain": [
       "False"
      ]
     },
     "execution_count": 79,
     "metadata": {},
     "output_type": "execute_result"
    }
   ],
   "source": [
    "Number.ONE == 1.0"
   ]
  },
  {
   "cell_type": "code",
   "execution_count": 80,
   "id": "52cb7405",
   "metadata": {},
   "outputs": [
    {
     "ename": "TypeError",
     "evalue": "unhashable type: 'Number'",
     "output_type": "error",
     "traceback": [
      "\u001b[0;31m---------------------------------------------------------------------------\u001b[0m",
      "\u001b[0;31mTypeError\u001b[0m                                 Traceback (most recent call last)",
      "Input \u001b[0;32mIn [80]\u001b[0m, in \u001b[0;36m<cell line: 1>\u001b[0;34m()\u001b[0m\n\u001b[0;32m----> 1\u001b[0m \u001b[38;5;28;43mhash\u001b[39;49m\u001b[43m(\u001b[49m\u001b[43mNumber\u001b[49m\u001b[38;5;241;43m.\u001b[39;49m\u001b[43mONE\u001b[49m\u001b[43m)\u001b[49m\n",
      "\u001b[0;31mTypeError\u001b[0m: unhashable type: 'Number'"
     ]
    }
   ],
   "source": [
    "hash(Number.ONE)"
   ]
  },
  {
   "cell_type": "code",
   "execution_count": 82,
   "id": "12d4c993",
   "metadata": {},
   "outputs": [
    {
     "data": {
      "text/plain": [
       "(True, False)"
      ]
     },
     "execution_count": 82,
     "metadata": {},
     "output_type": "execute_result"
    }
   ],
   "source": [
    "Number.ONE < Number.TWO, Number.ONE > Number.ONE"
   ]
  },
  {
   "cell_type": "code",
   "execution_count": 83,
   "id": "6419eef9",
   "metadata": {},
   "outputs": [
    {
     "ename": "TypeError",
     "evalue": "'>=' not supported between instances of 'Number' and 'Number'",
     "output_type": "error",
     "traceback": [
      "\u001b[0;31m---------------------------------------------------------------------------\u001b[0m",
      "\u001b[0;31mTypeError\u001b[0m                                 Traceback (most recent call last)",
      "Input \u001b[0;32mIn [83]\u001b[0m, in \u001b[0;36m<cell line: 1>\u001b[0;34m()\u001b[0m\n\u001b[0;32m----> 1\u001b[0m \u001b[43mNumber\u001b[49m\u001b[38;5;241;43m.\u001b[39;49m\u001b[43mONE\u001b[49m\u001b[43m \u001b[49m\u001b[38;5;241;43m>\u001b[39;49m\u001b[38;5;241;43m=\u001b[39;49m\u001b[43m \u001b[49m\u001b[43mNumber\u001b[49m\u001b[38;5;241;43m.\u001b[39;49m\u001b[43mONE\u001b[49m\n",
      "\u001b[0;31mTypeError\u001b[0m: '>=' not supported between instances of 'Number' and 'Number'"
     ]
    }
   ],
   "source": [
    "Number.ONE >= Number.ONE"
   ]
  },
  {
   "cell_type": "code",
   "execution_count": 84,
   "id": "01903f45",
   "metadata": {},
   "outputs": [],
   "source": [
    "from functools import total_ordering\n",
    "\n",
    "@total_ordering\n",
    "class Number(Enum):\n",
    "    ONE = 1\n",
    "    TWO = 2\n",
    "    THREE = 3\n",
    "    \n",
    "    def __lt__(self, other):\n",
    "        return isinstance(other, Number) and self.value < other.value\n",
    "    \n",
    "    def __eq__(self, other):\n",
    "        if isinstance(other, Number):\n",
    "            return self is other\n",
    "        elif isinstance(other, int):\n",
    "            return self.value == other\n",
    "        return False"
   ]
  },
  {
   "cell_type": "code",
   "execution_count": 85,
   "id": "06fd6455",
   "metadata": {},
   "outputs": [
    {
     "data": {
      "text/plain": [
       "True"
      ]
     },
     "execution_count": 85,
     "metadata": {},
     "output_type": "execute_result"
    }
   ],
   "source": [
    "Number.ONE >= Number.ONE"
   ]
  },
  {
   "cell_type": "code",
   "execution_count": 110,
   "id": "8ef18abf",
   "metadata": {},
   "outputs": [
    {
     "name": "stdout",
     "output_type": "stream",
     "text": [
      "True True True False\n"
     ]
    }
   ],
   "source": [
    "class Phase(Enum):\n",
    "    READ = \"ready\"\n",
    "    RUNNING = \"running\"\n",
    "    FINISHED = \"finished\"\n",
    "    \n",
    "    def __str__(self):\n",
    "        return self.value\n",
    "    \n",
    "    def __eq__(self, other):\n",
    "        if isinstance(other, Phase):\n",
    "            return self is other\n",
    "        elif isinstance(other, str):\n",
    "            return self.value == other\n",
    "        return False    \n",
    "            \n",
    "    def __lt__(self, other):\n",
    "        ordered_items = list(Phase)\n",
    "        self_order_index = ordered_items.index(self)\n",
    "        \n",
    "        if isinstance(other, Phase):\n",
    "            other_order_index = ordered_items.index(other)\n",
    "            return self_order_index < other_order_index\n",
    "        \n",
    "        if isinstance(other, str):\n",
    "            try:\n",
    "                other_member = Phase(other)\n",
    "                other_order_index = ordered_items.index(other_member)\n",
    "                return self_order_index < other_order_index\n",
    "            except ValueError:\n",
    "                return False\n",
    "        return False        \n",
    "        \n",
    "\n",
    "# Test\n",
    "print(Phase.READ == Phase.READ, \n",
    "      Phase.READ == \"ready\", \n",
    "      Phase.READ < Phase.RUNNING, \n",
    "      Phase.READ < \"ready\")"
   ]
  },
  {
   "cell_type": "code",
   "execution_count": 153,
   "id": "d210ddc3",
   "metadata": {},
   "outputs": [],
   "source": [
    "class State(Enum):\n",
    "    READY = 1\n",
    "    BUSY = 0"
   ]
  },
  {
   "cell_type": "code",
   "execution_count": 154,
   "id": "6318dd93",
   "metadata": {},
   "outputs": [
    {
     "data": {
      "text/plain": [
       "(True, True)"
      ]
     },
     "execution_count": 154,
     "metadata": {},
     "output_type": "execute_result"
    }
   ],
   "source": [
    "bool(State.READY), bool(State.BUSY)"
   ]
  },
  {
   "cell_type": "code",
   "execution_count": 155,
   "id": "bb2b6eb8",
   "metadata": {},
   "outputs": [
    {
     "name": "stdout",
     "output_type": "stream",
     "text": [
      "system is busy\n"
     ]
    }
   ],
   "source": [
    "state = State.BUSY\n",
    "if state is State.READY:\n",
    "    print(\"system ready to process next item\")\n",
    "else:\n",
    "    print(\"system is busy\")"
   ]
  },
  {
   "cell_type": "code",
   "execution_count": 156,
   "id": "cf8c58d0",
   "metadata": {},
   "outputs": [
    {
     "name": "stdout",
     "output_type": "stream",
     "text": [
      "system ready to process next item\n"
     ]
    }
   ],
   "source": [
    "if state:\n",
    "    print(\"system ready to process next item\")\n",
    "else:\n",
    "    print(\"system is busy\")"
   ]
  },
  {
   "cell_type": "code",
   "execution_count": 159,
   "id": "7717070b",
   "metadata": {},
   "outputs": [],
   "source": [
    "class State(Enum):\n",
    "    READY = 1\n",
    "    BUSY = 0\n",
    "    \n",
    "    def __bool__(self):\n",
    "        return bool(self.value)"
   ]
  },
  {
   "cell_type": "code",
   "execution_count": 162,
   "id": "44f29a95",
   "metadata": {},
   "outputs": [
    {
     "name": "stdout",
     "output_type": "stream",
     "text": [
      "system is busy\n"
     ]
    }
   ],
   "source": [
    "state = State.BUSY\n",
    "\n",
    "if state:\n",
    "    print(\"system ready to process next item\")\n",
    "else:\n",
    "    print(\"system is busy\")"
   ]
  },
  {
   "cell_type": "code",
   "execution_count": 163,
   "id": "cdf63105",
   "metadata": {},
   "outputs": [
    {
     "data": {
      "text/plain": [
       "(False, True, False, True)"
      ]
     },
     "execution_count": 163,
     "metadata": {},
     "output_type": "execute_result"
    }
   ],
   "source": [
    "class Dummy(Enum):\n",
    "    A = 0\n",
    "    B = 1\n",
    "    C = ''\n",
    "    D = 'python'\n",
    "    \n",
    "    def __bool__(self):\n",
    "        return bool(self.value)\n",
    "    \n",
    "bool(Dummy.A), bool(Dummy.B), bool(Dummy.C), bool(Dummy.D)"
   ]
  },
  {
   "cell_type": "code",
   "execution_count": 165,
   "id": "9b5758f1",
   "metadata": {},
   "outputs": [],
   "source": [
    "\n",
    "class Color(Enum):\n",
    "    RED = 1\n",
    "    GREEN = 2\n",
    "    BLUE = 3"
   ]
  },
  {
   "cell_type": "code",
   "execution_count": 166,
   "id": "7cf61b14",
   "metadata": {},
   "outputs": [
    {
     "ename": "TypeError",
     "evalue": "ColorAlpha: cannot extend enumeration 'Color'",
     "output_type": "error",
     "traceback": [
      "\u001b[0;31m---------------------------------------------------------------------------\u001b[0m",
      "\u001b[0;31mTypeError\u001b[0m                                 Traceback (most recent call last)",
      "Input \u001b[0;32mIn [166]\u001b[0m, in \u001b[0;36m<cell line: 1>\u001b[0;34m()\u001b[0m\n\u001b[0;32m----> 1\u001b[0m \u001b[38;5;28;01mclass\u001b[39;00m \u001b[38;5;21;01mColorAlpha\u001b[39;00m(Color):\n\u001b[1;32m      2\u001b[0m     ALPHA \u001b[38;5;241m=\u001b[39m \u001b[38;5;241m4\u001b[39m\n",
      "File \u001b[0;32m~/anaconda3/lib/python3.9/enum.py:167\u001b[0m, in \u001b[0;36mEnumMeta.__prepare__\u001b[0;34m(metacls, cls, bases, **kwds)\u001b[0m\n\u001b[1;32m    164\u001b[0m \u001b[38;5;129m@classmethod\u001b[39m\n\u001b[1;32m    165\u001b[0m \u001b[38;5;28;01mdef\u001b[39;00m \u001b[38;5;21m__prepare__\u001b[39m(metacls, \u001b[38;5;28mcls\u001b[39m, bases, \u001b[38;5;241m*\u001b[39m\u001b[38;5;241m*\u001b[39mkwds):\n\u001b[1;32m    166\u001b[0m     \u001b[38;5;66;03m# check that previous enum members do not exist\u001b[39;00m\n\u001b[0;32m--> 167\u001b[0m     \u001b[43mmetacls\u001b[49m\u001b[38;5;241;43m.\u001b[39;49m\u001b[43m_check_for_existing_members\u001b[49m\u001b[43m(\u001b[49m\u001b[38;5;28;43mcls\u001b[39;49m\u001b[43m,\u001b[49m\u001b[43m \u001b[49m\u001b[43mbases\u001b[49m\u001b[43m)\u001b[49m\n\u001b[1;32m    168\u001b[0m     \u001b[38;5;66;03m# create the namespace dict\u001b[39;00m\n\u001b[1;32m    169\u001b[0m     enum_dict \u001b[38;5;241m=\u001b[39m _EnumDict()\n",
      "File \u001b[0;32m~/anaconda3/lib/python3.9/enum.py:566\u001b[0m, in \u001b[0;36mEnumMeta._check_for_existing_members\u001b[0;34m(class_name, bases)\u001b[0m\n\u001b[1;32m    564\u001b[0m \u001b[38;5;28;01mfor\u001b[39;00m base \u001b[38;5;129;01min\u001b[39;00m chain\u001b[38;5;241m.\u001b[39m\u001b[38;5;18m__mro__\u001b[39m:\n\u001b[1;32m    565\u001b[0m     \u001b[38;5;28;01mif\u001b[39;00m \u001b[38;5;28missubclass\u001b[39m(base, Enum) \u001b[38;5;129;01mand\u001b[39;00m base\u001b[38;5;241m.\u001b[39m_member_names_:\n\u001b[0;32m--> 566\u001b[0m         \u001b[38;5;28;01mraise\u001b[39;00m \u001b[38;5;167;01mTypeError\u001b[39;00m(\n\u001b[1;32m    567\u001b[0m                 \u001b[38;5;124m\"\u001b[39m\u001b[38;5;132;01m%s\u001b[39;00m\u001b[38;5;124m: cannot extend enumeration \u001b[39m\u001b[38;5;132;01m%r\u001b[39;00m\u001b[38;5;124m\"\u001b[39m\n\u001b[1;32m    568\u001b[0m                 \u001b[38;5;241m%\u001b[39m (class_name, base\u001b[38;5;241m.\u001b[39m\u001b[38;5;18m__name__\u001b[39m)\n\u001b[1;32m    569\u001b[0m                 )\n",
      "\u001b[0;31mTypeError\u001b[0m: ColorAlpha: cannot extend enumeration 'Color'"
     ]
    }
   ],
   "source": [
    "class ColorAlpha(Color):\n",
    "    ALPHA = 4"
   ]
  },
  {
   "cell_type": "code",
   "execution_count": 167,
   "id": "c3d62fa2",
   "metadata": {},
   "outputs": [],
   "source": [
    "class ColorBase(Enum):\n",
    "    def hello(self):\n",
    "        return f\"{str(self)} says hello\"\n",
    "    \n",
    "class Color(ColorBase):\n",
    "    RED = \"red\"\n",
    "    GREEN = \"green\"\n",
    "    BLUE = \"blue\""
   ]
  },
  {
   "cell_type": "code",
   "execution_count": 168,
   "id": "4e78a93e",
   "metadata": {},
   "outputs": [
    {
     "data": {
      "text/plain": [
       "'Color.RED says hello'"
      ]
     },
     "execution_count": 168,
     "metadata": {},
     "output_type": "execute_result"
    }
   ],
   "source": [
    "Color.RED.hello()"
   ]
  },
  {
   "cell_type": "code",
   "execution_count": 178,
   "id": "7b35a09f",
   "metadata": {},
   "outputs": [],
   "source": [
    "from functools import total_ordering\n",
    "\n",
    "@total_ordering\n",
    "class OrderedEnum(Enum):\n",
    "    \"\"\"Create an ordering based on the member values.\n",
    "    So member values have to support rich comparisons.\"\"\"\n",
    "    \n",
    "    def __lt__(self, other):\n",
    "        if isinstance(other, OrderedEnum):\n",
    "            return self.value < other.value\n",
    "        return NotImplemented"
   ]
  },
  {
   "cell_type": "code",
   "execution_count": 179,
   "id": "c1a2014d",
   "metadata": {},
   "outputs": [],
   "source": [
    "class Number(OrderedEnum):\n",
    "    ONE = 1\n",
    "    TWO = 2\n",
    "    THREE = 3\n",
    "    \n",
    "class Dimension(OrderedEnum):\n",
    "    D1 = 1,\n",
    "    D2 = 1, 1\n",
    "    D3 = 1, 1, 1"
   ]
  },
  {
   "cell_type": "code",
   "execution_count": 180,
   "id": "f4e26701",
   "metadata": {},
   "outputs": [
    {
     "data": {
      "text/plain": [
       "(True, True)"
      ]
     },
     "execution_count": 180,
     "metadata": {},
     "output_type": "execute_result"
    }
   ],
   "source": [
    "Number.ONE < Number.TWO, Dimension.D2 > Dimension.D1 "
   ]
  },
  {
   "cell_type": "code",
   "execution_count": 181,
   "id": "f1be5ef4",
   "metadata": {},
   "outputs": [
    {
     "data": {
      "text/plain": [
       "True"
      ]
     },
     "execution_count": 181,
     "metadata": {},
     "output_type": "execute_result"
    }
   ],
   "source": [
    "Number.ONE <= Number.TWO"
   ]
  },
  {
   "cell_type": "code",
   "execution_count": 182,
   "id": "e58743b2",
   "metadata": {},
   "outputs": [
    {
     "data": {
      "text/plain": [
       "enum.EnumMeta"
      ]
     },
     "execution_count": 182,
     "metadata": {},
     "output_type": "execute_result"
    }
   ],
   "source": [
    "from http import HTTPStatus\n",
    "type(HTTPStatus)"
   ]
  },
  {
   "cell_type": "code",
   "execution_count": 183,
   "id": "c23b5442",
   "metadata": {},
   "outputs": [
    {
     "data": {
      "text/plain": [
       "[<HTTPStatus.CONTINUE: 100>,\n",
       " <HTTPStatus.SWITCHING_PROTOCOLS: 101>,\n",
       " <HTTPStatus.PROCESSING: 102>,\n",
       " <HTTPStatus.EARLY_HINTS: 103>,\n",
       " <HTTPStatus.OK: 200>,\n",
       " <HTTPStatus.CREATED: 201>,\n",
       " <HTTPStatus.ACCEPTED: 202>,\n",
       " <HTTPStatus.NON_AUTHORITATIVE_INFORMATION: 203>,\n",
       " <HTTPStatus.NO_CONTENT: 204>,\n",
       " <HTTPStatus.RESET_CONTENT: 205>]"
      ]
     },
     "execution_count": 183,
     "metadata": {},
     "output_type": "execute_result"
    }
   ],
   "source": [
    "list(HTTPStatus)[:10]"
   ]
  },
  {
   "cell_type": "code",
   "execution_count": 184,
   "id": "4f6dd092",
   "metadata": {},
   "outputs": [
    {
     "data": {
      "text/plain": [
       "<HTTPStatus.BAD_REQUEST: 400>"
      ]
     },
     "execution_count": 184,
     "metadata": {},
     "output_type": "execute_result"
    }
   ],
   "source": [
    "HTTPStatus(400)"
   ]
  },
  {
   "cell_type": "code",
   "execution_count": 185,
   "id": "9e5187ec",
   "metadata": {},
   "outputs": [
    {
     "data": {
      "text/plain": [
       "(<HTTPStatus.OK: 200>, 'OK', 200)"
      ]
     },
     "execution_count": 185,
     "metadata": {},
     "output_type": "execute_result"
    }
   ],
   "source": [
    "HTTPStatus.OK, HTTPStatus.OK.name, HTTPStatus.OK.value"
   ]
  },
  {
   "cell_type": "code",
   "execution_count": 186,
   "id": "6fee0a03",
   "metadata": {},
   "outputs": [
    {
     "data": {
      "text/plain": [
       "(404, 'NOT_FOUND', 'Not Found')"
      ]
     },
     "execution_count": 186,
     "metadata": {},
     "output_type": "execute_result"
    }
   ],
   "source": [
    "HTTPStatus.NOT_FOUND.value, HTTPStatus.NOT_FOUND.name, HTTPStatus.NOT_FOUND.phrase"
   ]
  },
  {
   "cell_type": "code",
   "execution_count": null,
   "id": "54283feb",
   "metadata": {},
   "outputs": [],
   "source": []
  },
  {
   "cell_type": "code",
   "execution_count": 187,
   "id": "8bdef007",
   "metadata": {},
   "outputs": [],
   "source": [
    "class AppStatus(Enum):\n",
    "    OK = (0, 'No problem!')\n",
    "    FAILED = (1, 'Crap!')"
   ]
  },
  {
   "cell_type": "code",
   "execution_count": 188,
   "id": "f47a7149",
   "metadata": {},
   "outputs": [
    {
     "data": {
      "text/plain": [
       "'No problem!'"
      ]
     },
     "execution_count": 188,
     "metadata": {},
     "output_type": "execute_result"
    }
   ],
   "source": [
    "AppStatus.OK.value[1]"
   ]
  },
  {
   "cell_type": "code",
   "execution_count": null,
   "id": "cdc2fd9b",
   "metadata": {},
   "outputs": [],
   "source": []
  },
  {
   "cell_type": "code",
   "execution_count": 190,
   "id": "098272c1",
   "metadata": {},
   "outputs": [
    {
     "data": {
      "text/plain": [
       "(0, 'No problem!', 'OK')"
      ]
     },
     "execution_count": 190,
     "metadata": {},
     "output_type": "execute_result"
    }
   ],
   "source": [
    "class AppStatus(Enum):\n",
    "    OK = (0, 'No problem!')\n",
    "    FAILED = (1, 'Crap!')\n",
    "    \n",
    "    @property\n",
    "    def code(self):\n",
    "        return self.value[0]\n",
    "    \n",
    "    @property\n",
    "    def phrase(self):\n",
    "        return self.value[1]\n",
    "    \n",
    "AppStatus.OK.code, AppStatus.OK.phrase, AppStatus.OK.name"
   ]
  },
  {
   "cell_type": "code",
   "execution_count": 192,
   "id": "52f1166f",
   "metadata": {},
   "outputs": [
    {
     "data": {
      "text/plain": [
       "<AppStatus.OK: (0, 'No problem!')>"
      ]
     },
     "execution_count": 192,
     "metadata": {},
     "output_type": "execute_result"
    }
   ],
   "source": [
    "AppStatus((0, 'No problem!'))"
   ]
  },
  {
   "cell_type": "code",
   "execution_count": 208,
   "id": "b06dbb74",
   "metadata": {},
   "outputs": [
    {
     "name": "stdout",
     "output_type": "stream",
     "text": [
      "<enum 'AppStatus'>\n",
      "0\n",
      "No problem!\n",
      "AppStatus\n",
      "--------------------\n",
      "<enum 'AppStatus'>\n",
      "1\n",
      "Crap!\n",
      "AppStatus\n",
      "--------------------\n"
     ]
    },
    {
     "data": {
      "text/plain": [
       "(0, 'OK', 'No problem!')"
      ]
     },
     "execution_count": 208,
     "metadata": {},
     "output_type": "execute_result"
    }
   ],
   "source": [
    "class AppStatus(Enum):\n",
    "    OK = (0, 'No problem!')\n",
    "    FAILED = (1, 'Crap!')\n",
    "    \n",
    "    def __new__(cls, member_value, member_phrase):\n",
    "        print(cls)\n",
    "        print(member_value)\n",
    "        print(member_phrase)\n",
    "        member = object.__new__(cls)\n",
    "        print(member.__class__.__name__)\n",
    "        print(\"-\"*20)\n",
    "        \n",
    "        member._value_ = member_value\n",
    "        member.phrase = member_phrase\n",
    "        \n",
    "        return member\n",
    "    \n",
    "AppStatus.OK.value, AppStatus.OK.name, AppStatus.OK.phrase"
   ]
  },
  {
   "cell_type": "code",
   "execution_count": 209,
   "id": "835fb0e4",
   "metadata": {},
   "outputs": [
    {
     "data": {
      "text/plain": [
       "<AppStatus.OK: 0>"
      ]
     },
     "execution_count": 209,
     "metadata": {},
     "output_type": "execute_result"
    }
   ],
   "source": [
    "AppStatus(0)"
   ]
  },
  {
   "cell_type": "code",
   "execution_count": 211,
   "id": "0f2fd041",
   "metadata": {},
   "outputs": [
    {
     "data": {
      "text/plain": [
       "(0, 'OK', 'No problem!')"
      ]
     },
     "execution_count": 211,
     "metadata": {},
     "output_type": "execute_result"
    }
   ],
   "source": [
    "class TwoValueEnum(Enum):\n",
    "    \n",
    "    def __new__(cls, member_value, member_phrase):\n",
    "        member = object.__new__(cls)\n",
    "        member._value_ = member_value\n",
    "        member.phrase = member_phrase\n",
    "        \n",
    "        return member\n",
    "    \n",
    "class AppStatus(TwoValueEnum):\n",
    "    OK = (0, 'No problem!')\n",
    "    FAILED = (1, 'Crap!')\n",
    "    \n",
    "AppStatus.OK.value, AppStatus.OK.name, AppStatus.OK.phrase"
   ]
  },
  {
   "cell_type": "code",
   "execution_count": null,
   "id": "c8cf7da6",
   "metadata": {},
   "outputs": [],
   "source": []
  }
 ],
 "metadata": {
  "kernelspec": {
   "display_name": "Python 3 (ipykernel)",
   "language": "python",
   "name": "python3"
  },
  "language_info": {
   "codemirror_mode": {
    "name": "ipython",
    "version": 3
   },
   "file_extension": ".py",
   "mimetype": "text/x-python",
   "name": "python",
   "nbconvert_exporter": "python",
   "pygments_lexer": "ipython3",
   "version": "3.9.12"
  }
 },
 "nbformat": 4,
 "nbformat_minor": 5
}
