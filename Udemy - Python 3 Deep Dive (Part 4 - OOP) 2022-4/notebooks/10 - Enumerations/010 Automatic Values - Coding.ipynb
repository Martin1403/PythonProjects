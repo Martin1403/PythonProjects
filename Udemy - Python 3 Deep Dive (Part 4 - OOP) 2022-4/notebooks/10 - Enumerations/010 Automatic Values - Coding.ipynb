{
 "cells": [
  {
   "cell_type": "markdown",
   "id": "18a0bb52",
   "metadata": {},
   "source": [
    "# Automatic Values - Coding"
   ]
  },
  {
   "cell_type": "code",
   "execution_count": 1,
   "id": "b27e4d95",
   "metadata": {},
   "outputs": [],
   "source": [
    "import enum\n",
    "\n",
    "class State(enum.Enum):\n",
    "    WAITING = enum.auto()\n",
    "    STARTED = enum.auto()\n",
    "    FINISHED = enum.auto()"
   ]
  },
  {
   "cell_type": "code",
   "execution_count": 2,
   "id": "9592ca54",
   "metadata": {},
   "outputs": [
    {
     "name": "stdout",
     "output_type": "stream",
     "text": [
      "WAITING 1\n",
      "STARTED 2\n",
      "FINISHED 3\n"
     ]
    }
   ],
   "source": [
    "for member in State:\n",
    "    print(member.name, member.value)"
   ]
  },
  {
   "cell_type": "code",
   "execution_count": 3,
   "id": "f59066e5",
   "metadata": {},
   "outputs": [],
   "source": [
    "class State(enum.Enum):\n",
    "    WAITING = 100\n",
    "    STARTED = enum.auto()\n",
    "    FINISHED = enum.auto()"
   ]
  },
  {
   "cell_type": "code",
   "execution_count": 5,
   "id": "a6c46c7f",
   "metadata": {},
   "outputs": [
    {
     "data": {
      "text/plain": [
       "[<State.WAITING: 100>, <State.STARTED: 101>, <State.FINISHED: 102>]"
      ]
     },
     "execution_count": 5,
     "metadata": {},
     "output_type": "execute_result"
    }
   ],
   "source": [
    "list(State)"
   ]
  },
  {
   "cell_type": "code",
   "execution_count": 18,
   "id": "6c22ea53",
   "metadata": {},
   "outputs": [],
   "source": [
    "class State(enum.Enum):\n",
    "    WAITING = enum.auto()\n",
    "    STARTED = 1\n",
    "    FINISHED = enum.auto()"
   ]
  },
  {
   "cell_type": "code",
   "execution_count": 19,
   "id": "285d2e48",
   "metadata": {},
   "outputs": [
    {
     "data": {
      "text/plain": [
       "[<State.WAITING: 1>, <State.FINISHED: 2>]"
      ]
     },
     "execution_count": 19,
     "metadata": {},
     "output_type": "execute_result"
    }
   ],
   "source": [
    "list(State)"
   ]
  },
  {
   "cell_type": "code",
   "execution_count": 20,
   "id": "f2fca695",
   "metadata": {},
   "outputs": [
    {
     "data": {
      "text/plain": [
       "mappingproxy({'WAITING': <State.WAITING: 1>,\n",
       "              'STARTED': <State.WAITING: 1>,\n",
       "              'FINISHED': <State.FINISHED: 2>})"
      ]
     },
     "execution_count": 20,
     "metadata": {},
     "output_type": "execute_result"
    }
   ],
   "source": [
    "State.__members__"
   ]
  },
  {
   "cell_type": "code",
   "execution_count": 21,
   "id": "a5eb8103",
   "metadata": {},
   "outputs": [
    {
     "data": {
      "text/plain": [
       "True"
      ]
     },
     "execution_count": 21,
     "metadata": {},
     "output_type": "execute_result"
    }
   ],
   "source": [
    "hasattr(State, \"_generate_next_value_\")"
   ]
  },
  {
   "cell_type": "code",
   "execution_count": 22,
   "id": "4e3968b7",
   "metadata": {},
   "outputs": [
    {
     "data": {
      "text/plain": [
       "mappingproxy({'_generate_next_value_': <function enum.Enum._generate_next_value_(name, start, count, last_values)>,\n",
       "              '__module__': '__main__',\n",
       "              '__doc__': 'An enumeration.',\n",
       "              '_member_names_': ['WAITING', 'FINISHED'],\n",
       "              '_member_map_': {'WAITING': <State.WAITING: 1>,\n",
       "               'STARTED': <State.WAITING: 1>,\n",
       "               'FINISHED': <State.FINISHED: 2>},\n",
       "              '_member_type_': object,\n",
       "              '_value2member_map_': {1: <State.WAITING: 1>,\n",
       "               2: <State.FINISHED: 2>},\n",
       "              'WAITING': <State.WAITING: 1>,\n",
       "              'STARTED': <State.WAITING: 1>,\n",
       "              'FINISHED': <State.FINISHED: 2>,\n",
       "              '__new__': <function enum.Enum.__new__(cls, value)>})"
      ]
     },
     "execution_count": 22,
     "metadata": {},
     "output_type": "execute_result"
    }
   ],
   "source": [
    "State.__dict__"
   ]
  },
  {
   "cell_type": "code",
   "execution_count": 28,
   "id": "15cc2a9c",
   "metadata": {},
   "outputs": [
    {
     "name": "stdout",
     "output_type": "stream",
     "text": [
      "a 1 0 []\n",
      "b 1 1 [100]\n",
      "d 1 3 [100, 100, 200]\n"
     ]
    }
   ],
   "source": [
    "class State(enum.Enum):\n",
    "    def _generate_next_value_(name, start, count, last_values):\n",
    "        print(name, start, count, last_values)\n",
    "        return 100\n",
    "    \n",
    "    a = enum.auto()\n",
    "    b = enum.auto()\n",
    "    c = 200\n",
    "    d = enum.auto()\n",
    "        \n"
   ]
  },
  {
   "cell_type": "code",
   "execution_count": 29,
   "id": "2556c1c6",
   "metadata": {},
   "outputs": [
    {
     "data": {
      "text/plain": [
       "[<State.a: 100>, <State.c: 200>]"
      ]
     },
     "execution_count": 29,
     "metadata": {},
     "output_type": "execute_result"
    }
   ],
   "source": [
    "list(State)"
   ]
  },
  {
   "cell_type": "code",
   "execution_count": 31,
   "id": "6cbe005f",
   "metadata": {},
   "outputs": [],
   "source": [
    "import random\n",
    "\n",
    "random.seed(0)\n",
    "\n",
    "class State(enum.Enum):\n",
    "    def _generate_next_value_(name, start, count, last_values):\n",
    "        while True:\n",
    "            new_value = random.randint(1, 100)\n",
    "            if new_value not in last_values:\n",
    "                return new_value\n",
    "            \n",
    "    a = enum.auto()\n",
    "    b = enum.auto()\n",
    "    c = enum.auto()\n",
    "    d = enum.auto()    "
   ]
  },
  {
   "cell_type": "code",
   "execution_count": 32,
   "id": "76bae31f",
   "metadata": {},
   "outputs": [
    {
     "name": "stdout",
     "output_type": "stream",
     "text": [
      "a 50\n",
      "b 98\n",
      "c 54\n",
      "d 6\n"
     ]
    }
   ],
   "source": [
    "for member in State:\n",
    "    print(member.name, member.value)"
   ]
  },
  {
   "cell_type": "code",
   "execution_count": 33,
   "id": "44abf1d3",
   "metadata": {},
   "outputs": [],
   "source": [
    "class State(enum.Enum):\n",
    "    def _generate_next_value_(name, start, count, last_values):\n",
    "        return name.title()\n",
    "    \n",
    "    READY = enum.auto()\n",
    "    WAITING = enum.auto()\n",
    "    STARTED = enum.auto()"
   ]
  },
  {
   "cell_type": "code",
   "execution_count": 34,
   "id": "f8a6ebf7",
   "metadata": {},
   "outputs": [
    {
     "name": "stdout",
     "output_type": "stream",
     "text": [
      "READY Ready\n",
      "WAITING Waiting\n",
      "STARTED Started\n"
     ]
    }
   ],
   "source": [
    "for member in State:\n",
    "    print(member.name, member.value)"
   ]
  },
  {
   "cell_type": "code",
   "execution_count": 37,
   "id": "9b67b863",
   "metadata": {},
   "outputs": [
    {
     "data": {
      "text/plain": [
       "[<Enum1.A: 'a'>, <Enum1.B: 'b'>]"
      ]
     },
     "execution_count": 37,
     "metadata": {},
     "output_type": "execute_result"
    }
   ],
   "source": [
    "class NameAsString(enum.Enum):\n",
    "    def _generate_next_value_(name, start, count, last_values):\n",
    "        return name.lower()\n",
    "    \n",
    "class Enum1(NameAsString):\n",
    "    A = enum.auto()\n",
    "    B = enum.auto()\n",
    "\n",
    "list(Enum1)"
   ]
  },
  {
   "cell_type": "code",
   "execution_count": 38,
   "id": "7db052d8",
   "metadata": {},
   "outputs": [
    {
     "data": {
      "text/plain": [
       "[<Enum2.READY: 'ready'>,\n",
       " <Enum2.WAITING: 'waiting'>,\n",
       " <Enum2.STARTED: 'started'>]"
      ]
     },
     "execution_count": 38,
     "metadata": {},
     "output_type": "execute_result"
    }
   ],
   "source": [
    "class Enum2(NameAsString):\n",
    "    READY = enum.auto()\n",
    "    WAITING = enum.auto()\n",
    "    STARTED = enum.auto()\n",
    "    \n",
    "list(Enum2)"
   ]
  },
  {
   "cell_type": "code",
   "execution_count": 41,
   "id": "8d199e11",
   "metadata": {},
   "outputs": [
    {
     "data": {
      "text/plain": [
       "(<State.Waiting: 1>, <State.Waiting: 1>)"
      ]
     },
     "execution_count": 41,
     "metadata": {},
     "output_type": "execute_result"
    }
   ],
   "source": [
    "class State(enum.Enum):\n",
    "    \"\"\"Please do not use member values - these are \n",
    "    meaningless and subject to change\"\"\"\n",
    "    Waiting = 1\n",
    "    Running = 2\n",
    "    RunningPending = 3\n",
    "    Finished = 4\n",
    "    \n",
    "State.Waiting, State['Waiting']"
   ]
  },
  {
   "cell_type": "code",
   "execution_count": 42,
   "id": "ee35c8c6",
   "metadata": {},
   "outputs": [
    {
     "data": {
      "text/plain": [
       "<State.Waiting: 1>"
      ]
     },
     "execution_count": 42,
     "metadata": {},
     "output_type": "execute_result"
    }
   ],
   "source": [
    "State(1)"
   ]
  },
  {
   "cell_type": "code",
   "execution_count": 43,
   "id": "94b32614",
   "metadata": {},
   "outputs": [
    {
     "data": {
      "text/plain": [
       "(<State.Waiting: <object object at 0x7efddc152d30>>,\n",
       " <State.Waiting: <object object at 0x7efddc152d30>>)"
      ]
     },
     "execution_count": 43,
     "metadata": {},
     "output_type": "execute_result"
    }
   ],
   "source": [
    "class State(enum.Enum):\n",
    "    \"\"\"Please do not use member values - these are \n",
    "    meaningless and subject to change\"\"\"\n",
    "    Waiting = object()\n",
    "    Running = object()\n",
    "    RunningPending = object()\n",
    "    Finished = object()\n",
    "    \n",
    "State.Waiting, State['Waiting']"
   ]
  },
  {
   "cell_type": "code",
   "execution_count": 46,
   "id": "199ba0a7",
   "metadata": {},
   "outputs": [
    {
     "name": "stdout",
     "output_type": "stream",
     "text": [
      "count=3\n",
      "count=4\n",
      "count=5\n"
     ]
    }
   ],
   "source": [
    "class Aliased(enum.Enum):\n",
    "    def _generate_next_value_(name, start, count, last_values):\n",
    "        print(f\"count={count}\")\n",
    "        if count % 2 == 1:\n",
    "            # make this member an alias of the previous one\n",
    "            return last_values[-1]\n",
    "        else:\n",
    "            return last_values[-1] + 1\n",
    "        \n",
    "    GREEN = 1\n",
    "    GREEN_ALIAS = 1\n",
    "    RED = 10\n",
    "    CRIMSON = enum.auto()\n",
    "    BLUE = enum.auto()\n",
    "    AQUA = enum.auto()\n",
    "    \n"
   ]
  },
  {
   "cell_type": "code",
   "execution_count": 47,
   "id": "df83b1c3",
   "metadata": {},
   "outputs": [
    {
     "data": {
      "text/plain": [
       "[<Aliased.GREEN: 1>, <Aliased.RED: 10>, <Aliased.BLUE: 11>]"
      ]
     },
     "execution_count": 47,
     "metadata": {},
     "output_type": "execute_result"
    }
   ],
   "source": [
    "list(Aliased)"
   ]
  },
  {
   "cell_type": "code",
   "execution_count": 48,
   "id": "76b786f1",
   "metadata": {},
   "outputs": [
    {
     "data": {
      "text/plain": [
       "mappingproxy({'GREEN': <Aliased.GREEN: 1>,\n",
       "              'GREEN_ALIAS': <Aliased.GREEN: 1>,\n",
       "              'RED': <Aliased.RED: 10>,\n",
       "              'CRIMSON': <Aliased.RED: 10>,\n",
       "              'BLUE': <Aliased.BLUE: 11>,\n",
       "              'AQUA': <Aliased.BLUE: 11>})"
      ]
     },
     "execution_count": 48,
     "metadata": {},
     "output_type": "execute_result"
    }
   ],
   "source": [
    "Aliased.__members__"
   ]
  },
  {
   "cell_type": "code",
   "execution_count": 49,
   "id": "859b9789",
   "metadata": {},
   "outputs": [
    {
     "data": {
      "text/plain": [
       "mappingproxy({'RED': <Color.RED: <object object at 0x7efdc7bb4350>>,\n",
       "              'CRIMSON': <Color.RED: <object object at 0x7efdc7bb4350>>,\n",
       "              'CARMINE': <Color.RED: <object object at 0x7efdc7bb4350>>,\n",
       "              'BLUE': <Color.BLUE: <object object at 0x7efdc7bb43a0>>,\n",
       "              'AQUAMARINE': <Color.BLUE: <object object at 0x7efdc7bb43a0>>,\n",
       "              'AZURE': <Color.BLUE: <object object at 0x7efdc7bb43a0>>})"
      ]
     },
     "execution_count": 49,
     "metadata": {},
     "output_type": "execute_result"
    }
   ],
   "source": [
    "class Aliased(enum.Enum):\n",
    "    def _generate_next_value_(name, start, count, last_values):\n",
    "        return last_values[-1]\n",
    "\n",
    "class Color(Aliased):\n",
    "    RED = object()\n",
    "    CRIMSON = enum.auto()\n",
    "    CARMINE = enum.auto()\n",
    "    \n",
    "    BLUE = object()\n",
    "    AQUAMARINE = enum.auto()\n",
    "    AZURE = enum.auto()\n",
    "    \n",
    "Color.__members__"
   ]
  },
  {
   "cell_type": "code",
   "execution_count": 50,
   "id": "54f5040a",
   "metadata": {},
   "outputs": [
    {
     "data": {
      "text/plain": [
       "[<Color.RED: <object object at 0x7efdc7bb4350>>,\n",
       " <Color.BLUE: <object object at 0x7efdc7bb43a0>>]"
      ]
     },
     "execution_count": 50,
     "metadata": {},
     "output_type": "execute_result"
    }
   ],
   "source": [
    "list(Color)"
   ]
  },
  {
   "cell_type": "code",
   "execution_count": 52,
   "id": "8e5a042d",
   "metadata": {},
   "outputs": [
    {
     "data": {
      "text/plain": [
       "(True, True)"
      ]
     },
     "execution_count": 52,
     "metadata": {},
     "output_type": "execute_result"
    }
   ],
   "source": [
    "Color.AZURE in Color, Color.AZURE is Color.BLUE"
   ]
  },
  {
   "cell_type": "code",
   "execution_count": null,
   "id": "b7489862",
   "metadata": {},
   "outputs": [],
   "source": []
  },
  {
   "cell_type": "code",
   "execution_count": null,
   "id": "01d61b1c",
   "metadata": {},
   "outputs": [],
   "source": []
  },
  {
   "cell_type": "code",
   "execution_count": null,
   "id": "73225444",
   "metadata": {},
   "outputs": [],
   "source": []
  },
  {
   "cell_type": "code",
   "execution_count": null,
   "id": "66ab2249",
   "metadata": {},
   "outputs": [],
   "source": []
  },
  {
   "cell_type": "code",
   "execution_count": null,
   "id": "91fb1b70",
   "metadata": {},
   "outputs": [],
   "source": []
  },
  {
   "cell_type": "code",
   "execution_count": null,
   "id": "010a9f3e",
   "metadata": {},
   "outputs": [],
   "source": []
  },
  {
   "cell_type": "code",
   "execution_count": null,
   "id": "2b5d904a",
   "metadata": {},
   "outputs": [],
   "source": []
  }
 ],
 "metadata": {
  "kernelspec": {
   "display_name": "Python 3 (ipykernel)",
   "language": "python",
   "name": "python3"
  },
  "language_info": {
   "codemirror_mode": {
    "name": "ipython",
    "version": 3
   },
   "file_extension": ".py",
   "mimetype": "text/x-python",
   "name": "python",
   "nbconvert_exporter": "python",
   "pygments_lexer": "ipython3",
   "version": "3.9.12"
  }
 },
 "nbformat": 4,
 "nbformat_minor": 5
}
