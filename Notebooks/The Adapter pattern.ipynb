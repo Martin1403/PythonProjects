{
 "cells": [
  {
   "cell_type": "markdown",
   "id": "56992704",
   "metadata": {},
   "source": [
    "# The Adapter pattern"
   ]
  },
  {
   "cell_type": "code",
   "execution_count": 8,
   "id": "d9fd6e37",
   "metadata": {},
   "outputs": [
    {
     "name": "stdout",
     "output_type": "stream",
     "text": [
      "38\n"
     ]
    }
   ],
   "source": [
    "from __future__ import annotations\n",
    "\n",
    "class AgeCalculator:\n",
    "    def __init__(self, birthday: str) -> None:\n",
    "        self.year, self.month, self.day = (int(x) for x in birthday.split(\"-\"))\n",
    "    \n",
    "    def calculate_age(self, date: str) -> int:\n",
    "        year, month, day = (int(x) for x in date.split(\"-\"))\n",
    "        age = year - self.year\n",
    "        if (month, day) < (self.month, self.day):\n",
    "            age -= 1\n",
    "        return age\n",
    "        \n",
    "ac = AgeCalculator(\"1985-03-14\")\n",
    "print(ac.calculate_age(\"2023-06-14\"))"
   ]
  },
  {
   "cell_type": "code",
   "execution_count": 11,
   "id": "39d9227a",
   "metadata": {
    "scrolled": true
   },
   "outputs": [
    {
     "name": "stdout",
     "output_type": "stream",
     "text": [
      "38\n"
     ]
    }
   ],
   "source": [
    "import datetime\n",
    "\n",
    "class DateAgeAdapter:\n",
    "    def _str_date(self, date: datetime.date) -> str:\n",
    "        return date.strftime(\"%Y-%m-%d\")\n",
    "    \n",
    "    def __init__(self, birthday: datetime.date) -> None:\n",
    "        birthday_text = self._str_date(birthday)\n",
    "        self.calculator = AgeCalculator(birthday_text)\n",
    "    \n",
    "    def get_age(self, date: datetime.date) -> int:\n",
    "        date_text = self._str_date(date)\n",
    "        return self.calculator.calculate_age(date_text)\n",
    "        \n",
    "ac = DateAgeAdapter(datetime.date(1985, 3, 14))\n",
    "print(ac.get_age(datetime.date(2023, 6, 14)))"
   ]
  },
  {
   "cell_type": "markdown",
   "id": "2ebc4efb",
   "metadata": {},
   "source": [
    "# Another example"
   ]
  },
  {
   "cell_type": "code",
   "execution_count": 19,
   "id": "26141d41",
   "metadata": {},
   "outputs": [
    {
     "name": "stdout",
     "output_type": "stream",
     "text": [
      "7301.0\n"
     ]
    }
   ],
   "source": [
    "class TimeSince:\n",
    "    \"\"\"Expects time as six digits, no punctuation.\"\"\"\n",
    "\n",
    "    def parse_time(self, time: str) -> tuple[float, float, float]:\n",
    "        return (\n",
    "            float(time[0:2]),\n",
    "            float(time[2:4]),\n",
    "            float(time[4:]),\n",
    "        )\n",
    "\n",
    "    def __init__(self, starting_time: str) -> None:\n",
    "        self.hr, self.min, self.sec = self.parse_time(starting_time)\n",
    "        self.start_seconds = ((self.hr * 60) + self.min) * 60 + self.sec\n",
    "\n",
    "    def interval(self, log_time: str) -> float:\n",
    "        log_hr, log_min, log_sec = self.parse_time(log_time)\n",
    "        log_seconds = ((log_hr * 60) + log_min) * 60 + log_sec\n",
    "        return log_seconds - self.start_seconds\n",
    "    \n",
    "ts = TimeSince(\"000123\") # Log started at 00:01:23\n",
    "print(ts.interval(\"020304\"))"
   ]
  },
  {
   "cell_type": "code",
   "execution_count": 22,
   "id": "a110cbd9",
   "metadata": {},
   "outputs": [
    {
     "name": "stdout",
     "output_type": "stream",
     "text": [
      "7301.0\n"
     ]
    }
   ],
   "source": [
    "from typing import Optional\n",
    "\n",
    "class IntervalAdapter:\n",
    "    def __init__(self) -> None:\n",
    "        self.ts: Optional[TimeSince] = None\n",
    "\n",
    "    def time_offset(self, start: str, now: str) -> float:\n",
    "        if self.ts is None:\n",
    "            self.ts = TimeSince(start)\n",
    "        else:\n",
    "            h_m_s = self.ts.parse_time(start)\n",
    "            if h_m_s != (self.ts.hr, self.ts.min, self.ts.sec):\n",
    "                self.ts = TimeSince(start)\n",
    "        return self.ts.interval(now)\n",
    "        \n",
    "ia = IntervalAdapter()\n",
    "print(ia.time_offset(\"000123\", \"020304\"))"
   ]
  },
  {
   "cell_type": "code",
   "execution_count": 29,
   "id": "412912ab",
   "metadata": {},
   "outputs": [
    {
     "name": "stdout",
     "output_type": "stream",
     "text": [
      "    0.00 | INFO    Gila Flats 1959-08-20\n",
      "   19.00 | INFO    test block 15\n",
      "    0.00 | ERROR   intrinsic field chamber door locked\n",
      "    9.11 | INFO    generator power active\n",
      "   31.33 | WARNING extra mass detected\n"
     ]
    }
   ],
   "source": [
    "class LogProcessor:\n",
    "    def __init__(self, log_entries: list[tuple[str, str, str]]) -> None:\n",
    "        self.log_entries = log_entries\n",
    "        self.time_convert = IntervalAdapter()\n",
    "        \n",
    "    def report(self) -> None:\n",
    "        first_time, first_sev, first_msg = self.log_entries[0]\n",
    "        for log_time, severity, message in self.log_entries:\n",
    "            if severity == \"ERROR\":\n",
    "                first_time = log_time\n",
    "            interval = self.time_convert.time_offset(first_time, log_time)\n",
    "            print(f\"{interval:8.2f} | {severity:7s} {message}\")\n",
    "        \n",
    "data = [\n",
    "    (\"000123\", \"INFO\", \"Gila Flats 1959-08-20\"),\n",
    "    (\"000142\", \"INFO\", \"test block 15\"),\n",
    "    (\"004201\", \"ERROR\", \"intrinsic field chamber door locked\"),\n",
    "    (\"004210.11\", \"INFO\", \"generator power active\"),\n",
    "    (\"004232.33\", \"WARNING\", \"extra mass detected\")\n",
    "]\n",
    "\n",
    "lp = LogProcessor(data)\n",
    "lp.report()"
   ]
  },
  {
   "cell_type": "code",
   "execution_count": null,
   "id": "2a3b73c3",
   "metadata": {},
   "outputs": [],
   "source": []
  }
 ],
 "metadata": {
  "kernelspec": {
   "display_name": "Python 3 (ipykernel)",
   "language": "python",
   "name": "python3"
  },
  "language_info": {
   "codemirror_mode": {
    "name": "ipython",
    "version": 3
   },
   "file_extension": ".py",
   "mimetype": "text/x-python",
   "name": "python",
   "nbconvert_exporter": "python",
   "pygments_lexer": "ipython3",
   "version": "3.9.13"
  }
 },
 "nbformat": 4,
 "nbformat_minor": 5
}
